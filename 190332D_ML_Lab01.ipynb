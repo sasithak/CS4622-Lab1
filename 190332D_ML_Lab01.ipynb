{
  "nbformat": 4,
  "nbformat_minor": 0,
  "metadata": {
    "colab": {
      "provenance": [],
      "authorship_tag": "ABX9TyOP/9zTin97isn7byh6tnDw",
      "include_colab_link": true
    },
    "kernelspec": {
      "name": "python3",
      "display_name": "Python 3"
    },
    "language_info": {
      "name": "python"
    }
  },
  "cells": [
    {
      "cell_type": "markdown",
      "metadata": {
        "id": "view-in-github",
        "colab_type": "text"
      },
      "source": [
        "<a href=\"https://colab.research.google.com/github/sasithak/CS4622-Lab1/blob/main/190332D_ML_Lab01.ipynb\" target=\"_parent\"><img src=\"https://colab.research.google.com/assets/colab-badge.svg\" alt=\"Open In Colab\"/></a>"
      ]
    },
    {
      "cell_type": "markdown",
      "source": [
        "# Loading Data"
      ],
      "metadata": {
        "id": "u9zll9OR9jn4"
      }
    },
    {
      "cell_type": "code",
      "execution_count": null,
      "metadata": {
        "colab": {
          "base_uri": "https://localhost:8080/"
        },
        "id": "CY75aTKT3vE3",
        "outputId": "e6024a67-044d-4274-ea07-7c16b3f1c699"
      },
      "outputs": [
        {
          "output_type": "stream",
          "name": "stdout",
          "text": [
            "Mounted at /content/drive\n"
          ]
        }
      ],
      "source": [
        "# Mounting Google Drive to access access\n",
        "from google.colab import drive\n",
        "drive.mount('/content/drive')"
      ]
    },
    {
      "cell_type": "code",
      "source": [
        "# Loading data\n",
        "import pandas as pd\n",
        "train = pd.read_csv(\"/content/drive/My Drive/Semester7/ML/Lab01/train.csv\")\n",
        "valid = pd.read_csv(\"/content/drive/My Drive/Semester7/ML/Lab01/valid.csv\")\n",
        "test = pd.read_csv(\"/content/drive/My Drive/Semester7/ML/Lab01/test.csv\")"
      ],
      "metadata": {
        "id": "IsBgnYCZ4NhS"
      },
      "execution_count": null,
      "outputs": []
    },
    {
      "cell_type": "code",
      "source": [
        "train.head()"
      ],
      "metadata": {
        "colab": {
          "base_uri": "https://localhost:8080/",
          "height": 256
        },
        "id": "1_y9petV8LLt",
        "outputId": "d36ebda0-c240-4c70-a312-30cd239a2cc3"
      },
      "execution_count": null,
      "outputs": [
        {
          "output_type": "execute_result",
          "data": {
            "text/plain": [
              "   feature_1  feature_2  feature_3  feature_4  feature_5  feature_6  \\\n",
              "0  -1.928826  -0.291540   1.105909   2.070652   0.657838  -0.670940   \n",
              "1  -1.709277  -1.008998   0.956611   4.313823  -0.669455   1.928765   \n",
              "2  -1.906183  -0.357562  -0.682627   4.651838  -0.884940   1.159512   \n",
              "3   0.697872  -2.218567  -0.572214   1.192062   0.329554   0.741364   \n",
              "4  -1.976895  -0.496308   0.368102   3.739787  -0.132058   1.234980   \n",
              "\n",
              "   feature_7  feature_8  feature_9  feature_10  ...  feature_251  feature_252  \\\n",
              "0  -0.968238   0.049916   1.111149   -1.834592  ...    -0.691538    -1.152522   \n",
              "1   0.162550   0.152173   2.356505   -2.898549  ...    -0.668235    -0.532695   \n",
              "2   1.354481  -1.432248   2.160144   -3.175735  ...    -0.026728     0.440408   \n",
              "3   0.962354   0.993512   2.896854   -1.600380  ...     0.709032     0.812106   \n",
              "4  -0.501003   0.881554   1.630941   -3.853953  ...    -0.599700    -1.024829   \n",
              "\n",
              "   feature_253  feature_254  feature_255  feature_256  label_1  label_2  \\\n",
              "0     0.441157    -1.494434    -0.344974    -0.395641       45      NaN   \n",
              "1     0.151163    -1.876885     1.651534    -2.706490       45      NaN   \n",
              "2     2.745906    -0.680754    -0.643588    -2.587203       45      NaN   \n",
              "3     1.055266    -0.915258    -0.924856    -1.318964       45      NaN   \n",
              "4     1.869753    -2.498570     3.268253    -1.356606       45      NaN   \n",
              "\n",
              "   label_3  label_4  \n",
              "0        1        6  \n",
              "1        1        6  \n",
              "2        1        6  \n",
              "3        1        6  \n",
              "4        1        6  \n",
              "\n",
              "[5 rows x 260 columns]"
            ],
            "text/html": [
              "\n",
              "  <div id=\"df-632efc1c-2122-4674-8512-ff6f59094ebe\" class=\"colab-df-container\">\n",
              "    <div>\n",
              "<style scoped>\n",
              "    .dataframe tbody tr th:only-of-type {\n",
              "        vertical-align: middle;\n",
              "    }\n",
              "\n",
              "    .dataframe tbody tr th {\n",
              "        vertical-align: top;\n",
              "    }\n",
              "\n",
              "    .dataframe thead th {\n",
              "        text-align: right;\n",
              "    }\n",
              "</style>\n",
              "<table border=\"1\" class=\"dataframe\">\n",
              "  <thead>\n",
              "    <tr style=\"text-align: right;\">\n",
              "      <th></th>\n",
              "      <th>feature_1</th>\n",
              "      <th>feature_2</th>\n",
              "      <th>feature_3</th>\n",
              "      <th>feature_4</th>\n",
              "      <th>feature_5</th>\n",
              "      <th>feature_6</th>\n",
              "      <th>feature_7</th>\n",
              "      <th>feature_8</th>\n",
              "      <th>feature_9</th>\n",
              "      <th>feature_10</th>\n",
              "      <th>...</th>\n",
              "      <th>feature_251</th>\n",
              "      <th>feature_252</th>\n",
              "      <th>feature_253</th>\n",
              "      <th>feature_254</th>\n",
              "      <th>feature_255</th>\n",
              "      <th>feature_256</th>\n",
              "      <th>label_1</th>\n",
              "      <th>label_2</th>\n",
              "      <th>label_3</th>\n",
              "      <th>label_4</th>\n",
              "    </tr>\n",
              "  </thead>\n",
              "  <tbody>\n",
              "    <tr>\n",
              "      <th>0</th>\n",
              "      <td>-1.928826</td>\n",
              "      <td>-0.291540</td>\n",
              "      <td>1.105909</td>\n",
              "      <td>2.070652</td>\n",
              "      <td>0.657838</td>\n",
              "      <td>-0.670940</td>\n",
              "      <td>-0.968238</td>\n",
              "      <td>0.049916</td>\n",
              "      <td>1.111149</td>\n",
              "      <td>-1.834592</td>\n",
              "      <td>...</td>\n",
              "      <td>-0.691538</td>\n",
              "      <td>-1.152522</td>\n",
              "      <td>0.441157</td>\n",
              "      <td>-1.494434</td>\n",
              "      <td>-0.344974</td>\n",
              "      <td>-0.395641</td>\n",
              "      <td>45</td>\n",
              "      <td>NaN</td>\n",
              "      <td>1</td>\n",
              "      <td>6</td>\n",
              "    </tr>\n",
              "    <tr>\n",
              "      <th>1</th>\n",
              "      <td>-1.709277</td>\n",
              "      <td>-1.008998</td>\n",
              "      <td>0.956611</td>\n",
              "      <td>4.313823</td>\n",
              "      <td>-0.669455</td>\n",
              "      <td>1.928765</td>\n",
              "      <td>0.162550</td>\n",
              "      <td>0.152173</td>\n",
              "      <td>2.356505</td>\n",
              "      <td>-2.898549</td>\n",
              "      <td>...</td>\n",
              "      <td>-0.668235</td>\n",
              "      <td>-0.532695</td>\n",
              "      <td>0.151163</td>\n",
              "      <td>-1.876885</td>\n",
              "      <td>1.651534</td>\n",
              "      <td>-2.706490</td>\n",
              "      <td>45</td>\n",
              "      <td>NaN</td>\n",
              "      <td>1</td>\n",
              "      <td>6</td>\n",
              "    </tr>\n",
              "    <tr>\n",
              "      <th>2</th>\n",
              "      <td>-1.906183</td>\n",
              "      <td>-0.357562</td>\n",
              "      <td>-0.682627</td>\n",
              "      <td>4.651838</td>\n",
              "      <td>-0.884940</td>\n",
              "      <td>1.159512</td>\n",
              "      <td>1.354481</td>\n",
              "      <td>-1.432248</td>\n",
              "      <td>2.160144</td>\n",
              "      <td>-3.175735</td>\n",
              "      <td>...</td>\n",
              "      <td>-0.026728</td>\n",
              "      <td>0.440408</td>\n",
              "      <td>2.745906</td>\n",
              "      <td>-0.680754</td>\n",
              "      <td>-0.643588</td>\n",
              "      <td>-2.587203</td>\n",
              "      <td>45</td>\n",
              "      <td>NaN</td>\n",
              "      <td>1</td>\n",
              "      <td>6</td>\n",
              "    </tr>\n",
              "    <tr>\n",
              "      <th>3</th>\n",
              "      <td>0.697872</td>\n",
              "      <td>-2.218567</td>\n",
              "      <td>-0.572214</td>\n",
              "      <td>1.192062</td>\n",
              "      <td>0.329554</td>\n",
              "      <td>0.741364</td>\n",
              "      <td>0.962354</td>\n",
              "      <td>0.993512</td>\n",
              "      <td>2.896854</td>\n",
              "      <td>-1.600380</td>\n",
              "      <td>...</td>\n",
              "      <td>0.709032</td>\n",
              "      <td>0.812106</td>\n",
              "      <td>1.055266</td>\n",
              "      <td>-0.915258</td>\n",
              "      <td>-0.924856</td>\n",
              "      <td>-1.318964</td>\n",
              "      <td>45</td>\n",
              "      <td>NaN</td>\n",
              "      <td>1</td>\n",
              "      <td>6</td>\n",
              "    </tr>\n",
              "    <tr>\n",
              "      <th>4</th>\n",
              "      <td>-1.976895</td>\n",
              "      <td>-0.496308</td>\n",
              "      <td>0.368102</td>\n",
              "      <td>3.739787</td>\n",
              "      <td>-0.132058</td>\n",
              "      <td>1.234980</td>\n",
              "      <td>-0.501003</td>\n",
              "      <td>0.881554</td>\n",
              "      <td>1.630941</td>\n",
              "      <td>-3.853953</td>\n",
              "      <td>...</td>\n",
              "      <td>-0.599700</td>\n",
              "      <td>-1.024829</td>\n",
              "      <td>1.869753</td>\n",
              "      <td>-2.498570</td>\n",
              "      <td>3.268253</td>\n",
              "      <td>-1.356606</td>\n",
              "      <td>45</td>\n",
              "      <td>NaN</td>\n",
              "      <td>1</td>\n",
              "      <td>6</td>\n",
              "    </tr>\n",
              "  </tbody>\n",
              "</table>\n",
              "<p>5 rows × 260 columns</p>\n",
              "</div>\n",
              "    <div class=\"colab-df-buttons\">\n",
              "\n",
              "  <div class=\"colab-df-container\">\n",
              "    <button class=\"colab-df-convert\" onclick=\"convertToInteractive('df-632efc1c-2122-4674-8512-ff6f59094ebe')\"\n",
              "            title=\"Convert this dataframe to an interactive table.\"\n",
              "            style=\"display:none;\">\n",
              "\n",
              "  <svg xmlns=\"http://www.w3.org/2000/svg\" height=\"24px\" viewBox=\"0 -960 960 960\">\n",
              "    <path d=\"M120-120v-720h720v720H120Zm60-500h600v-160H180v160Zm220 220h160v-160H400v160Zm0 220h160v-160H400v160ZM180-400h160v-160H180v160Zm440 0h160v-160H620v160ZM180-180h160v-160H180v160Zm440 0h160v-160H620v160Z\"/>\n",
              "  </svg>\n",
              "    </button>\n",
              "\n",
              "  <style>\n",
              "    .colab-df-container {\n",
              "      display:flex;\n",
              "      gap: 12px;\n",
              "    }\n",
              "\n",
              "    .colab-df-convert {\n",
              "      background-color: #E8F0FE;\n",
              "      border: none;\n",
              "      border-radius: 50%;\n",
              "      cursor: pointer;\n",
              "      display: none;\n",
              "      fill: #1967D2;\n",
              "      height: 32px;\n",
              "      padding: 0 0 0 0;\n",
              "      width: 32px;\n",
              "    }\n",
              "\n",
              "    .colab-df-convert:hover {\n",
              "      background-color: #E2EBFA;\n",
              "      box-shadow: 0px 1px 2px rgba(60, 64, 67, 0.3), 0px 1px 3px 1px rgba(60, 64, 67, 0.15);\n",
              "      fill: #174EA6;\n",
              "    }\n",
              "\n",
              "    .colab-df-buttons div {\n",
              "      margin-bottom: 4px;\n",
              "    }\n",
              "\n",
              "    [theme=dark] .colab-df-convert {\n",
              "      background-color: #3B4455;\n",
              "      fill: #D2E3FC;\n",
              "    }\n",
              "\n",
              "    [theme=dark] .colab-df-convert:hover {\n",
              "      background-color: #434B5C;\n",
              "      box-shadow: 0px 1px 3px 1px rgba(0, 0, 0, 0.15);\n",
              "      filter: drop-shadow(0px 1px 2px rgba(0, 0, 0, 0.3));\n",
              "      fill: #FFFFFF;\n",
              "    }\n",
              "  </style>\n",
              "\n",
              "    <script>\n",
              "      const buttonEl =\n",
              "        document.querySelector('#df-632efc1c-2122-4674-8512-ff6f59094ebe button.colab-df-convert');\n",
              "      buttonEl.style.display =\n",
              "        google.colab.kernel.accessAllowed ? 'block' : 'none';\n",
              "\n",
              "      async function convertToInteractive(key) {\n",
              "        const element = document.querySelector('#df-632efc1c-2122-4674-8512-ff6f59094ebe');\n",
              "        const dataTable =\n",
              "          await google.colab.kernel.invokeFunction('convertToInteractive',\n",
              "                                                    [key], {});\n",
              "        if (!dataTable) return;\n",
              "\n",
              "        const docLinkHtml = 'Like what you see? Visit the ' +\n",
              "          '<a target=\"_blank\" href=https://colab.research.google.com/notebooks/data_table.ipynb>data table notebook</a>'\n",
              "          + ' to learn more about interactive tables.';\n",
              "        element.innerHTML = '';\n",
              "        dataTable['output_type'] = 'display_data';\n",
              "        await google.colab.output.renderOutput(dataTable, element);\n",
              "        const docLink = document.createElement('div');\n",
              "        docLink.innerHTML = docLinkHtml;\n",
              "        element.appendChild(docLink);\n",
              "      }\n",
              "    </script>\n",
              "  </div>\n",
              "\n",
              "\n",
              "<div id=\"df-b269ff7c-aeae-48d1-b333-8e49b931db11\">\n",
              "  <button class=\"colab-df-quickchart\" onclick=\"quickchart('df-b269ff7c-aeae-48d1-b333-8e49b931db11')\"\n",
              "            title=\"Suggest charts.\"\n",
              "            style=\"display:none;\">\n",
              "\n",
              "<svg xmlns=\"http://www.w3.org/2000/svg\" height=\"24px\"viewBox=\"0 0 24 24\"\n",
              "     width=\"24px\">\n",
              "    <g>\n",
              "        <path d=\"M19 3H5c-1.1 0-2 .9-2 2v14c0 1.1.9 2 2 2h14c1.1 0 2-.9 2-2V5c0-1.1-.9-2-2-2zM9 17H7v-7h2v7zm4 0h-2V7h2v10zm4 0h-2v-4h2v4z\"/>\n",
              "    </g>\n",
              "</svg>\n",
              "  </button>\n",
              "\n",
              "<style>\n",
              "  .colab-df-quickchart {\n",
              "      --bg-color: #E8F0FE;\n",
              "      --fill-color: #1967D2;\n",
              "      --hover-bg-color: #E2EBFA;\n",
              "      --hover-fill-color: #174EA6;\n",
              "      --disabled-fill-color: #AAA;\n",
              "      --disabled-bg-color: #DDD;\n",
              "  }\n",
              "\n",
              "  [theme=dark] .colab-df-quickchart {\n",
              "      --bg-color: #3B4455;\n",
              "      --fill-color: #D2E3FC;\n",
              "      --hover-bg-color: #434B5C;\n",
              "      --hover-fill-color: #FFFFFF;\n",
              "      --disabled-bg-color: #3B4455;\n",
              "      --disabled-fill-color: #666;\n",
              "  }\n",
              "\n",
              "  .colab-df-quickchart {\n",
              "    background-color: var(--bg-color);\n",
              "    border: none;\n",
              "    border-radius: 50%;\n",
              "    cursor: pointer;\n",
              "    display: none;\n",
              "    fill: var(--fill-color);\n",
              "    height: 32px;\n",
              "    padding: 0;\n",
              "    width: 32px;\n",
              "  }\n",
              "\n",
              "  .colab-df-quickchart:hover {\n",
              "    background-color: var(--hover-bg-color);\n",
              "    box-shadow: 0 1px 2px rgba(60, 64, 67, 0.3), 0 1px 3px 1px rgba(60, 64, 67, 0.15);\n",
              "    fill: var(--button-hover-fill-color);\n",
              "  }\n",
              "\n",
              "  .colab-df-quickchart-complete:disabled,\n",
              "  .colab-df-quickchart-complete:disabled:hover {\n",
              "    background-color: var(--disabled-bg-color);\n",
              "    fill: var(--disabled-fill-color);\n",
              "    box-shadow: none;\n",
              "  }\n",
              "\n",
              "  .colab-df-spinner {\n",
              "    border: 2px solid var(--fill-color);\n",
              "    border-color: transparent;\n",
              "    border-bottom-color: var(--fill-color);\n",
              "    animation:\n",
              "      spin 1s steps(1) infinite;\n",
              "  }\n",
              "\n",
              "  @keyframes spin {\n",
              "    0% {\n",
              "      border-color: transparent;\n",
              "      border-bottom-color: var(--fill-color);\n",
              "      border-left-color: var(--fill-color);\n",
              "    }\n",
              "    20% {\n",
              "      border-color: transparent;\n",
              "      border-left-color: var(--fill-color);\n",
              "      border-top-color: var(--fill-color);\n",
              "    }\n",
              "    30% {\n",
              "      border-color: transparent;\n",
              "      border-left-color: var(--fill-color);\n",
              "      border-top-color: var(--fill-color);\n",
              "      border-right-color: var(--fill-color);\n",
              "    }\n",
              "    40% {\n",
              "      border-color: transparent;\n",
              "      border-right-color: var(--fill-color);\n",
              "      border-top-color: var(--fill-color);\n",
              "    }\n",
              "    60% {\n",
              "      border-color: transparent;\n",
              "      border-right-color: var(--fill-color);\n",
              "    }\n",
              "    80% {\n",
              "      border-color: transparent;\n",
              "      border-right-color: var(--fill-color);\n",
              "      border-bottom-color: var(--fill-color);\n",
              "    }\n",
              "    90% {\n",
              "      border-color: transparent;\n",
              "      border-bottom-color: var(--fill-color);\n",
              "    }\n",
              "  }\n",
              "</style>\n",
              "\n",
              "  <script>\n",
              "    async function quickchart(key) {\n",
              "      const quickchartButtonEl =\n",
              "        document.querySelector('#' + key + ' button');\n",
              "      quickchartButtonEl.disabled = true;  // To prevent multiple clicks.\n",
              "      quickchartButtonEl.classList.add('colab-df-spinner');\n",
              "      try {\n",
              "        const charts = await google.colab.kernel.invokeFunction(\n",
              "            'suggestCharts', [key], {});\n",
              "      } catch (error) {\n",
              "        console.error('Error during call to suggestCharts:', error);\n",
              "      }\n",
              "      quickchartButtonEl.classList.remove('colab-df-spinner');\n",
              "      quickchartButtonEl.classList.add('colab-df-quickchart-complete');\n",
              "    }\n",
              "    (() => {\n",
              "      let quickchartButtonEl =\n",
              "        document.querySelector('#df-b269ff7c-aeae-48d1-b333-8e49b931db11 button');\n",
              "      quickchartButtonEl.style.display =\n",
              "        google.colab.kernel.accessAllowed ? 'block' : 'none';\n",
              "    })();\n",
              "  </script>\n",
              "</div>\n",
              "    </div>\n",
              "  </div>\n"
            ]
          },
          "metadata": {},
          "execution_count": 3
        }
      ]
    },
    {
      "cell_type": "markdown",
      "source": [
        "# Writing to CSV"
      ],
      "metadata": {
        "id": "eF0I47dqUnUf"
      }
    },
    {
      "cell_type": "code",
      "source": [
        "x_test = test.iloc[:, : -4]\n",
        "x_test.head()"
      ],
      "metadata": {
        "colab": {
          "base_uri": "https://localhost:8080/",
          "height": 256
        },
        "id": "bm3Vt_cNUppa",
        "outputId": "0a7b5429-03aa-42b7-e89d-b49b9888434c"
      },
      "execution_count": null,
      "outputs": [
        {
          "output_type": "execute_result",
          "data": {
            "text/plain": [
              "   feature_1  feature_2  feature_3  feature_4  feature_5  feature_6  \\\n",
              "0  -1.141206  -0.279703   1.019681   2.605902   0.460391  -1.167380   \n",
              "1  -1.796767  -0.056758   0.771219   4.414086  -1.229059   1.732098   \n",
              "2  -1.388968  -0.418296   0.186543   2.803852  -1.499095   1.395180   \n",
              "3   1.276844  -0.112323  -0.310796   2.251175   0.283670  -0.581020   \n",
              "4  -1.560815  -0.168494   1.249770   1.869219  -1.646049   0.132156   \n",
              "\n",
              "   feature_7  feature_8  feature_9  feature_10  ...  feature_247  feature_248  \\\n",
              "0  -1.149165  -1.205164   2.468966   -2.729526  ...     1.670388    -0.355608   \n",
              "1   0.063241  -0.126311   1.322355   -3.461282  ...     1.136570     0.826741   \n",
              "2   0.739648   0.274060   1.228789   -3.081147  ...     0.343188    -0.243809   \n",
              "3  -0.024439  -0.306097   2.424685   -1.714863  ...     3.057573    -0.632902   \n",
              "4  -0.664602   0.483327   1.728020   -2.258071  ...     1.217447    -0.374313   \n",
              "\n",
              "   feature_249  feature_250  feature_251  feature_252  feature_253  \\\n",
              "0    -0.342747    -0.102831    -0.868282    -0.429783     0.438561   \n",
              "1    -0.371280    -1.492272     0.227806     0.209200     2.200402   \n",
              "2     0.462302    -1.511495    -0.692679     0.449235     1.377531   \n",
              "3     1.511204    -0.658826    -0.690499    -1.077949     0.930102   \n",
              "4     1.280207    -1.546299    -0.510597     1.213396     2.497490   \n",
              "\n",
              "   feature_254  feature_255  feature_256  \n",
              "0    -1.625122     0.599944    -0.615575  \n",
              "1    -1.701029     1.163999    -1.570136  \n",
              "2    -1.854203    -0.040538    -2.164104  \n",
              "3    -2.758352    -0.246738    -1.389013  \n",
              "4    -1.597984    -0.163483    -1.735939  \n",
              "\n",
              "[5 rows x 256 columns]"
            ],
            "text/html": [
              "\n",
              "  <div id=\"df-2cf83399-b6a9-4f56-8488-a741be6cfa24\" class=\"colab-df-container\">\n",
              "    <div>\n",
              "<style scoped>\n",
              "    .dataframe tbody tr th:only-of-type {\n",
              "        vertical-align: middle;\n",
              "    }\n",
              "\n",
              "    .dataframe tbody tr th {\n",
              "        vertical-align: top;\n",
              "    }\n",
              "\n",
              "    .dataframe thead th {\n",
              "        text-align: right;\n",
              "    }\n",
              "</style>\n",
              "<table border=\"1\" class=\"dataframe\">\n",
              "  <thead>\n",
              "    <tr style=\"text-align: right;\">\n",
              "      <th></th>\n",
              "      <th>feature_1</th>\n",
              "      <th>feature_2</th>\n",
              "      <th>feature_3</th>\n",
              "      <th>feature_4</th>\n",
              "      <th>feature_5</th>\n",
              "      <th>feature_6</th>\n",
              "      <th>feature_7</th>\n",
              "      <th>feature_8</th>\n",
              "      <th>feature_9</th>\n",
              "      <th>feature_10</th>\n",
              "      <th>...</th>\n",
              "      <th>feature_247</th>\n",
              "      <th>feature_248</th>\n",
              "      <th>feature_249</th>\n",
              "      <th>feature_250</th>\n",
              "      <th>feature_251</th>\n",
              "      <th>feature_252</th>\n",
              "      <th>feature_253</th>\n",
              "      <th>feature_254</th>\n",
              "      <th>feature_255</th>\n",
              "      <th>feature_256</th>\n",
              "    </tr>\n",
              "  </thead>\n",
              "  <tbody>\n",
              "    <tr>\n",
              "      <th>0</th>\n",
              "      <td>-1.141206</td>\n",
              "      <td>-0.279703</td>\n",
              "      <td>1.019681</td>\n",
              "      <td>2.605902</td>\n",
              "      <td>0.460391</td>\n",
              "      <td>-1.167380</td>\n",
              "      <td>-1.149165</td>\n",
              "      <td>-1.205164</td>\n",
              "      <td>2.468966</td>\n",
              "      <td>-2.729526</td>\n",
              "      <td>...</td>\n",
              "      <td>1.670388</td>\n",
              "      <td>-0.355608</td>\n",
              "      <td>-0.342747</td>\n",
              "      <td>-0.102831</td>\n",
              "      <td>-0.868282</td>\n",
              "      <td>-0.429783</td>\n",
              "      <td>0.438561</td>\n",
              "      <td>-1.625122</td>\n",
              "      <td>0.599944</td>\n",
              "      <td>-0.615575</td>\n",
              "    </tr>\n",
              "    <tr>\n",
              "      <th>1</th>\n",
              "      <td>-1.796767</td>\n",
              "      <td>-0.056758</td>\n",
              "      <td>0.771219</td>\n",
              "      <td>4.414086</td>\n",
              "      <td>-1.229059</td>\n",
              "      <td>1.732098</td>\n",
              "      <td>0.063241</td>\n",
              "      <td>-0.126311</td>\n",
              "      <td>1.322355</td>\n",
              "      <td>-3.461282</td>\n",
              "      <td>...</td>\n",
              "      <td>1.136570</td>\n",
              "      <td>0.826741</td>\n",
              "      <td>-0.371280</td>\n",
              "      <td>-1.492272</td>\n",
              "      <td>0.227806</td>\n",
              "      <td>0.209200</td>\n",
              "      <td>2.200402</td>\n",
              "      <td>-1.701029</td>\n",
              "      <td>1.163999</td>\n",
              "      <td>-1.570136</td>\n",
              "    </tr>\n",
              "    <tr>\n",
              "      <th>2</th>\n",
              "      <td>-1.388968</td>\n",
              "      <td>-0.418296</td>\n",
              "      <td>0.186543</td>\n",
              "      <td>2.803852</td>\n",
              "      <td>-1.499095</td>\n",
              "      <td>1.395180</td>\n",
              "      <td>0.739648</td>\n",
              "      <td>0.274060</td>\n",
              "      <td>1.228789</td>\n",
              "      <td>-3.081147</td>\n",
              "      <td>...</td>\n",
              "      <td>0.343188</td>\n",
              "      <td>-0.243809</td>\n",
              "      <td>0.462302</td>\n",
              "      <td>-1.511495</td>\n",
              "      <td>-0.692679</td>\n",
              "      <td>0.449235</td>\n",
              "      <td>1.377531</td>\n",
              "      <td>-1.854203</td>\n",
              "      <td>-0.040538</td>\n",
              "      <td>-2.164104</td>\n",
              "    </tr>\n",
              "    <tr>\n",
              "      <th>3</th>\n",
              "      <td>1.276844</td>\n",
              "      <td>-0.112323</td>\n",
              "      <td>-0.310796</td>\n",
              "      <td>2.251175</td>\n",
              "      <td>0.283670</td>\n",
              "      <td>-0.581020</td>\n",
              "      <td>-0.024439</td>\n",
              "      <td>-0.306097</td>\n",
              "      <td>2.424685</td>\n",
              "      <td>-1.714863</td>\n",
              "      <td>...</td>\n",
              "      <td>3.057573</td>\n",
              "      <td>-0.632902</td>\n",
              "      <td>1.511204</td>\n",
              "      <td>-0.658826</td>\n",
              "      <td>-0.690499</td>\n",
              "      <td>-1.077949</td>\n",
              "      <td>0.930102</td>\n",
              "      <td>-2.758352</td>\n",
              "      <td>-0.246738</td>\n",
              "      <td>-1.389013</td>\n",
              "    </tr>\n",
              "    <tr>\n",
              "      <th>4</th>\n",
              "      <td>-1.560815</td>\n",
              "      <td>-0.168494</td>\n",
              "      <td>1.249770</td>\n",
              "      <td>1.869219</td>\n",
              "      <td>-1.646049</td>\n",
              "      <td>0.132156</td>\n",
              "      <td>-0.664602</td>\n",
              "      <td>0.483327</td>\n",
              "      <td>1.728020</td>\n",
              "      <td>-2.258071</td>\n",
              "      <td>...</td>\n",
              "      <td>1.217447</td>\n",
              "      <td>-0.374313</td>\n",
              "      <td>1.280207</td>\n",
              "      <td>-1.546299</td>\n",
              "      <td>-0.510597</td>\n",
              "      <td>1.213396</td>\n",
              "      <td>2.497490</td>\n",
              "      <td>-1.597984</td>\n",
              "      <td>-0.163483</td>\n",
              "      <td>-1.735939</td>\n",
              "    </tr>\n",
              "  </tbody>\n",
              "</table>\n",
              "<p>5 rows × 256 columns</p>\n",
              "</div>\n",
              "    <div class=\"colab-df-buttons\">\n",
              "\n",
              "  <div class=\"colab-df-container\">\n",
              "    <button class=\"colab-df-convert\" onclick=\"convertToInteractive('df-2cf83399-b6a9-4f56-8488-a741be6cfa24')\"\n",
              "            title=\"Convert this dataframe to an interactive table.\"\n",
              "            style=\"display:none;\">\n",
              "\n",
              "  <svg xmlns=\"http://www.w3.org/2000/svg\" height=\"24px\" viewBox=\"0 -960 960 960\">\n",
              "    <path d=\"M120-120v-720h720v720H120Zm60-500h600v-160H180v160Zm220 220h160v-160H400v160Zm0 220h160v-160H400v160ZM180-400h160v-160H180v160Zm440 0h160v-160H620v160ZM180-180h160v-160H180v160Zm440 0h160v-160H620v160Z\"/>\n",
              "  </svg>\n",
              "    </button>\n",
              "\n",
              "  <style>\n",
              "    .colab-df-container {\n",
              "      display:flex;\n",
              "      gap: 12px;\n",
              "    }\n",
              "\n",
              "    .colab-df-convert {\n",
              "      background-color: #E8F0FE;\n",
              "      border: none;\n",
              "      border-radius: 50%;\n",
              "      cursor: pointer;\n",
              "      display: none;\n",
              "      fill: #1967D2;\n",
              "      height: 32px;\n",
              "      padding: 0 0 0 0;\n",
              "      width: 32px;\n",
              "    }\n",
              "\n",
              "    .colab-df-convert:hover {\n",
              "      background-color: #E2EBFA;\n",
              "      box-shadow: 0px 1px 2px rgba(60, 64, 67, 0.3), 0px 1px 3px 1px rgba(60, 64, 67, 0.15);\n",
              "      fill: #174EA6;\n",
              "    }\n",
              "\n",
              "    .colab-df-buttons div {\n",
              "      margin-bottom: 4px;\n",
              "    }\n",
              "\n",
              "    [theme=dark] .colab-df-convert {\n",
              "      background-color: #3B4455;\n",
              "      fill: #D2E3FC;\n",
              "    }\n",
              "\n",
              "    [theme=dark] .colab-df-convert:hover {\n",
              "      background-color: #434B5C;\n",
              "      box-shadow: 0px 1px 3px 1px rgba(0, 0, 0, 0.15);\n",
              "      filter: drop-shadow(0px 1px 2px rgba(0, 0, 0, 0.3));\n",
              "      fill: #FFFFFF;\n",
              "    }\n",
              "  </style>\n",
              "\n",
              "    <script>\n",
              "      const buttonEl =\n",
              "        document.querySelector('#df-2cf83399-b6a9-4f56-8488-a741be6cfa24 button.colab-df-convert');\n",
              "      buttonEl.style.display =\n",
              "        google.colab.kernel.accessAllowed ? 'block' : 'none';\n",
              "\n",
              "      async function convertToInteractive(key) {\n",
              "        const element = document.querySelector('#df-2cf83399-b6a9-4f56-8488-a741be6cfa24');\n",
              "        const dataTable =\n",
              "          await google.colab.kernel.invokeFunction('convertToInteractive',\n",
              "                                                    [key], {});\n",
              "        if (!dataTable) return;\n",
              "\n",
              "        const docLinkHtml = 'Like what you see? Visit the ' +\n",
              "          '<a target=\"_blank\" href=https://colab.research.google.com/notebooks/data_table.ipynb>data table notebook</a>'\n",
              "          + ' to learn more about interactive tables.';\n",
              "        element.innerHTML = '';\n",
              "        dataTable['output_type'] = 'display_data';\n",
              "        await google.colab.output.renderOutput(dataTable, element);\n",
              "        const docLink = document.createElement('div');\n",
              "        docLink.innerHTML = docLinkHtml;\n",
              "        element.appendChild(docLink);\n",
              "      }\n",
              "    </script>\n",
              "  </div>\n",
              "\n",
              "\n",
              "<div id=\"df-7ff91a09-2edc-43b9-953c-8a5241f3356f\">\n",
              "  <button class=\"colab-df-quickchart\" onclick=\"quickchart('df-7ff91a09-2edc-43b9-953c-8a5241f3356f')\"\n",
              "            title=\"Suggest charts.\"\n",
              "            style=\"display:none;\">\n",
              "\n",
              "<svg xmlns=\"http://www.w3.org/2000/svg\" height=\"24px\"viewBox=\"0 0 24 24\"\n",
              "     width=\"24px\">\n",
              "    <g>\n",
              "        <path d=\"M19 3H5c-1.1 0-2 .9-2 2v14c0 1.1.9 2 2 2h14c1.1 0 2-.9 2-2V5c0-1.1-.9-2-2-2zM9 17H7v-7h2v7zm4 0h-2V7h2v10zm4 0h-2v-4h2v4z\"/>\n",
              "    </g>\n",
              "</svg>\n",
              "  </button>\n",
              "\n",
              "<style>\n",
              "  .colab-df-quickchart {\n",
              "      --bg-color: #E8F0FE;\n",
              "      --fill-color: #1967D2;\n",
              "      --hover-bg-color: #E2EBFA;\n",
              "      --hover-fill-color: #174EA6;\n",
              "      --disabled-fill-color: #AAA;\n",
              "      --disabled-bg-color: #DDD;\n",
              "  }\n",
              "\n",
              "  [theme=dark] .colab-df-quickchart {\n",
              "      --bg-color: #3B4455;\n",
              "      --fill-color: #D2E3FC;\n",
              "      --hover-bg-color: #434B5C;\n",
              "      --hover-fill-color: #FFFFFF;\n",
              "      --disabled-bg-color: #3B4455;\n",
              "      --disabled-fill-color: #666;\n",
              "  }\n",
              "\n",
              "  .colab-df-quickchart {\n",
              "    background-color: var(--bg-color);\n",
              "    border: none;\n",
              "    border-radius: 50%;\n",
              "    cursor: pointer;\n",
              "    display: none;\n",
              "    fill: var(--fill-color);\n",
              "    height: 32px;\n",
              "    padding: 0;\n",
              "    width: 32px;\n",
              "  }\n",
              "\n",
              "  .colab-df-quickchart:hover {\n",
              "    background-color: var(--hover-bg-color);\n",
              "    box-shadow: 0 1px 2px rgba(60, 64, 67, 0.3), 0 1px 3px 1px rgba(60, 64, 67, 0.15);\n",
              "    fill: var(--button-hover-fill-color);\n",
              "  }\n",
              "\n",
              "  .colab-df-quickchart-complete:disabled,\n",
              "  .colab-df-quickchart-complete:disabled:hover {\n",
              "    background-color: var(--disabled-bg-color);\n",
              "    fill: var(--disabled-fill-color);\n",
              "    box-shadow: none;\n",
              "  }\n",
              "\n",
              "  .colab-df-spinner {\n",
              "    border: 2px solid var(--fill-color);\n",
              "    border-color: transparent;\n",
              "    border-bottom-color: var(--fill-color);\n",
              "    animation:\n",
              "      spin 1s steps(1) infinite;\n",
              "  }\n",
              "\n",
              "  @keyframes spin {\n",
              "    0% {\n",
              "      border-color: transparent;\n",
              "      border-bottom-color: var(--fill-color);\n",
              "      border-left-color: var(--fill-color);\n",
              "    }\n",
              "    20% {\n",
              "      border-color: transparent;\n",
              "      border-left-color: var(--fill-color);\n",
              "      border-top-color: var(--fill-color);\n",
              "    }\n",
              "    30% {\n",
              "      border-color: transparent;\n",
              "      border-left-color: var(--fill-color);\n",
              "      border-top-color: var(--fill-color);\n",
              "      border-right-color: var(--fill-color);\n",
              "    }\n",
              "    40% {\n",
              "      border-color: transparent;\n",
              "      border-right-color: var(--fill-color);\n",
              "      border-top-color: var(--fill-color);\n",
              "    }\n",
              "    60% {\n",
              "      border-color: transparent;\n",
              "      border-right-color: var(--fill-color);\n",
              "    }\n",
              "    80% {\n",
              "      border-color: transparent;\n",
              "      border-right-color: var(--fill-color);\n",
              "      border-bottom-color: var(--fill-color);\n",
              "    }\n",
              "    90% {\n",
              "      border-color: transparent;\n",
              "      border-bottom-color: var(--fill-color);\n",
              "    }\n",
              "  }\n",
              "</style>\n",
              "\n",
              "  <script>\n",
              "    async function quickchart(key) {\n",
              "      const quickchartButtonEl =\n",
              "        document.querySelector('#' + key + ' button');\n",
              "      quickchartButtonEl.disabled = true;  // To prevent multiple clicks.\n",
              "      quickchartButtonEl.classList.add('colab-df-spinner');\n",
              "      try {\n",
              "        const charts = await google.colab.kernel.invokeFunction(\n",
              "            'suggestCharts', [key], {});\n",
              "      } catch (error) {\n",
              "        console.error('Error during call to suggestCharts:', error);\n",
              "      }\n",
              "      quickchartButtonEl.classList.remove('colab-df-spinner');\n",
              "      quickchartButtonEl.classList.add('colab-df-quickchart-complete');\n",
              "    }\n",
              "    (() => {\n",
              "      let quickchartButtonEl =\n",
              "        document.querySelector('#df-7ff91a09-2edc-43b9-953c-8a5241f3356f button');\n",
              "      quickchartButtonEl.style.display =\n",
              "        google.colab.kernel.accessAllowed ? 'block' : 'none';\n",
              "    })();\n",
              "  </script>\n",
              "</div>\n",
              "    </div>\n",
              "  </div>\n"
            ]
          },
          "metadata": {},
          "execution_count": 4
        }
      ]
    },
    {
      "cell_type": "code",
      "source": [
        "# Function to write to CSV\n",
        "def create_csv(x, y_1, y_2, label_name):\n",
        "    output_filename = f\"/content/drive/My Drive/Semester7/ML/Lab01/190332D_{label_name}.csv\"\n",
        "    combined_data = pd.DataFrame()\n",
        "\n",
        "    combined_data[\"Predicted labels before feature engineering\"] = y_1\n",
        "    combined_data[\"Predicted labels after feature engineering\"] = y_2\n",
        "    combined_data[\"No of new features\"] = [len(x.columns)] * len(combined_data)\n",
        "\n",
        "    i = 0;\n",
        "    while i < len(x.columns):\n",
        "        column_name = x.columns[i]\n",
        "        combined_data[f\"new_feature_{i+1}\"] = x[column_name]\n",
        "        i += 1\n",
        "\n",
        "    while i < 256:\n",
        "        combined_data[f\"new_feature_{i+1}\"] = [None] * len(combined_data)\n",
        "        i += 1\n",
        "\n",
        "    combined_data.to_csv(output_filename, index=False)"
      ],
      "metadata": {
        "id": "eCI2zaJTUhxG"
      },
      "execution_count": null,
      "outputs": []
    },
    {
      "cell_type": "markdown",
      "source": [
        "# Handling Missing Values"
      ],
      "metadata": {
        "id": "n7UPZ5gg9qwj"
      }
    },
    {
      "cell_type": "code",
      "source": [
        "# Check for missing values in each label\n",
        "labels = [\"label_1\", \"label_2\", \"label_3\", \"label_4\"]\n",
        "train[labels].isnull().sum()"
      ],
      "metadata": {
        "colab": {
          "base_uri": "https://localhost:8080/"
        },
        "id": "2MuQhQtX8sLo",
        "outputId": "1d6c07c2-abec-448f-bb36-6ad7c5151592"
      },
      "execution_count": null,
      "outputs": [
        {
          "output_type": "execute_result",
          "data": {
            "text/plain": [
              "label_1      0\n",
              "label_2    480\n",
              "label_3      0\n",
              "label_4      0\n",
              "dtype: int64"
            ]
          },
          "metadata": {},
          "execution_count": 6
        }
      ]
    },
    {
      "cell_type": "markdown",
      "source": [
        "The `label_2` contains 480 missing values. Therefore, fill these with the mean of the column."
      ],
      "metadata": {
        "id": "SVEWh8Xz9T2u"
      }
    },
    {
      "cell_type": "code",
      "source": [
        "from sklearn.impute import SimpleImputer\n",
        "\n",
        "imputer = SimpleImputer(strategy='mean')\n",
        "columns = [\"label_2\"]\n",
        "imputer.fit(train[columns])\n",
        "\n",
        "# Insert the missing values with the mean with the nearest integer\n",
        "train[columns] = imputer.transform(train[columns]).round().astype(\"int\")\n",
        "\n",
        "train.head()"
      ],
      "metadata": {
        "colab": {
          "base_uri": "https://localhost:8080/",
          "height": 256
        },
        "id": "MwNx5C-K9Sdy",
        "outputId": "1937b05a-e1b7-4c2c-e5b1-d06fd9f2c30a"
      },
      "execution_count": null,
      "outputs": [
        {
          "output_type": "execute_result",
          "data": {
            "text/plain": [
              "   feature_1  feature_2  feature_3  feature_4  feature_5  feature_6  \\\n",
              "0  -1.928826  -0.291540   1.105909   2.070652   0.657838  -0.670940   \n",
              "1  -1.709277  -1.008998   0.956611   4.313823  -0.669455   1.928765   \n",
              "2  -1.906183  -0.357562  -0.682627   4.651838  -0.884940   1.159512   \n",
              "3   0.697872  -2.218567  -0.572214   1.192062   0.329554   0.741364   \n",
              "4  -1.976895  -0.496308   0.368102   3.739787  -0.132058   1.234980   \n",
              "\n",
              "   feature_7  feature_8  feature_9  feature_10  ...  feature_251  feature_252  \\\n",
              "0  -0.968238   0.049916   1.111149   -1.834592  ...    -0.691538    -1.152522   \n",
              "1   0.162550   0.152173   2.356505   -2.898549  ...    -0.668235    -0.532695   \n",
              "2   1.354481  -1.432248   2.160144   -3.175735  ...    -0.026728     0.440408   \n",
              "3   0.962354   0.993512   2.896854   -1.600380  ...     0.709032     0.812106   \n",
              "4  -0.501003   0.881554   1.630941   -3.853953  ...    -0.599700    -1.024829   \n",
              "\n",
              "   feature_253  feature_254  feature_255  feature_256  label_1  label_2  \\\n",
              "0     0.441157    -1.494434    -0.344974    -0.395641       45       28   \n",
              "1     0.151163    -1.876885     1.651534    -2.706490       45       28   \n",
              "2     2.745906    -0.680754    -0.643588    -2.587203       45       28   \n",
              "3     1.055266    -0.915258    -0.924856    -1.318964       45       28   \n",
              "4     1.869753    -2.498570     3.268253    -1.356606       45       28   \n",
              "\n",
              "   label_3  label_4  \n",
              "0        1        6  \n",
              "1        1        6  \n",
              "2        1        6  \n",
              "3        1        6  \n",
              "4        1        6  \n",
              "\n",
              "[5 rows x 260 columns]"
            ],
            "text/html": [
              "\n",
              "  <div id=\"df-c5319be4-6505-46be-88e7-0d851dbc7d3e\" class=\"colab-df-container\">\n",
              "    <div>\n",
              "<style scoped>\n",
              "    .dataframe tbody tr th:only-of-type {\n",
              "        vertical-align: middle;\n",
              "    }\n",
              "\n",
              "    .dataframe tbody tr th {\n",
              "        vertical-align: top;\n",
              "    }\n",
              "\n",
              "    .dataframe thead th {\n",
              "        text-align: right;\n",
              "    }\n",
              "</style>\n",
              "<table border=\"1\" class=\"dataframe\">\n",
              "  <thead>\n",
              "    <tr style=\"text-align: right;\">\n",
              "      <th></th>\n",
              "      <th>feature_1</th>\n",
              "      <th>feature_2</th>\n",
              "      <th>feature_3</th>\n",
              "      <th>feature_4</th>\n",
              "      <th>feature_5</th>\n",
              "      <th>feature_6</th>\n",
              "      <th>feature_7</th>\n",
              "      <th>feature_8</th>\n",
              "      <th>feature_9</th>\n",
              "      <th>feature_10</th>\n",
              "      <th>...</th>\n",
              "      <th>feature_251</th>\n",
              "      <th>feature_252</th>\n",
              "      <th>feature_253</th>\n",
              "      <th>feature_254</th>\n",
              "      <th>feature_255</th>\n",
              "      <th>feature_256</th>\n",
              "      <th>label_1</th>\n",
              "      <th>label_2</th>\n",
              "      <th>label_3</th>\n",
              "      <th>label_4</th>\n",
              "    </tr>\n",
              "  </thead>\n",
              "  <tbody>\n",
              "    <tr>\n",
              "      <th>0</th>\n",
              "      <td>-1.928826</td>\n",
              "      <td>-0.291540</td>\n",
              "      <td>1.105909</td>\n",
              "      <td>2.070652</td>\n",
              "      <td>0.657838</td>\n",
              "      <td>-0.670940</td>\n",
              "      <td>-0.968238</td>\n",
              "      <td>0.049916</td>\n",
              "      <td>1.111149</td>\n",
              "      <td>-1.834592</td>\n",
              "      <td>...</td>\n",
              "      <td>-0.691538</td>\n",
              "      <td>-1.152522</td>\n",
              "      <td>0.441157</td>\n",
              "      <td>-1.494434</td>\n",
              "      <td>-0.344974</td>\n",
              "      <td>-0.395641</td>\n",
              "      <td>45</td>\n",
              "      <td>28</td>\n",
              "      <td>1</td>\n",
              "      <td>6</td>\n",
              "    </tr>\n",
              "    <tr>\n",
              "      <th>1</th>\n",
              "      <td>-1.709277</td>\n",
              "      <td>-1.008998</td>\n",
              "      <td>0.956611</td>\n",
              "      <td>4.313823</td>\n",
              "      <td>-0.669455</td>\n",
              "      <td>1.928765</td>\n",
              "      <td>0.162550</td>\n",
              "      <td>0.152173</td>\n",
              "      <td>2.356505</td>\n",
              "      <td>-2.898549</td>\n",
              "      <td>...</td>\n",
              "      <td>-0.668235</td>\n",
              "      <td>-0.532695</td>\n",
              "      <td>0.151163</td>\n",
              "      <td>-1.876885</td>\n",
              "      <td>1.651534</td>\n",
              "      <td>-2.706490</td>\n",
              "      <td>45</td>\n",
              "      <td>28</td>\n",
              "      <td>1</td>\n",
              "      <td>6</td>\n",
              "    </tr>\n",
              "    <tr>\n",
              "      <th>2</th>\n",
              "      <td>-1.906183</td>\n",
              "      <td>-0.357562</td>\n",
              "      <td>-0.682627</td>\n",
              "      <td>4.651838</td>\n",
              "      <td>-0.884940</td>\n",
              "      <td>1.159512</td>\n",
              "      <td>1.354481</td>\n",
              "      <td>-1.432248</td>\n",
              "      <td>2.160144</td>\n",
              "      <td>-3.175735</td>\n",
              "      <td>...</td>\n",
              "      <td>-0.026728</td>\n",
              "      <td>0.440408</td>\n",
              "      <td>2.745906</td>\n",
              "      <td>-0.680754</td>\n",
              "      <td>-0.643588</td>\n",
              "      <td>-2.587203</td>\n",
              "      <td>45</td>\n",
              "      <td>28</td>\n",
              "      <td>1</td>\n",
              "      <td>6</td>\n",
              "    </tr>\n",
              "    <tr>\n",
              "      <th>3</th>\n",
              "      <td>0.697872</td>\n",
              "      <td>-2.218567</td>\n",
              "      <td>-0.572214</td>\n",
              "      <td>1.192062</td>\n",
              "      <td>0.329554</td>\n",
              "      <td>0.741364</td>\n",
              "      <td>0.962354</td>\n",
              "      <td>0.993512</td>\n",
              "      <td>2.896854</td>\n",
              "      <td>-1.600380</td>\n",
              "      <td>...</td>\n",
              "      <td>0.709032</td>\n",
              "      <td>0.812106</td>\n",
              "      <td>1.055266</td>\n",
              "      <td>-0.915258</td>\n",
              "      <td>-0.924856</td>\n",
              "      <td>-1.318964</td>\n",
              "      <td>45</td>\n",
              "      <td>28</td>\n",
              "      <td>1</td>\n",
              "      <td>6</td>\n",
              "    </tr>\n",
              "    <tr>\n",
              "      <th>4</th>\n",
              "      <td>-1.976895</td>\n",
              "      <td>-0.496308</td>\n",
              "      <td>0.368102</td>\n",
              "      <td>3.739787</td>\n",
              "      <td>-0.132058</td>\n",
              "      <td>1.234980</td>\n",
              "      <td>-0.501003</td>\n",
              "      <td>0.881554</td>\n",
              "      <td>1.630941</td>\n",
              "      <td>-3.853953</td>\n",
              "      <td>...</td>\n",
              "      <td>-0.599700</td>\n",
              "      <td>-1.024829</td>\n",
              "      <td>1.869753</td>\n",
              "      <td>-2.498570</td>\n",
              "      <td>3.268253</td>\n",
              "      <td>-1.356606</td>\n",
              "      <td>45</td>\n",
              "      <td>28</td>\n",
              "      <td>1</td>\n",
              "      <td>6</td>\n",
              "    </tr>\n",
              "  </tbody>\n",
              "</table>\n",
              "<p>5 rows × 260 columns</p>\n",
              "</div>\n",
              "    <div class=\"colab-df-buttons\">\n",
              "\n",
              "  <div class=\"colab-df-container\">\n",
              "    <button class=\"colab-df-convert\" onclick=\"convertToInteractive('df-c5319be4-6505-46be-88e7-0d851dbc7d3e')\"\n",
              "            title=\"Convert this dataframe to an interactive table.\"\n",
              "            style=\"display:none;\">\n",
              "\n",
              "  <svg xmlns=\"http://www.w3.org/2000/svg\" height=\"24px\" viewBox=\"0 -960 960 960\">\n",
              "    <path d=\"M120-120v-720h720v720H120Zm60-500h600v-160H180v160Zm220 220h160v-160H400v160Zm0 220h160v-160H400v160ZM180-400h160v-160H180v160Zm440 0h160v-160H620v160ZM180-180h160v-160H180v160Zm440 0h160v-160H620v160Z\"/>\n",
              "  </svg>\n",
              "    </button>\n",
              "\n",
              "  <style>\n",
              "    .colab-df-container {\n",
              "      display:flex;\n",
              "      gap: 12px;\n",
              "    }\n",
              "\n",
              "    .colab-df-convert {\n",
              "      background-color: #E8F0FE;\n",
              "      border: none;\n",
              "      border-radius: 50%;\n",
              "      cursor: pointer;\n",
              "      display: none;\n",
              "      fill: #1967D2;\n",
              "      height: 32px;\n",
              "      padding: 0 0 0 0;\n",
              "      width: 32px;\n",
              "    }\n",
              "\n",
              "    .colab-df-convert:hover {\n",
              "      background-color: #E2EBFA;\n",
              "      box-shadow: 0px 1px 2px rgba(60, 64, 67, 0.3), 0px 1px 3px 1px rgba(60, 64, 67, 0.15);\n",
              "      fill: #174EA6;\n",
              "    }\n",
              "\n",
              "    .colab-df-buttons div {\n",
              "      margin-bottom: 4px;\n",
              "    }\n",
              "\n",
              "    [theme=dark] .colab-df-convert {\n",
              "      background-color: #3B4455;\n",
              "      fill: #D2E3FC;\n",
              "    }\n",
              "\n",
              "    [theme=dark] .colab-df-convert:hover {\n",
              "      background-color: #434B5C;\n",
              "      box-shadow: 0px 1px 3px 1px rgba(0, 0, 0, 0.15);\n",
              "      filter: drop-shadow(0px 1px 2px rgba(0, 0, 0, 0.3));\n",
              "      fill: #FFFFFF;\n",
              "    }\n",
              "  </style>\n",
              "\n",
              "    <script>\n",
              "      const buttonEl =\n",
              "        document.querySelector('#df-c5319be4-6505-46be-88e7-0d851dbc7d3e button.colab-df-convert');\n",
              "      buttonEl.style.display =\n",
              "        google.colab.kernel.accessAllowed ? 'block' : 'none';\n",
              "\n",
              "      async function convertToInteractive(key) {\n",
              "        const element = document.querySelector('#df-c5319be4-6505-46be-88e7-0d851dbc7d3e');\n",
              "        const dataTable =\n",
              "          await google.colab.kernel.invokeFunction('convertToInteractive',\n",
              "                                                    [key], {});\n",
              "        if (!dataTable) return;\n",
              "\n",
              "        const docLinkHtml = 'Like what you see? Visit the ' +\n",
              "          '<a target=\"_blank\" href=https://colab.research.google.com/notebooks/data_table.ipynb>data table notebook</a>'\n",
              "          + ' to learn more about interactive tables.';\n",
              "        element.innerHTML = '';\n",
              "        dataTable['output_type'] = 'display_data';\n",
              "        await google.colab.output.renderOutput(dataTable, element);\n",
              "        const docLink = document.createElement('div');\n",
              "        docLink.innerHTML = docLinkHtml;\n",
              "        element.appendChild(docLink);\n",
              "      }\n",
              "    </script>\n",
              "  </div>\n",
              "\n",
              "\n",
              "<div id=\"df-800dbfd4-3e75-4e12-9838-6e646eb5abad\">\n",
              "  <button class=\"colab-df-quickchart\" onclick=\"quickchart('df-800dbfd4-3e75-4e12-9838-6e646eb5abad')\"\n",
              "            title=\"Suggest charts.\"\n",
              "            style=\"display:none;\">\n",
              "\n",
              "<svg xmlns=\"http://www.w3.org/2000/svg\" height=\"24px\"viewBox=\"0 0 24 24\"\n",
              "     width=\"24px\">\n",
              "    <g>\n",
              "        <path d=\"M19 3H5c-1.1 0-2 .9-2 2v14c0 1.1.9 2 2 2h14c1.1 0 2-.9 2-2V5c0-1.1-.9-2-2-2zM9 17H7v-7h2v7zm4 0h-2V7h2v10zm4 0h-2v-4h2v4z\"/>\n",
              "    </g>\n",
              "</svg>\n",
              "  </button>\n",
              "\n",
              "<style>\n",
              "  .colab-df-quickchart {\n",
              "      --bg-color: #E8F0FE;\n",
              "      --fill-color: #1967D2;\n",
              "      --hover-bg-color: #E2EBFA;\n",
              "      --hover-fill-color: #174EA6;\n",
              "      --disabled-fill-color: #AAA;\n",
              "      --disabled-bg-color: #DDD;\n",
              "  }\n",
              "\n",
              "  [theme=dark] .colab-df-quickchart {\n",
              "      --bg-color: #3B4455;\n",
              "      --fill-color: #D2E3FC;\n",
              "      --hover-bg-color: #434B5C;\n",
              "      --hover-fill-color: #FFFFFF;\n",
              "      --disabled-bg-color: #3B4455;\n",
              "      --disabled-fill-color: #666;\n",
              "  }\n",
              "\n",
              "  .colab-df-quickchart {\n",
              "    background-color: var(--bg-color);\n",
              "    border: none;\n",
              "    border-radius: 50%;\n",
              "    cursor: pointer;\n",
              "    display: none;\n",
              "    fill: var(--fill-color);\n",
              "    height: 32px;\n",
              "    padding: 0;\n",
              "    width: 32px;\n",
              "  }\n",
              "\n",
              "  .colab-df-quickchart:hover {\n",
              "    background-color: var(--hover-bg-color);\n",
              "    box-shadow: 0 1px 2px rgba(60, 64, 67, 0.3), 0 1px 3px 1px rgba(60, 64, 67, 0.15);\n",
              "    fill: var(--button-hover-fill-color);\n",
              "  }\n",
              "\n",
              "  .colab-df-quickchart-complete:disabled,\n",
              "  .colab-df-quickchart-complete:disabled:hover {\n",
              "    background-color: var(--disabled-bg-color);\n",
              "    fill: var(--disabled-fill-color);\n",
              "    box-shadow: none;\n",
              "  }\n",
              "\n",
              "  .colab-df-spinner {\n",
              "    border: 2px solid var(--fill-color);\n",
              "    border-color: transparent;\n",
              "    border-bottom-color: var(--fill-color);\n",
              "    animation:\n",
              "      spin 1s steps(1) infinite;\n",
              "  }\n",
              "\n",
              "  @keyframes spin {\n",
              "    0% {\n",
              "      border-color: transparent;\n",
              "      border-bottom-color: var(--fill-color);\n",
              "      border-left-color: var(--fill-color);\n",
              "    }\n",
              "    20% {\n",
              "      border-color: transparent;\n",
              "      border-left-color: var(--fill-color);\n",
              "      border-top-color: var(--fill-color);\n",
              "    }\n",
              "    30% {\n",
              "      border-color: transparent;\n",
              "      border-left-color: var(--fill-color);\n",
              "      border-top-color: var(--fill-color);\n",
              "      border-right-color: var(--fill-color);\n",
              "    }\n",
              "    40% {\n",
              "      border-color: transparent;\n",
              "      border-right-color: var(--fill-color);\n",
              "      border-top-color: var(--fill-color);\n",
              "    }\n",
              "    60% {\n",
              "      border-color: transparent;\n",
              "      border-right-color: var(--fill-color);\n",
              "    }\n",
              "    80% {\n",
              "      border-color: transparent;\n",
              "      border-right-color: var(--fill-color);\n",
              "      border-bottom-color: var(--fill-color);\n",
              "    }\n",
              "    90% {\n",
              "      border-color: transparent;\n",
              "      border-bottom-color: var(--fill-color);\n",
              "    }\n",
              "  }\n",
              "</style>\n",
              "\n",
              "  <script>\n",
              "    async function quickchart(key) {\n",
              "      const quickchartButtonEl =\n",
              "        document.querySelector('#' + key + ' button');\n",
              "      quickchartButtonEl.disabled = true;  // To prevent multiple clicks.\n",
              "      quickchartButtonEl.classList.add('colab-df-spinner');\n",
              "      try {\n",
              "        const charts = await google.colab.kernel.invokeFunction(\n",
              "            'suggestCharts', [key], {});\n",
              "      } catch (error) {\n",
              "        console.error('Error during call to suggestCharts:', error);\n",
              "      }\n",
              "      quickchartButtonEl.classList.remove('colab-df-spinner');\n",
              "      quickchartButtonEl.classList.add('colab-df-quickchart-complete');\n",
              "    }\n",
              "    (() => {\n",
              "      let quickchartButtonEl =\n",
              "        document.querySelector('#df-800dbfd4-3e75-4e12-9838-6e646eb5abad button');\n",
              "      quickchartButtonEl.style.display =\n",
              "        google.colab.kernel.accessAllowed ? 'block' : 'none';\n",
              "    })();\n",
              "  </script>\n",
              "</div>\n",
              "    </div>\n",
              "  </div>\n"
            ]
          },
          "metadata": {},
          "execution_count": 7
        }
      ]
    },
    {
      "cell_type": "code",
      "source": [
        "# Recheck for missing values in each label to confirm whether there are no missing values left\n",
        "labels = [\"label_1\", \"label_2\", \"label_3\", \"label_4\"]\n",
        "train[labels].isnull().sum()"
      ],
      "metadata": {
        "colab": {
          "base_uri": "https://localhost:8080/"
        },
        "id": "tIam7-a0_Wrh",
        "outputId": "2720f49e-2ad1-4aec-d049-d9332e8b3936"
      },
      "execution_count": null,
      "outputs": [
        {
          "output_type": "execute_result",
          "data": {
            "text/plain": [
              "label_1    0\n",
              "label_2    0\n",
              "label_3    0\n",
              "label_4    0\n",
              "dtype: int64"
            ]
          },
          "metadata": {},
          "execution_count": 8
        }
      ]
    },
    {
      "cell_type": "markdown",
      "source": [
        "Do the same procedure for validation dataset."
      ],
      "metadata": {
        "id": "UyO1A2C7qLkQ"
      }
    },
    {
      "cell_type": "code",
      "source": [
        "valid[labels].isnull().sum()"
      ],
      "metadata": {
        "colab": {
          "base_uri": "https://localhost:8080/"
        },
        "id": "z1PM4SdDpwzs",
        "outputId": "391d1c35-8884-4136-c00d-0423020f7e35"
      },
      "execution_count": null,
      "outputs": [
        {
          "output_type": "execute_result",
          "data": {
            "text/plain": [
              "label_1     0\n",
              "label_2    14\n",
              "label_3     0\n",
              "label_4     0\n",
              "dtype: int64"
            ]
          },
          "metadata": {},
          "execution_count": 9
        }
      ]
    },
    {
      "cell_type": "code",
      "source": [
        "imputer = SimpleImputer(strategy='mean')\n",
        "columns = [\"label_2\"]\n",
        "imputer.fit(valid[columns])\n",
        "\n",
        "# Insert the missing values with the mean with the nearest integer\n",
        "valid[columns] = imputer.transform(valid[columns]).round().astype(\"int\")\n",
        "\n",
        "valid.head()"
      ],
      "metadata": {
        "colab": {
          "base_uri": "https://localhost:8080/",
          "height": 256
        },
        "id": "Mf4tPuBvp-TI",
        "outputId": "6f176c04-6f37-45f6-adf3-873c864185b3"
      },
      "execution_count": null,
      "outputs": [
        {
          "output_type": "execute_result",
          "data": {
            "text/plain": [
              "   feature_1  feature_2  feature_3  feature_4  feature_5  feature_6  \\\n",
              "0  -1.153148  -1.038098   1.419872   2.734152   1.154604  -1.086937   \n",
              "1  -1.377524  -1.018393   1.102352   2.849025   0.440302  -1.149039   \n",
              "2   0.889574  -2.743300  -0.320194   3.047766  -0.923335   1.741686   \n",
              "3  -1.527213  -1.133121   0.385927   3.129767   0.229020   1.373105   \n",
              "4   0.948176  -0.750248   0.008329   1.675338   1.941155  -0.783623   \n",
              "\n",
              "   feature_7  feature_8  feature_9  feature_10  ...  feature_251  feature_252  \\\n",
              "0  -0.516225  -1.370325   2.865359   -1.879877  ...    -0.719046    -1.248530   \n",
              "1  -0.789796  -2.258196   1.264268   -2.123730  ...    -1.383339    -0.787736   \n",
              "2  -0.615148   0.756482   2.074775   -1.433126  ...     1.178322     0.035333   \n",
              "3   0.919284  -0.755558   1.086973   -2.440614  ...    -0.664176     0.805059   \n",
              "4  -0.485584  -0.261882   2.875204   -1.473030  ...    -0.665200    -0.428060   \n",
              "\n",
              "   feature_253  feature_254  feature_255  feature_256  label_1  label_2  \\\n",
              "0     0.144460    -3.240056     0.052614     0.083108       45       28   \n",
              "1     1.044895    -2.289637     0.199752    -0.712154       45       28   \n",
              "2     0.857712    -1.928684     0.639870    -0.268576       45       28   \n",
              "3     0.975368    -2.700269     1.523236    -1.259052       45       28   \n",
              "4    -0.393100    -1.854657     2.207063    -0.342725       45       28   \n",
              "\n",
              "   label_3  label_4  \n",
              "0        1        6  \n",
              "1        1        6  \n",
              "2        1        6  \n",
              "3        1        6  \n",
              "4        1        6  \n",
              "\n",
              "[5 rows x 260 columns]"
            ],
            "text/html": [
              "\n",
              "  <div id=\"df-f235e679-75c7-4312-bc62-8035b5020509\" class=\"colab-df-container\">\n",
              "    <div>\n",
              "<style scoped>\n",
              "    .dataframe tbody tr th:only-of-type {\n",
              "        vertical-align: middle;\n",
              "    }\n",
              "\n",
              "    .dataframe tbody tr th {\n",
              "        vertical-align: top;\n",
              "    }\n",
              "\n",
              "    .dataframe thead th {\n",
              "        text-align: right;\n",
              "    }\n",
              "</style>\n",
              "<table border=\"1\" class=\"dataframe\">\n",
              "  <thead>\n",
              "    <tr style=\"text-align: right;\">\n",
              "      <th></th>\n",
              "      <th>feature_1</th>\n",
              "      <th>feature_2</th>\n",
              "      <th>feature_3</th>\n",
              "      <th>feature_4</th>\n",
              "      <th>feature_5</th>\n",
              "      <th>feature_6</th>\n",
              "      <th>feature_7</th>\n",
              "      <th>feature_8</th>\n",
              "      <th>feature_9</th>\n",
              "      <th>feature_10</th>\n",
              "      <th>...</th>\n",
              "      <th>feature_251</th>\n",
              "      <th>feature_252</th>\n",
              "      <th>feature_253</th>\n",
              "      <th>feature_254</th>\n",
              "      <th>feature_255</th>\n",
              "      <th>feature_256</th>\n",
              "      <th>label_1</th>\n",
              "      <th>label_2</th>\n",
              "      <th>label_3</th>\n",
              "      <th>label_4</th>\n",
              "    </tr>\n",
              "  </thead>\n",
              "  <tbody>\n",
              "    <tr>\n",
              "      <th>0</th>\n",
              "      <td>-1.153148</td>\n",
              "      <td>-1.038098</td>\n",
              "      <td>1.419872</td>\n",
              "      <td>2.734152</td>\n",
              "      <td>1.154604</td>\n",
              "      <td>-1.086937</td>\n",
              "      <td>-0.516225</td>\n",
              "      <td>-1.370325</td>\n",
              "      <td>2.865359</td>\n",
              "      <td>-1.879877</td>\n",
              "      <td>...</td>\n",
              "      <td>-0.719046</td>\n",
              "      <td>-1.248530</td>\n",
              "      <td>0.144460</td>\n",
              "      <td>-3.240056</td>\n",
              "      <td>0.052614</td>\n",
              "      <td>0.083108</td>\n",
              "      <td>45</td>\n",
              "      <td>28</td>\n",
              "      <td>1</td>\n",
              "      <td>6</td>\n",
              "    </tr>\n",
              "    <tr>\n",
              "      <th>1</th>\n",
              "      <td>-1.377524</td>\n",
              "      <td>-1.018393</td>\n",
              "      <td>1.102352</td>\n",
              "      <td>2.849025</td>\n",
              "      <td>0.440302</td>\n",
              "      <td>-1.149039</td>\n",
              "      <td>-0.789796</td>\n",
              "      <td>-2.258196</td>\n",
              "      <td>1.264268</td>\n",
              "      <td>-2.123730</td>\n",
              "      <td>...</td>\n",
              "      <td>-1.383339</td>\n",
              "      <td>-0.787736</td>\n",
              "      <td>1.044895</td>\n",
              "      <td>-2.289637</td>\n",
              "      <td>0.199752</td>\n",
              "      <td>-0.712154</td>\n",
              "      <td>45</td>\n",
              "      <td>28</td>\n",
              "      <td>1</td>\n",
              "      <td>6</td>\n",
              "    </tr>\n",
              "    <tr>\n",
              "      <th>2</th>\n",
              "      <td>0.889574</td>\n",
              "      <td>-2.743300</td>\n",
              "      <td>-0.320194</td>\n",
              "      <td>3.047766</td>\n",
              "      <td>-0.923335</td>\n",
              "      <td>1.741686</td>\n",
              "      <td>-0.615148</td>\n",
              "      <td>0.756482</td>\n",
              "      <td>2.074775</td>\n",
              "      <td>-1.433126</td>\n",
              "      <td>...</td>\n",
              "      <td>1.178322</td>\n",
              "      <td>0.035333</td>\n",
              "      <td>0.857712</td>\n",
              "      <td>-1.928684</td>\n",
              "      <td>0.639870</td>\n",
              "      <td>-0.268576</td>\n",
              "      <td>45</td>\n",
              "      <td>28</td>\n",
              "      <td>1</td>\n",
              "      <td>6</td>\n",
              "    </tr>\n",
              "    <tr>\n",
              "      <th>3</th>\n",
              "      <td>-1.527213</td>\n",
              "      <td>-1.133121</td>\n",
              "      <td>0.385927</td>\n",
              "      <td>3.129767</td>\n",
              "      <td>0.229020</td>\n",
              "      <td>1.373105</td>\n",
              "      <td>0.919284</td>\n",
              "      <td>-0.755558</td>\n",
              "      <td>1.086973</td>\n",
              "      <td>-2.440614</td>\n",
              "      <td>...</td>\n",
              "      <td>-0.664176</td>\n",
              "      <td>0.805059</td>\n",
              "      <td>0.975368</td>\n",
              "      <td>-2.700269</td>\n",
              "      <td>1.523236</td>\n",
              "      <td>-1.259052</td>\n",
              "      <td>45</td>\n",
              "      <td>28</td>\n",
              "      <td>1</td>\n",
              "      <td>6</td>\n",
              "    </tr>\n",
              "    <tr>\n",
              "      <th>4</th>\n",
              "      <td>0.948176</td>\n",
              "      <td>-0.750248</td>\n",
              "      <td>0.008329</td>\n",
              "      <td>1.675338</td>\n",
              "      <td>1.941155</td>\n",
              "      <td>-0.783623</td>\n",
              "      <td>-0.485584</td>\n",
              "      <td>-0.261882</td>\n",
              "      <td>2.875204</td>\n",
              "      <td>-1.473030</td>\n",
              "      <td>...</td>\n",
              "      <td>-0.665200</td>\n",
              "      <td>-0.428060</td>\n",
              "      <td>-0.393100</td>\n",
              "      <td>-1.854657</td>\n",
              "      <td>2.207063</td>\n",
              "      <td>-0.342725</td>\n",
              "      <td>45</td>\n",
              "      <td>28</td>\n",
              "      <td>1</td>\n",
              "      <td>6</td>\n",
              "    </tr>\n",
              "  </tbody>\n",
              "</table>\n",
              "<p>5 rows × 260 columns</p>\n",
              "</div>\n",
              "    <div class=\"colab-df-buttons\">\n",
              "\n",
              "  <div class=\"colab-df-container\">\n",
              "    <button class=\"colab-df-convert\" onclick=\"convertToInteractive('df-f235e679-75c7-4312-bc62-8035b5020509')\"\n",
              "            title=\"Convert this dataframe to an interactive table.\"\n",
              "            style=\"display:none;\">\n",
              "\n",
              "  <svg xmlns=\"http://www.w3.org/2000/svg\" height=\"24px\" viewBox=\"0 -960 960 960\">\n",
              "    <path d=\"M120-120v-720h720v720H120Zm60-500h600v-160H180v160Zm220 220h160v-160H400v160Zm0 220h160v-160H400v160ZM180-400h160v-160H180v160Zm440 0h160v-160H620v160ZM180-180h160v-160H180v160Zm440 0h160v-160H620v160Z\"/>\n",
              "  </svg>\n",
              "    </button>\n",
              "\n",
              "  <style>\n",
              "    .colab-df-container {\n",
              "      display:flex;\n",
              "      gap: 12px;\n",
              "    }\n",
              "\n",
              "    .colab-df-convert {\n",
              "      background-color: #E8F0FE;\n",
              "      border: none;\n",
              "      border-radius: 50%;\n",
              "      cursor: pointer;\n",
              "      display: none;\n",
              "      fill: #1967D2;\n",
              "      height: 32px;\n",
              "      padding: 0 0 0 0;\n",
              "      width: 32px;\n",
              "    }\n",
              "\n",
              "    .colab-df-convert:hover {\n",
              "      background-color: #E2EBFA;\n",
              "      box-shadow: 0px 1px 2px rgba(60, 64, 67, 0.3), 0px 1px 3px 1px rgba(60, 64, 67, 0.15);\n",
              "      fill: #174EA6;\n",
              "    }\n",
              "\n",
              "    .colab-df-buttons div {\n",
              "      margin-bottom: 4px;\n",
              "    }\n",
              "\n",
              "    [theme=dark] .colab-df-convert {\n",
              "      background-color: #3B4455;\n",
              "      fill: #D2E3FC;\n",
              "    }\n",
              "\n",
              "    [theme=dark] .colab-df-convert:hover {\n",
              "      background-color: #434B5C;\n",
              "      box-shadow: 0px 1px 3px 1px rgba(0, 0, 0, 0.15);\n",
              "      filter: drop-shadow(0px 1px 2px rgba(0, 0, 0, 0.3));\n",
              "      fill: #FFFFFF;\n",
              "    }\n",
              "  </style>\n",
              "\n",
              "    <script>\n",
              "      const buttonEl =\n",
              "        document.querySelector('#df-f235e679-75c7-4312-bc62-8035b5020509 button.colab-df-convert');\n",
              "      buttonEl.style.display =\n",
              "        google.colab.kernel.accessAllowed ? 'block' : 'none';\n",
              "\n",
              "      async function convertToInteractive(key) {\n",
              "        const element = document.querySelector('#df-f235e679-75c7-4312-bc62-8035b5020509');\n",
              "        const dataTable =\n",
              "          await google.colab.kernel.invokeFunction('convertToInteractive',\n",
              "                                                    [key], {});\n",
              "        if (!dataTable) return;\n",
              "\n",
              "        const docLinkHtml = 'Like what you see? Visit the ' +\n",
              "          '<a target=\"_blank\" href=https://colab.research.google.com/notebooks/data_table.ipynb>data table notebook</a>'\n",
              "          + ' to learn more about interactive tables.';\n",
              "        element.innerHTML = '';\n",
              "        dataTable['output_type'] = 'display_data';\n",
              "        await google.colab.output.renderOutput(dataTable, element);\n",
              "        const docLink = document.createElement('div');\n",
              "        docLink.innerHTML = docLinkHtml;\n",
              "        element.appendChild(docLink);\n",
              "      }\n",
              "    </script>\n",
              "  </div>\n",
              "\n",
              "\n",
              "<div id=\"df-fe6121bc-9962-403c-b65b-ebd2f84bf710\">\n",
              "  <button class=\"colab-df-quickchart\" onclick=\"quickchart('df-fe6121bc-9962-403c-b65b-ebd2f84bf710')\"\n",
              "            title=\"Suggest charts.\"\n",
              "            style=\"display:none;\">\n",
              "\n",
              "<svg xmlns=\"http://www.w3.org/2000/svg\" height=\"24px\"viewBox=\"0 0 24 24\"\n",
              "     width=\"24px\">\n",
              "    <g>\n",
              "        <path d=\"M19 3H5c-1.1 0-2 .9-2 2v14c0 1.1.9 2 2 2h14c1.1 0 2-.9 2-2V5c0-1.1-.9-2-2-2zM9 17H7v-7h2v7zm4 0h-2V7h2v10zm4 0h-2v-4h2v4z\"/>\n",
              "    </g>\n",
              "</svg>\n",
              "  </button>\n",
              "\n",
              "<style>\n",
              "  .colab-df-quickchart {\n",
              "      --bg-color: #E8F0FE;\n",
              "      --fill-color: #1967D2;\n",
              "      --hover-bg-color: #E2EBFA;\n",
              "      --hover-fill-color: #174EA6;\n",
              "      --disabled-fill-color: #AAA;\n",
              "      --disabled-bg-color: #DDD;\n",
              "  }\n",
              "\n",
              "  [theme=dark] .colab-df-quickchart {\n",
              "      --bg-color: #3B4455;\n",
              "      --fill-color: #D2E3FC;\n",
              "      --hover-bg-color: #434B5C;\n",
              "      --hover-fill-color: #FFFFFF;\n",
              "      --disabled-bg-color: #3B4455;\n",
              "      --disabled-fill-color: #666;\n",
              "  }\n",
              "\n",
              "  .colab-df-quickchart {\n",
              "    background-color: var(--bg-color);\n",
              "    border: none;\n",
              "    border-radius: 50%;\n",
              "    cursor: pointer;\n",
              "    display: none;\n",
              "    fill: var(--fill-color);\n",
              "    height: 32px;\n",
              "    padding: 0;\n",
              "    width: 32px;\n",
              "  }\n",
              "\n",
              "  .colab-df-quickchart:hover {\n",
              "    background-color: var(--hover-bg-color);\n",
              "    box-shadow: 0 1px 2px rgba(60, 64, 67, 0.3), 0 1px 3px 1px rgba(60, 64, 67, 0.15);\n",
              "    fill: var(--button-hover-fill-color);\n",
              "  }\n",
              "\n",
              "  .colab-df-quickchart-complete:disabled,\n",
              "  .colab-df-quickchart-complete:disabled:hover {\n",
              "    background-color: var(--disabled-bg-color);\n",
              "    fill: var(--disabled-fill-color);\n",
              "    box-shadow: none;\n",
              "  }\n",
              "\n",
              "  .colab-df-spinner {\n",
              "    border: 2px solid var(--fill-color);\n",
              "    border-color: transparent;\n",
              "    border-bottom-color: var(--fill-color);\n",
              "    animation:\n",
              "      spin 1s steps(1) infinite;\n",
              "  }\n",
              "\n",
              "  @keyframes spin {\n",
              "    0% {\n",
              "      border-color: transparent;\n",
              "      border-bottom-color: var(--fill-color);\n",
              "      border-left-color: var(--fill-color);\n",
              "    }\n",
              "    20% {\n",
              "      border-color: transparent;\n",
              "      border-left-color: var(--fill-color);\n",
              "      border-top-color: var(--fill-color);\n",
              "    }\n",
              "    30% {\n",
              "      border-color: transparent;\n",
              "      border-left-color: var(--fill-color);\n",
              "      border-top-color: var(--fill-color);\n",
              "      border-right-color: var(--fill-color);\n",
              "    }\n",
              "    40% {\n",
              "      border-color: transparent;\n",
              "      border-right-color: var(--fill-color);\n",
              "      border-top-color: var(--fill-color);\n",
              "    }\n",
              "    60% {\n",
              "      border-color: transparent;\n",
              "      border-right-color: var(--fill-color);\n",
              "    }\n",
              "    80% {\n",
              "      border-color: transparent;\n",
              "      border-right-color: var(--fill-color);\n",
              "      border-bottom-color: var(--fill-color);\n",
              "    }\n",
              "    90% {\n",
              "      border-color: transparent;\n",
              "      border-bottom-color: var(--fill-color);\n",
              "    }\n",
              "  }\n",
              "</style>\n",
              "\n",
              "  <script>\n",
              "    async function quickchart(key) {\n",
              "      const quickchartButtonEl =\n",
              "        document.querySelector('#' + key + ' button');\n",
              "      quickchartButtonEl.disabled = true;  // To prevent multiple clicks.\n",
              "      quickchartButtonEl.classList.add('colab-df-spinner');\n",
              "      try {\n",
              "        const charts = await google.colab.kernel.invokeFunction(\n",
              "            'suggestCharts', [key], {});\n",
              "      } catch (error) {\n",
              "        console.error('Error during call to suggestCharts:', error);\n",
              "      }\n",
              "      quickchartButtonEl.classList.remove('colab-df-spinner');\n",
              "      quickchartButtonEl.classList.add('colab-df-quickchart-complete');\n",
              "    }\n",
              "    (() => {\n",
              "      let quickchartButtonEl =\n",
              "        document.querySelector('#df-fe6121bc-9962-403c-b65b-ebd2f84bf710 button');\n",
              "      quickchartButtonEl.style.display =\n",
              "        google.colab.kernel.accessAllowed ? 'block' : 'none';\n",
              "    })();\n",
              "  </script>\n",
              "</div>\n",
              "    </div>\n",
              "  </div>\n"
            ]
          },
          "metadata": {},
          "execution_count": 10
        }
      ]
    },
    {
      "cell_type": "code",
      "source": [
        "valid[labels].isnull().sum()"
      ],
      "metadata": {
        "colab": {
          "base_uri": "https://localhost:8080/"
        },
        "id": "cQBltPVbqRso",
        "outputId": "6a11c835-e08a-4ccd-e6cd-e8378deb4e44"
      },
      "execution_count": null,
      "outputs": [
        {
          "output_type": "execute_result",
          "data": {
            "text/plain": [
              "label_1    0\n",
              "label_2    0\n",
              "label_3    0\n",
              "label_4    0\n",
              "dtype: int64"
            ]
          },
          "metadata": {},
          "execution_count": 11
        }
      ]
    },
    {
      "cell_type": "markdown",
      "source": [
        "# Modelling `label_1`: Speaker ID\n",
        "\n",
        "Speaker ID can be considered as a categorical variable."
      ],
      "metadata": {
        "id": "rcS0munDBjus"
      }
    },
    {
      "cell_type": "code",
      "source": [
        "# Split X and Y\n",
        "x = train.iloc[:, : -4]\n",
        "y = train[\"label_1\"]\n",
        "x_valid = valid.iloc[:, : -4]\n",
        "y_valid = valid[\"label_1\"]"
      ],
      "metadata": {
        "id": "rCJ13xtRHQ0t"
      },
      "execution_count": null,
      "outputs": []
    },
    {
      "cell_type": "code",
      "source": [
        "x.head()"
      ],
      "metadata": {
        "colab": {
          "base_uri": "https://localhost:8080/",
          "height": 256
        },
        "id": "50adUKIKK4RH",
        "outputId": "e7ef185c-6c2b-4e9a-c903-04c46024a3c6"
      },
      "execution_count": null,
      "outputs": [
        {
          "output_type": "execute_result",
          "data": {
            "text/plain": [
              "   feature_1  feature_2  feature_3  feature_4  feature_5  feature_6  \\\n",
              "0  -1.928826  -0.291540   1.105909   2.070652   0.657838  -0.670940   \n",
              "1  -1.709277  -1.008998   0.956611   4.313823  -0.669455   1.928765   \n",
              "2  -1.906183  -0.357562  -0.682627   4.651838  -0.884940   1.159512   \n",
              "3   0.697872  -2.218567  -0.572214   1.192062   0.329554   0.741364   \n",
              "4  -1.976895  -0.496308   0.368102   3.739787  -0.132058   1.234980   \n",
              "\n",
              "   feature_7  feature_8  feature_9  feature_10  ...  feature_247  feature_248  \\\n",
              "0  -0.968238   0.049916   1.111149   -1.834592  ...     2.029255     1.007398   \n",
              "1   0.162550   0.152173   2.356505   -2.898549  ...     1.260712    -1.559120   \n",
              "2   1.354481  -1.432248   2.160144   -3.175735  ...     0.223475    -0.136551   \n",
              "3   0.962354   0.993512   2.896854   -1.600380  ...     0.970327    -0.718073   \n",
              "4  -0.501003   0.881554   1.630941   -3.853953  ...     1.291582    -0.739541   \n",
              "\n",
              "   feature_249  feature_250  feature_251  feature_252  feature_253  \\\n",
              "0    -0.317517    -0.148447    -0.691538    -1.152522     0.441157   \n",
              "1    -1.369495    -1.253272    -0.668235    -0.532695     0.151163   \n",
              "2    -2.210191    -1.463330    -0.026728     0.440408     2.745906   \n",
              "3    -2.546477    -2.172275     0.709032     0.812106     1.055266   \n",
              "4    -1.097638    -0.574205    -0.599700    -1.024829     1.869753   \n",
              "\n",
              "   feature_254  feature_255  feature_256  \n",
              "0    -1.494434    -0.344974    -0.395641  \n",
              "1    -1.876885     1.651534    -2.706490  \n",
              "2    -0.680754    -0.643588    -2.587203  \n",
              "3    -0.915258    -0.924856    -1.318964  \n",
              "4    -2.498570     3.268253    -1.356606  \n",
              "\n",
              "[5 rows x 256 columns]"
            ],
            "text/html": [
              "\n",
              "  <div id=\"df-ca339598-2c8e-435b-8576-67273f7ce75d\" class=\"colab-df-container\">\n",
              "    <div>\n",
              "<style scoped>\n",
              "    .dataframe tbody tr th:only-of-type {\n",
              "        vertical-align: middle;\n",
              "    }\n",
              "\n",
              "    .dataframe tbody tr th {\n",
              "        vertical-align: top;\n",
              "    }\n",
              "\n",
              "    .dataframe thead th {\n",
              "        text-align: right;\n",
              "    }\n",
              "</style>\n",
              "<table border=\"1\" class=\"dataframe\">\n",
              "  <thead>\n",
              "    <tr style=\"text-align: right;\">\n",
              "      <th></th>\n",
              "      <th>feature_1</th>\n",
              "      <th>feature_2</th>\n",
              "      <th>feature_3</th>\n",
              "      <th>feature_4</th>\n",
              "      <th>feature_5</th>\n",
              "      <th>feature_6</th>\n",
              "      <th>feature_7</th>\n",
              "      <th>feature_8</th>\n",
              "      <th>feature_9</th>\n",
              "      <th>feature_10</th>\n",
              "      <th>...</th>\n",
              "      <th>feature_247</th>\n",
              "      <th>feature_248</th>\n",
              "      <th>feature_249</th>\n",
              "      <th>feature_250</th>\n",
              "      <th>feature_251</th>\n",
              "      <th>feature_252</th>\n",
              "      <th>feature_253</th>\n",
              "      <th>feature_254</th>\n",
              "      <th>feature_255</th>\n",
              "      <th>feature_256</th>\n",
              "    </tr>\n",
              "  </thead>\n",
              "  <tbody>\n",
              "    <tr>\n",
              "      <th>0</th>\n",
              "      <td>-1.928826</td>\n",
              "      <td>-0.291540</td>\n",
              "      <td>1.105909</td>\n",
              "      <td>2.070652</td>\n",
              "      <td>0.657838</td>\n",
              "      <td>-0.670940</td>\n",
              "      <td>-0.968238</td>\n",
              "      <td>0.049916</td>\n",
              "      <td>1.111149</td>\n",
              "      <td>-1.834592</td>\n",
              "      <td>...</td>\n",
              "      <td>2.029255</td>\n",
              "      <td>1.007398</td>\n",
              "      <td>-0.317517</td>\n",
              "      <td>-0.148447</td>\n",
              "      <td>-0.691538</td>\n",
              "      <td>-1.152522</td>\n",
              "      <td>0.441157</td>\n",
              "      <td>-1.494434</td>\n",
              "      <td>-0.344974</td>\n",
              "      <td>-0.395641</td>\n",
              "    </tr>\n",
              "    <tr>\n",
              "      <th>1</th>\n",
              "      <td>-1.709277</td>\n",
              "      <td>-1.008998</td>\n",
              "      <td>0.956611</td>\n",
              "      <td>4.313823</td>\n",
              "      <td>-0.669455</td>\n",
              "      <td>1.928765</td>\n",
              "      <td>0.162550</td>\n",
              "      <td>0.152173</td>\n",
              "      <td>2.356505</td>\n",
              "      <td>-2.898549</td>\n",
              "      <td>...</td>\n",
              "      <td>1.260712</td>\n",
              "      <td>-1.559120</td>\n",
              "      <td>-1.369495</td>\n",
              "      <td>-1.253272</td>\n",
              "      <td>-0.668235</td>\n",
              "      <td>-0.532695</td>\n",
              "      <td>0.151163</td>\n",
              "      <td>-1.876885</td>\n",
              "      <td>1.651534</td>\n",
              "      <td>-2.706490</td>\n",
              "    </tr>\n",
              "    <tr>\n",
              "      <th>2</th>\n",
              "      <td>-1.906183</td>\n",
              "      <td>-0.357562</td>\n",
              "      <td>-0.682627</td>\n",
              "      <td>4.651838</td>\n",
              "      <td>-0.884940</td>\n",
              "      <td>1.159512</td>\n",
              "      <td>1.354481</td>\n",
              "      <td>-1.432248</td>\n",
              "      <td>2.160144</td>\n",
              "      <td>-3.175735</td>\n",
              "      <td>...</td>\n",
              "      <td>0.223475</td>\n",
              "      <td>-0.136551</td>\n",
              "      <td>-2.210191</td>\n",
              "      <td>-1.463330</td>\n",
              "      <td>-0.026728</td>\n",
              "      <td>0.440408</td>\n",
              "      <td>2.745906</td>\n",
              "      <td>-0.680754</td>\n",
              "      <td>-0.643588</td>\n",
              "      <td>-2.587203</td>\n",
              "    </tr>\n",
              "    <tr>\n",
              "      <th>3</th>\n",
              "      <td>0.697872</td>\n",
              "      <td>-2.218567</td>\n",
              "      <td>-0.572214</td>\n",
              "      <td>1.192062</td>\n",
              "      <td>0.329554</td>\n",
              "      <td>0.741364</td>\n",
              "      <td>0.962354</td>\n",
              "      <td>0.993512</td>\n",
              "      <td>2.896854</td>\n",
              "      <td>-1.600380</td>\n",
              "      <td>...</td>\n",
              "      <td>0.970327</td>\n",
              "      <td>-0.718073</td>\n",
              "      <td>-2.546477</td>\n",
              "      <td>-2.172275</td>\n",
              "      <td>0.709032</td>\n",
              "      <td>0.812106</td>\n",
              "      <td>1.055266</td>\n",
              "      <td>-0.915258</td>\n",
              "      <td>-0.924856</td>\n",
              "      <td>-1.318964</td>\n",
              "    </tr>\n",
              "    <tr>\n",
              "      <th>4</th>\n",
              "      <td>-1.976895</td>\n",
              "      <td>-0.496308</td>\n",
              "      <td>0.368102</td>\n",
              "      <td>3.739787</td>\n",
              "      <td>-0.132058</td>\n",
              "      <td>1.234980</td>\n",
              "      <td>-0.501003</td>\n",
              "      <td>0.881554</td>\n",
              "      <td>1.630941</td>\n",
              "      <td>-3.853953</td>\n",
              "      <td>...</td>\n",
              "      <td>1.291582</td>\n",
              "      <td>-0.739541</td>\n",
              "      <td>-1.097638</td>\n",
              "      <td>-0.574205</td>\n",
              "      <td>-0.599700</td>\n",
              "      <td>-1.024829</td>\n",
              "      <td>1.869753</td>\n",
              "      <td>-2.498570</td>\n",
              "      <td>3.268253</td>\n",
              "      <td>-1.356606</td>\n",
              "    </tr>\n",
              "  </tbody>\n",
              "</table>\n",
              "<p>5 rows × 256 columns</p>\n",
              "</div>\n",
              "    <div class=\"colab-df-buttons\">\n",
              "\n",
              "  <div class=\"colab-df-container\">\n",
              "    <button class=\"colab-df-convert\" onclick=\"convertToInteractive('df-ca339598-2c8e-435b-8576-67273f7ce75d')\"\n",
              "            title=\"Convert this dataframe to an interactive table.\"\n",
              "            style=\"display:none;\">\n",
              "\n",
              "  <svg xmlns=\"http://www.w3.org/2000/svg\" height=\"24px\" viewBox=\"0 -960 960 960\">\n",
              "    <path d=\"M120-120v-720h720v720H120Zm60-500h600v-160H180v160Zm220 220h160v-160H400v160Zm0 220h160v-160H400v160ZM180-400h160v-160H180v160Zm440 0h160v-160H620v160ZM180-180h160v-160H180v160Zm440 0h160v-160H620v160Z\"/>\n",
              "  </svg>\n",
              "    </button>\n",
              "\n",
              "  <style>\n",
              "    .colab-df-container {\n",
              "      display:flex;\n",
              "      gap: 12px;\n",
              "    }\n",
              "\n",
              "    .colab-df-convert {\n",
              "      background-color: #E8F0FE;\n",
              "      border: none;\n",
              "      border-radius: 50%;\n",
              "      cursor: pointer;\n",
              "      display: none;\n",
              "      fill: #1967D2;\n",
              "      height: 32px;\n",
              "      padding: 0 0 0 0;\n",
              "      width: 32px;\n",
              "    }\n",
              "\n",
              "    .colab-df-convert:hover {\n",
              "      background-color: #E2EBFA;\n",
              "      box-shadow: 0px 1px 2px rgba(60, 64, 67, 0.3), 0px 1px 3px 1px rgba(60, 64, 67, 0.15);\n",
              "      fill: #174EA6;\n",
              "    }\n",
              "\n",
              "    .colab-df-buttons div {\n",
              "      margin-bottom: 4px;\n",
              "    }\n",
              "\n",
              "    [theme=dark] .colab-df-convert {\n",
              "      background-color: #3B4455;\n",
              "      fill: #D2E3FC;\n",
              "    }\n",
              "\n",
              "    [theme=dark] .colab-df-convert:hover {\n",
              "      background-color: #434B5C;\n",
              "      box-shadow: 0px 1px 3px 1px rgba(0, 0, 0, 0.15);\n",
              "      filter: drop-shadow(0px 1px 2px rgba(0, 0, 0, 0.3));\n",
              "      fill: #FFFFFF;\n",
              "    }\n",
              "  </style>\n",
              "\n",
              "    <script>\n",
              "      const buttonEl =\n",
              "        document.querySelector('#df-ca339598-2c8e-435b-8576-67273f7ce75d button.colab-df-convert');\n",
              "      buttonEl.style.display =\n",
              "        google.colab.kernel.accessAllowed ? 'block' : 'none';\n",
              "\n",
              "      async function convertToInteractive(key) {\n",
              "        const element = document.querySelector('#df-ca339598-2c8e-435b-8576-67273f7ce75d');\n",
              "        const dataTable =\n",
              "          await google.colab.kernel.invokeFunction('convertToInteractive',\n",
              "                                                    [key], {});\n",
              "        if (!dataTable) return;\n",
              "\n",
              "        const docLinkHtml = 'Like what you see? Visit the ' +\n",
              "          '<a target=\"_blank\" href=https://colab.research.google.com/notebooks/data_table.ipynb>data table notebook</a>'\n",
              "          + ' to learn more about interactive tables.';\n",
              "        element.innerHTML = '';\n",
              "        dataTable['output_type'] = 'display_data';\n",
              "        await google.colab.output.renderOutput(dataTable, element);\n",
              "        const docLink = document.createElement('div');\n",
              "        docLink.innerHTML = docLinkHtml;\n",
              "        element.appendChild(docLink);\n",
              "      }\n",
              "    </script>\n",
              "  </div>\n",
              "\n",
              "\n",
              "<div id=\"df-0acc3cf6-2d40-4d33-b2ee-73c52ef91fdc\">\n",
              "  <button class=\"colab-df-quickchart\" onclick=\"quickchart('df-0acc3cf6-2d40-4d33-b2ee-73c52ef91fdc')\"\n",
              "            title=\"Suggest charts.\"\n",
              "            style=\"display:none;\">\n",
              "\n",
              "<svg xmlns=\"http://www.w3.org/2000/svg\" height=\"24px\"viewBox=\"0 0 24 24\"\n",
              "     width=\"24px\">\n",
              "    <g>\n",
              "        <path d=\"M19 3H5c-1.1 0-2 .9-2 2v14c0 1.1.9 2 2 2h14c1.1 0 2-.9 2-2V5c0-1.1-.9-2-2-2zM9 17H7v-7h2v7zm4 0h-2V7h2v10zm4 0h-2v-4h2v4z\"/>\n",
              "    </g>\n",
              "</svg>\n",
              "  </button>\n",
              "\n",
              "<style>\n",
              "  .colab-df-quickchart {\n",
              "      --bg-color: #E8F0FE;\n",
              "      --fill-color: #1967D2;\n",
              "      --hover-bg-color: #E2EBFA;\n",
              "      --hover-fill-color: #174EA6;\n",
              "      --disabled-fill-color: #AAA;\n",
              "      --disabled-bg-color: #DDD;\n",
              "  }\n",
              "\n",
              "  [theme=dark] .colab-df-quickchart {\n",
              "      --bg-color: #3B4455;\n",
              "      --fill-color: #D2E3FC;\n",
              "      --hover-bg-color: #434B5C;\n",
              "      --hover-fill-color: #FFFFFF;\n",
              "      --disabled-bg-color: #3B4455;\n",
              "      --disabled-fill-color: #666;\n",
              "  }\n",
              "\n",
              "  .colab-df-quickchart {\n",
              "    background-color: var(--bg-color);\n",
              "    border: none;\n",
              "    border-radius: 50%;\n",
              "    cursor: pointer;\n",
              "    display: none;\n",
              "    fill: var(--fill-color);\n",
              "    height: 32px;\n",
              "    padding: 0;\n",
              "    width: 32px;\n",
              "  }\n",
              "\n",
              "  .colab-df-quickchart:hover {\n",
              "    background-color: var(--hover-bg-color);\n",
              "    box-shadow: 0 1px 2px rgba(60, 64, 67, 0.3), 0 1px 3px 1px rgba(60, 64, 67, 0.15);\n",
              "    fill: var(--button-hover-fill-color);\n",
              "  }\n",
              "\n",
              "  .colab-df-quickchart-complete:disabled,\n",
              "  .colab-df-quickchart-complete:disabled:hover {\n",
              "    background-color: var(--disabled-bg-color);\n",
              "    fill: var(--disabled-fill-color);\n",
              "    box-shadow: none;\n",
              "  }\n",
              "\n",
              "  .colab-df-spinner {\n",
              "    border: 2px solid var(--fill-color);\n",
              "    border-color: transparent;\n",
              "    border-bottom-color: var(--fill-color);\n",
              "    animation:\n",
              "      spin 1s steps(1) infinite;\n",
              "  }\n",
              "\n",
              "  @keyframes spin {\n",
              "    0% {\n",
              "      border-color: transparent;\n",
              "      border-bottom-color: var(--fill-color);\n",
              "      border-left-color: var(--fill-color);\n",
              "    }\n",
              "    20% {\n",
              "      border-color: transparent;\n",
              "      border-left-color: var(--fill-color);\n",
              "      border-top-color: var(--fill-color);\n",
              "    }\n",
              "    30% {\n",
              "      border-color: transparent;\n",
              "      border-left-color: var(--fill-color);\n",
              "      border-top-color: var(--fill-color);\n",
              "      border-right-color: var(--fill-color);\n",
              "    }\n",
              "    40% {\n",
              "      border-color: transparent;\n",
              "      border-right-color: var(--fill-color);\n",
              "      border-top-color: var(--fill-color);\n",
              "    }\n",
              "    60% {\n",
              "      border-color: transparent;\n",
              "      border-right-color: var(--fill-color);\n",
              "    }\n",
              "    80% {\n",
              "      border-color: transparent;\n",
              "      border-right-color: var(--fill-color);\n",
              "      border-bottom-color: var(--fill-color);\n",
              "    }\n",
              "    90% {\n",
              "      border-color: transparent;\n",
              "      border-bottom-color: var(--fill-color);\n",
              "    }\n",
              "  }\n",
              "</style>\n",
              "\n",
              "  <script>\n",
              "    async function quickchart(key) {\n",
              "      const quickchartButtonEl =\n",
              "        document.querySelector('#' + key + ' button');\n",
              "      quickchartButtonEl.disabled = true;  // To prevent multiple clicks.\n",
              "      quickchartButtonEl.classList.add('colab-df-spinner');\n",
              "      try {\n",
              "        const charts = await google.colab.kernel.invokeFunction(\n",
              "            'suggestCharts', [key], {});\n",
              "      } catch (error) {\n",
              "        console.error('Error during call to suggestCharts:', error);\n",
              "      }\n",
              "      quickchartButtonEl.classList.remove('colab-df-spinner');\n",
              "      quickchartButtonEl.classList.add('colab-df-quickchart-complete');\n",
              "    }\n",
              "    (() => {\n",
              "      let quickchartButtonEl =\n",
              "        document.querySelector('#df-0acc3cf6-2d40-4d33-b2ee-73c52ef91fdc button');\n",
              "      quickchartButtonEl.style.display =\n",
              "        google.colab.kernel.accessAllowed ? 'block' : 'none';\n",
              "    })();\n",
              "  </script>\n",
              "</div>\n",
              "    </div>\n",
              "  </div>\n"
            ]
          },
          "metadata": {},
          "execution_count": 13
        }
      ]
    },
    {
      "cell_type": "code",
      "source": [
        "y.head()"
      ],
      "metadata": {
        "colab": {
          "base_uri": "https://localhost:8080/"
        },
        "id": "C4u5Kp1TLA2O",
        "outputId": "d33efdff-e6f7-4d2a-a628-26d570b85a41"
      },
      "execution_count": null,
      "outputs": [
        {
          "output_type": "execute_result",
          "data": {
            "text/plain": [
              "0    45\n",
              "1    45\n",
              "2    45\n",
              "3    45\n",
              "4    45\n",
              "Name: label_1, dtype: int64"
            ]
          },
          "metadata": {},
          "execution_count": 14
        }
      ]
    },
    {
      "cell_type": "markdown",
      "source": [
        "## Create a KNN Model"
      ],
      "metadata": {
        "id": "Oj9_v8uQLX7G"
      }
    },
    {
      "cell_type": "code",
      "source": [
        "from sklearn.neighbors import KNeighborsClassifier\n",
        "from math import sqrt\n",
        "from sklearn.metrics import accuracy_score"
      ],
      "metadata": {
        "id": "a_MubbTQLcck"
      },
      "execution_count": null,
      "outputs": []
    },
    {
      "cell_type": "code",
      "source": [
        "# K value for KNN model is chosen as the 4th root of the dataset size\n",
        "k = int(sqrt(sqrt(len(x))))\n",
        "print(k)"
      ],
      "metadata": {
        "colab": {
          "base_uri": "https://localhost:8080/"
        },
        "id": "fu1AGcPdLo8U",
        "outputId": "2dc897bc-dda1-49cf-f59b-bd8e314416f2"
      },
      "execution_count": null,
      "outputs": [
        {
          "output_type": "stream",
          "name": "stdout",
          "text": [
            "12\n"
          ]
        }
      ]
    },
    {
      "cell_type": "code",
      "source": [
        "# Create the KNN nodel\n",
        "knn_label_1 = KNeighborsClassifier(n_neighbors = k)\n",
        "knn_label_1.fit(x, y)"
      ],
      "metadata": {
        "colab": {
          "base_uri": "https://localhost:8080/",
          "height": 75
        },
        "id": "8x69aSb-M2F7",
        "outputId": "86cb6413-4e40-4a6e-ec8e-97d836c0761d"
      },
      "execution_count": null,
      "outputs": [
        {
          "output_type": "execute_result",
          "data": {
            "text/plain": [
              "KNeighborsClassifier(n_neighbors=12)"
            ],
            "text/html": [
              "<style>#sk-container-id-1 {color: black;background-color: white;}#sk-container-id-1 pre{padding: 0;}#sk-container-id-1 div.sk-toggleable {background-color: white;}#sk-container-id-1 label.sk-toggleable__label {cursor: pointer;display: block;width: 100%;margin-bottom: 0;padding: 0.3em;box-sizing: border-box;text-align: center;}#sk-container-id-1 label.sk-toggleable__label-arrow:before {content: \"▸\";float: left;margin-right: 0.25em;color: #696969;}#sk-container-id-1 label.sk-toggleable__label-arrow:hover:before {color: black;}#sk-container-id-1 div.sk-estimator:hover label.sk-toggleable__label-arrow:before {color: black;}#sk-container-id-1 div.sk-toggleable__content {max-height: 0;max-width: 0;overflow: hidden;text-align: left;background-color: #f0f8ff;}#sk-container-id-1 div.sk-toggleable__content pre {margin: 0.2em;color: black;border-radius: 0.25em;background-color: #f0f8ff;}#sk-container-id-1 input.sk-toggleable__control:checked~div.sk-toggleable__content {max-height: 200px;max-width: 100%;overflow: auto;}#sk-container-id-1 input.sk-toggleable__control:checked~label.sk-toggleable__label-arrow:before {content: \"▾\";}#sk-container-id-1 div.sk-estimator input.sk-toggleable__control:checked~label.sk-toggleable__label {background-color: #d4ebff;}#sk-container-id-1 div.sk-label input.sk-toggleable__control:checked~label.sk-toggleable__label {background-color: #d4ebff;}#sk-container-id-1 input.sk-hidden--visually {border: 0;clip: rect(1px 1px 1px 1px);clip: rect(1px, 1px, 1px, 1px);height: 1px;margin: -1px;overflow: hidden;padding: 0;position: absolute;width: 1px;}#sk-container-id-1 div.sk-estimator {font-family: monospace;background-color: #f0f8ff;border: 1px dotted black;border-radius: 0.25em;box-sizing: border-box;margin-bottom: 0.5em;}#sk-container-id-1 div.sk-estimator:hover {background-color: #d4ebff;}#sk-container-id-1 div.sk-parallel-item::after {content: \"\";width: 100%;border-bottom: 1px solid gray;flex-grow: 1;}#sk-container-id-1 div.sk-label:hover label.sk-toggleable__label {background-color: #d4ebff;}#sk-container-id-1 div.sk-serial::before {content: \"\";position: absolute;border-left: 1px solid gray;box-sizing: border-box;top: 0;bottom: 0;left: 50%;z-index: 0;}#sk-container-id-1 div.sk-serial {display: flex;flex-direction: column;align-items: center;background-color: white;padding-right: 0.2em;padding-left: 0.2em;position: relative;}#sk-container-id-1 div.sk-item {position: relative;z-index: 1;}#sk-container-id-1 div.sk-parallel {display: flex;align-items: stretch;justify-content: center;background-color: white;position: relative;}#sk-container-id-1 div.sk-item::before, #sk-container-id-1 div.sk-parallel-item::before {content: \"\";position: absolute;border-left: 1px solid gray;box-sizing: border-box;top: 0;bottom: 0;left: 50%;z-index: -1;}#sk-container-id-1 div.sk-parallel-item {display: flex;flex-direction: column;z-index: 1;position: relative;background-color: white;}#sk-container-id-1 div.sk-parallel-item:first-child::after {align-self: flex-end;width: 50%;}#sk-container-id-1 div.sk-parallel-item:last-child::after {align-self: flex-start;width: 50%;}#sk-container-id-1 div.sk-parallel-item:only-child::after {width: 0;}#sk-container-id-1 div.sk-dashed-wrapped {border: 1px dashed gray;margin: 0 0.4em 0.5em 0.4em;box-sizing: border-box;padding-bottom: 0.4em;background-color: white;}#sk-container-id-1 div.sk-label label {font-family: monospace;font-weight: bold;display: inline-block;line-height: 1.2em;}#sk-container-id-1 div.sk-label-container {text-align: center;}#sk-container-id-1 div.sk-container {/* jupyter's `normalize.less` sets `[hidden] { display: none; }` but bootstrap.min.css set `[hidden] { display: none !important; }` so we also need the `!important` here to be able to override the default hidden behavior on the sphinx rendered scikit-learn.org. See: https://github.com/scikit-learn/scikit-learn/issues/21755 */display: inline-block !important;position: relative;}#sk-container-id-1 div.sk-text-repr-fallback {display: none;}</style><div id=\"sk-container-id-1\" class=\"sk-top-container\"><div class=\"sk-text-repr-fallback\"><pre>KNeighborsClassifier(n_neighbors=12)</pre><b>In a Jupyter environment, please rerun this cell to show the HTML representation or trust the notebook. <br />On GitHub, the HTML representation is unable to render, please try loading this page with nbviewer.org.</b></div><div class=\"sk-container\" hidden><div class=\"sk-item\"><div class=\"sk-estimator sk-toggleable\"><input class=\"sk-toggleable__control sk-hidden--visually\" id=\"sk-estimator-id-1\" type=\"checkbox\" checked><label for=\"sk-estimator-id-1\" class=\"sk-toggleable__label sk-toggleable__label-arrow\">KNeighborsClassifier</label><div class=\"sk-toggleable__content\"><pre>KNeighborsClassifier(n_neighbors=12)</pre></div></div></div></div></div>"
            ]
          },
          "metadata": {},
          "execution_count": 17
        }
      ]
    },
    {
      "cell_type": "code",
      "source": [
        "y_pred_label_1 = knn_label_1.predict(x_valid)\n",
        "accuracy_label_1 = accuracy_score(y_valid, y_pred_label_1)\n",
        "print(accuracy_label_1)"
      ],
      "metadata": {
        "colab": {
          "base_uri": "https://localhost:8080/"
        },
        "id": "tZN5fpUQQWlj",
        "outputId": "eb8052d4-59c0-4ffb-a026-c1da8b5a1980"
      },
      "execution_count": null,
      "outputs": [
        {
          "output_type": "stream",
          "name": "stdout",
          "text": [
            "0.9853333333333333\n"
          ]
        }
      ]
    },
    {
      "cell_type": "markdown",
      "source": [
        "## Check for Columns with Low Variance"
      ],
      "metadata": {
        "id": "PT4VSZ6kWH3J"
      }
    },
    {
      "cell_type": "code",
      "source": [
        "from sklearn.feature_selection import VarianceThreshold\n",
        "\n",
        "var_thres = VarianceThreshold(threshold = 0.3)\n",
        "var_thres.fit(x)\n",
        "\n",
        "constant_columns = [column for column in x.columns\n",
        "                    if column not in x.columns[var_thres.get_support()]]\n",
        "\n",
        "print(len(constant_columns))"
      ],
      "metadata": {
        "colab": {
          "base_uri": "https://localhost:8080/"
        },
        "id": "-LS-0WGuWLWt",
        "outputId": "afe0abff-d7f8-4335-d15b-714b27862f7c"
      },
      "execution_count": null,
      "outputs": [
        {
          "output_type": "stream",
          "name": "stdout",
          "text": [
            "0\n"
          ]
        }
      ]
    },
    {
      "cell_type": "markdown",
      "source": [
        "There are no columns with low variance to be ignored.\n",
        "\n",
        "## Check for Correlation between features"
      ],
      "metadata": {
        "id": "IIdhES2eXCZE"
      }
    },
    {
      "cell_type": "code",
      "source": [
        "correlated_features = set()\n",
        "\n",
        "correlation_matrix = x.corr()\n",
        "for i in range(len(x.columns)):\n",
        "    for j in range(i):\n",
        "        if abs(correlation_matrix.iloc[i, j]) > 0.7:\n",
        "            colname = correlation_matrix.columns[i]\n",
        "            correlated_features.add(colname)\n",
        "\n",
        "len(set(correlated_features))"
      ],
      "metadata": {
        "colab": {
          "base_uri": "https://localhost:8080/"
        },
        "id": "q83xTDlvX0Kz",
        "outputId": "e3134c41-5306-4a2c-8c0c-2387246c0d59"
      },
      "execution_count": null,
      "outputs": [
        {
          "output_type": "execute_result",
          "data": {
            "text/plain": [
              "0"
            ]
          },
          "metadata": {},
          "execution_count": 20
        }
      ]
    },
    {
      "cell_type": "markdown",
      "source": [
        "There are no tightly correlated features to be merged.\n",
        "\n",
        "## Check for Mutual Information"
      ],
      "metadata": {
        "id": "vf2z4YOiYySX"
      }
    },
    {
      "cell_type": "code",
      "source": [
        "from sklearn.feature_selection import mutual_info_classif, SelectKBest"
      ],
      "metadata": {
        "id": "cgJoXZawZwmZ"
      },
      "execution_count": null,
      "outputs": []
    },
    {
      "cell_type": "code",
      "source": [
        "# Calculate Mutual Information\n",
        "mi = pd.Series(mutual_info_classif(x, y))\n",
        "mi.sort_values(ascending = False)"
      ],
      "metadata": {
        "colab": {
          "base_uri": "https://localhost:8080/"
        },
        "id": "DFyB5EuaZygv",
        "outputId": "89043cfc-f6c7-4bf8-c2ad-18e5c462e9b0"
      },
      "execution_count": null,
      "outputs": [
        {
          "output_type": "execute_result",
          "data": {
            "text/plain": [
              "43     0.543842\n",
              "232    0.506970\n",
              "35     0.429644\n",
              "34     0.380370\n",
              "142    0.378066\n",
              "         ...   \n",
              "251    0.097468\n",
              "246    0.096913\n",
              "47     0.087359\n",
              "30     0.085041\n",
              "21     0.083481\n",
              "Length: 256, dtype: float64"
            ]
          },
          "metadata": {},
          "execution_count": 22
        }
      ]
    },
    {
      "cell_type": "code",
      "source": [
        "mi.sort_values(ascending=False).plot.bar(figsize=(32, 12))"
      ],
      "metadata": {
        "colab": {
          "base_uri": "https://localhost:8080/",
          "height": 730
        },
        "id": "fgC1UPUN_srs",
        "outputId": "b7680f71-f3d4-4f1a-ed8d-80a7d12a179a"
      },
      "execution_count": null,
      "outputs": [
        {
          "output_type": "execute_result",
          "data": {
            "text/plain": [
              "<Axes: >"
            ]
          },
          "metadata": {},
          "execution_count": 23
        },
        {
          "output_type": "display_data",
          "data": {
            "text/plain": [
              "<Figure size 3200x1200 with 1 Axes>"
            ],
            "image/png": "[encoded data removed]"
          },
          "metadata": {}
        }
      ]
    },
    {
      "cell_type": "markdown",
      "source": [
        "Since there are features with higher impact as well as comparatively lesser impact on y value, using feature selection with best features. Taking the count of mutual information value higher than 0.2 by observing the graph."
      ],
      "metadata": {
        "id": "iwQgC5aFACr5"
      }
    },
    {
      "cell_type": "markdown",
      "source": [
        "## Feature Selection"
      ],
      "metadata": {
        "id": "X374oXDzJ64m"
      }
    },
    {
      "cell_type": "code",
      "source": [
        "no_of_selected_features = mi[mi > 0.2].count()\n",
        "print (f\"Selected {no_of_selected_features} features out of {len(mi)} features.\")"
      ],
      "metadata": {
        "colab": {
          "base_uri": "https://localhost:8080/"
        },
        "id": "EioQmA9ddSNX",
        "outputId": "67250de8-72af-41df-d91b-d3aaee8d7409"
      },
      "execution_count": null,
      "outputs": [
        {
          "output_type": "stream",
          "name": "stdout",
          "text": [
            "Selected 72 features out of 256 features.\n"
          ]
        }
      ]
    },
    {
      "cell_type": "markdown",
      "source": [
        "There are only 72 features with mutual information value higher than 0.2 for `label_1`. Ignore the rest meantime."
      ],
      "metadata": {
        "id": "C6OyouFndvJp"
      }
    },
    {
      "cell_type": "code",
      "source": [
        "# Take a copy of x\n",
        "x_label_1 = x.copy(deep = True)\n",
        "x_valid_label_1 = x_valid.copy(deep = True)"
      ],
      "metadata": {
        "id": "Fca1bLz4aYBu"
      },
      "execution_count": null,
      "outputs": []
    },
    {
      "cell_type": "code",
      "source": [
        "# Select only the features with maximum mutual information value\n",
        "selected_cols_label_1 = SelectKBest(mutual_info_classif, k = no_of_selected_features)\n",
        "selected_cols_label_1.fit(x_label_1, y)\n",
        "selected_col_names_label_1 = x_label_1.columns[selected_cols_label_1.get_support()]\n",
        "print(selected_col_names_label_1)"
      ],
      "metadata": {
        "colab": {
          "base_uri": "https://localhost:8080/"
        },
        "id": "48X77Omvdtv5",
        "outputId": "78b16707-7617-4068-b820-d78aacc02f75"
      },
      "execution_count": null,
      "outputs": [
        {
          "output_type": "stream",
          "name": "stdout",
          "text": [
            "Index(['feature_3', 'feature_4', 'feature_8', 'feature_11', 'feature_15',\n",
            "       'feature_19', 'feature_21', 'feature_23', 'feature_24', 'feature_26',\n",
            "       'feature_28', 'feature_30', 'feature_35', 'feature_36', 'feature_42',\n",
            "       'feature_44', 'feature_46', 'feature_51', 'feature_58', 'feature_60',\n",
            "       'feature_63', 'feature_64', 'feature_76', 'feature_83', 'feature_85',\n",
            "       'feature_86', 'feature_90', 'feature_93', 'feature_99', 'feature_102',\n",
            "       'feature_105', 'feature_107', 'feature_109', 'feature_111',\n",
            "       'feature_113', 'feature_117', 'feature_122', 'feature_128',\n",
            "       'feature_136', 'feature_139', 'feature_143', 'feature_144',\n",
            "       'feature_145', 'feature_151', 'feature_154', 'feature_161',\n",
            "       'feature_166', 'feature_170', 'feature_174', 'feature_178',\n",
            "       'feature_182', 'feature_184', 'feature_187', 'feature_189',\n",
            "       'feature_201', 'feature_204', 'feature_207', 'feature_209',\n",
            "       'feature_213', 'feature_219', 'feature_222', 'feature_223',\n",
            "       'feature_226', 'feature_229', 'feature_232', 'feature_233',\n",
            "       'feature_234', 'feature_237', 'feature_238', 'feature_244',\n",
            "       'feature_248', 'feature_256'],\n",
            "      dtype='object')\n"
          ]
        }
      ]
    },
    {
      "cell_type": "code",
      "source": [
        "x_label_1 = pd.DataFrame(x_label_1, columns = selected_col_names_label_1)\n",
        "x_valid_label_1 = pd.DataFrame(x_valid_label_1, columns = selected_col_names_label_1)"
      ],
      "metadata": {
        "id": "afFtW8VLiKHX"
      },
      "execution_count": null,
      "outputs": []
    },
    {
      "cell_type": "markdown",
      "source": [
        "## Create the KNN Model again"
      ],
      "metadata": {
        "id": "1Y8rEs2bgTyi"
      }
    },
    {
      "cell_type": "code",
      "source": [
        "knn_label_1_selected = KNeighborsClassifier(n_neighbors = k)\n",
        "knn_label_1_selected.fit(x_label_1, y)\n",
        "\n",
        "y_pred_label_1_selected = knn_label_1_selected.predict(x_valid_label_1)\n",
        "accuracy_label_1_selected = accuracy_score(y_valid, y_pred_label_1_selected)\n",
        "print(f\"Accuracy of the new model is {accuracy_label_1_selected} and the accuracy of the original model was {accuracy_label_1}.\")"
      ],
      "metadata": {
        "colab": {
          "base_uri": "https://localhost:8080/"
        },
        "id": "vlTSGmUdfz9a",
        "outputId": "f4a042e3-7238-4a9a-cdcc-d0642858aaf1"
      },
      "execution_count": null,
      "outputs": [
        {
          "output_type": "stream",
          "name": "stdout",
          "text": [
            "Accuracy of the new model is 0.9706666666666667 and the accuracy of the original model was 0.9853333333333333.\n"
          ]
        }
      ]
    },
    {
      "cell_type": "markdown",
      "source": [
        "## Predicting and writing to CSV"
      ],
      "metadata": {
        "id": "HyuQUiLqVWEy"
      }
    },
    {
      "cell_type": "code",
      "source": [
        "x_test_label_1 = x_test.copy(deep = True)\n",
        "x_test_label_1 = pd.DataFrame(x_test_label_1, columns = selected_col_names_label_1)\n",
        "\n",
        "y_test_pred_label_1 = knn_label_1.predict(x_test)\n",
        "y_test_pred_label_1_selected = knn_label_1_selected.predict(x_test_label_1)\n",
        "create_csv(x_test_label_1, y_test_pred_label_1, y_test_pred_label_1_selected, \"label_1\")"
      ],
      "metadata": {
        "colab": {
          "base_uri": "https://localhost:8080/"
        },
        "id": "HZGhJX3uVatI",
        "outputId": "b26292de-c057-4625-bcc2-337866206f93"
      },
      "execution_count": null,
      "outputs": [
        {
          "output_type": "stream",
          "name": "stderr",
          "text": [
            "<ipython-input-5-3b48af411cdc>:17: PerformanceWarning: DataFrame is highly fragmented.  This is usually the result of calling `frame.insert` many times, which has poor performance.  Consider joining all columns at once using pd.concat(axis=1) instead. To get a de-fragmented frame, use `newframe = frame.copy()`\n",
            "  combined_data[f\"new_feature_{i+1}\"] = [None] * len(combined_data)\n",
            "<ipython-input-5-3b48af411cdc>:17: PerformanceWarning: DataFrame is highly fragmented.  This is usually the result of calling `frame.insert` many times, which has poor performance.  Consider joining all columns at once using pd.concat(axis=1) instead. To get a de-fragmented frame, use `newframe = frame.copy()`\n",
            "  combined_data[f\"new_feature_{i+1}\"] = [None] * len(combined_data)\n",
            "<ipython-input-5-3b48af411cdc>:17: PerformanceWarning: DataFrame is highly fragmented.  This is usually the result of calling `frame.insert` many times, which has poor performance.  Consider joining all columns at once using pd.concat(axis=1) instead. To get a de-fragmented frame, use `newframe = frame.copy()`\n",
            "  combined_data[f\"new_feature_{i+1}\"] = [None] * len(combined_data)\n",
            "<ipython-input-5-3b48af411cdc>:17: PerformanceWarning: DataFrame is highly fragmented.  This is usually the result of calling `frame.insert` many times, which has poor performance.  Consider joining all columns at once using pd.concat(axis=1) instead. To get a de-fragmented frame, use `newframe = frame.copy()`\n",
            "  combined_data[f\"new_feature_{i+1}\"] = [None] * len(combined_data)\n",
            "<ipython-input-5-3b48af411cdc>:17: PerformanceWarning: DataFrame is highly fragmented.  This is usually the result of calling `frame.insert` many times, which has poor performance.  Consider joining all columns at once using pd.concat(axis=1) instead. To get a de-fragmented frame, use `newframe = frame.copy()`\n",
            "  combined_data[f\"new_feature_{i+1}\"] = [None] * len(combined_data)\n",
            "<ipython-input-5-3b48af411cdc>:17: PerformanceWarning: DataFrame is highly fragmented.  This is usually the result of calling `frame.insert` many times, which has poor performance.  Consider joining all columns at once using pd.concat(axis=1) instead. To get a de-fragmented frame, use `newframe = frame.copy()`\n",
            "  combined_data[f\"new_feature_{i+1}\"] = [None] * len(combined_data)\n",
            "<ipython-input-5-3b48af411cdc>:17: PerformanceWarning: DataFrame is highly fragmented.  This is usually the result of calling `frame.insert` many times, which has poor performance.  Consider joining all columns at once using pd.concat(axis=1) instead. To get a de-fragmented frame, use `newframe = frame.copy()`\n",
            "  combined_data[f\"new_feature_{i+1}\"] = [None] * len(combined_data)\n",
            "<ipython-input-5-3b48af411cdc>:17: PerformanceWarning: DataFrame is highly fragmented.  This is usually the result of calling `frame.insert` many times, which has poor performance.  Consider joining all columns at once using pd.concat(axis=1) instead. To get a de-fragmented frame, use `newframe = frame.copy()`\n",
            "  combined_data[f\"new_feature_{i+1}\"] = [None] * len(combined_data)\n",
            "<ipython-input-5-3b48af411cdc>:17: PerformanceWarning: DataFrame is highly fragmented.  This is usually the result of calling `frame.insert` many times, which has poor performance.  Consider joining all columns at once using pd.concat(axis=1) instead. To get a de-fragmented frame, use `newframe = frame.copy()`\n",
            "  combined_data[f\"new_feature_{i+1}\"] = [None] * len(combined_data)\n",
            "<ipython-input-5-3b48af411cdc>:17: PerformanceWarning: DataFrame is highly fragmented.  This is usually the result of calling `frame.insert` many times, which has poor performance.  Consider joining all columns at once using pd.concat(axis=1) instead. To get a de-fragmented frame, use `newframe = frame.copy()`\n",
            "  combined_data[f\"new_feature_{i+1}\"] = [None] * len(combined_data)\n",
            "<ipython-input-5-3b48af411cdc>:17: PerformanceWarning: DataFrame is highly fragmented.  This is usually the result of calling `frame.insert` many times, which has poor performance.  Consider joining all columns at once using pd.concat(axis=1) instead. To get a de-fragmented frame, use `newframe = frame.copy()`\n",
            "  combined_data[f\"new_feature_{i+1}\"] = [None] * len(combined_data)\n",
            "<ipython-input-5-3b48af411cdc>:17: PerformanceWarning: DataFrame is highly fragmented.  This is usually the result of calling `frame.insert` many times, which has poor performance.  Consider joining all columns at once using pd.concat(axis=1) instead. To get a de-fragmented frame, use `newframe = frame.copy()`\n",
            "  combined_data[f\"new_feature_{i+1}\"] = [None] * len(combined_data)\n",
            "<ipython-input-5-3b48af411cdc>:17: PerformanceWarning: DataFrame is highly fragmented.  This is usually the result of calling `frame.insert` many times, which has poor performance.  Consider joining all columns at once using pd.concat(axis=1) instead. To get a de-fragmented frame, use `newframe = frame.copy()`\n",
            "  combined_data[f\"new_feature_{i+1}\"] = [None] * len(combined_data)\n",
            "<ipython-input-5-3b48af411cdc>:17: PerformanceWarning: DataFrame is highly fragmented.  This is usually the result of calling `frame.insert` many times, which has poor performance.  Consider joining all columns at once using pd.concat(axis=1) instead. To get a de-fragmented frame, use `newframe = frame.copy()`\n",
            "  combined_data[f\"new_feature_{i+1}\"] = [None] * len(combined_data)\n",
            "<ipython-input-5-3b48af411cdc>:17: PerformanceWarning: DataFrame is highly fragmented.  This is usually the result of calling `frame.insert` many times, which has poor performance.  Consider joining all columns at once using pd.concat(axis=1) instead. To get a de-fragmented frame, use `newframe = frame.copy()`\n",
            "  combined_data[f\"new_feature_{i+1}\"] = [None] * len(combined_data)\n",
            "<ipython-input-5-3b48af411cdc>:17: PerformanceWarning: DataFrame is highly fragmented.  This is usually the result of calling `frame.insert` many times, which has poor performance.  Consider joining all columns at once using pd.concat(axis=1) instead. To get a de-fragmented frame, use `newframe = frame.copy()`\n",
            "  combined_data[f\"new_feature_{i+1}\"] = [None] * len(combined_data)\n",
            "<ipython-input-5-3b48af411cdc>:17: PerformanceWarning: DataFrame is highly fragmented.  This is usually the result of calling `frame.insert` many times, which has poor performance.  Consider joining all columns at once using pd.concat(axis=1) instead. To get a de-fragmented frame, use `newframe = frame.copy()`\n",
            "  combined_data[f\"new_feature_{i+1}\"] = [None] * len(combined_data)\n",
            "<ipython-input-5-3b48af411cdc>:17: PerformanceWarning: DataFrame is highly fragmented.  This is usually the result of calling `frame.insert` many times, which has poor performance.  Consider joining all columns at once using pd.concat(axis=1) instead. To get a de-fragmented frame, use `newframe = frame.copy()`\n",
            "  combined_data[f\"new_feature_{i+1}\"] = [None] * len(combined_data)\n",
            "<ipython-input-5-3b48af411cdc>:17: PerformanceWarning: DataFrame is highly fragmented.  This is usually the result of calling `frame.insert` many times, which has poor performance.  Consider joining all columns at once using pd.concat(axis=1) instead. To get a de-fragmented frame, use `newframe = frame.copy()`\n",
            "  combined_data[f\"new_feature_{i+1}\"] = [None] * len(combined_data)\n",
            "<ipython-input-5-3b48af411cdc>:17: PerformanceWarning: DataFrame is highly fragmented.  This is usually the result of calling `frame.insert` many times, which has poor performance.  Consider joining all columns at once using pd.concat(axis=1) instead. To get a de-fragmented frame, use `newframe = frame.copy()`\n",
            "  combined_data[f\"new_feature_{i+1}\"] = [None] * len(combined_data)\n",
            "<ipython-input-5-3b48af411cdc>:17: PerformanceWarning: DataFrame is highly fragmented.  This is usually the result of calling `frame.insert` many times, which has poor performance.  Consider joining all columns at once using pd.concat(axis=1) instead. To get a de-fragmented frame, use `newframe = frame.copy()`\n",
            "  combined_data[f\"new_feature_{i+1}\"] = [None] * len(combined_data)\n",
            "<ipython-input-5-3b48af411cdc>:17: PerformanceWarning: DataFrame is highly fragmented.  This is usually the result of calling `frame.insert` many times, which has poor performance.  Consider joining all columns at once using pd.concat(axis=1) instead. To get a de-fragmented frame, use `newframe = frame.copy()`\n",
            "  combined_data[f\"new_feature_{i+1}\"] = [None] * len(combined_data)\n",
            "<ipython-input-5-3b48af411cdc>:17: PerformanceWarning: DataFrame is highly fragmented.  This is usually the result of calling `frame.insert` many times, which has poor performance.  Consider joining all columns at once using pd.concat(axis=1) instead. To get a de-fragmented frame, use `newframe = frame.copy()`\n",
            "  combined_data[f\"new_feature_{i+1}\"] = [None] * len(combined_data)\n",
            "<ipython-input-5-3b48af411cdc>:17: PerformanceWarning: DataFrame is highly fragmented.  This is usually the result of calling `frame.insert` many times, which has poor performance.  Consider joining all columns at once using pd.concat(axis=1) instead. To get a de-fragmented frame, use `newframe = frame.copy()`\n",
            "  combined_data[f\"new_feature_{i+1}\"] = [None] * len(combined_data)\n",
            "<ipython-input-5-3b48af411cdc>:17: PerformanceWarning: DataFrame is highly fragmented.  This is usually the result of calling `frame.insert` many times, which has poor performance.  Consider joining all columns at once using pd.concat(axis=1) instead. To get a de-fragmented frame, use `newframe = frame.copy()`\n",
            "  combined_data[f\"new_feature_{i+1}\"] = [None] * len(combined_data)\n",
            "<ipython-input-5-3b48af411cdc>:17: PerformanceWarning: DataFrame is highly fragmented.  This is usually the result of calling `frame.insert` many times, which has poor performance.  Consider joining all columns at once using pd.concat(axis=1) instead. To get a de-fragmented frame, use `newframe = frame.copy()`\n",
            "  combined_data[f\"new_feature_{i+1}\"] = [None] * len(combined_data)\n",
            "<ipython-input-5-3b48af411cdc>:17: PerformanceWarning: DataFrame is highly fragmented.  This is usually the result of calling `frame.insert` many times, which has poor performance.  Consider joining all columns at once using pd.concat(axis=1) instead. To get a de-fragmented frame, use `newframe = frame.copy()`\n",
            "  combined_data[f\"new_feature_{i+1}\"] = [None] * len(combined_data)\n",
            "<ipython-input-5-3b48af411cdc>:17: PerformanceWarning: DataFrame is highly fragmented.  This is usually the result of calling `frame.insert` many times, which has poor performance.  Consider joining all columns at once using pd.concat(axis=1) instead. To get a de-fragmented frame, use `newframe = frame.copy()`\n",
            "  combined_data[f\"new_feature_{i+1}\"] = [None] * len(combined_data)\n",
            "<ipython-input-5-3b48af411cdc>:17: PerformanceWarning: DataFrame is highly fragmented.  This is usually the result of calling `frame.insert` many times, which has poor performance.  Consider joining all columns at once using pd.concat(axis=1) instead. To get a de-fragmented frame, use `newframe = frame.copy()`\n",
            "  combined_data[f\"new_feature_{i+1}\"] = [None] * len(combined_data)\n",
            "<ipython-input-5-3b48af411cdc>:17: PerformanceWarning: DataFrame is highly fragmented.  This is usually the result of calling `frame.insert` many times, which has poor performance.  Consider joining all columns at once using pd.concat(axis=1) instead. To get a de-fragmented frame, use `newframe = frame.copy()`\n",
            "  combined_data[f\"new_feature_{i+1}\"] = [None] * len(combined_data)\n",
            "<ipython-input-5-3b48af411cdc>:17: PerformanceWarning: DataFrame is highly fragmented.  This is usually the result of calling `frame.insert` many times, which has poor performance.  Consider joining all columns at once using pd.concat(axis=1) instead. To get a de-fragmented frame, use `newframe = frame.copy()`\n",
            "  combined_data[f\"new_feature_{i+1}\"] = [None] * len(combined_data)\n",
            "<ipython-input-5-3b48af411cdc>:17: PerformanceWarning: DataFrame is highly fragmented.  This is usually the result of calling `frame.insert` many times, which has poor performance.  Consider joining all columns at once using pd.concat(axis=1) instead. To get a de-fragmented frame, use `newframe = frame.copy()`\n",
            "  combined_data[f\"new_feature_{i+1}\"] = [None] * len(combined_data)\n",
            "<ipython-input-5-3b48af411cdc>:17: PerformanceWarning: DataFrame is highly fragmented.  This is usually the result of calling `frame.insert` many times, which has poor performance.  Consider joining all columns at once using pd.concat(axis=1) instead. To get a de-fragmented frame, use `newframe = frame.copy()`\n",
            "  combined_data[f\"new_feature_{i+1}\"] = [None] * len(combined_data)\n",
            "<ipython-input-5-3b48af411cdc>:17: PerformanceWarning: DataFrame is highly fragmented.  This is usually the result of calling `frame.insert` many times, which has poor performance.  Consider joining all columns at once using pd.concat(axis=1) instead. To get a de-fragmented frame, use `newframe = frame.copy()`\n",
            "  combined_data[f\"new_feature_{i+1}\"] = [None] * len(combined_data)\n",
            "<ipython-input-5-3b48af411cdc>:17: PerformanceWarning: DataFrame is highly fragmented.  This is usually the result of calling `frame.insert` many times, which has poor performance.  Consider joining all columns at once using pd.concat(axis=1) instead. To get a de-fragmented frame, use `newframe = frame.copy()`\n",
            "  combined_data[f\"new_feature_{i+1}\"] = [None] * len(combined_data)\n",
            "<ipython-input-5-3b48af411cdc>:17: PerformanceWarning: DataFrame is highly fragmented.  This is usually the result of calling `frame.insert` many times, which has poor performance.  Consider joining all columns at once using pd.concat(axis=1) instead. To get a de-fragmented frame, use `newframe = frame.copy()`\n",
            "  combined_data[f\"new_feature_{i+1}\"] = [None] * len(combined_data)\n",
            "<ipython-input-5-3b48af411cdc>:17: PerformanceWarning: DataFrame is highly fragmented.  This is usually the result of calling `frame.insert` many times, which has poor performance.  Consider joining all columns at once using pd.concat(axis=1) instead. To get a de-fragmented frame, use `newframe = frame.copy()`\n",
            "  combined_data[f\"new_feature_{i+1}\"] = [None] * len(combined_data)\n",
            "<ipython-input-5-3b48af411cdc>:17: PerformanceWarning: DataFrame is highly fragmented.  This is usually the result of calling `frame.insert` many times, which has poor performance.  Consider joining all columns at once using pd.concat(axis=1) instead. To get a de-fragmented frame, use `newframe = frame.copy()`\n",
            "  combined_data[f\"new_feature_{i+1}\"] = [None] * len(combined_data)\n",
            "<ipython-input-5-3b48af411cdc>:17: PerformanceWarning: DataFrame is highly fragmented.  This is usually the result of calling `frame.insert` many times, which has poor performance.  Consider joining all columns at once using pd.concat(axis=1) instead. To get a de-fragmented frame, use `newframe = frame.copy()`\n",
            "  combined_data[f\"new_feature_{i+1}\"] = [None] * len(combined_data)\n",
            "<ipython-input-5-3b48af411cdc>:17: PerformanceWarning: DataFrame is highly fragmented.  This is usually the result of calling `frame.insert` many times, which has poor performance.  Consider joining all columns at once using pd.concat(axis=1) instead. To get a de-fragmented frame, use `newframe = frame.copy()`\n",
            "  combined_data[f\"new_feature_{i+1}\"] = [None] * len(combined_data)\n",
            "<ipython-input-5-3b48af411cdc>:17: PerformanceWarning: DataFrame is highly fragmented.  This is usually the result of calling `frame.insert` many times, which has poor performance.  Consider joining all columns at once using pd.concat(axis=1) instead. To get a de-fragmented frame, use `newframe = frame.copy()`\n",
            "  combined_data[f\"new_feature_{i+1}\"] = [None] * len(combined_data)\n",
            "<ipython-input-5-3b48af411cdc>:17: PerformanceWarning: DataFrame is highly fragmented.  This is usually the result of calling `frame.insert` many times, which has poor performance.  Consider joining all columns at once using pd.concat(axis=1) instead. To get a de-fragmented frame, use `newframe = frame.copy()`\n",
            "  combined_data[f\"new_feature_{i+1}\"] = [None] * len(combined_data)\n",
            "<ipython-input-5-3b48af411cdc>:17: PerformanceWarning: DataFrame is highly fragmented.  This is usually the result of calling `frame.insert` many times, which has poor performance.  Consider joining all columns at once using pd.concat(axis=1) instead. To get a de-fragmented frame, use `newframe = frame.copy()`\n",
            "  combined_data[f\"new_feature_{i+1}\"] = [None] * len(combined_data)\n",
            "<ipython-input-5-3b48af411cdc>:17: PerformanceWarning: DataFrame is highly fragmented.  This is usually the result of calling `frame.insert` many times, which has poor performance.  Consider joining all columns at once using pd.concat(axis=1) instead. To get a de-fragmented frame, use `newframe = frame.copy()`\n",
            "  combined_data[f\"new_feature_{i+1}\"] = [None] * len(combined_data)\n",
            "<ipython-input-5-3b48af411cdc>:17: PerformanceWarning: DataFrame is highly fragmented.  This is usually the result of calling `frame.insert` many times, which has poor performance.  Consider joining all columns at once using pd.concat(axis=1) instead. To get a de-fragmented frame, use `newframe = frame.copy()`\n",
            "  combined_data[f\"new_feature_{i+1}\"] = [None] * len(combined_data)\n",
            "<ipython-input-5-3b48af411cdc>:17: PerformanceWarning: DataFrame is highly fragmented.  This is usually the result of calling `frame.insert` many times, which has poor performance.  Consider joining all columns at once using pd.concat(axis=1) instead. To get a de-fragmented frame, use `newframe = frame.copy()`\n",
            "  combined_data[f\"new_feature_{i+1}\"] = [None] * len(combined_data)\n",
            "<ipython-input-5-3b48af411cdc>:17: PerformanceWarning: DataFrame is highly fragmented.  This is usually the result of calling `frame.insert` many times, which has poor performance.  Consider joining all columns at once using pd.concat(axis=1) instead. To get a de-fragmented frame, use `newframe = frame.copy()`\n",
            "  combined_data[f\"new_feature_{i+1}\"] = [None] * len(combined_data)\n",
            "<ipython-input-5-3b48af411cdc>:17: PerformanceWarning: DataFrame is highly fragmented.  This is usually the result of calling `frame.insert` many times, which has poor performance.  Consider joining all columns at once using pd.concat(axis=1) instead. To get a de-fragmented frame, use `newframe = frame.copy()`\n",
            "  combined_data[f\"new_feature_{i+1}\"] = [None] * len(combined_data)\n",
            "<ipython-input-5-3b48af411cdc>:17: PerformanceWarning: DataFrame is highly fragmented.  This is usually the result of calling `frame.insert` many times, which has poor performance.  Consider joining all columns at once using pd.concat(axis=1) instead. To get a de-fragmented frame, use `newframe = frame.copy()`\n",
            "  combined_data[f\"new_feature_{i+1}\"] = [None] * len(combined_data)\n",
            "<ipython-input-5-3b48af411cdc>:17: PerformanceWarning: DataFrame is highly fragmented.  This is usually the result of calling `frame.insert` many times, which has poor performance.  Consider joining all columns at once using pd.concat(axis=1) instead. To get a de-fragmented frame, use `newframe = frame.copy()`\n",
            "  combined_data[f\"new_feature_{i+1}\"] = [None] * len(combined_data)\n",
            "<ipython-input-5-3b48af411cdc>:17: PerformanceWarning: DataFrame is highly fragmented.  This is usually the result of calling `frame.insert` many times, which has poor performance.  Consider joining all columns at once using pd.concat(axis=1) instead. To get a de-fragmented frame, use `newframe = frame.copy()`\n",
            "  combined_data[f\"new_feature_{i+1}\"] = [None] * len(combined_data)\n",
            "<ipython-input-5-3b48af411cdc>:17: PerformanceWarning: DataFrame is highly fragmented.  This is usually the result of calling `frame.insert` many times, which has poor performance.  Consider joining all columns at once using pd.concat(axis=1) instead. To get a de-fragmented frame, use `newframe = frame.copy()`\n",
            "  combined_data[f\"new_feature_{i+1}\"] = [None] * len(combined_data)\n",
            "<ipython-input-5-3b48af411cdc>:17: PerformanceWarning: DataFrame is highly fragmented.  This is usually the result of calling `frame.insert` many times, which has poor performance.  Consider joining all columns at once using pd.concat(axis=1) instead. To get a de-fragmented frame, use `newframe = frame.copy()`\n",
            "  combined_data[f\"new_feature_{i+1}\"] = [None] * len(combined_data)\n",
            "<ipython-input-5-3b48af411cdc>:17: PerformanceWarning: DataFrame is highly fragmented.  This is usually the result of calling `frame.insert` many times, which has poor performance.  Consider joining all columns at once using pd.concat(axis=1) instead. To get a de-fragmented frame, use `newframe = frame.copy()`\n",
            "  combined_data[f\"new_feature_{i+1}\"] = [None] * len(combined_data)\n",
            "<ipython-input-5-3b48af411cdc>:17: PerformanceWarning: DataFrame is highly fragmented.  This is usually the result of calling `frame.insert` many times, which has poor performance.  Consider joining all columns at once using pd.concat(axis=1) instead. To get a de-fragmented frame, use `newframe = frame.copy()`\n",
            "  combined_data[f\"new_feature_{i+1}\"] = [None] * len(combined_data)\n",
            "<ipython-input-5-3b48af411cdc>:17: PerformanceWarning: DataFrame is highly fragmented.  This is usually the result of calling `frame.insert` many times, which has poor performance.  Consider joining all columns at once using pd.concat(axis=1) instead. To get a de-fragmented frame, use `newframe = frame.copy()`\n",
            "  combined_data[f\"new_feature_{i+1}\"] = [None] * len(combined_data)\n",
            "<ipython-input-5-3b48af411cdc>:17: PerformanceWarning: DataFrame is highly fragmented.  This is usually the result of calling `frame.insert` many times, which has poor performance.  Consider joining all columns at once using pd.concat(axis=1) instead. To get a de-fragmented frame, use `newframe = frame.copy()`\n",
            "  combined_data[f\"new_feature_{i+1}\"] = [None] * len(combined_data)\n",
            "<ipython-input-5-3b48af411cdc>:17: PerformanceWarning: DataFrame is highly fragmented.  This is usually the result of calling `frame.insert` many times, which has poor performance.  Consider joining all columns at once using pd.concat(axis=1) instead. To get a de-fragmented frame, use `newframe = frame.copy()`\n",
            "  combined_data[f\"new_feature_{i+1}\"] = [None] * len(combined_data)\n",
            "<ipython-input-5-3b48af411cdc>:17: PerformanceWarning: DataFrame is highly fragmented.  This is usually the result of calling `frame.insert` many times, which has poor performance.  Consider joining all columns at once using pd.concat(axis=1) instead. To get a de-fragmented frame, use `newframe = frame.copy()`\n",
            "  combined_data[f\"new_feature_{i+1}\"] = [None] * len(combined_data)\n",
            "<ipython-input-5-3b48af411cdc>:17: PerformanceWarning: DataFrame is highly fragmented.  This is usually the result of calling `frame.insert` many times, which has poor performance.  Consider joining all columns at once using pd.concat(axis=1) instead. To get a de-fragmented frame, use `newframe = frame.copy()`\n",
            "  combined_data[f\"new_feature_{i+1}\"] = [None] * len(combined_data)\n",
            "<ipython-input-5-3b48af411cdc>:17: PerformanceWarning: DataFrame is highly fragmented.  This is usually the result of calling `frame.insert` many times, which has poor performance.  Consider joining all columns at once using pd.concat(axis=1) instead. To get a de-fragmented frame, use `newframe = frame.copy()`\n",
            "  combined_data[f\"new_feature_{i+1}\"] = [None] * len(combined_data)\n",
            "<ipython-input-5-3b48af411cdc>:17: PerformanceWarning: DataFrame is highly fragmented.  This is usually the result of calling `frame.insert` many times, which has poor performance.  Consider joining all columns at once using pd.concat(axis=1) instead. To get a de-fragmented frame, use `newframe = frame.copy()`\n",
            "  combined_data[f\"new_feature_{i+1}\"] = [None] * len(combined_data)\n",
            "<ipython-input-5-3b48af411cdc>:17: PerformanceWarning: DataFrame is highly fragmented.  This is usually the result of calling `frame.insert` many times, which has poor performance.  Consider joining all columns at once using pd.concat(axis=1) instead. To get a de-fragmented frame, use `newframe = frame.copy()`\n",
            "  combined_data[f\"new_feature_{i+1}\"] = [None] * len(combined_data)\n",
            "<ipython-input-5-3b48af411cdc>:17: PerformanceWarning: DataFrame is highly fragmented.  This is usually the result of calling `frame.insert` many times, which has poor performance.  Consider joining all columns at once using pd.concat(axis=1) instead. To get a de-fragmented frame, use `newframe = frame.copy()`\n",
            "  combined_data[f\"new_feature_{i+1}\"] = [None] * len(combined_data)\n",
            "<ipython-input-5-3b48af411cdc>:17: PerformanceWarning: DataFrame is highly fragmented.  This is usually the result of calling `frame.insert` many times, which has poor performance.  Consider joining all columns at once using pd.concat(axis=1) instead. To get a de-fragmented frame, use `newframe = frame.copy()`\n",
            "  combined_data[f\"new_feature_{i+1}\"] = [None] * len(combined_data)\n",
            "<ipython-input-5-3b48af411cdc>:17: PerformanceWarning: DataFrame is highly fragmented.  This is usually the result of calling `frame.insert` many times, which has poor performance.  Consider joining all columns at once using pd.concat(axis=1) instead. To get a de-fragmented frame, use `newframe = frame.copy()`\n",
            "  combined_data[f\"new_feature_{i+1}\"] = [None] * len(combined_data)\n",
            "<ipython-input-5-3b48af411cdc>:17: PerformanceWarning: DataFrame is highly fragmented.  This is usually the result of calling `frame.insert` many times, which has poor performance.  Consider joining all columns at once using pd.concat(axis=1) instead. To get a de-fragmented frame, use `newframe = frame.copy()`\n",
            "  combined_data[f\"new_feature_{i+1}\"] = [None] * len(combined_data)\n",
            "<ipython-input-5-3b48af411cdc>:17: PerformanceWarning: DataFrame is highly fragmented.  This is usually the result of calling `frame.insert` many times, which has poor performance.  Consider joining all columns at once using pd.concat(axis=1) instead. To get a de-fragmented frame, use `newframe = frame.copy()`\n",
            "  combined_data[f\"new_feature_{i+1}\"] = [None] * len(combined_data)\n",
            "<ipython-input-5-3b48af411cdc>:17: PerformanceWarning: DataFrame is highly fragmented.  This is usually the result of calling `frame.insert` many times, which has poor performance.  Consider joining all columns at once using pd.concat(axis=1) instead. To get a de-fragmented frame, use `newframe = frame.copy()`\n",
            "  combined_data[f\"new_feature_{i+1}\"] = [None] * len(combined_data)\n",
            "<ipython-input-5-3b48af411cdc>:17: PerformanceWarning: DataFrame is highly fragmented.  This is usually the result of calling `frame.insert` many times, which has poor performance.  Consider joining all columns at once using pd.concat(axis=1) instead. To get a de-fragmented frame, use `newframe = frame.copy()`\n",
            "  combined_data[f\"new_feature_{i+1}\"] = [None] * len(combined_data)\n",
            "<ipython-input-5-3b48af411cdc>:17: PerformanceWarning: DataFrame is highly fragmented.  This is usually the result of calling `frame.insert` many times, which has poor performance.  Consider joining all columns at once using pd.concat(axis=1) instead. To get a de-fragmented frame, use `newframe = frame.copy()`\n",
            "  combined_data[f\"new_feature_{i+1}\"] = [None] * len(combined_data)\n",
            "<ipython-input-5-3b48af411cdc>:17: PerformanceWarning: DataFrame is highly fragmented.  This is usually the result of calling `frame.insert` many times, which has poor performance.  Consider joining all columns at once using pd.concat(axis=1) instead. To get a de-fragmented frame, use `newframe = frame.copy()`\n",
            "  combined_data[f\"new_feature_{i+1}\"] = [None] * len(combined_data)\n",
            "<ipython-input-5-3b48af411cdc>:17: PerformanceWarning: DataFrame is highly fragmented.  This is usually the result of calling `frame.insert` many times, which has poor performance.  Consider joining all columns at once using pd.concat(axis=1) instead. To get a de-fragmented frame, use `newframe = frame.copy()`\n",
            "  combined_data[f\"new_feature_{i+1}\"] = [None] * len(combined_data)\n",
            "<ipython-input-5-3b48af411cdc>:17: PerformanceWarning: DataFrame is highly fragmented.  This is usually the result of calling `frame.insert` many times, which has poor performance.  Consider joining all columns at once using pd.concat(axis=1) instead. To get a de-fragmented frame, use `newframe = frame.copy()`\n",
            "  combined_data[f\"new_feature_{i+1}\"] = [None] * len(combined_data)\n",
            "<ipython-input-5-3b48af411cdc>:17: PerformanceWarning: DataFrame is highly fragmented.  This is usually the result of calling `frame.insert` many times, which has poor performance.  Consider joining all columns at once using pd.concat(axis=1) instead. To get a de-fragmented frame, use `newframe = frame.copy()`\n",
            "  combined_data[f\"new_feature_{i+1}\"] = [None] * len(combined_data)\n",
            "<ipython-input-5-3b48af411cdc>:17: PerformanceWarning: DataFrame is highly fragmented.  This is usually the result of calling `frame.insert` many times, which has poor performance.  Consider joining all columns at once using pd.concat(axis=1) instead. To get a de-fragmented frame, use `newframe = frame.copy()`\n",
            "  combined_data[f\"new_feature_{i+1}\"] = [None] * len(combined_data)\n",
            "<ipython-input-5-3b48af411cdc>:17: PerformanceWarning: DataFrame is highly fragmented.  This is usually the result of calling `frame.insert` many times, which has poor performance.  Consider joining all columns at once using pd.concat(axis=1) instead. To get a de-fragmented frame, use `newframe = frame.copy()`\n",
            "  combined_data[f\"new_feature_{i+1}\"] = [None] * len(combined_data)\n",
            "<ipython-input-5-3b48af411cdc>:17: PerformanceWarning: DataFrame is highly fragmented.  This is usually the result of calling `frame.insert` many times, which has poor performance.  Consider joining all columns at once using pd.concat(axis=1) instead. To get a de-fragmented frame, use `newframe = frame.copy()`\n",
            "  combined_data[f\"new_feature_{i+1}\"] = [None] * len(combined_data)\n",
            "<ipython-input-5-3b48af411cdc>:17: PerformanceWarning: DataFrame is highly fragmented.  This is usually the result of calling `frame.insert` many times, which has poor performance.  Consider joining all columns at once using pd.concat(axis=1) instead. To get a de-fragmented frame, use `newframe = frame.copy()`\n",
            "  combined_data[f\"new_feature_{i+1}\"] = [None] * len(combined_data)\n",
            "<ipython-input-5-3b48af411cdc>:17: PerformanceWarning: DataFrame is highly fragmented.  This is usually the result of calling `frame.insert` many times, which has poor performance.  Consider joining all columns at once using pd.concat(axis=1) instead. To get a de-fragmented frame, use `newframe = frame.copy()`\n",
            "  combined_data[f\"new_feature_{i+1}\"] = [None] * len(combined_data)\n",
            "<ipython-input-5-3b48af411cdc>:17: PerformanceWarning: DataFrame is highly fragmented.  This is usually the result of calling `frame.insert` many times, which has poor performance.  Consider joining all columns at once using pd.concat(axis=1) instead. To get a de-fragmented frame, use `newframe = frame.copy()`\n",
            "  combined_data[f\"new_feature_{i+1}\"] = [None] * len(combined_data)\n",
            "<ipython-input-5-3b48af411cdc>:17: PerformanceWarning: DataFrame is highly fragmented.  This is usually the result of calling `frame.insert` many times, which has poor performance.  Consider joining all columns at once using pd.concat(axis=1) instead. To get a de-fragmented frame, use `newframe = frame.copy()`\n",
            "  combined_data[f\"new_feature_{i+1}\"] = [None] * len(combined_data)\n",
            "<ipython-input-5-3b48af411cdc>:17: PerformanceWarning: DataFrame is highly fragmented.  This is usually the result of calling `frame.insert` many times, which has poor performance.  Consider joining all columns at once using pd.concat(axis=1) instead. To get a de-fragmented frame, use `newframe = frame.copy()`\n",
            "  combined_data[f\"new_feature_{i+1}\"] = [None] * len(combined_data)\n",
            "<ipython-input-5-3b48af411cdc>:17: PerformanceWarning: DataFrame is highly fragmented.  This is usually the result of calling `frame.insert` many times, which has poor performance.  Consider joining all columns at once using pd.concat(axis=1) instead. To get a de-fragmented frame, use `newframe = frame.copy()`\n",
            "  combined_data[f\"new_feature_{i+1}\"] = [None] * len(combined_data)\n",
            "<ipython-input-5-3b48af411cdc>:17: PerformanceWarning: DataFrame is highly fragmented.  This is usually the result of calling `frame.insert` many times, which has poor performance.  Consider joining all columns at once using pd.concat(axis=1) instead. To get a de-fragmented frame, use `newframe = frame.copy()`\n",
            "  combined_data[f\"new_feature_{i+1}\"] = [None] * len(combined_data)\n",
            "<ipython-input-5-3b48af411cdc>:17: PerformanceWarning: DataFrame is highly fragmented.  This is usually the result of calling `frame.insert` many times, which has poor performance.  Consider joining all columns at once using pd.concat(axis=1) instead. To get a de-fragmented frame, use `newframe = frame.copy()`\n",
            "  combined_data[f\"new_feature_{i+1}\"] = [None] * len(combined_data)\n",
            "<ipython-input-5-3b48af411cdc>:17: PerformanceWarning: DataFrame is highly fragmented.  This is usually the result of calling `frame.insert` many times, which has poor performance.  Consider joining all columns at once using pd.concat(axis=1) instead. To get a de-fragmented frame, use `newframe = frame.copy()`\n",
            "  combined_data[f\"new_feature_{i+1}\"] = [None] * len(combined_data)\n",
            "<ipython-input-5-3b48af411cdc>:17: PerformanceWarning: DataFrame is highly fragmented.  This is usually the result of calling `frame.insert` many times, which has poor performance.  Consider joining all columns at once using pd.concat(axis=1) instead. To get a de-fragmented frame, use `newframe = frame.copy()`\n",
            "  combined_data[f\"new_feature_{i+1}\"] = [None] * len(combined_data)\n",
            "<ipython-input-5-3b48af411cdc>:17: PerformanceWarning: DataFrame is highly fragmented.  This is usually the result of calling `frame.insert` many times, which has poor performance.  Consider joining all columns at once using pd.concat(axis=1) instead. To get a de-fragmented frame, use `newframe = frame.copy()`\n",
            "  combined_data[f\"new_feature_{i+1}\"] = [None] * len(combined_data)\n",
            "<ipython-input-5-3b48af411cdc>:17: PerformanceWarning: DataFrame is highly fragmented.  This is usually the result of calling `frame.insert` many times, which has poor performance.  Consider joining all columns at once using pd.concat(axis=1) instead. To get a de-fragmented frame, use `newframe = frame.copy()`\n",
            "  combined_data[f\"new_feature_{i+1}\"] = [None] * len(combined_data)\n",
            "<ipython-input-5-3b48af411cdc>:17: PerformanceWarning: DataFrame is highly fragmented.  This is usually the result of calling `frame.insert` many times, which has poor performance.  Consider joining all columns at once using pd.concat(axis=1) instead. To get a de-fragmented frame, use `newframe = frame.copy()`\n",
            "  combined_data[f\"new_feature_{i+1}\"] = [None] * len(combined_data)\n",
            "<ipython-input-5-3b48af411cdc>:17: PerformanceWarning: DataFrame is highly fragmented.  This is usually the result of calling `frame.insert` many times, which has poor performance.  Consider joining all columns at once using pd.concat(axis=1) instead. To get a de-fragmented frame, use `newframe = frame.copy()`\n",
            "  combined_data[f\"new_feature_{i+1}\"] = [None] * len(combined_data)\n",
            "<ipython-input-5-3b48af411cdc>:17: PerformanceWarning: DataFrame is highly fragmented.  This is usually the result of calling `frame.insert` many times, which has poor performance.  Consider joining all columns at once using pd.concat(axis=1) instead. To get a de-fragmented frame, use `newframe = frame.copy()`\n",
            "  combined_data[f\"new_feature_{i+1}\"] = [None] * len(combined_data)\n",
            "<ipython-input-5-3b48af411cdc>:17: PerformanceWarning: DataFrame is highly fragmented.  This is usually the result of calling `frame.insert` many times, which has poor performance.  Consider joining all columns at once using pd.concat(axis=1) instead. To get a de-fragmented frame, use `newframe = frame.copy()`\n",
            "  combined_data[f\"new_feature_{i+1}\"] = [None] * len(combined_data)\n",
            "<ipython-input-5-3b48af411cdc>:17: PerformanceWarning: DataFrame is highly fragmented.  This is usually the result of calling `frame.insert` many times, which has poor performance.  Consider joining all columns at once using pd.concat(axis=1) instead. To get a de-fragmented frame, use `newframe = frame.copy()`\n",
            "  combined_data[f\"new_feature_{i+1}\"] = [None] * len(combined_data)\n",
            "<ipython-input-5-3b48af411cdc>:17: PerformanceWarning: DataFrame is highly fragmented.  This is usually the result of calling `frame.insert` many times, which has poor performance.  Consider joining all columns at once using pd.concat(axis=1) instead. To get a de-fragmented frame, use `newframe = frame.copy()`\n",
            "  combined_data[f\"new_feature_{i+1}\"] = [None] * len(combined_data)\n",
            "<ipython-input-5-3b48af411cdc>:17: PerformanceWarning: DataFrame is highly fragmented.  This is usually the result of calling `frame.insert` many times, which has poor performance.  Consider joining all columns at once using pd.concat(axis=1) instead. To get a de-fragmented frame, use `newframe = frame.copy()`\n",
            "  combined_data[f\"new_feature_{i+1}\"] = [None] * len(combined_data)\n",
            "<ipython-input-5-3b48af411cdc>:17: PerformanceWarning: DataFrame is highly fragmented.  This is usually the result of calling `frame.insert` many times, which has poor performance.  Consider joining all columns at once using pd.concat(axis=1) instead. To get a de-fragmented frame, use `newframe = frame.copy()`\n",
            "  combined_data[f\"new_feature_{i+1}\"] = [None] * len(combined_data)\n",
            "<ipython-input-5-3b48af411cdc>:17: PerformanceWarning: DataFrame is highly fragmented.  This is usually the result of calling `frame.insert` many times, which has poor performance.  Consider joining all columns at once using pd.concat(axis=1) instead. To get a de-fragmented frame, use `newframe = frame.copy()`\n",
            "  combined_data[f\"new_feature_{i+1}\"] = [None] * len(combined_data)\n",
            "<ipython-input-5-3b48af411cdc>:17: PerformanceWarning: DataFrame is highly fragmented.  This is usually the result of calling `frame.insert` many times, which has poor performance.  Consider joining all columns at once using pd.concat(axis=1) instead. To get a de-fragmented frame, use `newframe = frame.copy()`\n",
            "  combined_data[f\"new_feature_{i+1}\"] = [None] * len(combined_data)\n",
            "<ipython-input-5-3b48af411cdc>:17: PerformanceWarning: DataFrame is highly fragmented.  This is usually the result of calling `frame.insert` many times, which has poor performance.  Consider joining all columns at once using pd.concat(axis=1) instead. To get a de-fragmented frame, use `newframe = frame.copy()`\n",
            "  combined_data[f\"new_feature_{i+1}\"] = [None] * len(combined_data)\n",
            "<ipython-input-5-3b48af411cdc>:17: PerformanceWarning: DataFrame is highly fragmented.  This is usually the result of calling `frame.insert` many times, which has poor performance.  Consider joining all columns at once using pd.concat(axis=1) instead. To get a de-fragmented frame, use `newframe = frame.copy()`\n",
            "  combined_data[f\"new_feature_{i+1}\"] = [None] * len(combined_data)\n",
            "<ipython-input-5-3b48af411cdc>:17: PerformanceWarning: DataFrame is highly fragmented.  This is usually the result of calling `frame.insert` many times, which has poor performance.  Consider joining all columns at once using pd.concat(axis=1) instead. To get a de-fragmented frame, use `newframe = frame.copy()`\n",
            "  combined_data[f\"new_feature_{i+1}\"] = [None] * len(combined_data)\n",
            "<ipython-input-5-3b48af411cdc>:17: PerformanceWarning: DataFrame is highly fragmented.  This is usually the result of calling `frame.insert` many times, which has poor performance.  Consider joining all columns at once using pd.concat(axis=1) instead. To get a de-fragmented frame, use `newframe = frame.copy()`\n",
            "  combined_data[f\"new_feature_{i+1}\"] = [None] * len(combined_data)\n",
            "<ipython-input-5-3b48af411cdc>:17: PerformanceWarning: DataFrame is highly fragmented.  This is usually the result of calling `frame.insert` many times, which has poor performance.  Consider joining all columns at once using pd.concat(axis=1) instead. To get a de-fragmented frame, use `newframe = frame.copy()`\n",
            "  combined_data[f\"new_feature_{i+1}\"] = [None] * len(combined_data)\n",
            "<ipython-input-5-3b48af411cdc>:17: PerformanceWarning: DataFrame is highly fragmented.  This is usually the result of calling `frame.insert` many times, which has poor performance.  Consider joining all columns at once using pd.concat(axis=1) instead. To get a de-fragmented frame, use `newframe = frame.copy()`\n",
            "  combined_data[f\"new_feature_{i+1}\"] = [None] * len(combined_data)\n",
            "<ipython-input-5-3b48af411cdc>:17: PerformanceWarning: DataFrame is highly fragmented.  This is usually the result of calling `frame.insert` many times, which has poor performance.  Consider joining all columns at once using pd.concat(axis=1) instead. To get a de-fragmented frame, use `newframe = frame.copy()`\n",
            "  combined_data[f\"new_feature_{i+1}\"] = [None] * len(combined_data)\n",
            "<ipython-input-5-3b48af411cdc>:17: PerformanceWarning: DataFrame is highly fragmented.  This is usually the result of calling `frame.insert` many times, which has poor performance.  Consider joining all columns at once using pd.concat(axis=1) instead. To get a de-fragmented frame, use `newframe = frame.copy()`\n",
            "  combined_data[f\"new_feature_{i+1}\"] = [None] * len(combined_data)\n",
            "<ipython-input-5-3b48af411cdc>:17: PerformanceWarning: DataFrame is highly fragmented.  This is usually the result of calling `frame.insert` many times, which has poor performance.  Consider joining all columns at once using pd.concat(axis=1) instead. To get a de-fragmented frame, use `newframe = frame.copy()`\n",
            "  combined_data[f\"new_feature_{i+1}\"] = [None] * len(combined_data)\n",
            "<ipython-input-5-3b48af411cdc>:17: PerformanceWarning: DataFrame is highly fragmented.  This is usually the result of calling `frame.insert` many times, which has poor performance.  Consider joining all columns at once using pd.concat(axis=1) instead. To get a de-fragmented frame, use `newframe = frame.copy()`\n",
            "  combined_data[f\"new_feature_{i+1}\"] = [None] * len(combined_data)\n",
            "<ipython-input-5-3b48af411cdc>:17: PerformanceWarning: DataFrame is highly fragmented.  This is usually the result of calling `frame.insert` many times, which has poor performance.  Consider joining all columns at once using pd.concat(axis=1) instead. To get a de-fragmented frame, use `newframe = frame.copy()`\n",
            "  combined_data[f\"new_feature_{i+1}\"] = [None] * len(combined_data)\n",
            "<ipython-input-5-3b48af411cdc>:17: PerformanceWarning: DataFrame is highly fragmented.  This is usually the result of calling `frame.insert` many times, which has poor performance.  Consider joining all columns at once using pd.concat(axis=1) instead. To get a de-fragmented frame, use `newframe = frame.copy()`\n",
            "  combined_data[f\"new_feature_{i+1}\"] = [None] * len(combined_data)\n",
            "<ipython-input-5-3b48af411cdc>:17: PerformanceWarning: DataFrame is highly fragmented.  This is usually the result of calling `frame.insert` many times, which has poor performance.  Consider joining all columns at once using pd.concat(axis=1) instead. To get a de-fragmented frame, use `newframe = frame.copy()`\n",
            "  combined_data[f\"new_feature_{i+1}\"] = [None] * len(combined_data)\n",
            "<ipython-input-5-3b48af411cdc>:17: PerformanceWarning: DataFrame is highly fragmented.  This is usually the result of calling `frame.insert` many times, which has poor performance.  Consider joining all columns at once using pd.concat(axis=1) instead. To get a de-fragmented frame, use `newframe = frame.copy()`\n",
            "  combined_data[f\"new_feature_{i+1}\"] = [None] * len(combined_data)\n",
            "<ipython-input-5-3b48af411cdc>:17: PerformanceWarning: DataFrame is highly fragmented.  This is usually the result of calling `frame.insert` many times, which has poor performance.  Consider joining all columns at once using pd.concat(axis=1) instead. To get a de-fragmented frame, use `newframe = frame.copy()`\n",
            "  combined_data[f\"new_feature_{i+1}\"] = [None] * len(combined_data)\n",
            "<ipython-input-5-3b48af411cdc>:17: PerformanceWarning: DataFrame is highly fragmented.  This is usually the result of calling `frame.insert` many times, which has poor performance.  Consider joining all columns at once using pd.concat(axis=1) instead. To get a de-fragmented frame, use `newframe = frame.copy()`\n",
            "  combined_data[f\"new_feature_{i+1}\"] = [None] * len(combined_data)\n",
            "<ipython-input-5-3b48af411cdc>:17: PerformanceWarning: DataFrame is highly fragmented.  This is usually the result of calling `frame.insert` many times, which has poor performance.  Consider joining all columns at once using pd.concat(axis=1) instead. To get a de-fragmented frame, use `newframe = frame.copy()`\n",
            "  combined_data[f\"new_feature_{i+1}\"] = [None] * len(combined_data)\n",
            "<ipython-input-5-3b48af411cdc>:17: PerformanceWarning: DataFrame is highly fragmented.  This is usually the result of calling `frame.insert` many times, which has poor performance.  Consider joining all columns at once using pd.concat(axis=1) instead. To get a de-fragmented frame, use `newframe = frame.copy()`\n",
            "  combined_data[f\"new_feature_{i+1}\"] = [None] * len(combined_data)\n",
            "<ipython-input-5-3b48af411cdc>:17: PerformanceWarning: DataFrame is highly fragmented.  This is usually the result of calling `frame.insert` many times, which has poor performance.  Consider joining all columns at once using pd.concat(axis=1) instead. To get a de-fragmented frame, use `newframe = frame.copy()`\n",
            "  combined_data[f\"new_feature_{i+1}\"] = [None] * len(combined_data)\n",
            "<ipython-input-5-3b48af411cdc>:17: PerformanceWarning: DataFrame is highly fragmented.  This is usually the result of calling `frame.insert` many times, which has poor performance.  Consider joining all columns at once using pd.concat(axis=1) instead. To get a de-fragmented frame, use `newframe = frame.copy()`\n",
            "  combined_data[f\"new_feature_{i+1}\"] = [None] * len(combined_data)\n",
            "<ipython-input-5-3b48af411cdc>:17: PerformanceWarning: DataFrame is highly fragmented.  This is usually the result of calling `frame.insert` many times, which has poor performance.  Consider joining all columns at once using pd.concat(axis=1) instead. To get a de-fragmented frame, use `newframe = frame.copy()`\n",
            "  combined_data[f\"new_feature_{i+1}\"] = [None] * len(combined_data)\n",
            "<ipython-input-5-3b48af411cdc>:17: PerformanceWarning: DataFrame is highly fragmented.  This is usually the result of calling `frame.insert` many times, which has poor performance.  Consider joining all columns at once using pd.concat(axis=1) instead. To get a de-fragmented frame, use `newframe = frame.copy()`\n",
            "  combined_data[f\"new_feature_{i+1}\"] = [None] * len(combined_data)\n",
            "<ipython-input-5-3b48af411cdc>:17: PerformanceWarning: DataFrame is highly fragmented.  This is usually the result of calling `frame.insert` many times, which has poor performance.  Consider joining all columns at once using pd.concat(axis=1) instead. To get a de-fragmented frame, use `newframe = frame.copy()`\n",
            "  combined_data[f\"new_feature_{i+1}\"] = [None] * len(combined_data)\n",
            "<ipython-input-5-3b48af411cdc>:17: PerformanceWarning: DataFrame is highly fragmented.  This is usually the result of calling `frame.insert` many times, which has poor performance.  Consider joining all columns at once using pd.concat(axis=1) instead. To get a de-fragmented frame, use `newframe = frame.copy()`\n",
            "  combined_data[f\"new_feature_{i+1}\"] = [None] * len(combined_data)\n",
            "<ipython-input-5-3b48af411cdc>:17: PerformanceWarning: DataFrame is highly fragmented.  This is usually the result of calling `frame.insert` many times, which has poor performance.  Consider joining all columns at once using pd.concat(axis=1) instead. To get a de-fragmented frame, use `newframe = frame.copy()`\n",
            "  combined_data[f\"new_feature_{i+1}\"] = [None] * len(combined_data)\n",
            "<ipython-input-5-3b48af411cdc>:17: PerformanceWarning: DataFrame is highly fragmented.  This is usually the result of calling `frame.insert` many times, which has poor performance.  Consider joining all columns at once using pd.concat(axis=1) instead. To get a de-fragmented frame, use `newframe = frame.copy()`\n",
            "  combined_data[f\"new_feature_{i+1}\"] = [None] * len(combined_data)\n",
            "<ipython-input-5-3b48af411cdc>:17: PerformanceWarning: DataFrame is highly fragmented.  This is usually the result of calling `frame.insert` many times, which has poor performance.  Consider joining all columns at once using pd.concat(axis=1) instead. To get a de-fragmented frame, use `newframe = frame.copy()`\n",
            "  combined_data[f\"new_feature_{i+1}\"] = [None] * len(combined_data)\n",
            "<ipython-input-5-3b48af411cdc>:17: PerformanceWarning: DataFrame is highly fragmented.  This is usually the result of calling `frame.insert` many times, which has poor performance.  Consider joining all columns at once using pd.concat(axis=1) instead. To get a de-fragmented frame, use `newframe = frame.copy()`\n",
            "  combined_data[f\"new_feature_{i+1}\"] = [None] * len(combined_data)\n",
            "<ipython-input-5-3b48af411cdc>:17: PerformanceWarning: DataFrame is highly fragmented.  This is usually the result of calling `frame.insert` many times, which has poor performance.  Consider joining all columns at once using pd.concat(axis=1) instead. To get a de-fragmented frame, use `newframe = frame.copy()`\n",
            "  combined_data[f\"new_feature_{i+1}\"] = [None] * len(combined_data)\n",
            "<ipython-input-5-3b48af411cdc>:17: PerformanceWarning: DataFrame is highly fragmented.  This is usually the result of calling `frame.insert` many times, which has poor performance.  Consider joining all columns at once using pd.concat(axis=1) instead. To get a de-fragmented frame, use `newframe = frame.copy()`\n",
            "  combined_data[f\"new_feature_{i+1}\"] = [None] * len(combined_data)\n",
            "<ipython-input-5-3b48af411cdc>:17: PerformanceWarning: DataFrame is highly fragmented.  This is usually the result of calling `frame.insert` many times, which has poor performance.  Consider joining all columns at once using pd.concat(axis=1) instead. To get a de-fragmented frame, use `newframe = frame.copy()`\n",
            "  combined_data[f\"new_feature_{i+1}\"] = [None] * len(combined_data)\n",
            "<ipython-input-5-3b48af411cdc>:17: PerformanceWarning: DataFrame is highly fragmented.  This is usually the result of calling `frame.insert` many times, which has poor performance.  Consider joining all columns at once using pd.concat(axis=1) instead. To get a de-fragmented frame, use `newframe = frame.copy()`\n",
            "  combined_data[f\"new_feature_{i+1}\"] = [None] * len(combined_data)\n",
            "<ipython-input-5-3b48af411cdc>:17: PerformanceWarning: DataFrame is highly fragmented.  This is usually the result of calling `frame.insert` many times, which has poor performance.  Consider joining all columns at once using pd.concat(axis=1) instead. To get a de-fragmented frame, use `newframe = frame.copy()`\n",
            "  combined_data[f\"new_feature_{i+1}\"] = [None] * len(combined_data)\n",
            "<ipython-input-5-3b48af411cdc>:17: PerformanceWarning: DataFrame is highly fragmented.  This is usually the result of calling `frame.insert` many times, which has poor performance.  Consider joining all columns at once using pd.concat(axis=1) instead. To get a de-fragmented frame, use `newframe = frame.copy()`\n",
            "  combined_data[f\"new_feature_{i+1}\"] = [None] * len(combined_data)\n",
            "<ipython-input-5-3b48af411cdc>:17: PerformanceWarning: DataFrame is highly fragmented.  This is usually the result of calling `frame.insert` many times, which has poor performance.  Consider joining all columns at once using pd.concat(axis=1) instead. To get a de-fragmented frame, use `newframe = frame.copy()`\n",
            "  combined_data[f\"new_feature_{i+1}\"] = [None] * len(combined_data)\n",
            "<ipython-input-5-3b48af411cdc>:17: PerformanceWarning: DataFrame is highly fragmented.  This is usually the result of calling `frame.insert` many times, which has poor performance.  Consider joining all columns at once using pd.concat(axis=1) instead. To get a de-fragmented frame, use `newframe = frame.copy()`\n",
            "  combined_data[f\"new_feature_{i+1}\"] = [None] * len(combined_data)\n",
            "<ipython-input-5-3b48af411cdc>:17: PerformanceWarning: DataFrame is highly fragmented.  This is usually the result of calling `frame.insert` many times, which has poor performance.  Consider joining all columns at once using pd.concat(axis=1) instead. To get a de-fragmented frame, use `newframe = frame.copy()`\n",
            "  combined_data[f\"new_feature_{i+1}\"] = [None] * len(combined_data)\n",
            "<ipython-input-5-3b48af411cdc>:17: PerformanceWarning: DataFrame is highly fragmented.  This is usually the result of calling `frame.insert` many times, which has poor performance.  Consider joining all columns at once using pd.concat(axis=1) instead. To get a de-fragmented frame, use `newframe = frame.copy()`\n",
            "  combined_data[f\"new_feature_{i+1}\"] = [None] * len(combined_data)\n",
            "<ipython-input-5-3b48af411cdc>:17: PerformanceWarning: DataFrame is highly fragmented.  This is usually the result of calling `frame.insert` many times, which has poor performance.  Consider joining all columns at once using pd.concat(axis=1) instead. To get a de-fragmented frame, use `newframe = frame.copy()`\n",
            "  combined_data[f\"new_feature_{i+1}\"] = [None] * len(combined_data)\n",
            "<ipython-input-5-3b48af411cdc>:17: PerformanceWarning: DataFrame is highly fragmented.  This is usually the result of calling `frame.insert` many times, which has poor performance.  Consider joining all columns at once using pd.concat(axis=1) instead. To get a de-fragmented frame, use `newframe = frame.copy()`\n",
            "  combined_data[f\"new_feature_{i+1}\"] = [None] * len(combined_data)\n",
            "<ipython-input-5-3b48af411cdc>:17: PerformanceWarning: DataFrame is highly fragmented.  This is usually the result of calling `frame.insert` many times, which has poor performance.  Consider joining all columns at once using pd.concat(axis=1) instead. To get a de-fragmented frame, use `newframe = frame.copy()`\n",
            "  combined_data[f\"new_feature_{i+1}\"] = [None] * len(combined_data)\n",
            "<ipython-input-5-3b48af411cdc>:17: PerformanceWarning: DataFrame is highly fragmented.  This is usually the result of calling `frame.insert` many times, which has poor performance.  Consider joining all columns at once using pd.concat(axis=1) instead. To get a de-fragmented frame, use `newframe = frame.copy()`\n",
            "  combined_data[f\"new_feature_{i+1}\"] = [None] * len(combined_data)\n",
            "<ipython-input-5-3b48af411cdc>:17: PerformanceWarning: DataFrame is highly fragmented.  This is usually the result of calling `frame.insert` many times, which has poor performance.  Consider joining all columns at once using pd.concat(axis=1) instead. To get a de-fragmented frame, use `newframe = frame.copy()`\n",
            "  combined_data[f\"new_feature_{i+1}\"] = [None] * len(combined_data)\n",
            "<ipython-input-5-3b48af411cdc>:17: PerformanceWarning: DataFrame is highly fragmented.  This is usually the result of calling `frame.insert` many times, which has poor performance.  Consider joining all columns at once using pd.concat(axis=1) instead. To get a de-fragmented frame, use `newframe = frame.copy()`\n",
            "  combined_data[f\"new_feature_{i+1}\"] = [None] * len(combined_data)\n",
            "<ipython-input-5-3b48af411cdc>:17: PerformanceWarning: DataFrame is highly fragmented.  This is usually the result of calling `frame.insert` many times, which has poor performance.  Consider joining all columns at once using pd.concat(axis=1) instead. To get a de-fragmented frame, use `newframe = frame.copy()`\n",
            "  combined_data[f\"new_feature_{i+1}\"] = [None] * len(combined_data)\n",
            "<ipython-input-5-3b48af411cdc>:17: PerformanceWarning: DataFrame is highly fragmented.  This is usually the result of calling `frame.insert` many times, which has poor performance.  Consider joining all columns at once using pd.concat(axis=1) instead. To get a de-fragmented frame, use `newframe = frame.copy()`\n",
            "  combined_data[f\"new_feature_{i+1}\"] = [None] * len(combined_data)\n",
            "<ipython-input-5-3b48af411cdc>:17: PerformanceWarning: DataFrame is highly fragmented.  This is usually the result of calling `frame.insert` many times, which has poor performance.  Consider joining all columns at once using pd.concat(axis=1) instead. To get a de-fragmented frame, use `newframe = frame.copy()`\n",
            "  combined_data[f\"new_feature_{i+1}\"] = [None] * len(combined_data)\n",
            "<ipython-input-5-3b48af411cdc>:17: PerformanceWarning: DataFrame is highly fragmented.  This is usually the result of calling `frame.insert` many times, which has poor performance.  Consider joining all columns at once using pd.concat(axis=1) instead. To get a de-fragmented frame, use `newframe = frame.copy()`\n",
            "  combined_data[f\"new_feature_{i+1}\"] = [None] * len(combined_data)\n",
            "<ipython-input-5-3b48af411cdc>:17: PerformanceWarning: DataFrame is highly fragmented.  This is usually the result of calling `frame.insert` many times, which has poor performance.  Consider joining all columns at once using pd.concat(axis=1) instead. To get a de-fragmented frame, use `newframe = frame.copy()`\n",
            "  combined_data[f\"new_feature_{i+1}\"] = [None] * len(combined_data)\n",
            "<ipython-input-5-3b48af411cdc>:17: PerformanceWarning: DataFrame is highly fragmented.  This is usually the result of calling `frame.insert` many times, which has poor performance.  Consider joining all columns at once using pd.concat(axis=1) instead. To get a de-fragmented frame, use `newframe = frame.copy()`\n",
            "  combined_data[f\"new_feature_{i+1}\"] = [None] * len(combined_data)\n",
            "<ipython-input-5-3b48af411cdc>:17: PerformanceWarning: DataFrame is highly fragmented.  This is usually the result of calling `frame.insert` many times, which has poor performance.  Consider joining all columns at once using pd.concat(axis=1) instead. To get a de-fragmented frame, use `newframe = frame.copy()`\n",
            "  combined_data[f\"new_feature_{i+1}\"] = [None] * len(combined_data)\n",
            "<ipython-input-5-3b48af411cdc>:17: PerformanceWarning: DataFrame is highly fragmented.  This is usually the result of calling `frame.insert` many times, which has poor performance.  Consider joining all columns at once using pd.concat(axis=1) instead. To get a de-fragmented frame, use `newframe = frame.copy()`\n",
            "  combined_data[f\"new_feature_{i+1}\"] = [None] * len(combined_data)\n",
            "<ipython-input-5-3b48af411cdc>:17: PerformanceWarning: DataFrame is highly fragmented.  This is usually the result of calling `frame.insert` many times, which has poor performance.  Consider joining all columns at once using pd.concat(axis=1) instead. To get a de-fragmented frame, use `newframe = frame.copy()`\n",
            "  combined_data[f\"new_feature_{i+1}\"] = [None] * len(combined_data)\n",
            "<ipython-input-5-3b48af411cdc>:17: PerformanceWarning: DataFrame is highly fragmented.  This is usually the result of calling `frame.insert` many times, which has poor performance.  Consider joining all columns at once using pd.concat(axis=1) instead. To get a de-fragmented frame, use `newframe = frame.copy()`\n",
            "  combined_data[f\"new_feature_{i+1}\"] = [None] * len(combined_data)\n",
            "<ipython-input-5-3b48af411cdc>:17: PerformanceWarning: DataFrame is highly fragmented.  This is usually the result of calling `frame.insert` many times, which has poor performance.  Consider joining all columns at once using pd.concat(axis=1) instead. To get a de-fragmented frame, use `newframe = frame.copy()`\n",
            "  combined_data[f\"new_feature_{i+1}\"] = [None] * len(combined_data)\n",
            "<ipython-input-5-3b48af411cdc>:17: PerformanceWarning: DataFrame is highly fragmented.  This is usually the result of calling `frame.insert` many times, which has poor performance.  Consider joining all columns at once using pd.concat(axis=1) instead. To get a de-fragmented frame, use `newframe = frame.copy()`\n",
            "  combined_data[f\"new_feature_{i+1}\"] = [None] * len(combined_data)\n",
            "<ipython-input-5-3b48af411cdc>:17: PerformanceWarning: DataFrame is highly fragmented.  This is usually the result of calling `frame.insert` many times, which has poor performance.  Consider joining all columns at once using pd.concat(axis=1) instead. To get a de-fragmented frame, use `newframe = frame.copy()`\n",
            "  combined_data[f\"new_feature_{i+1}\"] = [None] * len(combined_data)\n",
            "<ipython-input-5-3b48af411cdc>:17: PerformanceWarning: DataFrame is highly fragmented.  This is usually the result of calling `frame.insert` many times, which has poor performance.  Consider joining all columns at once using pd.concat(axis=1) instead. To get a de-fragmented frame, use `newframe = frame.copy()`\n",
            "  combined_data[f\"new_feature_{i+1}\"] = [None] * len(combined_data)\n",
            "<ipython-input-5-3b48af411cdc>:17: PerformanceWarning: DataFrame is highly fragmented.  This is usually the result of calling `frame.insert` many times, which has poor performance.  Consider joining all columns at once using pd.concat(axis=1) instead. To get a de-fragmented frame, use `newframe = frame.copy()`\n",
            "  combined_data[f\"new_feature_{i+1}\"] = [None] * len(combined_data)\n"
          ]
        }
      ]
    },
    {
      "cell_type": "markdown",
      "source": [
        "# Modelling `label_2`: Speaker Age\n",
        "\n",
        "Speaker age can be considered as a numerical variable and hence is a regression problem.\n",
        "\n",
        "## Create the KNN Model"
      ],
      "metadata": {
        "id": "uBe1tKmpmqmF"
      }
    },
    {
      "cell_type": "code",
      "source": [
        "from sklearn.neighbors import KNeighborsRegressor\n",
        "from sklearn.metrics import mean_squared_error"
      ],
      "metadata": {
        "id": "TDwhReU5nL3C"
      },
      "execution_count": null,
      "outputs": []
    },
    {
      "cell_type": "code",
      "source": [
        "y = train[\"label_2\"]\n",
        "y_valid = valid[\"label_2\"]"
      ],
      "metadata": {
        "id": "bM3ymZGvoMDV"
      },
      "execution_count": null,
      "outputs": []
    },
    {
      "cell_type": "code",
      "source": [
        "# Create the KNN nodel\n",
        "knn_label_2 = KNeighborsRegressor(n_neighbors = k)\n",
        "knn_label_2.fit(x, y)\n",
        "\n",
        "y_pred_label_2 = knn_label_2.predict(x_valid)\n",
        "mse_label_2 = mean_squared_error(y_valid, y_pred_label_2)\n",
        "print(mse_label_2)"
      ],
      "metadata": {
        "colab": {
          "base_uri": "https://localhost:8080/"
        },
        "id": "0OOvPp5AntW-",
        "outputId": "8b865bd0-70da-4ba1-9e6b-8d259ef8c456"
      },
      "execution_count": null,
      "outputs": [
        {
          "output_type": "stream",
          "name": "stdout",
          "text": [
            "1.5499814814814812\n"
          ]
        }
      ]
    },
    {
      "cell_type": "markdown",
      "source": [
        "## Check for Mutual Information"
      ],
      "metadata": {
        "id": "58-KGwciq-se"
      }
    },
    {
      "cell_type": "code",
      "source": [
        "from sklearn.feature_selection import mutual_info_regression, SelectPercentile"
      ],
      "metadata": {
        "id": "u2rp4oBxrBiH"
      },
      "execution_count": null,
      "outputs": []
    },
    {
      "cell_type": "code",
      "source": [
        "mi = pd.Series(mutual_info_regression(x, y))\n",
        "mi.sort_values(ascending=False)"
      ],
      "metadata": {
        "colab": {
          "base_uri": "https://localhost:8080/"
        },
        "id": "uO7boDAUrWQ5",
        "outputId": "55769ff8-c700-42cc-d37b-78ea34061912"
      },
      "execution_count": null,
      "outputs": [
        {
          "output_type": "execute_result",
          "data": {
            "text/plain": [
              "43     0.170871\n",
              "232    0.149395\n",
              "142    0.137411\n",
              "200    0.129822\n",
              "35     0.129194\n",
              "         ...   \n",
              "185    0.022750\n",
              "97     0.020750\n",
              "31     0.019423\n",
              "238    0.016961\n",
              "47     0.015584\n",
              "Length: 256, dtype: float64"
            ]
          },
          "metadata": {},
          "execution_count": 40
        }
      ]
    },
    {
      "cell_type": "code",
      "source": [
        "mi.sort_values(ascending=False).plot.bar(figsize=(32, 12))"
      ],
      "metadata": {
        "colab": {
          "base_uri": "https://localhost:8080/",
          "height": 728
        },
        "id": "QeIQyRzbHe66",
        "outputId": "b1748c66-f756-4a95-d435-bcbe506c5b26"
      },
      "execution_count": null,
      "outputs": [
        {
          "output_type": "execute_result",
          "data": {
            "text/plain": [
              "<Axes: >"
            ]
          },
          "metadata": {},
          "execution_count": 41
        },
        {
          "output_type": "display_data",
          "data": {
            "text/plain": [
              "<Figure size 3200x1200 with 1 Axes>"
            ],
            "image/png": "[encoded data removed]"
          },
          "metadata": {}
        }
      ]
    },
    {
      "cell_type": "markdown",
      "source": [
        "The distribution is similar to `label_1`. Taking the mutual information values higher than 0.06."
      ],
      "metadata": {
        "id": "tOE9cuSdHnjT"
      }
    },
    {
      "cell_type": "markdown",
      "source": [
        "## Feature Selection"
      ],
      "metadata": {
        "id": "Ci9_nsiSKADO"
      }
    },
    {
      "cell_type": "code",
      "source": [
        "no_of_selected_features = mi[mi > 0.06].count()\n",
        "print (f\"Selected {no_of_selected_features} features out of {len(mi)} features.\")"
      ],
      "metadata": {
        "colab": {
          "base_uri": "https://localhost:8080/"
        },
        "id": "BJrO8eexH6yD",
        "outputId": "6f22a828-f624-4df6-c4e4-3875aeb726ff"
      },
      "execution_count": null,
      "outputs": [
        {
          "output_type": "stream",
          "name": "stdout",
          "text": [
            "Selected 87 features out of 256 features.\n"
          ]
        }
      ]
    },
    {
      "cell_type": "markdown",
      "source": [
        "There are only 87 features with the mutual information value greater than 0.06. Ignore the rest."
      ],
      "metadata": {
        "id": "vq-TirG-IOET"
      }
    },
    {
      "cell_type": "code",
      "source": [
        "# Take a copy of x\n",
        "x_label_2 = x.copy(deep = True)\n",
        "x_valid_label_2 = x_valid.copy(deep = True)"
      ],
      "metadata": {
        "id": "fDbIA1XusWcp"
      },
      "execution_count": null,
      "outputs": []
    },
    {
      "cell_type": "code",
      "source": [
        "# Select only the features with maximum mutual information value\n",
        "selected_cols_label_2 = SelectKBest(mutual_info_classif, k = no_of_selected_features)\n",
        "selected_cols_label_2.fit(x_label_2, y)\n",
        "selected_col_names_label_2 = x_label_2.columns[selected_cols_label_2.get_support()]\n",
        "print(f\"Selected {len(selected_col_names_label_2)} features out of {len(mi)} features.\")\n",
        "print(selected_col_names_label_2)"
      ],
      "metadata": {
        "colab": {
          "base_uri": "https://localhost:8080/"
        },
        "id": "S4hThreisgOG",
        "outputId": "3f9eaf56-14df-4888-df24-fac27d413904"
      },
      "execution_count": null,
      "outputs": [
        {
          "output_type": "stream",
          "name": "stdout",
          "text": [
            "Selected 87 features out of 256 features.\n",
            "Index(['feature_2', 'feature_3', 'feature_4', 'feature_8', 'feature_11',\n",
            "       'feature_12', 'feature_15', 'feature_17', 'feature_19', 'feature_21',\n",
            "       'feature_24', 'feature_26', 'feature_28', 'feature_29', 'feature_35',\n",
            "       'feature_36', 'feature_38', 'feature_39', 'feature_42', 'feature_44',\n",
            "       'feature_46', 'feature_51', 'feature_58', 'feature_60', 'feature_63',\n",
            "       'feature_70', 'feature_76', 'feature_83', 'feature_86', 'feature_88',\n",
            "       'feature_90', 'feature_91', 'feature_93', 'feature_95', 'feature_99',\n",
            "       'feature_100', 'feature_102', 'feature_107', 'feature_109',\n",
            "       'feature_111', 'feature_113', 'feature_117', 'feature_131',\n",
            "       'feature_134', 'feature_136', 'feature_141', 'feature_143',\n",
            "       'feature_145', 'feature_149', 'feature_151', 'feature_153',\n",
            "       'feature_156', 'feature_162', 'feature_166', 'feature_170',\n",
            "       'feature_174', 'feature_176', 'feature_178', 'feature_182',\n",
            "       'feature_187', 'feature_188', 'feature_189', 'feature_201',\n",
            "       'feature_204', 'feature_207', 'feature_209', 'feature_213',\n",
            "       'feature_219', 'feature_220', 'feature_222', 'feature_223',\n",
            "       'feature_226', 'feature_229', 'feature_232', 'feature_233',\n",
            "       'feature_234', 'feature_236', 'feature_237', 'feature_238',\n",
            "       'feature_240', 'feature_241', 'feature_244', 'feature_248',\n",
            "       'feature_249', 'feature_251', 'feature_255', 'feature_256'],\n",
            "      dtype='object')\n"
          ]
        }
      ]
    },
    {
      "cell_type": "code",
      "source": [
        "x_label_2 = pd.DataFrame(x_label_2, columns = selected_col_names_label_2)\n",
        "x_valid_label_2 = pd.DataFrame(x_valid_label_2, columns = selected_col_names_label_2)"
      ],
      "metadata": {
        "id": "lsrozu09shlC"
      },
      "execution_count": null,
      "outputs": []
    },
    {
      "cell_type": "markdown",
      "source": [
        "## Create the KNN Model again"
      ],
      "metadata": {
        "id": "oEoCZOS_uXtU"
      }
    },
    {
      "cell_type": "code",
      "source": [
        "# Create the KNN nodel\n",
        "knn_label_2_selected = KNeighborsRegressor(n_neighbors = k)\n",
        "knn_label_2_selected.fit(x_label_2, y)\n",
        "\n",
        "y_pred = knn_label_2_selected.predict(x_valid_label_2)\n",
        "mse_label_2_selected = mean_squared_error(y_valid, y_pred)\n",
        "print(f\"Mean squared error of the new model is {mse_label_2_selected} and the MSE of the original model was {mse_label_2}.\")"
      ],
      "metadata": {
        "colab": {
          "base_uri": "https://localhost:8080/"
        },
        "id": "LIZ3GOsfuari",
        "outputId": "89e96109-d564-4b82-aac0-0110446c699c"
      },
      "execution_count": null,
      "outputs": [
        {
          "output_type": "stream",
          "name": "stdout",
          "text": [
            "Mean squared error of the new model is 1.6464537037037037 and the MSE of the original model was 1.5499814814814812.\n"
          ]
        }
      ]
    },
    {
      "cell_type": "markdown",
      "source": [
        "## Predicting and writing to CSV"
      ],
      "metadata": {
        "id": "McaXdrloir2J"
      }
    },
    {
      "cell_type": "code",
      "source": [
        "x_test_label_2 = x_test.copy(deep = True)\n",
        "x_test_label_2 = pd.DataFrame(x_test_label_2, columns = selected_col_names_label_2)\n",
        "\n",
        "y_test_pred_label_2 = knn_label_2.predict(x_test)\n",
        "y_test_pred_label_2_selected = knn_label_2_selected.predict(x_test_label_2)\n",
        "create_csv(x_test_label_2, y_test_pred_label_2, y_test_pred_label_2_selected, \"label_2\")"
      ],
      "metadata": {
        "colab": {
          "base_uri": "https://localhost:8080/"
        },
        "id": "LLfdShwrizhd",
        "outputId": "4b55dff7-a36f-493c-dec2-61e948651d07"
      },
      "execution_count": null,
      "outputs": [
        {
          "output_type": "stream",
          "name": "stderr",
          "text": [
            "<ipython-input-5-3b48af411cdc>:17: PerformanceWarning: DataFrame is highly fragmented.  This is usually the result of calling `frame.insert` many times, which has poor performance.  Consider joining all columns at once using pd.concat(axis=1) instead. To get a de-fragmented frame, use `newframe = frame.copy()`\n",
            "  combined_data[f\"new_feature_{i+1}\"] = [None] * len(combined_data)\n",
            "<ipython-input-5-3b48af411cdc>:17: PerformanceWarning: DataFrame is highly fragmented.  This is usually the result of calling `frame.insert` many times, which has poor performance.  Consider joining all columns at once using pd.concat(axis=1) instead. To get a de-fragmented frame, use `newframe = frame.copy()`\n",
            "  combined_data[f\"new_feature_{i+1}\"] = [None] * len(combined_data)\n",
            "<ipython-input-5-3b48af411cdc>:17: PerformanceWarning: DataFrame is highly fragmented.  This is usually the result of calling `frame.insert` many times, which has poor performance.  Consider joining all columns at once using pd.concat(axis=1) instead. To get a de-fragmented frame, use `newframe = frame.copy()`\n",
            "  combined_data[f\"new_feature_{i+1}\"] = [None] * len(combined_data)\n",
            "<ipython-input-5-3b48af411cdc>:17: PerformanceWarning: DataFrame is highly fragmented.  This is usually the result of calling `frame.insert` many times, which has poor performance.  Consider joining all columns at once using pd.concat(axis=1) instead. To get a de-fragmented frame, use `newframe = frame.copy()`\n",
            "  combined_data[f\"new_feature_{i+1}\"] = [None] * len(combined_data)\n",
            "<ipython-input-5-3b48af411cdc>:17: PerformanceWarning: DataFrame is highly fragmented.  This is usually the result of calling `frame.insert` many times, which has poor performance.  Consider joining all columns at once using pd.concat(axis=1) instead. To get a de-fragmented frame, use `newframe = frame.copy()`\n",
            "  combined_data[f\"new_feature_{i+1}\"] = [None] * len(combined_data)\n",
            "<ipython-input-5-3b48af411cdc>:17: PerformanceWarning: DataFrame is highly fragmented.  This is usually the result of calling `frame.insert` many times, which has poor performance.  Consider joining all columns at once using pd.concat(axis=1) instead. To get a de-fragmented frame, use `newframe = frame.copy()`\n",
            "  combined_data[f\"new_feature_{i+1}\"] = [None] * len(combined_data)\n",
            "<ipython-input-5-3b48af411cdc>:17: PerformanceWarning: DataFrame is highly fragmented.  This is usually the result of calling `frame.insert` many times, which has poor performance.  Consider joining all columns at once using pd.concat(axis=1) instead. To get a de-fragmented frame, use `newframe = frame.copy()`\n",
            "  combined_data[f\"new_feature_{i+1}\"] = [None] * len(combined_data)\n",
            "<ipython-input-5-3b48af411cdc>:17: PerformanceWarning: DataFrame is highly fragmented.  This is usually the result of calling `frame.insert` many times, which has poor performance.  Consider joining all columns at once using pd.concat(axis=1) instead. To get a de-fragmented frame, use `newframe = frame.copy()`\n",
            "  combined_data[f\"new_feature_{i+1}\"] = [None] * len(combined_data)\n",
            "<ipython-input-5-3b48af411cdc>:17: PerformanceWarning: DataFrame is highly fragmented.  This is usually the result of calling `frame.insert` many times, which has poor performance.  Consider joining all columns at once using pd.concat(axis=1) instead. To get a de-fragmented frame, use `newframe = frame.copy()`\n",
            "  combined_data[f\"new_feature_{i+1}\"] = [None] * len(combined_data)\n",
            "<ipython-input-5-3b48af411cdc>:17: PerformanceWarning: DataFrame is highly fragmented.  This is usually the result of calling `frame.insert` many times, which has poor performance.  Consider joining all columns at once using pd.concat(axis=1) instead. To get a de-fragmented frame, use `newframe = frame.copy()`\n",
            "  combined_data[f\"new_feature_{i+1}\"] = [None] * len(combined_data)\n",
            "<ipython-input-5-3b48af411cdc>:17: PerformanceWarning: DataFrame is highly fragmented.  This is usually the result of calling `frame.insert` many times, which has poor performance.  Consider joining all columns at once using pd.concat(axis=1) instead. To get a de-fragmented frame, use `newframe = frame.copy()`\n",
            "  combined_data[f\"new_feature_{i+1}\"] = [None] * len(combined_data)\n",
            "<ipython-input-5-3b48af411cdc>:17: PerformanceWarning: DataFrame is highly fragmented.  This is usually the result of calling `frame.insert` many times, which has poor performance.  Consider joining all columns at once using pd.concat(axis=1) instead. To get a de-fragmented frame, use `newframe = frame.copy()`\n",
            "  combined_data[f\"new_feature_{i+1}\"] = [None] * len(combined_data)\n",
            "<ipython-input-5-3b48af411cdc>:17: PerformanceWarning: DataFrame is highly fragmented.  This is usually the result of calling `frame.insert` many times, which has poor performance.  Consider joining all columns at once using pd.concat(axis=1) instead. To get a de-fragmented frame, use `newframe = frame.copy()`\n",
            "  combined_data[f\"new_feature_{i+1}\"] = [None] * len(combined_data)\n",
            "<ipython-input-5-3b48af411cdc>:17: PerformanceWarning: DataFrame is highly fragmented.  This is usually the result of calling `frame.insert` many times, which has poor performance.  Consider joining all columns at once using pd.concat(axis=1) instead. To get a de-fragmented frame, use `newframe = frame.copy()`\n",
            "  combined_data[f\"new_feature_{i+1}\"] = [None] * len(combined_data)\n",
            "<ipython-input-5-3b48af411cdc>:17: PerformanceWarning: DataFrame is highly fragmented.  This is usually the result of calling `frame.insert` many times, which has poor performance.  Consider joining all columns at once using pd.concat(axis=1) instead. To get a de-fragmented frame, use `newframe = frame.copy()`\n",
            "  combined_data[f\"new_feature_{i+1}\"] = [None] * len(combined_data)\n",
            "<ipython-input-5-3b48af411cdc>:17: PerformanceWarning: DataFrame is highly fragmented.  This is usually the result of calling `frame.insert` many times, which has poor performance.  Consider joining all columns at once using pd.concat(axis=1) instead. To get a de-fragmented frame, use `newframe = frame.copy()`\n",
            "  combined_data[f\"new_feature_{i+1}\"] = [None] * len(combined_data)\n",
            "<ipython-input-5-3b48af411cdc>:17: PerformanceWarning: DataFrame is highly fragmented.  This is usually the result of calling `frame.insert` many times, which has poor performance.  Consider joining all columns at once using pd.concat(axis=1) instead. To get a de-fragmented frame, use `newframe = frame.copy()`\n",
            "  combined_data[f\"new_feature_{i+1}\"] = [None] * len(combined_data)\n",
            "<ipython-input-5-3b48af411cdc>:17: PerformanceWarning: DataFrame is highly fragmented.  This is usually the result of calling `frame.insert` many times, which has poor performance.  Consider joining all columns at once using pd.concat(axis=1) instead. To get a de-fragmented frame, use `newframe = frame.copy()`\n",
            "  combined_data[f\"new_feature_{i+1}\"] = [None] * len(combined_data)\n",
            "<ipython-input-5-3b48af411cdc>:17: PerformanceWarning: DataFrame is highly fragmented.  This is usually the result of calling `frame.insert` many times, which has poor performance.  Consider joining all columns at once using pd.concat(axis=1) instead. To get a de-fragmented frame, use `newframe = frame.copy()`\n",
            "  combined_data[f\"new_feature_{i+1}\"] = [None] * len(combined_data)\n",
            "<ipython-input-5-3b48af411cdc>:17: PerformanceWarning: DataFrame is highly fragmented.  This is usually the result of calling `frame.insert` many times, which has poor performance.  Consider joining all columns at once using pd.concat(axis=1) instead. To get a de-fragmented frame, use `newframe = frame.copy()`\n",
            "  combined_data[f\"new_feature_{i+1}\"] = [None] * len(combined_data)\n",
            "<ipython-input-5-3b48af411cdc>:17: PerformanceWarning: DataFrame is highly fragmented.  This is usually the result of calling `frame.insert` many times, which has poor performance.  Consider joining all columns at once using pd.concat(axis=1) instead. To get a de-fragmented frame, use `newframe = frame.copy()`\n",
            "  combined_data[f\"new_feature_{i+1}\"] = [None] * len(combined_data)\n",
            "<ipython-input-5-3b48af411cdc>:17: PerformanceWarning: DataFrame is highly fragmented.  This is usually the result of calling `frame.insert` many times, which has poor performance.  Consider joining all columns at once using pd.concat(axis=1) instead. To get a de-fragmented frame, use `newframe = frame.copy()`\n",
            "  combined_data[f\"new_feature_{i+1}\"] = [None] * len(combined_data)\n",
            "<ipython-input-5-3b48af411cdc>:17: PerformanceWarning: DataFrame is highly fragmented.  This is usually the result of calling `frame.insert` many times, which has poor performance.  Consider joining all columns at once using pd.concat(axis=1) instead. To get a de-fragmented frame, use `newframe = frame.copy()`\n",
            "  combined_data[f\"new_feature_{i+1}\"] = [None] * len(combined_data)\n",
            "<ipython-input-5-3b48af411cdc>:17: PerformanceWarning: DataFrame is highly fragmented.  This is usually the result of calling `frame.insert` many times, which has poor performance.  Consider joining all columns at once using pd.concat(axis=1) instead. To get a de-fragmented frame, use `newframe = frame.copy()`\n",
            "  combined_data[f\"new_feature_{i+1}\"] = [None] * len(combined_data)\n",
            "<ipython-input-5-3b48af411cdc>:17: PerformanceWarning: DataFrame is highly fragmented.  This is usually the result of calling `frame.insert` many times, which has poor performance.  Consider joining all columns at once using pd.concat(axis=1) instead. To get a de-fragmented frame, use `newframe = frame.copy()`\n",
            "  combined_data[f\"new_feature_{i+1}\"] = [None] * len(combined_data)\n",
            "<ipython-input-5-3b48af411cdc>:17: PerformanceWarning: DataFrame is highly fragmented.  This is usually the result of calling `frame.insert` many times, which has poor performance.  Consider joining all columns at once using pd.concat(axis=1) instead. To get a de-fragmented frame, use `newframe = frame.copy()`\n",
            "  combined_data[f\"new_feature_{i+1}\"] = [None] * len(combined_data)\n",
            "<ipython-input-5-3b48af411cdc>:17: PerformanceWarning: DataFrame is highly fragmented.  This is usually the result of calling `frame.insert` many times, which has poor performance.  Consider joining all columns at once using pd.concat(axis=1) instead. To get a de-fragmented frame, use `newframe = frame.copy()`\n",
            "  combined_data[f\"new_feature_{i+1}\"] = [None] * len(combined_data)\n",
            "<ipython-input-5-3b48af411cdc>:17: PerformanceWarning: DataFrame is highly fragmented.  This is usually the result of calling `frame.insert` many times, which has poor performance.  Consider joining all columns at once using pd.concat(axis=1) instead. To get a de-fragmented frame, use `newframe = frame.copy()`\n",
            "  combined_data[f\"new_feature_{i+1}\"] = [None] * len(combined_data)\n",
            "<ipython-input-5-3b48af411cdc>:17: PerformanceWarning: DataFrame is highly fragmented.  This is usually the result of calling `frame.insert` many times, which has poor performance.  Consider joining all columns at once using pd.concat(axis=1) instead. To get a de-fragmented frame, use `newframe = frame.copy()`\n",
            "  combined_data[f\"new_feature_{i+1}\"] = [None] * len(combined_data)\n",
            "<ipython-input-5-3b48af411cdc>:17: PerformanceWarning: DataFrame is highly fragmented.  This is usually the result of calling `frame.insert` many times, which has poor performance.  Consider joining all columns at once using pd.concat(axis=1) instead. To get a de-fragmented frame, use `newframe = frame.copy()`\n",
            "  combined_data[f\"new_feature_{i+1}\"] = [None] * len(combined_data)\n",
            "<ipython-input-5-3b48af411cdc>:17: PerformanceWarning: DataFrame is highly fragmented.  This is usually the result of calling `frame.insert` many times, which has poor performance.  Consider joining all columns at once using pd.concat(axis=1) instead. To get a de-fragmented frame, use `newframe = frame.copy()`\n",
            "  combined_data[f\"new_feature_{i+1}\"] = [None] * len(combined_data)\n",
            "<ipython-input-5-3b48af411cdc>:17: PerformanceWarning: DataFrame is highly fragmented.  This is usually the result of calling `frame.insert` many times, which has poor performance.  Consider joining all columns at once using pd.concat(axis=1) instead. To get a de-fragmented frame, use `newframe = frame.copy()`\n",
            "  combined_data[f\"new_feature_{i+1}\"] = [None] * len(combined_data)\n",
            "<ipython-input-5-3b48af411cdc>:17: PerformanceWarning: DataFrame is highly fragmented.  This is usually the result of calling `frame.insert` many times, which has poor performance.  Consider joining all columns at once using pd.concat(axis=1) instead. To get a de-fragmented frame, use `newframe = frame.copy()`\n",
            "  combined_data[f\"new_feature_{i+1}\"] = [None] * len(combined_data)\n",
            "<ipython-input-5-3b48af411cdc>:17: PerformanceWarning: DataFrame is highly fragmented.  This is usually the result of calling `frame.insert` many times, which has poor performance.  Consider joining all columns at once using pd.concat(axis=1) instead. To get a de-fragmented frame, use `newframe = frame.copy()`\n",
            "  combined_data[f\"new_feature_{i+1}\"] = [None] * len(combined_data)\n",
            "<ipython-input-5-3b48af411cdc>:17: PerformanceWarning: DataFrame is highly fragmented.  This is usually the result of calling `frame.insert` many times, which has poor performance.  Consider joining all columns at once using pd.concat(axis=1) instead. To get a de-fragmented frame, use `newframe = frame.copy()`\n",
            "  combined_data[f\"new_feature_{i+1}\"] = [None] * len(combined_data)\n",
            "<ipython-input-5-3b48af411cdc>:17: PerformanceWarning: DataFrame is highly fragmented.  This is usually the result of calling `frame.insert` many times, which has poor performance.  Consider joining all columns at once using pd.concat(axis=1) instead. To get a de-fragmented frame, use `newframe = frame.copy()`\n",
            "  combined_data[f\"new_feature_{i+1}\"] = [None] * len(combined_data)\n",
            "<ipython-input-5-3b48af411cdc>:17: PerformanceWarning: DataFrame is highly fragmented.  This is usually the result of calling `frame.insert` many times, which has poor performance.  Consider joining all columns at once using pd.concat(axis=1) instead. To get a de-fragmented frame, use `newframe = frame.copy()`\n",
            "  combined_data[f\"new_feature_{i+1}\"] = [None] * len(combined_data)\n",
            "<ipython-input-5-3b48af411cdc>:17: PerformanceWarning: DataFrame is highly fragmented.  This is usually the result of calling `frame.insert` many times, which has poor performance.  Consider joining all columns at once using pd.concat(axis=1) instead. To get a de-fragmented frame, use `newframe = frame.copy()`\n",
            "  combined_data[f\"new_feature_{i+1}\"] = [None] * len(combined_data)\n",
            "<ipython-input-5-3b48af411cdc>:17: PerformanceWarning: DataFrame is highly fragmented.  This is usually the result of calling `frame.insert` many times, which has poor performance.  Consider joining all columns at once using pd.concat(axis=1) instead. To get a de-fragmented frame, use `newframe = frame.copy()`\n",
            "  combined_data[f\"new_feature_{i+1}\"] = [None] * len(combined_data)\n",
            "<ipython-input-5-3b48af411cdc>:17: PerformanceWarning: DataFrame is highly fragmented.  This is usually the result of calling `frame.insert` many times, which has poor performance.  Consider joining all columns at once using pd.concat(axis=1) instead. To get a de-fragmented frame, use `newframe = frame.copy()`\n",
            "  combined_data[f\"new_feature_{i+1}\"] = [None] * len(combined_data)\n",
            "<ipython-input-5-3b48af411cdc>:17: PerformanceWarning: DataFrame is highly fragmented.  This is usually the result of calling `frame.insert` many times, which has poor performance.  Consider joining all columns at once using pd.concat(axis=1) instead. To get a de-fragmented frame, use `newframe = frame.copy()`\n",
            "  combined_data[f\"new_feature_{i+1}\"] = [None] * len(combined_data)\n",
            "<ipython-input-5-3b48af411cdc>:17: PerformanceWarning: DataFrame is highly fragmented.  This is usually the result of calling `frame.insert` many times, which has poor performance.  Consider joining all columns at once using pd.concat(axis=1) instead. To get a de-fragmented frame, use `newframe = frame.copy()`\n",
            "  combined_data[f\"new_feature_{i+1}\"] = [None] * len(combined_data)\n",
            "<ipython-input-5-3b48af411cdc>:17: PerformanceWarning: DataFrame is highly fragmented.  This is usually the result of calling `frame.insert` many times, which has poor performance.  Consider joining all columns at once using pd.concat(axis=1) instead. To get a de-fragmented frame, use `newframe = frame.copy()`\n",
            "  combined_data[f\"new_feature_{i+1}\"] = [None] * len(combined_data)\n",
            "<ipython-input-5-3b48af411cdc>:17: PerformanceWarning: DataFrame is highly fragmented.  This is usually the result of calling `frame.insert` many times, which has poor performance.  Consider joining all columns at once using pd.concat(axis=1) instead. To get a de-fragmented frame, use `newframe = frame.copy()`\n",
            "  combined_data[f\"new_feature_{i+1}\"] = [None] * len(combined_data)\n",
            "<ipython-input-5-3b48af411cdc>:17: PerformanceWarning: DataFrame is highly fragmented.  This is usually the result of calling `frame.insert` many times, which has poor performance.  Consider joining all columns at once using pd.concat(axis=1) instead. To get a de-fragmented frame, use `newframe = frame.copy()`\n",
            "  combined_data[f\"new_feature_{i+1}\"] = [None] * len(combined_data)\n",
            "<ipython-input-5-3b48af411cdc>:17: PerformanceWarning: DataFrame is highly fragmented.  This is usually the result of calling `frame.insert` many times, which has poor performance.  Consider joining all columns at once using pd.concat(axis=1) instead. To get a de-fragmented frame, use `newframe = frame.copy()`\n",
            "  combined_data[f\"new_feature_{i+1}\"] = [None] * len(combined_data)\n",
            "<ipython-input-5-3b48af411cdc>:17: PerformanceWarning: DataFrame is highly fragmented.  This is usually the result of calling `frame.insert` many times, which has poor performance.  Consider joining all columns at once using pd.concat(axis=1) instead. To get a de-fragmented frame, use `newframe = frame.copy()`\n",
            "  combined_data[f\"new_feature_{i+1}\"] = [None] * len(combined_data)\n",
            "<ipython-input-5-3b48af411cdc>:17: PerformanceWarning: DataFrame is highly fragmented.  This is usually the result of calling `frame.insert` many times, which has poor performance.  Consider joining all columns at once using pd.concat(axis=1) instead. To get a de-fragmented frame, use `newframe = frame.copy()`\n",
            "  combined_data[f\"new_feature_{i+1}\"] = [None] * len(combined_data)\n",
            "<ipython-input-5-3b48af411cdc>:17: PerformanceWarning: DataFrame is highly fragmented.  This is usually the result of calling `frame.insert` many times, which has poor performance.  Consider joining all columns at once using pd.concat(axis=1) instead. To get a de-fragmented frame, use `newframe = frame.copy()`\n",
            "  combined_data[f\"new_feature_{i+1}\"] = [None] * len(combined_data)\n",
            "<ipython-input-5-3b48af411cdc>:17: PerformanceWarning: DataFrame is highly fragmented.  This is usually the result of calling `frame.insert` many times, which has poor performance.  Consider joining all columns at once using pd.concat(axis=1) instead. To get a de-fragmented frame, use `newframe = frame.copy()`\n",
            "  combined_data[f\"new_feature_{i+1}\"] = [None] * len(combined_data)\n",
            "<ipython-input-5-3b48af411cdc>:17: PerformanceWarning: DataFrame is highly fragmented.  This is usually the result of calling `frame.insert` many times, which has poor performance.  Consider joining all columns at once using pd.concat(axis=1) instead. To get a de-fragmented frame, use `newframe = frame.copy()`\n",
            "  combined_data[f\"new_feature_{i+1}\"] = [None] * len(combined_data)\n",
            "<ipython-input-5-3b48af411cdc>:17: PerformanceWarning: DataFrame is highly fragmented.  This is usually the result of calling `frame.insert` many times, which has poor performance.  Consider joining all columns at once using pd.concat(axis=1) instead. To get a de-fragmented frame, use `newframe = frame.copy()`\n",
            "  combined_data[f\"new_feature_{i+1}\"] = [None] * len(combined_data)\n",
            "<ipython-input-5-3b48af411cdc>:17: PerformanceWarning: DataFrame is highly fragmented.  This is usually the result of calling `frame.insert` many times, which has poor performance.  Consider joining all columns at once using pd.concat(axis=1) instead. To get a de-fragmented frame, use `newframe = frame.copy()`\n",
            "  combined_data[f\"new_feature_{i+1}\"] = [None] * len(combined_data)\n",
            "<ipython-input-5-3b48af411cdc>:17: PerformanceWarning: DataFrame is highly fragmented.  This is usually the result of calling `frame.insert` many times, which has poor performance.  Consider joining all columns at once using pd.concat(axis=1) instead. To get a de-fragmented frame, use `newframe = frame.copy()`\n",
            "  combined_data[f\"new_feature_{i+1}\"] = [None] * len(combined_data)\n",
            "<ipython-input-5-3b48af411cdc>:17: PerformanceWarning: DataFrame is highly fragmented.  This is usually the result of calling `frame.insert` many times, which has poor performance.  Consider joining all columns at once using pd.concat(axis=1) instead. To get a de-fragmented frame, use `newframe = frame.copy()`\n",
            "  combined_data[f\"new_feature_{i+1}\"] = [None] * len(combined_data)\n",
            "<ipython-input-5-3b48af411cdc>:17: PerformanceWarning: DataFrame is highly fragmented.  This is usually the result of calling `frame.insert` many times, which has poor performance.  Consider joining all columns at once using pd.concat(axis=1) instead. To get a de-fragmented frame, use `newframe = frame.copy()`\n",
            "  combined_data[f\"new_feature_{i+1}\"] = [None] * len(combined_data)\n",
            "<ipython-input-5-3b48af411cdc>:17: PerformanceWarning: DataFrame is highly fragmented.  This is usually the result of calling `frame.insert` many times, which has poor performance.  Consider joining all columns at once using pd.concat(axis=1) instead. To get a de-fragmented frame, use `newframe = frame.copy()`\n",
            "  combined_data[f\"new_feature_{i+1}\"] = [None] * len(combined_data)\n",
            "<ipython-input-5-3b48af411cdc>:17: PerformanceWarning: DataFrame is highly fragmented.  This is usually the result of calling `frame.insert` many times, which has poor performance.  Consider joining all columns at once using pd.concat(axis=1) instead. To get a de-fragmented frame, use `newframe = frame.copy()`\n",
            "  combined_data[f\"new_feature_{i+1}\"] = [None] * len(combined_data)\n",
            "<ipython-input-5-3b48af411cdc>:17: PerformanceWarning: DataFrame is highly fragmented.  This is usually the result of calling `frame.insert` many times, which has poor performance.  Consider joining all columns at once using pd.concat(axis=1) instead. To get a de-fragmented frame, use `newframe = frame.copy()`\n",
            "  combined_data[f\"new_feature_{i+1}\"] = [None] * len(combined_data)\n",
            "<ipython-input-5-3b48af411cdc>:17: PerformanceWarning: DataFrame is highly fragmented.  This is usually the result of calling `frame.insert` many times, which has poor performance.  Consider joining all columns at once using pd.concat(axis=1) instead. To get a de-fragmented frame, use `newframe = frame.copy()`\n",
            "  combined_data[f\"new_feature_{i+1}\"] = [None] * len(combined_data)\n",
            "<ipython-input-5-3b48af411cdc>:17: PerformanceWarning: DataFrame is highly fragmented.  This is usually the result of calling `frame.insert` many times, which has poor performance.  Consider joining all columns at once using pd.concat(axis=1) instead. To get a de-fragmented frame, use `newframe = frame.copy()`\n",
            "  combined_data[f\"new_feature_{i+1}\"] = [None] * len(combined_data)\n",
            "<ipython-input-5-3b48af411cdc>:17: PerformanceWarning: DataFrame is highly fragmented.  This is usually the result of calling `frame.insert` many times, which has poor performance.  Consider joining all columns at once using pd.concat(axis=1) instead. To get a de-fragmented frame, use `newframe = frame.copy()`\n",
            "  combined_data[f\"new_feature_{i+1}\"] = [None] * len(combined_data)\n",
            "<ipython-input-5-3b48af411cdc>:17: PerformanceWarning: DataFrame is highly fragmented.  This is usually the result of calling `frame.insert` many times, which has poor performance.  Consider joining all columns at once using pd.concat(axis=1) instead. To get a de-fragmented frame, use `newframe = frame.copy()`\n",
            "  combined_data[f\"new_feature_{i+1}\"] = [None] * len(combined_data)\n",
            "<ipython-input-5-3b48af411cdc>:17: PerformanceWarning: DataFrame is highly fragmented.  This is usually the result of calling `frame.insert` many times, which has poor performance.  Consider joining all columns at once using pd.concat(axis=1) instead. To get a de-fragmented frame, use `newframe = frame.copy()`\n",
            "  combined_data[f\"new_feature_{i+1}\"] = [None] * len(combined_data)\n",
            "<ipython-input-5-3b48af411cdc>:17: PerformanceWarning: DataFrame is highly fragmented.  This is usually the result of calling `frame.insert` many times, which has poor performance.  Consider joining all columns at once using pd.concat(axis=1) instead. To get a de-fragmented frame, use `newframe = frame.copy()`\n",
            "  combined_data[f\"new_feature_{i+1}\"] = [None] * len(combined_data)\n",
            "<ipython-input-5-3b48af411cdc>:17: PerformanceWarning: DataFrame is highly fragmented.  This is usually the result of calling `frame.insert` many times, which has poor performance.  Consider joining all columns at once using pd.concat(axis=1) instead. To get a de-fragmented frame, use `newframe = frame.copy()`\n",
            "  combined_data[f\"new_feature_{i+1}\"] = [None] * len(combined_data)\n",
            "<ipython-input-5-3b48af411cdc>:17: PerformanceWarning: DataFrame is highly fragmented.  This is usually the result of calling `frame.insert` many times, which has poor performance.  Consider joining all columns at once using pd.concat(axis=1) instead. To get a de-fragmented frame, use `newframe = frame.copy()`\n",
            "  combined_data[f\"new_feature_{i+1}\"] = [None] * len(combined_data)\n",
            "<ipython-input-5-3b48af411cdc>:17: PerformanceWarning: DataFrame is highly fragmented.  This is usually the result of calling `frame.insert` many times, which has poor performance.  Consider joining all columns at once using pd.concat(axis=1) instead. To get a de-fragmented frame, use `newframe = frame.copy()`\n",
            "  combined_data[f\"new_feature_{i+1}\"] = [None] * len(combined_data)\n",
            "<ipython-input-5-3b48af411cdc>:17: PerformanceWarning: DataFrame is highly fragmented.  This is usually the result of calling `frame.insert` many times, which has poor performance.  Consider joining all columns at once using pd.concat(axis=1) instead. To get a de-fragmented frame, use `newframe = frame.copy()`\n",
            "  combined_data[f\"new_feature_{i+1}\"] = [None] * len(combined_data)\n",
            "<ipython-input-5-3b48af411cdc>:17: PerformanceWarning: DataFrame is highly fragmented.  This is usually the result of calling `frame.insert` many times, which has poor performance.  Consider joining all columns at once using pd.concat(axis=1) instead. To get a de-fragmented frame, use `newframe = frame.copy()`\n",
            "  combined_data[f\"new_feature_{i+1}\"] = [None] * len(combined_data)\n",
            "<ipython-input-5-3b48af411cdc>:17: PerformanceWarning: DataFrame is highly fragmented.  This is usually the result of calling `frame.insert` many times, which has poor performance.  Consider joining all columns at once using pd.concat(axis=1) instead. To get a de-fragmented frame, use `newframe = frame.copy()`\n",
            "  combined_data[f\"new_feature_{i+1}\"] = [None] * len(combined_data)\n",
            "<ipython-input-5-3b48af411cdc>:17: PerformanceWarning: DataFrame is highly fragmented.  This is usually the result of calling `frame.insert` many times, which has poor performance.  Consider joining all columns at once using pd.concat(axis=1) instead. To get a de-fragmented frame, use `newframe = frame.copy()`\n",
            "  combined_data[f\"new_feature_{i+1}\"] = [None] * len(combined_data)\n",
            "<ipython-input-5-3b48af411cdc>:17: PerformanceWarning: DataFrame is highly fragmented.  This is usually the result of calling `frame.insert` many times, which has poor performance.  Consider joining all columns at once using pd.concat(axis=1) instead. To get a de-fragmented frame, use `newframe = frame.copy()`\n",
            "  combined_data[f\"new_feature_{i+1}\"] = [None] * len(combined_data)\n",
            "<ipython-input-5-3b48af411cdc>:17: PerformanceWarning: DataFrame is highly fragmented.  This is usually the result of calling `frame.insert` many times, which has poor performance.  Consider joining all columns at once using pd.concat(axis=1) instead. To get a de-fragmented frame, use `newframe = frame.copy()`\n",
            "  combined_data[f\"new_feature_{i+1}\"] = [None] * len(combined_data)\n",
            "<ipython-input-5-3b48af411cdc>:17: PerformanceWarning: DataFrame is highly fragmented.  This is usually the result of calling `frame.insert` many times, which has poor performance.  Consider joining all columns at once using pd.concat(axis=1) instead. To get a de-fragmented frame, use `newframe = frame.copy()`\n",
            "  combined_data[f\"new_feature_{i+1}\"] = [None] * len(combined_data)\n",
            "<ipython-input-5-3b48af411cdc>:17: PerformanceWarning: DataFrame is highly fragmented.  This is usually the result of calling `frame.insert` many times, which has poor performance.  Consider joining all columns at once using pd.concat(axis=1) instead. To get a de-fragmented frame, use `newframe = frame.copy()`\n",
            "  combined_data[f\"new_feature_{i+1}\"] = [None] * len(combined_data)\n",
            "<ipython-input-5-3b48af411cdc>:17: PerformanceWarning: DataFrame is highly fragmented.  This is usually the result of calling `frame.insert` many times, which has poor performance.  Consider joining all columns at once using pd.concat(axis=1) instead. To get a de-fragmented frame, use `newframe = frame.copy()`\n",
            "  combined_data[f\"new_feature_{i+1}\"] = [None] * len(combined_data)\n",
            "<ipython-input-5-3b48af411cdc>:17: PerformanceWarning: DataFrame is highly fragmented.  This is usually the result of calling `frame.insert` many times, which has poor performance.  Consider joining all columns at once using pd.concat(axis=1) instead. To get a de-fragmented frame, use `newframe = frame.copy()`\n",
            "  combined_data[f\"new_feature_{i+1}\"] = [None] * len(combined_data)\n",
            "<ipython-input-5-3b48af411cdc>:17: PerformanceWarning: DataFrame is highly fragmented.  This is usually the result of calling `frame.insert` many times, which has poor performance.  Consider joining all columns at once using pd.concat(axis=1) instead. To get a de-fragmented frame, use `newframe = frame.copy()`\n",
            "  combined_data[f\"new_feature_{i+1}\"] = [None] * len(combined_data)\n",
            "<ipython-input-5-3b48af411cdc>:17: PerformanceWarning: DataFrame is highly fragmented.  This is usually the result of calling `frame.insert` many times, which has poor performance.  Consider joining all columns at once using pd.concat(axis=1) instead. To get a de-fragmented frame, use `newframe = frame.copy()`\n",
            "  combined_data[f\"new_feature_{i+1}\"] = [None] * len(combined_data)\n",
            "<ipython-input-5-3b48af411cdc>:17: PerformanceWarning: DataFrame is highly fragmented.  This is usually the result of calling `frame.insert` many times, which has poor performance.  Consider joining all columns at once using pd.concat(axis=1) instead. To get a de-fragmented frame, use `newframe = frame.copy()`\n",
            "  combined_data[f\"new_feature_{i+1}\"] = [None] * len(combined_data)\n",
            "<ipython-input-5-3b48af411cdc>:17: PerformanceWarning: DataFrame is highly fragmented.  This is usually the result of calling `frame.insert` many times, which has poor performance.  Consider joining all columns at once using pd.concat(axis=1) instead. To get a de-fragmented frame, use `newframe = frame.copy()`\n",
            "  combined_data[f\"new_feature_{i+1}\"] = [None] * len(combined_data)\n",
            "<ipython-input-5-3b48af411cdc>:17: PerformanceWarning: DataFrame is highly fragmented.  This is usually the result of calling `frame.insert` many times, which has poor performance.  Consider joining all columns at once using pd.concat(axis=1) instead. To get a de-fragmented frame, use `newframe = frame.copy()`\n",
            "  combined_data[f\"new_feature_{i+1}\"] = [None] * len(combined_data)\n",
            "<ipython-input-5-3b48af411cdc>:17: PerformanceWarning: DataFrame is highly fragmented.  This is usually the result of calling `frame.insert` many times, which has poor performance.  Consider joining all columns at once using pd.concat(axis=1) instead. To get a de-fragmented frame, use `newframe = frame.copy()`\n",
            "  combined_data[f\"new_feature_{i+1}\"] = [None] * len(combined_data)\n",
            "<ipython-input-5-3b48af411cdc>:17: PerformanceWarning: DataFrame is highly fragmented.  This is usually the result of calling `frame.insert` many times, which has poor performance.  Consider joining all columns at once using pd.concat(axis=1) instead. To get a de-fragmented frame, use `newframe = frame.copy()`\n",
            "  combined_data[f\"new_feature_{i+1}\"] = [None] * len(combined_data)\n",
            "<ipython-input-5-3b48af411cdc>:17: PerformanceWarning: DataFrame is highly fragmented.  This is usually the result of calling `frame.insert` many times, which has poor performance.  Consider joining all columns at once using pd.concat(axis=1) instead. To get a de-fragmented frame, use `newframe = frame.copy()`\n",
            "  combined_data[f\"new_feature_{i+1}\"] = [None] * len(combined_data)\n",
            "<ipython-input-5-3b48af411cdc>:17: PerformanceWarning: DataFrame is highly fragmented.  This is usually the result of calling `frame.insert` many times, which has poor performance.  Consider joining all columns at once using pd.concat(axis=1) instead. To get a de-fragmented frame, use `newframe = frame.copy()`\n",
            "  combined_data[f\"new_feature_{i+1}\"] = [None] * len(combined_data)\n",
            "<ipython-input-5-3b48af411cdc>:17: PerformanceWarning: DataFrame is highly fragmented.  This is usually the result of calling `frame.insert` many times, which has poor performance.  Consider joining all columns at once using pd.concat(axis=1) instead. To get a de-fragmented frame, use `newframe = frame.copy()`\n",
            "  combined_data[f\"new_feature_{i+1}\"] = [None] * len(combined_data)\n",
            "<ipython-input-5-3b48af411cdc>:17: PerformanceWarning: DataFrame is highly fragmented.  This is usually the result of calling `frame.insert` many times, which has poor performance.  Consider joining all columns at once using pd.concat(axis=1) instead. To get a de-fragmented frame, use `newframe = frame.copy()`\n",
            "  combined_data[f\"new_feature_{i+1}\"] = [None] * len(combined_data)\n",
            "<ipython-input-5-3b48af411cdc>:17: PerformanceWarning: DataFrame is highly fragmented.  This is usually the result of calling `frame.insert` many times, which has poor performance.  Consider joining all columns at once using pd.concat(axis=1) instead. To get a de-fragmented frame, use `newframe = frame.copy()`\n",
            "  combined_data[f\"new_feature_{i+1}\"] = [None] * len(combined_data)\n",
            "<ipython-input-5-3b48af411cdc>:17: PerformanceWarning: DataFrame is highly fragmented.  This is usually the result of calling `frame.insert` many times, which has poor performance.  Consider joining all columns at once using pd.concat(axis=1) instead. To get a de-fragmented frame, use `newframe = frame.copy()`\n",
            "  combined_data[f\"new_feature_{i+1}\"] = [None] * len(combined_data)\n",
            "<ipython-input-5-3b48af411cdc>:17: PerformanceWarning: DataFrame is highly fragmented.  This is usually the result of calling `frame.insert` many times, which has poor performance.  Consider joining all columns at once using pd.concat(axis=1) instead. To get a de-fragmented frame, use `newframe = frame.copy()`\n",
            "  combined_data[f\"new_feature_{i+1}\"] = [None] * len(combined_data)\n",
            "<ipython-input-5-3b48af411cdc>:17: PerformanceWarning: DataFrame is highly fragmented.  This is usually the result of calling `frame.insert` many times, which has poor performance.  Consider joining all columns at once using pd.concat(axis=1) instead. To get a de-fragmented frame, use `newframe = frame.copy()`\n",
            "  combined_data[f\"new_feature_{i+1}\"] = [None] * len(combined_data)\n",
            "<ipython-input-5-3b48af411cdc>:17: PerformanceWarning: DataFrame is highly fragmented.  This is usually the result of calling `frame.insert` many times, which has poor performance.  Consider joining all columns at once using pd.concat(axis=1) instead. To get a de-fragmented frame, use `newframe = frame.copy()`\n",
            "  combined_data[f\"new_feature_{i+1}\"] = [None] * len(combined_data)\n",
            "<ipython-input-5-3b48af411cdc>:17: PerformanceWarning: DataFrame is highly fragmented.  This is usually the result of calling `frame.insert` many times, which has poor performance.  Consider joining all columns at once using pd.concat(axis=1) instead. To get a de-fragmented frame, use `newframe = frame.copy()`\n",
            "  combined_data[f\"new_feature_{i+1}\"] = [None] * len(combined_data)\n",
            "<ipython-input-5-3b48af411cdc>:17: PerformanceWarning: DataFrame is highly fragmented.  This is usually the result of calling `frame.insert` many times, which has poor performance.  Consider joining all columns at once using pd.concat(axis=1) instead. To get a de-fragmented frame, use `newframe = frame.copy()`\n",
            "  combined_data[f\"new_feature_{i+1}\"] = [None] * len(combined_data)\n",
            "<ipython-input-5-3b48af411cdc>:17: PerformanceWarning: DataFrame is highly fragmented.  This is usually the result of calling `frame.insert` many times, which has poor performance.  Consider joining all columns at once using pd.concat(axis=1) instead. To get a de-fragmented frame, use `newframe = frame.copy()`\n",
            "  combined_data[f\"new_feature_{i+1}\"] = [None] * len(combined_data)\n",
            "<ipython-input-5-3b48af411cdc>:17: PerformanceWarning: DataFrame is highly fragmented.  This is usually the result of calling `frame.insert` many times, which has poor performance.  Consider joining all columns at once using pd.concat(axis=1) instead. To get a de-fragmented frame, use `newframe = frame.copy()`\n",
            "  combined_data[f\"new_feature_{i+1}\"] = [None] * len(combined_data)\n",
            "<ipython-input-5-3b48af411cdc>:17: PerformanceWarning: DataFrame is highly fragmented.  This is usually the result of calling `frame.insert` many times, which has poor performance.  Consider joining all columns at once using pd.concat(axis=1) instead. To get a de-fragmented frame, use `newframe = frame.copy()`\n",
            "  combined_data[f\"new_feature_{i+1}\"] = [None] * len(combined_data)\n",
            "<ipython-input-5-3b48af411cdc>:17: PerformanceWarning: DataFrame is highly fragmented.  This is usually the result of calling `frame.insert` many times, which has poor performance.  Consider joining all columns at once using pd.concat(axis=1) instead. To get a de-fragmented frame, use `newframe = frame.copy()`\n",
            "  combined_data[f\"new_feature_{i+1}\"] = [None] * len(combined_data)\n",
            "<ipython-input-5-3b48af411cdc>:17: PerformanceWarning: DataFrame is highly fragmented.  This is usually the result of calling `frame.insert` many times, which has poor performance.  Consider joining all columns at once using pd.concat(axis=1) instead. To get a de-fragmented frame, use `newframe = frame.copy()`\n",
            "  combined_data[f\"new_feature_{i+1}\"] = [None] * len(combined_data)\n",
            "<ipython-input-5-3b48af411cdc>:17: PerformanceWarning: DataFrame is highly fragmented.  This is usually the result of calling `frame.insert` many times, which has poor performance.  Consider joining all columns at once using pd.concat(axis=1) instead. To get a de-fragmented frame, use `newframe = frame.copy()`\n",
            "  combined_data[f\"new_feature_{i+1}\"] = [None] * len(combined_data)\n",
            "<ipython-input-5-3b48af411cdc>:17: PerformanceWarning: DataFrame is highly fragmented.  This is usually the result of calling `frame.insert` many times, which has poor performance.  Consider joining all columns at once using pd.concat(axis=1) instead. To get a de-fragmented frame, use `newframe = frame.copy()`\n",
            "  combined_data[f\"new_feature_{i+1}\"] = [None] * len(combined_data)\n",
            "<ipython-input-5-3b48af411cdc>:17: PerformanceWarning: DataFrame is highly fragmented.  This is usually the result of calling `frame.insert` many times, which has poor performance.  Consider joining all columns at once using pd.concat(axis=1) instead. To get a de-fragmented frame, use `newframe = frame.copy()`\n",
            "  combined_data[f\"new_feature_{i+1}\"] = [None] * len(combined_data)\n",
            "<ipython-input-5-3b48af411cdc>:17: PerformanceWarning: DataFrame is highly fragmented.  This is usually the result of calling `frame.insert` many times, which has poor performance.  Consider joining all columns at once using pd.concat(axis=1) instead. To get a de-fragmented frame, use `newframe = frame.copy()`\n",
            "  combined_data[f\"new_feature_{i+1}\"] = [None] * len(combined_data)\n",
            "<ipython-input-5-3b48af411cdc>:17: PerformanceWarning: DataFrame is highly fragmented.  This is usually the result of calling `frame.insert` many times, which has poor performance.  Consider joining all columns at once using pd.concat(axis=1) instead. To get a de-fragmented frame, use `newframe = frame.copy()`\n",
            "  combined_data[f\"new_feature_{i+1}\"] = [None] * len(combined_data)\n",
            "<ipython-input-5-3b48af411cdc>:17: PerformanceWarning: DataFrame is highly fragmented.  This is usually the result of calling `frame.insert` many times, which has poor performance.  Consider joining all columns at once using pd.concat(axis=1) instead. To get a de-fragmented frame, use `newframe = frame.copy()`\n",
            "  combined_data[f\"new_feature_{i+1}\"] = [None] * len(combined_data)\n",
            "<ipython-input-5-3b48af411cdc>:17: PerformanceWarning: DataFrame is highly fragmented.  This is usually the result of calling `frame.insert` many times, which has poor performance.  Consider joining all columns at once using pd.concat(axis=1) instead. To get a de-fragmented frame, use `newframe = frame.copy()`\n",
            "  combined_data[f\"new_feature_{i+1}\"] = [None] * len(combined_data)\n",
            "<ipython-input-5-3b48af411cdc>:17: PerformanceWarning: DataFrame is highly fragmented.  This is usually the result of calling `frame.insert` many times, which has poor performance.  Consider joining all columns at once using pd.concat(axis=1) instead. To get a de-fragmented frame, use `newframe = frame.copy()`\n",
            "  combined_data[f\"new_feature_{i+1}\"] = [None] * len(combined_data)\n",
            "<ipython-input-5-3b48af411cdc>:17: PerformanceWarning: DataFrame is highly fragmented.  This is usually the result of calling `frame.insert` many times, which has poor performance.  Consider joining all columns at once using pd.concat(axis=1) instead. To get a de-fragmented frame, use `newframe = frame.copy()`\n",
            "  combined_data[f\"new_feature_{i+1}\"] = [None] * len(combined_data)\n",
            "<ipython-input-5-3b48af411cdc>:17: PerformanceWarning: DataFrame is highly fragmented.  This is usually the result of calling `frame.insert` many times, which has poor performance.  Consider joining all columns at once using pd.concat(axis=1) instead. To get a de-fragmented frame, use `newframe = frame.copy()`\n",
            "  combined_data[f\"new_feature_{i+1}\"] = [None] * len(combined_data)\n",
            "<ipython-input-5-3b48af411cdc>:17: PerformanceWarning: DataFrame is highly fragmented.  This is usually the result of calling `frame.insert` many times, which has poor performance.  Consider joining all columns at once using pd.concat(axis=1) instead. To get a de-fragmented frame, use `newframe = frame.copy()`\n",
            "  combined_data[f\"new_feature_{i+1}\"] = [None] * len(combined_data)\n",
            "<ipython-input-5-3b48af411cdc>:17: PerformanceWarning: DataFrame is highly fragmented.  This is usually the result of calling `frame.insert` many times, which has poor performance.  Consider joining all columns at once using pd.concat(axis=1) instead. To get a de-fragmented frame, use `newframe = frame.copy()`\n",
            "  combined_data[f\"new_feature_{i+1}\"] = [None] * len(combined_data)\n",
            "<ipython-input-5-3b48af411cdc>:17: PerformanceWarning: DataFrame is highly fragmented.  This is usually the result of calling `frame.insert` many times, which has poor performance.  Consider joining all columns at once using pd.concat(axis=1) instead. To get a de-fragmented frame, use `newframe = frame.copy()`\n",
            "  combined_data[f\"new_feature_{i+1}\"] = [None] * len(combined_data)\n",
            "<ipython-input-5-3b48af411cdc>:17: PerformanceWarning: DataFrame is highly fragmented.  This is usually the result of calling `frame.insert` many times, which has poor performance.  Consider joining all columns at once using pd.concat(axis=1) instead. To get a de-fragmented frame, use `newframe = frame.copy()`\n",
            "  combined_data[f\"new_feature_{i+1}\"] = [None] * len(combined_data)\n",
            "<ipython-input-5-3b48af411cdc>:17: PerformanceWarning: DataFrame is highly fragmented.  This is usually the result of calling `frame.insert` many times, which has poor performance.  Consider joining all columns at once using pd.concat(axis=1) instead. To get a de-fragmented frame, use `newframe = frame.copy()`\n",
            "  combined_data[f\"new_feature_{i+1}\"] = [None] * len(combined_data)\n",
            "<ipython-input-5-3b48af411cdc>:17: PerformanceWarning: DataFrame is highly fragmented.  This is usually the result of calling `frame.insert` many times, which has poor performance.  Consider joining all columns at once using pd.concat(axis=1) instead. To get a de-fragmented frame, use `newframe = frame.copy()`\n",
            "  combined_data[f\"new_feature_{i+1}\"] = [None] * len(combined_data)\n",
            "<ipython-input-5-3b48af411cdc>:17: PerformanceWarning: DataFrame is highly fragmented.  This is usually the result of calling `frame.insert` many times, which has poor performance.  Consider joining all columns at once using pd.concat(axis=1) instead. To get a de-fragmented frame, use `newframe = frame.copy()`\n",
            "  combined_data[f\"new_feature_{i+1}\"] = [None] * len(combined_data)\n",
            "<ipython-input-5-3b48af411cdc>:17: PerformanceWarning: DataFrame is highly fragmented.  This is usually the result of calling `frame.insert` many times, which has poor performance.  Consider joining all columns at once using pd.concat(axis=1) instead. To get a de-fragmented frame, use `newframe = frame.copy()`\n",
            "  combined_data[f\"new_feature_{i+1}\"] = [None] * len(combined_data)\n",
            "<ipython-input-5-3b48af411cdc>:17: PerformanceWarning: DataFrame is highly fragmented.  This is usually the result of calling `frame.insert` many times, which has poor performance.  Consider joining all columns at once using pd.concat(axis=1) instead. To get a de-fragmented frame, use `newframe = frame.copy()`\n",
            "  combined_data[f\"new_feature_{i+1}\"] = [None] * len(combined_data)\n",
            "<ipython-input-5-3b48af411cdc>:17: PerformanceWarning: DataFrame is highly fragmented.  This is usually the result of calling `frame.insert` many times, which has poor performance.  Consider joining all columns at once using pd.concat(axis=1) instead. To get a de-fragmented frame, use `newframe = frame.copy()`\n",
            "  combined_data[f\"new_feature_{i+1}\"] = [None] * len(combined_data)\n",
            "<ipython-input-5-3b48af411cdc>:17: PerformanceWarning: DataFrame is highly fragmented.  This is usually the result of calling `frame.insert` many times, which has poor performance.  Consider joining all columns at once using pd.concat(axis=1) instead. To get a de-fragmented frame, use `newframe = frame.copy()`\n",
            "  combined_data[f\"new_feature_{i+1}\"] = [None] * len(combined_data)\n",
            "<ipython-input-5-3b48af411cdc>:17: PerformanceWarning: DataFrame is highly fragmented.  This is usually the result of calling `frame.insert` many times, which has poor performance.  Consider joining all columns at once using pd.concat(axis=1) instead. To get a de-fragmented frame, use `newframe = frame.copy()`\n",
            "  combined_data[f\"new_feature_{i+1}\"] = [None] * len(combined_data)\n",
            "<ipython-input-5-3b48af411cdc>:17: PerformanceWarning: DataFrame is highly fragmented.  This is usually the result of calling `frame.insert` many times, which has poor performance.  Consider joining all columns at once using pd.concat(axis=1) instead. To get a de-fragmented frame, use `newframe = frame.copy()`\n",
            "  combined_data[f\"new_feature_{i+1}\"] = [None] * len(combined_data)\n",
            "<ipython-input-5-3b48af411cdc>:17: PerformanceWarning: DataFrame is highly fragmented.  This is usually the result of calling `frame.insert` many times, which has poor performance.  Consider joining all columns at once using pd.concat(axis=1) instead. To get a de-fragmented frame, use `newframe = frame.copy()`\n",
            "  combined_data[f\"new_feature_{i+1}\"] = [None] * len(combined_data)\n",
            "<ipython-input-5-3b48af411cdc>:17: PerformanceWarning: DataFrame is highly fragmented.  This is usually the result of calling `frame.insert` many times, which has poor performance.  Consider joining all columns at once using pd.concat(axis=1) instead. To get a de-fragmented frame, use `newframe = frame.copy()`\n",
            "  combined_data[f\"new_feature_{i+1}\"] = [None] * len(combined_data)\n",
            "<ipython-input-5-3b48af411cdc>:17: PerformanceWarning: DataFrame is highly fragmented.  This is usually the result of calling `frame.insert` many times, which has poor performance.  Consider joining all columns at once using pd.concat(axis=1) instead. To get a de-fragmented frame, use `newframe = frame.copy()`\n",
            "  combined_data[f\"new_feature_{i+1}\"] = [None] * len(combined_data)\n",
            "<ipython-input-5-3b48af411cdc>:17: PerformanceWarning: DataFrame is highly fragmented.  This is usually the result of calling `frame.insert` many times, which has poor performance.  Consider joining all columns at once using pd.concat(axis=1) instead. To get a de-fragmented frame, use `newframe = frame.copy()`\n",
            "  combined_data[f\"new_feature_{i+1}\"] = [None] * len(combined_data)\n",
            "<ipython-input-5-3b48af411cdc>:17: PerformanceWarning: DataFrame is highly fragmented.  This is usually the result of calling `frame.insert` many times, which has poor performance.  Consider joining all columns at once using pd.concat(axis=1) instead. To get a de-fragmented frame, use `newframe = frame.copy()`\n",
            "  combined_data[f\"new_feature_{i+1}\"] = [None] * len(combined_data)\n",
            "<ipython-input-5-3b48af411cdc>:17: PerformanceWarning: DataFrame is highly fragmented.  This is usually the result of calling `frame.insert` many times, which has poor performance.  Consider joining all columns at once using pd.concat(axis=1) instead. To get a de-fragmented frame, use `newframe = frame.copy()`\n",
            "  combined_data[f\"new_feature_{i+1}\"] = [None] * len(combined_data)\n",
            "<ipython-input-5-3b48af411cdc>:17: PerformanceWarning: DataFrame is highly fragmented.  This is usually the result of calling `frame.insert` many times, which has poor performance.  Consider joining all columns at once using pd.concat(axis=1) instead. To get a de-fragmented frame, use `newframe = frame.copy()`\n",
            "  combined_data[f\"new_feature_{i+1}\"] = [None] * len(combined_data)\n",
            "<ipython-input-5-3b48af411cdc>:17: PerformanceWarning: DataFrame is highly fragmented.  This is usually the result of calling `frame.insert` many times, which has poor performance.  Consider joining all columns at once using pd.concat(axis=1) instead. To get a de-fragmented frame, use `newframe = frame.copy()`\n",
            "  combined_data[f\"new_feature_{i+1}\"] = [None] * len(combined_data)\n",
            "<ipython-input-5-3b48af411cdc>:17: PerformanceWarning: DataFrame is highly fragmented.  This is usually the result of calling `frame.insert` many times, which has poor performance.  Consider joining all columns at once using pd.concat(axis=1) instead. To get a de-fragmented frame, use `newframe = frame.copy()`\n",
            "  combined_data[f\"new_feature_{i+1}\"] = [None] * len(combined_data)\n",
            "<ipython-input-5-3b48af411cdc>:17: PerformanceWarning: DataFrame is highly fragmented.  This is usually the result of calling `frame.insert` many times, which has poor performance.  Consider joining all columns at once using pd.concat(axis=1) instead. To get a de-fragmented frame, use `newframe = frame.copy()`\n",
            "  combined_data[f\"new_feature_{i+1}\"] = [None] * len(combined_data)\n",
            "<ipython-input-5-3b48af411cdc>:17: PerformanceWarning: DataFrame is highly fragmented.  This is usually the result of calling `frame.insert` many times, which has poor performance.  Consider joining all columns at once using pd.concat(axis=1) instead. To get a de-fragmented frame, use `newframe = frame.copy()`\n",
            "  combined_data[f\"new_feature_{i+1}\"] = [None] * len(combined_data)\n",
            "<ipython-input-5-3b48af411cdc>:17: PerformanceWarning: DataFrame is highly fragmented.  This is usually the result of calling `frame.insert` many times, which has poor performance.  Consider joining all columns at once using pd.concat(axis=1) instead. To get a de-fragmented frame, use `newframe = frame.copy()`\n",
            "  combined_data[f\"new_feature_{i+1}\"] = [None] * len(combined_data)\n",
            "<ipython-input-5-3b48af411cdc>:17: PerformanceWarning: DataFrame is highly fragmented.  This is usually the result of calling `frame.insert` many times, which has poor performance.  Consider joining all columns at once using pd.concat(axis=1) instead. To get a de-fragmented frame, use `newframe = frame.copy()`\n",
            "  combined_data[f\"new_feature_{i+1}\"] = [None] * len(combined_data)\n",
            "<ipython-input-5-3b48af411cdc>:17: PerformanceWarning: DataFrame is highly fragmented.  This is usually the result of calling `frame.insert` many times, which has poor performance.  Consider joining all columns at once using pd.concat(axis=1) instead. To get a de-fragmented frame, use `newframe = frame.copy()`\n",
            "  combined_data[f\"new_feature_{i+1}\"] = [None] * len(combined_data)\n",
            "<ipython-input-5-3b48af411cdc>:17: PerformanceWarning: DataFrame is highly fragmented.  This is usually the result of calling `frame.insert` many times, which has poor performance.  Consider joining all columns at once using pd.concat(axis=1) instead. To get a de-fragmented frame, use `newframe = frame.copy()`\n",
            "  combined_data[f\"new_feature_{i+1}\"] = [None] * len(combined_data)\n",
            "<ipython-input-5-3b48af411cdc>:17: PerformanceWarning: DataFrame is highly fragmented.  This is usually the result of calling `frame.insert` many times, which has poor performance.  Consider joining all columns at once using pd.concat(axis=1) instead. To get a de-fragmented frame, use `newframe = frame.copy()`\n",
            "  combined_data[f\"new_feature_{i+1}\"] = [None] * len(combined_data)\n",
            "<ipython-input-5-3b48af411cdc>:17: PerformanceWarning: DataFrame is highly fragmented.  This is usually the result of calling `frame.insert` many times, which has poor performance.  Consider joining all columns at once using pd.concat(axis=1) instead. To get a de-fragmented frame, use `newframe = frame.copy()`\n",
            "  combined_data[f\"new_feature_{i+1}\"] = [None] * len(combined_data)\n",
            "<ipython-input-5-3b48af411cdc>:17: PerformanceWarning: DataFrame is highly fragmented.  This is usually the result of calling `frame.insert` many times, which has poor performance.  Consider joining all columns at once using pd.concat(axis=1) instead. To get a de-fragmented frame, use `newframe = frame.copy()`\n",
            "  combined_data[f\"new_feature_{i+1}\"] = [None] * len(combined_data)\n",
            "<ipython-input-5-3b48af411cdc>:17: PerformanceWarning: DataFrame is highly fragmented.  This is usually the result of calling `frame.insert` many times, which has poor performance.  Consider joining all columns at once using pd.concat(axis=1) instead. To get a de-fragmented frame, use `newframe = frame.copy()`\n",
            "  combined_data[f\"new_feature_{i+1}\"] = [None] * len(combined_data)\n",
            "<ipython-input-5-3b48af411cdc>:17: PerformanceWarning: DataFrame is highly fragmented.  This is usually the result of calling `frame.insert` many times, which has poor performance.  Consider joining all columns at once using pd.concat(axis=1) instead. To get a de-fragmented frame, use `newframe = frame.copy()`\n",
            "  combined_data[f\"new_feature_{i+1}\"] = [None] * len(combined_data)\n",
            "<ipython-input-5-3b48af411cdc>:17: PerformanceWarning: DataFrame is highly fragmented.  This is usually the result of calling `frame.insert` many times, which has poor performance.  Consider joining all columns at once using pd.concat(axis=1) instead. To get a de-fragmented frame, use `newframe = frame.copy()`\n",
            "  combined_data[f\"new_feature_{i+1}\"] = [None] * len(combined_data)\n",
            "<ipython-input-5-3b48af411cdc>:17: PerformanceWarning: DataFrame is highly fragmented.  This is usually the result of calling `frame.insert` many times, which has poor performance.  Consider joining all columns at once using pd.concat(axis=1) instead. To get a de-fragmented frame, use `newframe = frame.copy()`\n",
            "  combined_data[f\"new_feature_{i+1}\"] = [None] * len(combined_data)\n",
            "<ipython-input-5-3b48af411cdc>:17: PerformanceWarning: DataFrame is highly fragmented.  This is usually the result of calling `frame.insert` many times, which has poor performance.  Consider joining all columns at once using pd.concat(axis=1) instead. To get a de-fragmented frame, use `newframe = frame.copy()`\n",
            "  combined_data[f\"new_feature_{i+1}\"] = [None] * len(combined_data)\n",
            "<ipython-input-5-3b48af411cdc>:17: PerformanceWarning: DataFrame is highly fragmented.  This is usually the result of calling `frame.insert` many times, which has poor performance.  Consider joining all columns at once using pd.concat(axis=1) instead. To get a de-fragmented frame, use `newframe = frame.copy()`\n",
            "  combined_data[f\"new_feature_{i+1}\"] = [None] * len(combined_data)\n",
            "<ipython-input-5-3b48af411cdc>:17: PerformanceWarning: DataFrame is highly fragmented.  This is usually the result of calling `frame.insert` many times, which has poor performance.  Consider joining all columns at once using pd.concat(axis=1) instead. To get a de-fragmented frame, use `newframe = frame.copy()`\n",
            "  combined_data[f\"new_feature_{i+1}\"] = [None] * len(combined_data)\n",
            "<ipython-input-5-3b48af411cdc>:17: PerformanceWarning: DataFrame is highly fragmented.  This is usually the result of calling `frame.insert` many times, which has poor performance.  Consider joining all columns at once using pd.concat(axis=1) instead. To get a de-fragmented frame, use `newframe = frame.copy()`\n",
            "  combined_data[f\"new_feature_{i+1}\"] = [None] * len(combined_data)\n",
            "<ipython-input-5-3b48af411cdc>:17: PerformanceWarning: DataFrame is highly fragmented.  This is usually the result of calling `frame.insert` many times, which has poor performance.  Consider joining all columns at once using pd.concat(axis=1) instead. To get a de-fragmented frame, use `newframe = frame.copy()`\n",
            "  combined_data[f\"new_feature_{i+1}\"] = [None] * len(combined_data)\n",
            "<ipython-input-5-3b48af411cdc>:17: PerformanceWarning: DataFrame is highly fragmented.  This is usually the result of calling `frame.insert` many times, which has poor performance.  Consider joining all columns at once using pd.concat(axis=1) instead. To get a de-fragmented frame, use `newframe = frame.copy()`\n",
            "  combined_data[f\"new_feature_{i+1}\"] = [None] * len(combined_data)\n",
            "<ipython-input-5-3b48af411cdc>:17: PerformanceWarning: DataFrame is highly fragmented.  This is usually the result of calling `frame.insert` many times, which has poor performance.  Consider joining all columns at once using pd.concat(axis=1) instead. To get a de-fragmented frame, use `newframe = frame.copy()`\n",
            "  combined_data[f\"new_feature_{i+1}\"] = [None] * len(combined_data)\n",
            "<ipython-input-5-3b48af411cdc>:17: PerformanceWarning: DataFrame is highly fragmented.  This is usually the result of calling `frame.insert` many times, which has poor performance.  Consider joining all columns at once using pd.concat(axis=1) instead. To get a de-fragmented frame, use `newframe = frame.copy()`\n",
            "  combined_data[f\"new_feature_{i+1}\"] = [None] * len(combined_data)\n",
            "<ipython-input-5-3b48af411cdc>:17: PerformanceWarning: DataFrame is highly fragmented.  This is usually the result of calling `frame.insert` many times, which has poor performance.  Consider joining all columns at once using pd.concat(axis=1) instead. To get a de-fragmented frame, use `newframe = frame.copy()`\n",
            "  combined_data[f\"new_feature_{i+1}\"] = [None] * len(combined_data)\n",
            "<ipython-input-5-3b48af411cdc>:17: PerformanceWarning: DataFrame is highly fragmented.  This is usually the result of calling `frame.insert` many times, which has poor performance.  Consider joining all columns at once using pd.concat(axis=1) instead. To get a de-fragmented frame, use `newframe = frame.copy()`\n",
            "  combined_data[f\"new_feature_{i+1}\"] = [None] * len(combined_data)\n",
            "<ipython-input-5-3b48af411cdc>:17: PerformanceWarning: DataFrame is highly fragmented.  This is usually the result of calling `frame.insert` many times, which has poor performance.  Consider joining all columns at once using pd.concat(axis=1) instead. To get a de-fragmented frame, use `newframe = frame.copy()`\n",
            "  combined_data[f\"new_feature_{i+1}\"] = [None] * len(combined_data)\n",
            "<ipython-input-5-3b48af411cdc>:17: PerformanceWarning: DataFrame is highly fragmented.  This is usually the result of calling `frame.insert` many times, which has poor performance.  Consider joining all columns at once using pd.concat(axis=1) instead. To get a de-fragmented frame, use `newframe = frame.copy()`\n",
            "  combined_data[f\"new_feature_{i+1}\"] = [None] * len(combined_data)\n",
            "<ipython-input-5-3b48af411cdc>:17: PerformanceWarning: DataFrame is highly fragmented.  This is usually the result of calling `frame.insert` many times, which has poor performance.  Consider joining all columns at once using pd.concat(axis=1) instead. To get a de-fragmented frame, use `newframe = frame.copy()`\n",
            "  combined_data[f\"new_feature_{i+1}\"] = [None] * len(combined_data)\n"
          ]
        }
      ]
    },
    {
      "cell_type": "markdown",
      "source": [
        "# Modelling `label_3`: Speaker Gender\n",
        "\n",
        "Speaker gender is a categorical variable.\n",
        "\n",
        "## Create the Random Forest Model"
      ],
      "metadata": {
        "id": "cDaifZjgYEMb"
      }
    },
    {
      "cell_type": "code",
      "source": [
        "y = train[\"label_3\"]\n",
        "y_valid = valid[\"label_3\"]"
      ],
      "metadata": {
        "id": "qMFt0UbZYa77"
      },
      "execution_count": null,
      "outputs": []
    },
    {
      "cell_type": "code",
      "source": [
        "from sklearn.ensemble import RandomForestClassifier"
      ],
      "metadata": {
        "id": "Gczgq5Xv4LCo"
      },
      "execution_count": null,
      "outputs": []
    },
    {
      "cell_type": "code",
      "source": [
        "# Create the Random Forest model\n",
        "rf_label_3 = RandomForestClassifier(n_estimators=100, random_state=42)\n",
        "rf_label_3.fit(x, y)\n",
        "\n",
        "y_pred_label_3 = rf_label_3.predict(x_valid)\n",
        "accuracy_label_3 = accuracy_score(y_valid, y_pred_label_3)\n",
        "print(accuracy_label_3)"
      ],
      "metadata": {
        "colab": {
          "base_uri": "https://localhost:8080/"
        },
        "id": "HfqL14jsYdJs",
        "outputId": "4b321ba5-7374-4480-fcd9-cdf611398f9e"
      },
      "execution_count": null,
      "outputs": [
        {
          "output_type": "stream",
          "name": "stdout",
          "text": [
            "0.9946666666666667\n"
          ]
        }
      ]
    },
    {
      "cell_type": "markdown",
      "source": [
        "## Check for Mutual Information"
      ],
      "metadata": {
        "id": "5UkVc7fcbfts"
      }
    },
    {
      "cell_type": "code",
      "source": [
        "mi = pd.Series(mutual_info_classif(x, y))\n",
        "mi.sort_values(ascending = False)"
      ],
      "metadata": {
        "colab": {
          "base_uri": "https://localhost:8080/"
        },
        "id": "83QXSInobj8l",
        "outputId": "d3085c24-eb47-4c42-c4e9-23f59e5ec99f"
      },
      "execution_count": null,
      "outputs": [
        {
          "output_type": "execute_result",
          "data": {
            "text/plain": [
              "232    0.364976\n",
              "43     0.344484\n",
              "35     0.305784\n",
              "112    0.240817\n",
              "142    0.220279\n",
              "         ...   \n",
              "125    0.000000\n",
              "91     0.000000\n",
              "47     0.000000\n",
              "19     0.000000\n",
              "128    0.000000\n",
              "Length: 256, dtype: float64"
            ]
          },
          "metadata": {},
          "execution_count": 51
        }
      ]
    },
    {
      "cell_type": "code",
      "source": [
        "mi.sort_values(ascending=False).plot.bar(figsize=(32, 12))"
      ],
      "metadata": {
        "colab": {
          "base_uri": "https://localhost:8080/",
          "height": 728
        },
        "id": "t5fzhaeiI0-9",
        "outputId": "6df9edef-b059-406d-d522-a579f23eaf9e"
      },
      "execution_count": null,
      "outputs": [
        {
          "output_type": "execute_result",
          "data": {
            "text/plain": [
              "<Axes: >"
            ]
          },
          "metadata": {},
          "execution_count": 52
        },
        {
          "output_type": "display_data",
          "data": {
            "text/plain": [
              "<Figure size 3200x1200 with 1 Axes>"
            ],
            "image/png": "[encoded data removed]"
          },
          "metadata": {}
        }
      ]
    },
    {
      "cell_type": "markdown",
      "source": [
        "There are a smaller number of features that have a high impact on y value. Using features with mutual information value greater than 0.05 observing the graph."
      ],
      "metadata": {
        "id": "QGn_8H5AJT-Q"
      }
    },
    {
      "cell_type": "markdown",
      "source": [
        "## Feature Selection"
      ],
      "metadata": {
        "id": "fpKYoe4vJ0ux"
      }
    },
    {
      "cell_type": "code",
      "source": [
        "no_of_selected_features = mi[mi > 0.05].count()\n",
        "print (f\"Selected {no_of_selected_features} features out of {len(mi)} features.\")"
      ],
      "metadata": {
        "colab": {
          "base_uri": "https://localhost:8080/"
        },
        "id": "CSyKo5nzbmPa",
        "outputId": "afefb7bf-b7c2-432d-e92b-288f719490c1"
      },
      "execution_count": null,
      "outputs": [
        {
          "output_type": "stream",
          "name": "stdout",
          "text": [
            "Selected 37 features out of 256 features.\n"
          ]
        }
      ]
    },
    {
      "cell_type": "markdown",
      "source": [
        "There are only 37 features with mutual information value higher than 0.05 for `label_3`. Ignore the rest meantime."
      ],
      "metadata": {
        "id": "cWLbbmN4c5XD"
      }
    },
    {
      "cell_type": "code",
      "source": [
        "x_label_3 = x.copy(deep = True)\n",
        "x_valid_label_3 = x_valid.copy(deep = True)"
      ],
      "metadata": {
        "id": "6weqduTFbzLo"
      },
      "execution_count": null,
      "outputs": []
    },
    {
      "cell_type": "code",
      "source": [
        "selected_cols_label_3 = SelectKBest(mutual_info_classif, k = no_of_selected_features)\n",
        "selected_cols_label_3.fit(x_label_3, y)\n",
        "selected_col_names_label_3 = x_label_3.columns[selected_cols_label_3.get_support()]\n",
        "print(selected_col_names_label_3)"
      ],
      "metadata": {
        "colab": {
          "base_uri": "https://localhost:8080/"
        },
        "id": "ts-dFk1Db1bo",
        "outputId": "1eafe1a1-b99d-4cd4-cda5-8c56731879ff"
      },
      "execution_count": null,
      "outputs": [
        {
          "output_type": "stream",
          "name": "stdout",
          "text": [
            "Index(['feature_3', 'feature_14', 'feature_16', 'feature_35', 'feature_36',\n",
            "       'feature_38', 'feature_40', 'feature_44', 'feature_46', 'feature_60',\n",
            "       'feature_86', 'feature_88', 'feature_93', 'feature_102', 'feature_107',\n",
            "       'feature_109', 'feature_113', 'feature_117', 'feature_139',\n",
            "       'feature_143', 'feature_163', 'feature_166', 'feature_168',\n",
            "       'feature_178', 'feature_184', 'feature_201', 'feature_207',\n",
            "       'feature_209', 'feature_219', 'feature_223', 'feature_226',\n",
            "       'feature_229', 'feature_232', 'feature_233', 'feature_234',\n",
            "       'feature_244', 'feature_256'],\n",
            "      dtype='object')\n"
          ]
        }
      ]
    },
    {
      "cell_type": "code",
      "source": [
        "x_label_3 = pd.DataFrame(x_label_3, columns = selected_col_names_label_3)\n",
        "x_valid_label_3 = pd.DataFrame(x_valid_label_3, columns = selected_col_names_label_3)"
      ],
      "metadata": {
        "id": "OYaTMLoDb3vx"
      },
      "execution_count": null,
      "outputs": []
    },
    {
      "cell_type": "markdown",
      "source": [
        "## Create the RF Model again"
      ],
      "metadata": {
        "id": "rjNmFWCcdCBh"
      }
    },
    {
      "cell_type": "code",
      "source": [
        "rf_label_3_selected = RandomForestClassifier(n_estimators = 100, random_state = 42)\n",
        "rf_label_3_selected.fit(x_label_3, y)\n",
        "\n",
        "y_pred = rf_label_3_selected.predict(x_valid_label_3)\n",
        "accuracy_label_3_selected = accuracy_score(y_valid, y_pred)\n",
        "print(f\"Accuracy of the new model is {accuracy_label_3_selected} and the accuracy of the original model was {accuracy_label_3}.\")"
      ],
      "metadata": {
        "colab": {
          "base_uri": "https://localhost:8080/"
        },
        "id": "Jvh15btpb5zv",
        "outputId": "4881cea0-c5c9-45bd-ed92-4b9cce3859d9"
      },
      "execution_count": null,
      "outputs": [
        {
          "output_type": "stream",
          "name": "stdout",
          "text": [
            "Accuracy of the new model is 0.9906666666666667 and the accuracy of the original model was 0.9946666666666667.\n"
          ]
        }
      ]
    },
    {
      "cell_type": "markdown",
      "source": [
        "## Create XGBoost Model\n",
        "\n",
        "Try the XGBoost model for comparing."
      ],
      "metadata": {
        "id": "4yyQvPOhEgVK"
      }
    },
    {
      "cell_type": "code",
      "source": [
        "import xgboost as xgb"
      ],
      "metadata": {
        "id": "UxwrU_4yEaHV"
      },
      "execution_count": null,
      "outputs": []
    },
    {
      "cell_type": "code",
      "source": [
        "# Create the XGBoost model\n",
        "xgb_label_3 = xgb.XGBClassifier(n_estimators = 50, random_state = 42)\n",
        "xgb_label_3.fit(x, y)\n",
        "\n",
        "y_pred = xgb_label_3.predict(x_valid)\n",
        "accuracy_label_3 = accuracy_score(y_valid, y_pred)\n",
        "print(accuracy_label_3)"
      ],
      "metadata": {
        "colab": {
          "base_uri": "https://localhost:8080/"
        },
        "id": "ytC2gBGpEpDY",
        "outputId": "5a64f4f2-e90c-4c18-f6fb-01c77c16a0ee"
      },
      "execution_count": null,
      "outputs": [
        {
          "output_type": "stream",
          "name": "stdout",
          "text": [
            "0.9973333333333333\n"
          ]
        }
      ]
    },
    {
      "cell_type": "code",
      "source": [
        "# Create the XGBoost model for selected features\n",
        "xgb_label_3_selected = xgb.XGBClassifier(n_estimators = 50, random_state = 478)\n",
        "xgb_label_3_selected.fit(x_label_3, y)\n",
        "\n",
        "y_pred = xgb_label_3_selected.predict(x_valid_label_3)\n",
        "accuracy_label_3_selected = accuracy_score(y_valid, y_pred)\n",
        "print(f\"Accuracy of the new model is {accuracy_label_3_selected} and the accuracy of the original model was {accuracy_label_3}.\")"
      ],
      "metadata": {
        "colab": {
          "base_uri": "https://localhost:8080/"
        },
        "id": "wSIihDbXJvTh",
        "outputId": "f28e2911-8889-4503-eb37-230adad29c51"
      },
      "execution_count": null,
      "outputs": [
        {
          "output_type": "stream",
          "name": "stdout",
          "text": [
            "Accuracy of the new model is 0.996 and the accuracy of the original model was 0.9973333333333333.\n"
          ]
        }
      ]
    },
    {
      "cell_type": "markdown",
      "source": [
        "The XGBoost model resulted in slightly higher accuracy for the validation dataset than the Random Forest model."
      ],
      "metadata": {
        "id": "j_zBST7NLjrS"
      }
    },
    {
      "cell_type": "markdown",
      "source": [
        "## Predict and write test to CSV"
      ],
      "metadata": {
        "id": "TqHwPupvklw7"
      }
    },
    {
      "cell_type": "code",
      "source": [
        "x_test_label_3 = x_test.copy(deep = True)\n",
        "x_test_label_3 = pd.DataFrame(x_test_label_3, columns = selected_col_names_label_3)\n",
        "\n",
        "y_test_pred_label_3 = xgb_label_3.predict(x_test)\n",
        "y_test_pred_label_3_selected = xgb_label_3_selected.predict(x_test_label_3)\n",
        "create_csv(x_test_label_3, y_test_pred_label_3, y_test_pred_label_3_selected, \"label_3\")"
      ],
      "metadata": {
        "colab": {
          "base_uri": "https://localhost:8080/"
        },
        "id": "zhue1M9skp5y",
        "outputId": "6ae8c29a-ba89-4632-b846-05ba70f2e0aa"
      },
      "execution_count": null,
      "outputs": [
        {
          "output_type": "stream",
          "name": "stderr",
          "text": [
            "<ipython-input-5-3b48af411cdc>:17: PerformanceWarning: DataFrame is highly fragmented.  This is usually the result of calling `frame.insert` many times, which has poor performance.  Consider joining all columns at once using pd.concat(axis=1) instead. To get a de-fragmented frame, use `newframe = frame.copy()`\n",
            "  combined_data[f\"new_feature_{i+1}\"] = [None] * len(combined_data)\n",
            "<ipython-input-5-3b48af411cdc>:17: PerformanceWarning: DataFrame is highly fragmented.  This is usually the result of calling `frame.insert` many times, which has poor performance.  Consider joining all columns at once using pd.concat(axis=1) instead. To get a de-fragmented frame, use `newframe = frame.copy()`\n",
            "  combined_data[f\"new_feature_{i+1}\"] = [None] * len(combined_data)\n",
            "<ipython-input-5-3b48af411cdc>:17: PerformanceWarning: DataFrame is highly fragmented.  This is usually the result of calling `frame.insert` many times, which has poor performance.  Consider joining all columns at once using pd.concat(axis=1) instead. To get a de-fragmented frame, use `newframe = frame.copy()`\n",
            "  combined_data[f\"new_feature_{i+1}\"] = [None] * len(combined_data)\n",
            "<ipython-input-5-3b48af411cdc>:17: PerformanceWarning: DataFrame is highly fragmented.  This is usually the result of calling `frame.insert` many times, which has poor performance.  Consider joining all columns at once using pd.concat(axis=1) instead. To get a de-fragmented frame, use `newframe = frame.copy()`\n",
            "  combined_data[f\"new_feature_{i+1}\"] = [None] * len(combined_data)\n",
            "<ipython-input-5-3b48af411cdc>:17: PerformanceWarning: DataFrame is highly fragmented.  This is usually the result of calling `frame.insert` many times, which has poor performance.  Consider joining all columns at once using pd.concat(axis=1) instead. To get a de-fragmented frame, use `newframe = frame.copy()`\n",
            "  combined_data[f\"new_feature_{i+1}\"] = [None] * len(combined_data)\n",
            "<ipython-input-5-3b48af411cdc>:17: PerformanceWarning: DataFrame is highly fragmented.  This is usually the result of calling `frame.insert` many times, which has poor performance.  Consider joining all columns at once using pd.concat(axis=1) instead. To get a de-fragmented frame, use `newframe = frame.copy()`\n",
            "  combined_data[f\"new_feature_{i+1}\"] = [None] * len(combined_data)\n",
            "<ipython-input-5-3b48af411cdc>:17: PerformanceWarning: DataFrame is highly fragmented.  This is usually the result of calling `frame.insert` many times, which has poor performance.  Consider joining all columns at once using pd.concat(axis=1) instead. To get a de-fragmented frame, use `newframe = frame.copy()`\n",
            "  combined_data[f\"new_feature_{i+1}\"] = [None] * len(combined_data)\n",
            "<ipython-input-5-3b48af411cdc>:17: PerformanceWarning: DataFrame is highly fragmented.  This is usually the result of calling `frame.insert` many times, which has poor performance.  Consider joining all columns at once using pd.concat(axis=1) instead. To get a de-fragmented frame, use `newframe = frame.copy()`\n",
            "  combined_data[f\"new_feature_{i+1}\"] = [None] * len(combined_data)\n",
            "<ipython-input-5-3b48af411cdc>:17: PerformanceWarning: DataFrame is highly fragmented.  This is usually the result of calling `frame.insert` many times, which has poor performance.  Consider joining all columns at once using pd.concat(axis=1) instead. To get a de-fragmented frame, use `newframe = frame.copy()`\n",
            "  combined_data[f\"new_feature_{i+1}\"] = [None] * len(combined_data)\n",
            "<ipython-input-5-3b48af411cdc>:17: PerformanceWarning: DataFrame is highly fragmented.  This is usually the result of calling `frame.insert` many times, which has poor performance.  Consider joining all columns at once using pd.concat(axis=1) instead. To get a de-fragmented frame, use `newframe = frame.copy()`\n",
            "  combined_data[f\"new_feature_{i+1}\"] = [None] * len(combined_data)\n",
            "<ipython-input-5-3b48af411cdc>:17: PerformanceWarning: DataFrame is highly fragmented.  This is usually the result of calling `frame.insert` many times, which has poor performance.  Consider joining all columns at once using pd.concat(axis=1) instead. To get a de-fragmented frame, use `newframe = frame.copy()`\n",
            "  combined_data[f\"new_feature_{i+1}\"] = [None] * len(combined_data)\n",
            "<ipython-input-5-3b48af411cdc>:17: PerformanceWarning: DataFrame is highly fragmented.  This is usually the result of calling `frame.insert` many times, which has poor performance.  Consider joining all columns at once using pd.concat(axis=1) instead. To get a de-fragmented frame, use `newframe = frame.copy()`\n",
            "  combined_data[f\"new_feature_{i+1}\"] = [None] * len(combined_data)\n",
            "<ipython-input-5-3b48af411cdc>:17: PerformanceWarning: DataFrame is highly fragmented.  This is usually the result of calling `frame.insert` many times, which has poor performance.  Consider joining all columns at once using pd.concat(axis=1) instead. To get a de-fragmented frame, use `newframe = frame.copy()`\n",
            "  combined_data[f\"new_feature_{i+1}\"] = [None] * len(combined_data)\n",
            "<ipython-input-5-3b48af411cdc>:17: PerformanceWarning: DataFrame is highly fragmented.  This is usually the result of calling `frame.insert` many times, which has poor performance.  Consider joining all columns at once using pd.concat(axis=1) instead. To get a de-fragmented frame, use `newframe = frame.copy()`\n",
            "  combined_data[f\"new_feature_{i+1}\"] = [None] * len(combined_data)\n",
            "<ipython-input-5-3b48af411cdc>:17: PerformanceWarning: DataFrame is highly fragmented.  This is usually the result of calling `frame.insert` many times, which has poor performance.  Consider joining all columns at once using pd.concat(axis=1) instead. To get a de-fragmented frame, use `newframe = frame.copy()`\n",
            "  combined_data[f\"new_feature_{i+1}\"] = [None] * len(combined_data)\n",
            "<ipython-input-5-3b48af411cdc>:17: PerformanceWarning: DataFrame is highly fragmented.  This is usually the result of calling `frame.insert` many times, which has poor performance.  Consider joining all columns at once using pd.concat(axis=1) instead. To get a de-fragmented frame, use `newframe = frame.copy()`\n",
            "  combined_data[f\"new_feature_{i+1}\"] = [None] * len(combined_data)\n",
            "<ipython-input-5-3b48af411cdc>:17: PerformanceWarning: DataFrame is highly fragmented.  This is usually the result of calling `frame.insert` many times, which has poor performance.  Consider joining all columns at once using pd.concat(axis=1) instead. To get a de-fragmented frame, use `newframe = frame.copy()`\n",
            "  combined_data[f\"new_feature_{i+1}\"] = [None] * len(combined_data)\n",
            "<ipython-input-5-3b48af411cdc>:17: PerformanceWarning: DataFrame is highly fragmented.  This is usually the result of calling `frame.insert` many times, which has poor performance.  Consider joining all columns at once using pd.concat(axis=1) instead. To get a de-fragmented frame, use `newframe = frame.copy()`\n",
            "  combined_data[f\"new_feature_{i+1}\"] = [None] * len(combined_data)\n",
            "<ipython-input-5-3b48af411cdc>:17: PerformanceWarning: DataFrame is highly fragmented.  This is usually the result of calling `frame.insert` many times, which has poor performance.  Consider joining all columns at once using pd.concat(axis=1) instead. To get a de-fragmented frame, use `newframe = frame.copy()`\n",
            "  combined_data[f\"new_feature_{i+1}\"] = [None] * len(combined_data)\n",
            "<ipython-input-5-3b48af411cdc>:17: PerformanceWarning: DataFrame is highly fragmented.  This is usually the result of calling `frame.insert` many times, which has poor performance.  Consider joining all columns at once using pd.concat(axis=1) instead. To get a de-fragmented frame, use `newframe = frame.copy()`\n",
            "  combined_data[f\"new_feature_{i+1}\"] = [None] * len(combined_data)\n",
            "<ipython-input-5-3b48af411cdc>:17: PerformanceWarning: DataFrame is highly fragmented.  This is usually the result of calling `frame.insert` many times, which has poor performance.  Consider joining all columns at once using pd.concat(axis=1) instead. To get a de-fragmented frame, use `newframe = frame.copy()`\n",
            "  combined_data[f\"new_feature_{i+1}\"] = [None] * len(combined_data)\n",
            "<ipython-input-5-3b48af411cdc>:17: PerformanceWarning: DataFrame is highly fragmented.  This is usually the result of calling `frame.insert` many times, which has poor performance.  Consider joining all columns at once using pd.concat(axis=1) instead. To get a de-fragmented frame, use `newframe = frame.copy()`\n",
            "  combined_data[f\"new_feature_{i+1}\"] = [None] * len(combined_data)\n",
            "<ipython-input-5-3b48af411cdc>:17: PerformanceWarning: DataFrame is highly fragmented.  This is usually the result of calling `frame.insert` many times, which has poor performance.  Consider joining all columns at once using pd.concat(axis=1) instead. To get a de-fragmented frame, use `newframe = frame.copy()`\n",
            "  combined_data[f\"new_feature_{i+1}\"] = [None] * len(combined_data)\n",
            "<ipython-input-5-3b48af411cdc>:17: PerformanceWarning: DataFrame is highly fragmented.  This is usually the result of calling `frame.insert` many times, which has poor performance.  Consider joining all columns at once using pd.concat(axis=1) instead. To get a de-fragmented frame, use `newframe = frame.copy()`\n",
            "  combined_data[f\"new_feature_{i+1}\"] = [None] * len(combined_data)\n",
            "<ipython-input-5-3b48af411cdc>:17: PerformanceWarning: DataFrame is highly fragmented.  This is usually the result of calling `frame.insert` many times, which has poor performance.  Consider joining all columns at once using pd.concat(axis=1) instead. To get a de-fragmented frame, use `newframe = frame.copy()`\n",
            "  combined_data[f\"new_feature_{i+1}\"] = [None] * len(combined_data)\n",
            "<ipython-input-5-3b48af411cdc>:17: PerformanceWarning: DataFrame is highly fragmented.  This is usually the result of calling `frame.insert` many times, which has poor performance.  Consider joining all columns at once using pd.concat(axis=1) instead. To get a de-fragmented frame, use `newframe = frame.copy()`\n",
            "  combined_data[f\"new_feature_{i+1}\"] = [None] * len(combined_data)\n",
            "<ipython-input-5-3b48af411cdc>:17: PerformanceWarning: DataFrame is highly fragmented.  This is usually the result of calling `frame.insert` many times, which has poor performance.  Consider joining all columns at once using pd.concat(axis=1) instead. To get a de-fragmented frame, use `newframe = frame.copy()`\n",
            "  combined_data[f\"new_feature_{i+1}\"] = [None] * len(combined_data)\n",
            "<ipython-input-5-3b48af411cdc>:17: PerformanceWarning: DataFrame is highly fragmented.  This is usually the result of calling `frame.insert` many times, which has poor performance.  Consider joining all columns at once using pd.concat(axis=1) instead. To get a de-fragmented frame, use `newframe = frame.copy()`\n",
            "  combined_data[f\"new_feature_{i+1}\"] = [None] * len(combined_data)\n",
            "<ipython-input-5-3b48af411cdc>:17: PerformanceWarning: DataFrame is highly fragmented.  This is usually the result of calling `frame.insert` many times, which has poor performance.  Consider joining all columns at once using pd.concat(axis=1) instead. To get a de-fragmented frame, use `newframe = frame.copy()`\n",
            "  combined_data[f\"new_feature_{i+1}\"] = [None] * len(combined_data)\n",
            "<ipython-input-5-3b48af411cdc>:17: PerformanceWarning: DataFrame is highly fragmented.  This is usually the result of calling `frame.insert` many times, which has poor performance.  Consider joining all columns at once using pd.concat(axis=1) instead. To get a de-fragmented frame, use `newframe = frame.copy()`\n",
            "  combined_data[f\"new_feature_{i+1}\"] = [None] * len(combined_data)\n",
            "<ipython-input-5-3b48af411cdc>:17: PerformanceWarning: DataFrame is highly fragmented.  This is usually the result of calling `frame.insert` many times, which has poor performance.  Consider joining all columns at once using pd.concat(axis=1) instead. To get a de-fragmented frame, use `newframe = frame.copy()`\n",
            "  combined_data[f\"new_feature_{i+1}\"] = [None] * len(combined_data)\n",
            "<ipython-input-5-3b48af411cdc>:17: PerformanceWarning: DataFrame is highly fragmented.  This is usually the result of calling `frame.insert` many times, which has poor performance.  Consider joining all columns at once using pd.concat(axis=1) instead. To get a de-fragmented frame, use `newframe = frame.copy()`\n",
            "  combined_data[f\"new_feature_{i+1}\"] = [None] * len(combined_data)\n",
            "<ipython-input-5-3b48af411cdc>:17: PerformanceWarning: DataFrame is highly fragmented.  This is usually the result of calling `frame.insert` many times, which has poor performance.  Consider joining all columns at once using pd.concat(axis=1) instead. To get a de-fragmented frame, use `newframe = frame.copy()`\n",
            "  combined_data[f\"new_feature_{i+1}\"] = [None] * len(combined_data)\n",
            "<ipython-input-5-3b48af411cdc>:17: PerformanceWarning: DataFrame is highly fragmented.  This is usually the result of calling `frame.insert` many times, which has poor performance.  Consider joining all columns at once using pd.concat(axis=1) instead. To get a de-fragmented frame, use `newframe = frame.copy()`\n",
            "  combined_data[f\"new_feature_{i+1}\"] = [None] * len(combined_data)\n",
            "<ipython-input-5-3b48af411cdc>:17: PerformanceWarning: DataFrame is highly fragmented.  This is usually the result of calling `frame.insert` many times, which has poor performance.  Consider joining all columns at once using pd.concat(axis=1) instead. To get a de-fragmented frame, use `newframe = frame.copy()`\n",
            "  combined_data[f\"new_feature_{i+1}\"] = [None] * len(combined_data)\n",
            "<ipython-input-5-3b48af411cdc>:17: PerformanceWarning: DataFrame is highly fragmented.  This is usually the result of calling `frame.insert` many times, which has poor performance.  Consider joining all columns at once using pd.concat(axis=1) instead. To get a de-fragmented frame, use `newframe = frame.copy()`\n",
            "  combined_data[f\"new_feature_{i+1}\"] = [None] * len(combined_data)\n",
            "<ipython-input-5-3b48af411cdc>:17: PerformanceWarning: DataFrame is highly fragmented.  This is usually the result of calling `frame.insert` many times, which has poor performance.  Consider joining all columns at once using pd.concat(axis=1) instead. To get a de-fragmented frame, use `newframe = frame.copy()`\n",
            "  combined_data[f\"new_feature_{i+1}\"] = [None] * len(combined_data)\n",
            "<ipython-input-5-3b48af411cdc>:17: PerformanceWarning: DataFrame is highly fragmented.  This is usually the result of calling `frame.insert` many times, which has poor performance.  Consider joining all columns at once using pd.concat(axis=1) instead. To get a de-fragmented frame, use `newframe = frame.copy()`\n",
            "  combined_data[f\"new_feature_{i+1}\"] = [None] * len(combined_data)\n",
            "<ipython-input-5-3b48af411cdc>:17: PerformanceWarning: DataFrame is highly fragmented.  This is usually the result of calling `frame.insert` many times, which has poor performance.  Consider joining all columns at once using pd.concat(axis=1) instead. To get a de-fragmented frame, use `newframe = frame.copy()`\n",
            "  combined_data[f\"new_feature_{i+1}\"] = [None] * len(combined_data)\n",
            "<ipython-input-5-3b48af411cdc>:17: PerformanceWarning: DataFrame is highly fragmented.  This is usually the result of calling `frame.insert` many times, which has poor performance.  Consider joining all columns at once using pd.concat(axis=1) instead. To get a de-fragmented frame, use `newframe = frame.copy()`\n",
            "  combined_data[f\"new_feature_{i+1}\"] = [None] * len(combined_data)\n",
            "<ipython-input-5-3b48af411cdc>:17: PerformanceWarning: DataFrame is highly fragmented.  This is usually the result of calling `frame.insert` many times, which has poor performance.  Consider joining all columns at once using pd.concat(axis=1) instead. To get a de-fragmented frame, use `newframe = frame.copy()`\n",
            "  combined_data[f\"new_feature_{i+1}\"] = [None] * len(combined_data)\n",
            "<ipython-input-5-3b48af411cdc>:17: PerformanceWarning: DataFrame is highly fragmented.  This is usually the result of calling `frame.insert` many times, which has poor performance.  Consider joining all columns at once using pd.concat(axis=1) instead. To get a de-fragmented frame, use `newframe = frame.copy()`\n",
            "  combined_data[f\"new_feature_{i+1}\"] = [None] * len(combined_data)\n",
            "<ipython-input-5-3b48af411cdc>:17: PerformanceWarning: DataFrame is highly fragmented.  This is usually the result of calling `frame.insert` many times, which has poor performance.  Consider joining all columns at once using pd.concat(axis=1) instead. To get a de-fragmented frame, use `newframe = frame.copy()`\n",
            "  combined_data[f\"new_feature_{i+1}\"] = [None] * len(combined_data)\n",
            "<ipython-input-5-3b48af411cdc>:17: PerformanceWarning: DataFrame is highly fragmented.  This is usually the result of calling `frame.insert` many times, which has poor performance.  Consider joining all columns at once using pd.concat(axis=1) instead. To get a de-fragmented frame, use `newframe = frame.copy()`\n",
            "  combined_data[f\"new_feature_{i+1}\"] = [None] * len(combined_data)\n",
            "<ipython-input-5-3b48af411cdc>:17: PerformanceWarning: DataFrame is highly fragmented.  This is usually the result of calling `frame.insert` many times, which has poor performance.  Consider joining all columns at once using pd.concat(axis=1) instead. To get a de-fragmented frame, use `newframe = frame.copy()`\n",
            "  combined_data[f\"new_feature_{i+1}\"] = [None] * len(combined_data)\n",
            "<ipython-input-5-3b48af411cdc>:17: PerformanceWarning: DataFrame is highly fragmented.  This is usually the result of calling `frame.insert` many times, which has poor performance.  Consider joining all columns at once using pd.concat(axis=1) instead. To get a de-fragmented frame, use `newframe = frame.copy()`\n",
            "  combined_data[f\"new_feature_{i+1}\"] = [None] * len(combined_data)\n",
            "<ipython-input-5-3b48af411cdc>:17: PerformanceWarning: DataFrame is highly fragmented.  This is usually the result of calling `frame.insert` many times, which has poor performance.  Consider joining all columns at once using pd.concat(axis=1) instead. To get a de-fragmented frame, use `newframe = frame.copy()`\n",
            "  combined_data[f\"new_feature_{i+1}\"] = [None] * len(combined_data)\n",
            "<ipython-input-5-3b48af411cdc>:17: PerformanceWarning: DataFrame is highly fragmented.  This is usually the result of calling `frame.insert` many times, which has poor performance.  Consider joining all columns at once using pd.concat(axis=1) instead. To get a de-fragmented frame, use `newframe = frame.copy()`\n",
            "  combined_data[f\"new_feature_{i+1}\"] = [None] * len(combined_data)\n",
            "<ipython-input-5-3b48af411cdc>:17: PerformanceWarning: DataFrame is highly fragmented.  This is usually the result of calling `frame.insert` many times, which has poor performance.  Consider joining all columns at once using pd.concat(axis=1) instead. To get a de-fragmented frame, use `newframe = frame.copy()`\n",
            "  combined_data[f\"new_feature_{i+1}\"] = [None] * len(combined_data)\n",
            "<ipython-input-5-3b48af411cdc>:17: PerformanceWarning: DataFrame is highly fragmented.  This is usually the result of calling `frame.insert` many times, which has poor performance.  Consider joining all columns at once using pd.concat(axis=1) instead. To get a de-fragmented frame, use `newframe = frame.copy()`\n",
            "  combined_data[f\"new_feature_{i+1}\"] = [None] * len(combined_data)\n",
            "<ipython-input-5-3b48af411cdc>:17: PerformanceWarning: DataFrame is highly fragmented.  This is usually the result of calling `frame.insert` many times, which has poor performance.  Consider joining all columns at once using pd.concat(axis=1) instead. To get a de-fragmented frame, use `newframe = frame.copy()`\n",
            "  combined_data[f\"new_feature_{i+1}\"] = [None] * len(combined_data)\n",
            "<ipython-input-5-3b48af411cdc>:17: PerformanceWarning: DataFrame is highly fragmented.  This is usually the result of calling `frame.insert` many times, which has poor performance.  Consider joining all columns at once using pd.concat(axis=1) instead. To get a de-fragmented frame, use `newframe = frame.copy()`\n",
            "  combined_data[f\"new_feature_{i+1}\"] = [None] * len(combined_data)\n",
            "<ipython-input-5-3b48af411cdc>:17: PerformanceWarning: DataFrame is highly fragmented.  This is usually the result of calling `frame.insert` many times, which has poor performance.  Consider joining all columns at once using pd.concat(axis=1) instead. To get a de-fragmented frame, use `newframe = frame.copy()`\n",
            "  combined_data[f\"new_feature_{i+1}\"] = [None] * len(combined_data)\n",
            "<ipython-input-5-3b48af411cdc>:17: PerformanceWarning: DataFrame is highly fragmented.  This is usually the result of calling `frame.insert` many times, which has poor performance.  Consider joining all columns at once using pd.concat(axis=1) instead. To get a de-fragmented frame, use `newframe = frame.copy()`\n",
            "  combined_data[f\"new_feature_{i+1}\"] = [None] * len(combined_data)\n",
            "<ipython-input-5-3b48af411cdc>:17: PerformanceWarning: DataFrame is highly fragmented.  This is usually the result of calling `frame.insert` many times, which has poor performance.  Consider joining all columns at once using pd.concat(axis=1) instead. To get a de-fragmented frame, use `newframe = frame.copy()`\n",
            "  combined_data[f\"new_feature_{i+1}\"] = [None] * len(combined_data)\n",
            "<ipython-input-5-3b48af411cdc>:17: PerformanceWarning: DataFrame is highly fragmented.  This is usually the result of calling `frame.insert` many times, which has poor performance.  Consider joining all columns at once using pd.concat(axis=1) instead. To get a de-fragmented frame, use `newframe = frame.copy()`\n",
            "  combined_data[f\"new_feature_{i+1}\"] = [None] * len(combined_data)\n",
            "<ipython-input-5-3b48af411cdc>:17: PerformanceWarning: DataFrame is highly fragmented.  This is usually the result of calling `frame.insert` many times, which has poor performance.  Consider joining all columns at once using pd.concat(axis=1) instead. To get a de-fragmented frame, use `newframe = frame.copy()`\n",
            "  combined_data[f\"new_feature_{i+1}\"] = [None] * len(combined_data)\n",
            "<ipython-input-5-3b48af411cdc>:17: PerformanceWarning: DataFrame is highly fragmented.  This is usually the result of calling `frame.insert` many times, which has poor performance.  Consider joining all columns at once using pd.concat(axis=1) instead. To get a de-fragmented frame, use `newframe = frame.copy()`\n",
            "  combined_data[f\"new_feature_{i+1}\"] = [None] * len(combined_data)\n",
            "<ipython-input-5-3b48af411cdc>:17: PerformanceWarning: DataFrame is highly fragmented.  This is usually the result of calling `frame.insert` many times, which has poor performance.  Consider joining all columns at once using pd.concat(axis=1) instead. To get a de-fragmented frame, use `newframe = frame.copy()`\n",
            "  combined_data[f\"new_feature_{i+1}\"] = [None] * len(combined_data)\n",
            "<ipython-input-5-3b48af411cdc>:17: PerformanceWarning: DataFrame is highly fragmented.  This is usually the result of calling `frame.insert` many times, which has poor performance.  Consider joining all columns at once using pd.concat(axis=1) instead. To get a de-fragmented frame, use `newframe = frame.copy()`\n",
            "  combined_data[f\"new_feature_{i+1}\"] = [None] * len(combined_data)\n",
            "<ipython-input-5-3b48af411cdc>:17: PerformanceWarning: DataFrame is highly fragmented.  This is usually the result of calling `frame.insert` many times, which has poor performance.  Consider joining all columns at once using pd.concat(axis=1) instead. To get a de-fragmented frame, use `newframe = frame.copy()`\n",
            "  combined_data[f\"new_feature_{i+1}\"] = [None] * len(combined_data)\n",
            "<ipython-input-5-3b48af411cdc>:17: PerformanceWarning: DataFrame is highly fragmented.  This is usually the result of calling `frame.insert` many times, which has poor performance.  Consider joining all columns at once using pd.concat(axis=1) instead. To get a de-fragmented frame, use `newframe = frame.copy()`\n",
            "  combined_data[f\"new_feature_{i+1}\"] = [None] * len(combined_data)\n",
            "<ipython-input-5-3b48af411cdc>:17: PerformanceWarning: DataFrame is highly fragmented.  This is usually the result of calling `frame.insert` many times, which has poor performance.  Consider joining all columns at once using pd.concat(axis=1) instead. To get a de-fragmented frame, use `newframe = frame.copy()`\n",
            "  combined_data[f\"new_feature_{i+1}\"] = [None] * len(combined_data)\n",
            "<ipython-input-5-3b48af411cdc>:17: PerformanceWarning: DataFrame is highly fragmented.  This is usually the result of calling `frame.insert` many times, which has poor performance.  Consider joining all columns at once using pd.concat(axis=1) instead. To get a de-fragmented frame, use `newframe = frame.copy()`\n",
            "  combined_data[f\"new_feature_{i+1}\"] = [None] * len(combined_data)\n",
            "<ipython-input-5-3b48af411cdc>:17: PerformanceWarning: DataFrame is highly fragmented.  This is usually the result of calling `frame.insert` many times, which has poor performance.  Consider joining all columns at once using pd.concat(axis=1) instead. To get a de-fragmented frame, use `newframe = frame.copy()`\n",
            "  combined_data[f\"new_feature_{i+1}\"] = [None] * len(combined_data)\n",
            "<ipython-input-5-3b48af411cdc>:17: PerformanceWarning: DataFrame is highly fragmented.  This is usually the result of calling `frame.insert` many times, which has poor performance.  Consider joining all columns at once using pd.concat(axis=1) instead. To get a de-fragmented frame, use `newframe = frame.copy()`\n",
            "  combined_data[f\"new_feature_{i+1}\"] = [None] * len(combined_data)\n",
            "<ipython-input-5-3b48af411cdc>:17: PerformanceWarning: DataFrame is highly fragmented.  This is usually the result of calling `frame.insert` many times, which has poor performance.  Consider joining all columns at once using pd.concat(axis=1) instead. To get a de-fragmented frame, use `newframe = frame.copy()`\n",
            "  combined_data[f\"new_feature_{i+1}\"] = [None] * len(combined_data)\n",
            "<ipython-input-5-3b48af411cdc>:17: PerformanceWarning: DataFrame is highly fragmented.  This is usually the result of calling `frame.insert` many times, which has poor performance.  Consider joining all columns at once using pd.concat(axis=1) instead. To get a de-fragmented frame, use `newframe = frame.copy()`\n",
            "  combined_data[f\"new_feature_{i+1}\"] = [None] * len(combined_data)\n",
            "<ipython-input-5-3b48af411cdc>:17: PerformanceWarning: DataFrame is highly fragmented.  This is usually the result of calling `frame.insert` many times, which has poor performance.  Consider joining all columns at once using pd.concat(axis=1) instead. To get a de-fragmented frame, use `newframe = frame.copy()`\n",
            "  combined_data[f\"new_feature_{i+1}\"] = [None] * len(combined_data)\n",
            "<ipython-input-5-3b48af411cdc>:17: PerformanceWarning: DataFrame is highly fragmented.  This is usually the result of calling `frame.insert` many times, which has poor performance.  Consider joining all columns at once using pd.concat(axis=1) instead. To get a de-fragmented frame, use `newframe = frame.copy()`\n",
            "  combined_data[f\"new_feature_{i+1}\"] = [None] * len(combined_data)\n",
            "<ipython-input-5-3b48af411cdc>:17: PerformanceWarning: DataFrame is highly fragmented.  This is usually the result of calling `frame.insert` many times, which has poor performance.  Consider joining all columns at once using pd.concat(axis=1) instead. To get a de-fragmented frame, use `newframe = frame.copy()`\n",
            "  combined_data[f\"new_feature_{i+1}\"] = [None] * len(combined_data)\n",
            "<ipython-input-5-3b48af411cdc>:17: PerformanceWarning: DataFrame is highly fragmented.  This is usually the result of calling `frame.insert` many times, which has poor performance.  Consider joining all columns at once using pd.concat(axis=1) instead. To get a de-fragmented frame, use `newframe = frame.copy()`\n",
            "  combined_data[f\"new_feature_{i+1}\"] = [None] * len(combined_data)\n",
            "<ipython-input-5-3b48af411cdc>:17: PerformanceWarning: DataFrame is highly fragmented.  This is usually the result of calling `frame.insert` many times, which has poor performance.  Consider joining all columns at once using pd.concat(axis=1) instead. To get a de-fragmented frame, use `newframe = frame.copy()`\n",
            "  combined_data[f\"new_feature_{i+1}\"] = [None] * len(combined_data)\n",
            "<ipython-input-5-3b48af411cdc>:17: PerformanceWarning: DataFrame is highly fragmented.  This is usually the result of calling `frame.insert` many times, which has poor performance.  Consider joining all columns at once using pd.concat(axis=1) instead. To get a de-fragmented frame, use `newframe = frame.copy()`\n",
            "  combined_data[f\"new_feature_{i+1}\"] = [None] * len(combined_data)\n",
            "<ipython-input-5-3b48af411cdc>:17: PerformanceWarning: DataFrame is highly fragmented.  This is usually the result of calling `frame.insert` many times, which has poor performance.  Consider joining all columns at once using pd.concat(axis=1) instead. To get a de-fragmented frame, use `newframe = frame.copy()`\n",
            "  combined_data[f\"new_feature_{i+1}\"] = [None] * len(combined_data)\n",
            "<ipython-input-5-3b48af411cdc>:17: PerformanceWarning: DataFrame is highly fragmented.  This is usually the result of calling `frame.insert` many times, which has poor performance.  Consider joining all columns at once using pd.concat(axis=1) instead. To get a de-fragmented frame, use `newframe = frame.copy()`\n",
            "  combined_data[f\"new_feature_{i+1}\"] = [None] * len(combined_data)\n",
            "<ipython-input-5-3b48af411cdc>:17: PerformanceWarning: DataFrame is highly fragmented.  This is usually the result of calling `frame.insert` many times, which has poor performance.  Consider joining all columns at once using pd.concat(axis=1) instead. To get a de-fragmented frame, use `newframe = frame.copy()`\n",
            "  combined_data[f\"new_feature_{i+1}\"] = [None] * len(combined_data)\n",
            "<ipython-input-5-3b48af411cdc>:17: PerformanceWarning: DataFrame is highly fragmented.  This is usually the result of calling `frame.insert` many times, which has poor performance.  Consider joining all columns at once using pd.concat(axis=1) instead. To get a de-fragmented frame, use `newframe = frame.copy()`\n",
            "  combined_data[f\"new_feature_{i+1}\"] = [None] * len(combined_data)\n",
            "<ipython-input-5-3b48af411cdc>:17: PerformanceWarning: DataFrame is highly fragmented.  This is usually the result of calling `frame.insert` many times, which has poor performance.  Consider joining all columns at once using pd.concat(axis=1) instead. To get a de-fragmented frame, use `newframe = frame.copy()`\n",
            "  combined_data[f\"new_feature_{i+1}\"] = [None] * len(combined_data)\n",
            "<ipython-input-5-3b48af411cdc>:17: PerformanceWarning: DataFrame is highly fragmented.  This is usually the result of calling `frame.insert` many times, which has poor performance.  Consider joining all columns at once using pd.concat(axis=1) instead. To get a de-fragmented frame, use `newframe = frame.copy()`\n",
            "  combined_data[f\"new_feature_{i+1}\"] = [None] * len(combined_data)\n",
            "<ipython-input-5-3b48af411cdc>:17: PerformanceWarning: DataFrame is highly fragmented.  This is usually the result of calling `frame.insert` many times, which has poor performance.  Consider joining all columns at once using pd.concat(axis=1) instead. To get a de-fragmented frame, use `newframe = frame.copy()`\n",
            "  combined_data[f\"new_feature_{i+1}\"] = [None] * len(combined_data)\n",
            "<ipython-input-5-3b48af411cdc>:17: PerformanceWarning: DataFrame is highly fragmented.  This is usually the result of calling `frame.insert` many times, which has poor performance.  Consider joining all columns at once using pd.concat(axis=1) instead. To get a de-fragmented frame, use `newframe = frame.copy()`\n",
            "  combined_data[f\"new_feature_{i+1}\"] = [None] * len(combined_data)\n",
            "<ipython-input-5-3b48af411cdc>:17: PerformanceWarning: DataFrame is highly fragmented.  This is usually the result of calling `frame.insert` many times, which has poor performance.  Consider joining all columns at once using pd.concat(axis=1) instead. To get a de-fragmented frame, use `newframe = frame.copy()`\n",
            "  combined_data[f\"new_feature_{i+1}\"] = [None] * len(combined_data)\n",
            "<ipython-input-5-3b48af411cdc>:17: PerformanceWarning: DataFrame is highly fragmented.  This is usually the result of calling `frame.insert` many times, which has poor performance.  Consider joining all columns at once using pd.concat(axis=1) instead. To get a de-fragmented frame, use `newframe = frame.copy()`\n",
            "  combined_data[f\"new_feature_{i+1}\"] = [None] * len(combined_data)\n",
            "<ipython-input-5-3b48af411cdc>:17: PerformanceWarning: DataFrame is highly fragmented.  This is usually the result of calling `frame.insert` many times, which has poor performance.  Consider joining all columns at once using pd.concat(axis=1) instead. To get a de-fragmented frame, use `newframe = frame.copy()`\n",
            "  combined_data[f\"new_feature_{i+1}\"] = [None] * len(combined_data)\n",
            "<ipython-input-5-3b48af411cdc>:17: PerformanceWarning: DataFrame is highly fragmented.  This is usually the result of calling `frame.insert` many times, which has poor performance.  Consider joining all columns at once using pd.concat(axis=1) instead. To get a de-fragmented frame, use `newframe = frame.copy()`\n",
            "  combined_data[f\"new_feature_{i+1}\"] = [None] * len(combined_data)\n",
            "<ipython-input-5-3b48af411cdc>:17: PerformanceWarning: DataFrame is highly fragmented.  This is usually the result of calling `frame.insert` many times, which has poor performance.  Consider joining all columns at once using pd.concat(axis=1) instead. To get a de-fragmented frame, use `newframe = frame.copy()`\n",
            "  combined_data[f\"new_feature_{i+1}\"] = [None] * len(combined_data)\n",
            "<ipython-input-5-3b48af411cdc>:17: PerformanceWarning: DataFrame is highly fragmented.  This is usually the result of calling `frame.insert` many times, which has poor performance.  Consider joining all columns at once using pd.concat(axis=1) instead. To get a de-fragmented frame, use `newframe = frame.copy()`\n",
            "  combined_data[f\"new_feature_{i+1}\"] = [None] * len(combined_data)\n",
            "<ipython-input-5-3b48af411cdc>:17: PerformanceWarning: DataFrame is highly fragmented.  This is usually the result of calling `frame.insert` many times, which has poor performance.  Consider joining all columns at once using pd.concat(axis=1) instead. To get a de-fragmented frame, use `newframe = frame.copy()`\n",
            "  combined_data[f\"new_feature_{i+1}\"] = [None] * len(combined_data)\n",
            "<ipython-input-5-3b48af411cdc>:17: PerformanceWarning: DataFrame is highly fragmented.  This is usually the result of calling `frame.insert` many times, which has poor performance.  Consider joining all columns at once using pd.concat(axis=1) instead. To get a de-fragmented frame, use `newframe = frame.copy()`\n",
            "  combined_data[f\"new_feature_{i+1}\"] = [None] * len(combined_data)\n",
            "<ipython-input-5-3b48af411cdc>:17: PerformanceWarning: DataFrame is highly fragmented.  This is usually the result of calling `frame.insert` many times, which has poor performance.  Consider joining all columns at once using pd.concat(axis=1) instead. To get a de-fragmented frame, use `newframe = frame.copy()`\n",
            "  combined_data[f\"new_feature_{i+1}\"] = [None] * len(combined_data)\n",
            "<ipython-input-5-3b48af411cdc>:17: PerformanceWarning: DataFrame is highly fragmented.  This is usually the result of calling `frame.insert` many times, which has poor performance.  Consider joining all columns at once using pd.concat(axis=1) instead. To get a de-fragmented frame, use `newframe = frame.copy()`\n",
            "  combined_data[f\"new_feature_{i+1}\"] = [None] * len(combined_data)\n",
            "<ipython-input-5-3b48af411cdc>:17: PerformanceWarning: DataFrame is highly fragmented.  This is usually the result of calling `frame.insert` many times, which has poor performance.  Consider joining all columns at once using pd.concat(axis=1) instead. To get a de-fragmented frame, use `newframe = frame.copy()`\n",
            "  combined_data[f\"new_feature_{i+1}\"] = [None] * len(combined_data)\n",
            "<ipython-input-5-3b48af411cdc>:17: PerformanceWarning: DataFrame is highly fragmented.  This is usually the result of calling `frame.insert` many times, which has poor performance.  Consider joining all columns at once using pd.concat(axis=1) instead. To get a de-fragmented frame, use `newframe = frame.copy()`\n",
            "  combined_data[f\"new_feature_{i+1}\"] = [None] * len(combined_data)\n",
            "<ipython-input-5-3b48af411cdc>:17: PerformanceWarning: DataFrame is highly fragmented.  This is usually the result of calling `frame.insert` many times, which has poor performance.  Consider joining all columns at once using pd.concat(axis=1) instead. To get a de-fragmented frame, use `newframe = frame.copy()`\n",
            "  combined_data[f\"new_feature_{i+1}\"] = [None] * len(combined_data)\n",
            "<ipython-input-5-3b48af411cdc>:17: PerformanceWarning: DataFrame is highly fragmented.  This is usually the result of calling `frame.insert` many times, which has poor performance.  Consider joining all columns at once using pd.concat(axis=1) instead. To get a de-fragmented frame, use `newframe = frame.copy()`\n",
            "  combined_data[f\"new_feature_{i+1}\"] = [None] * len(combined_data)\n",
            "<ipython-input-5-3b48af411cdc>:17: PerformanceWarning: DataFrame is highly fragmented.  This is usually the result of calling `frame.insert` many times, which has poor performance.  Consider joining all columns at once using pd.concat(axis=1) instead. To get a de-fragmented frame, use `newframe = frame.copy()`\n",
            "  combined_data[f\"new_feature_{i+1}\"] = [None] * len(combined_data)\n",
            "<ipython-input-5-3b48af411cdc>:17: PerformanceWarning: DataFrame is highly fragmented.  This is usually the result of calling `frame.insert` many times, which has poor performance.  Consider joining all columns at once using pd.concat(axis=1) instead. To get a de-fragmented frame, use `newframe = frame.copy()`\n",
            "  combined_data[f\"new_feature_{i+1}\"] = [None] * len(combined_data)\n",
            "<ipython-input-5-3b48af411cdc>:17: PerformanceWarning: DataFrame is highly fragmented.  This is usually the result of calling `frame.insert` many times, which has poor performance.  Consider joining all columns at once using pd.concat(axis=1) instead. To get a de-fragmented frame, use `newframe = frame.copy()`\n",
            "  combined_data[f\"new_feature_{i+1}\"] = [None] * len(combined_data)\n",
            "<ipython-input-5-3b48af411cdc>:17: PerformanceWarning: DataFrame is highly fragmented.  This is usually the result of calling `frame.insert` many times, which has poor performance.  Consider joining all columns at once using pd.concat(axis=1) instead. To get a de-fragmented frame, use `newframe = frame.copy()`\n",
            "  combined_data[f\"new_feature_{i+1}\"] = [None] * len(combined_data)\n",
            "<ipython-input-5-3b48af411cdc>:17: PerformanceWarning: DataFrame is highly fragmented.  This is usually the result of calling `frame.insert` many times, which has poor performance.  Consider joining all columns at once using pd.concat(axis=1) instead. To get a de-fragmented frame, use `newframe = frame.copy()`\n",
            "  combined_data[f\"new_feature_{i+1}\"] = [None] * len(combined_data)\n",
            "<ipython-input-5-3b48af411cdc>:17: PerformanceWarning: DataFrame is highly fragmented.  This is usually the result of calling `frame.insert` many times, which has poor performance.  Consider joining all columns at once using pd.concat(axis=1) instead. To get a de-fragmented frame, use `newframe = frame.copy()`\n",
            "  combined_data[f\"new_feature_{i+1}\"] = [None] * len(combined_data)\n",
            "<ipython-input-5-3b48af411cdc>:17: PerformanceWarning: DataFrame is highly fragmented.  This is usually the result of calling `frame.insert` many times, which has poor performance.  Consider joining all columns at once using pd.concat(axis=1) instead. To get a de-fragmented frame, use `newframe = frame.copy()`\n",
            "  combined_data[f\"new_feature_{i+1}\"] = [None] * len(combined_data)\n",
            "<ipython-input-5-3b48af411cdc>:17: PerformanceWarning: DataFrame is highly fragmented.  This is usually the result of calling `frame.insert` many times, which has poor performance.  Consider joining all columns at once using pd.concat(axis=1) instead. To get a de-fragmented frame, use `newframe = frame.copy()`\n",
            "  combined_data[f\"new_feature_{i+1}\"] = [None] * len(combined_data)\n",
            "<ipython-input-5-3b48af411cdc>:17: PerformanceWarning: DataFrame is highly fragmented.  This is usually the result of calling `frame.insert` many times, which has poor performance.  Consider joining all columns at once using pd.concat(axis=1) instead. To get a de-fragmented frame, use `newframe = frame.copy()`\n",
            "  combined_data[f\"new_feature_{i+1}\"] = [None] * len(combined_data)\n",
            "<ipython-input-5-3b48af411cdc>:17: PerformanceWarning: DataFrame is highly fragmented.  This is usually the result of calling `frame.insert` many times, which has poor performance.  Consider joining all columns at once using pd.concat(axis=1) instead. To get a de-fragmented frame, use `newframe = frame.copy()`\n",
            "  combined_data[f\"new_feature_{i+1}\"] = [None] * len(combined_data)\n",
            "<ipython-input-5-3b48af411cdc>:17: PerformanceWarning: DataFrame is highly fragmented.  This is usually the result of calling `frame.insert` many times, which has poor performance.  Consider joining all columns at once using pd.concat(axis=1) instead. To get a de-fragmented frame, use `newframe = frame.copy()`\n",
            "  combined_data[f\"new_feature_{i+1}\"] = [None] * len(combined_data)\n",
            "<ipython-input-5-3b48af411cdc>:17: PerformanceWarning: DataFrame is highly fragmented.  This is usually the result of calling `frame.insert` many times, which has poor performance.  Consider joining all columns at once using pd.concat(axis=1) instead. To get a de-fragmented frame, use `newframe = frame.copy()`\n",
            "  combined_data[f\"new_feature_{i+1}\"] = [None] * len(combined_data)\n",
            "<ipython-input-5-3b48af411cdc>:17: PerformanceWarning: DataFrame is highly fragmented.  This is usually the result of calling `frame.insert` many times, which has poor performance.  Consider joining all columns at once using pd.concat(axis=1) instead. To get a de-fragmented frame, use `newframe = frame.copy()`\n",
            "  combined_data[f\"new_feature_{i+1}\"] = [None] * len(combined_data)\n",
            "<ipython-input-5-3b48af411cdc>:17: PerformanceWarning: DataFrame is highly fragmented.  This is usually the result of calling `frame.insert` many times, which has poor performance.  Consider joining all columns at once using pd.concat(axis=1) instead. To get a de-fragmented frame, use `newframe = frame.copy()`\n",
            "  combined_data[f\"new_feature_{i+1}\"] = [None] * len(combined_data)\n",
            "<ipython-input-5-3b48af411cdc>:17: PerformanceWarning: DataFrame is highly fragmented.  This is usually the result of calling `frame.insert` many times, which has poor performance.  Consider joining all columns at once using pd.concat(axis=1) instead. To get a de-fragmented frame, use `newframe = frame.copy()`\n",
            "  combined_data[f\"new_feature_{i+1}\"] = [None] * len(combined_data)\n",
            "<ipython-input-5-3b48af411cdc>:17: PerformanceWarning: DataFrame is highly fragmented.  This is usually the result of calling `frame.insert` many times, which has poor performance.  Consider joining all columns at once using pd.concat(axis=1) instead. To get a de-fragmented frame, use `newframe = frame.copy()`\n",
            "  combined_data[f\"new_feature_{i+1}\"] = [None] * len(combined_data)\n",
            "<ipython-input-5-3b48af411cdc>:17: PerformanceWarning: DataFrame is highly fragmented.  This is usually the result of calling `frame.insert` many times, which has poor performance.  Consider joining all columns at once using pd.concat(axis=1) instead. To get a de-fragmented frame, use `newframe = frame.copy()`\n",
            "  combined_data[f\"new_feature_{i+1}\"] = [None] * len(combined_data)\n",
            "<ipython-input-5-3b48af411cdc>:17: PerformanceWarning: DataFrame is highly fragmented.  This is usually the result of calling `frame.insert` many times, which has poor performance.  Consider joining all columns at once using pd.concat(axis=1) instead. To get a de-fragmented frame, use `newframe = frame.copy()`\n",
            "  combined_data[f\"new_feature_{i+1}\"] = [None] * len(combined_data)\n",
            "<ipython-input-5-3b48af411cdc>:17: PerformanceWarning: DataFrame is highly fragmented.  This is usually the result of calling `frame.insert` many times, which has poor performance.  Consider joining all columns at once using pd.concat(axis=1) instead. To get a de-fragmented frame, use `newframe = frame.copy()`\n",
            "  combined_data[f\"new_feature_{i+1}\"] = [None] * len(combined_data)\n",
            "<ipython-input-5-3b48af411cdc>:17: PerformanceWarning: DataFrame is highly fragmented.  This is usually the result of calling `frame.insert` many times, which has poor performance.  Consider joining all columns at once using pd.concat(axis=1) instead. To get a de-fragmented frame, use `newframe = frame.copy()`\n",
            "  combined_data[f\"new_feature_{i+1}\"] = [None] * len(combined_data)\n",
            "<ipython-input-5-3b48af411cdc>:17: PerformanceWarning: DataFrame is highly fragmented.  This is usually the result of calling `frame.insert` many times, which has poor performance.  Consider joining all columns at once using pd.concat(axis=1) instead. To get a de-fragmented frame, use `newframe = frame.copy()`\n",
            "  combined_data[f\"new_feature_{i+1}\"] = [None] * len(combined_data)\n",
            "<ipython-input-5-3b48af411cdc>:17: PerformanceWarning: DataFrame is highly fragmented.  This is usually the result of calling `frame.insert` many times, which has poor performance.  Consider joining all columns at once using pd.concat(axis=1) instead. To get a de-fragmented frame, use `newframe = frame.copy()`\n",
            "  combined_data[f\"new_feature_{i+1}\"] = [None] * len(combined_data)\n",
            "<ipython-input-5-3b48af411cdc>:17: PerformanceWarning: DataFrame is highly fragmented.  This is usually the result of calling `frame.insert` many times, which has poor performance.  Consider joining all columns at once using pd.concat(axis=1) instead. To get a de-fragmented frame, use `newframe = frame.copy()`\n",
            "  combined_data[f\"new_feature_{i+1}\"] = [None] * len(combined_data)\n",
            "<ipython-input-5-3b48af411cdc>:17: PerformanceWarning: DataFrame is highly fragmented.  This is usually the result of calling `frame.insert` many times, which has poor performance.  Consider joining all columns at once using pd.concat(axis=1) instead. To get a de-fragmented frame, use `newframe = frame.copy()`\n",
            "  combined_data[f\"new_feature_{i+1}\"] = [None] * len(combined_data)\n",
            "<ipython-input-5-3b48af411cdc>:17: PerformanceWarning: DataFrame is highly fragmented.  This is usually the result of calling `frame.insert` many times, which has poor performance.  Consider joining all columns at once using pd.concat(axis=1) instead. To get a de-fragmented frame, use `newframe = frame.copy()`\n",
            "  combined_data[f\"new_feature_{i+1}\"] = [None] * len(combined_data)\n",
            "<ipython-input-5-3b48af411cdc>:17: PerformanceWarning: DataFrame is highly fragmented.  This is usually the result of calling `frame.insert` many times, which has poor performance.  Consider joining all columns at once using pd.concat(axis=1) instead. To get a de-fragmented frame, use `newframe = frame.copy()`\n",
            "  combined_data[f\"new_feature_{i+1}\"] = [None] * len(combined_data)\n",
            "<ipython-input-5-3b48af411cdc>:17: PerformanceWarning: DataFrame is highly fragmented.  This is usually the result of calling `frame.insert` many times, which has poor performance.  Consider joining all columns at once using pd.concat(axis=1) instead. To get a de-fragmented frame, use `newframe = frame.copy()`\n",
            "  combined_data[f\"new_feature_{i+1}\"] = [None] * len(combined_data)\n",
            "<ipython-input-5-3b48af411cdc>:17: PerformanceWarning: DataFrame is highly fragmented.  This is usually the result of calling `frame.insert` many times, which has poor performance.  Consider joining all columns at once using pd.concat(axis=1) instead. To get a de-fragmented frame, use `newframe = frame.copy()`\n",
            "  combined_data[f\"new_feature_{i+1}\"] = [None] * len(combined_data)\n",
            "<ipython-input-5-3b48af411cdc>:17: PerformanceWarning: DataFrame is highly fragmented.  This is usually the result of calling `frame.insert` many times, which has poor performance.  Consider joining all columns at once using pd.concat(axis=1) instead. To get a de-fragmented frame, use `newframe = frame.copy()`\n",
            "  combined_data[f\"new_feature_{i+1}\"] = [None] * len(combined_data)\n",
            "<ipython-input-5-3b48af411cdc>:17: PerformanceWarning: DataFrame is highly fragmented.  This is usually the result of calling `frame.insert` many times, which has poor performance.  Consider joining all columns at once using pd.concat(axis=1) instead. To get a de-fragmented frame, use `newframe = frame.copy()`\n",
            "  combined_data[f\"new_feature_{i+1}\"] = [None] * len(combined_data)\n",
            "<ipython-input-5-3b48af411cdc>:17: PerformanceWarning: DataFrame is highly fragmented.  This is usually the result of calling `frame.insert` many times, which has poor performance.  Consider joining all columns at once using pd.concat(axis=1) instead. To get a de-fragmented frame, use `newframe = frame.copy()`\n",
            "  combined_data[f\"new_feature_{i+1}\"] = [None] * len(combined_data)\n",
            "<ipython-input-5-3b48af411cdc>:17: PerformanceWarning: DataFrame is highly fragmented.  This is usually the result of calling `frame.insert` many times, which has poor performance.  Consider joining all columns at once using pd.concat(axis=1) instead. To get a de-fragmented frame, use `newframe = frame.copy()`\n",
            "  combined_data[f\"new_feature_{i+1}\"] = [None] * len(combined_data)\n",
            "<ipython-input-5-3b48af411cdc>:17: PerformanceWarning: DataFrame is highly fragmented.  This is usually the result of calling `frame.insert` many times, which has poor performance.  Consider joining all columns at once using pd.concat(axis=1) instead. To get a de-fragmented frame, use `newframe = frame.copy()`\n",
            "  combined_data[f\"new_feature_{i+1}\"] = [None] * len(combined_data)\n",
            "<ipython-input-5-3b48af411cdc>:17: PerformanceWarning: DataFrame is highly fragmented.  This is usually the result of calling `frame.insert` many times, which has poor performance.  Consider joining all columns at once using pd.concat(axis=1) instead. To get a de-fragmented frame, use `newframe = frame.copy()`\n",
            "  combined_data[f\"new_feature_{i+1}\"] = [None] * len(combined_data)\n",
            "<ipython-input-5-3b48af411cdc>:17: PerformanceWarning: DataFrame is highly fragmented.  This is usually the result of calling `frame.insert` many times, which has poor performance.  Consider joining all columns at once using pd.concat(axis=1) instead. To get a de-fragmented frame, use `newframe = frame.copy()`\n",
            "  combined_data[f\"new_feature_{i+1}\"] = [None] * len(combined_data)\n",
            "<ipython-input-5-3b48af411cdc>:17: PerformanceWarning: DataFrame is highly fragmented.  This is usually the result of calling `frame.insert` many times, which has poor performance.  Consider joining all columns at once using pd.concat(axis=1) instead. To get a de-fragmented frame, use `newframe = frame.copy()`\n",
            "  combined_data[f\"new_feature_{i+1}\"] = [None] * len(combined_data)\n",
            "<ipython-input-5-3b48af411cdc>:17: PerformanceWarning: DataFrame is highly fragmented.  This is usually the result of calling `frame.insert` many times, which has poor performance.  Consider joining all columns at once using pd.concat(axis=1) instead. To get a de-fragmented frame, use `newframe = frame.copy()`\n",
            "  combined_data[f\"new_feature_{i+1}\"] = [None] * len(combined_data)\n",
            "<ipython-input-5-3b48af411cdc>:17: PerformanceWarning: DataFrame is highly fragmented.  This is usually the result of calling `frame.insert` many times, which has poor performance.  Consider joining all columns at once using pd.concat(axis=1) instead. To get a de-fragmented frame, use `newframe = frame.copy()`\n",
            "  combined_data[f\"new_feature_{i+1}\"] = [None] * len(combined_data)\n",
            "<ipython-input-5-3b48af411cdc>:17: PerformanceWarning: DataFrame is highly fragmented.  This is usually the result of calling `frame.insert` many times, which has poor performance.  Consider joining all columns at once using pd.concat(axis=1) instead. To get a de-fragmented frame, use `newframe = frame.copy()`\n",
            "  combined_data[f\"new_feature_{i+1}\"] = [None] * len(combined_data)\n",
            "<ipython-input-5-3b48af411cdc>:17: PerformanceWarning: DataFrame is highly fragmented.  This is usually the result of calling `frame.insert` many times, which has poor performance.  Consider joining all columns at once using pd.concat(axis=1) instead. To get a de-fragmented frame, use `newframe = frame.copy()`\n",
            "  combined_data[f\"new_feature_{i+1}\"] = [None] * len(combined_data)\n",
            "<ipython-input-5-3b48af411cdc>:17: PerformanceWarning: DataFrame is highly fragmented.  This is usually the result of calling `frame.insert` many times, which has poor performance.  Consider joining all columns at once using pd.concat(axis=1) instead. To get a de-fragmented frame, use `newframe = frame.copy()`\n",
            "  combined_data[f\"new_feature_{i+1}\"] = [None] * len(combined_data)\n",
            "<ipython-input-5-3b48af411cdc>:17: PerformanceWarning: DataFrame is highly fragmented.  This is usually the result of calling `frame.insert` many times, which has poor performance.  Consider joining all columns at once using pd.concat(axis=1) instead. To get a de-fragmented frame, use `newframe = frame.copy()`\n",
            "  combined_data[f\"new_feature_{i+1}\"] = [None] * len(combined_data)\n",
            "<ipython-input-5-3b48af411cdc>:17: PerformanceWarning: DataFrame is highly fragmented.  This is usually the result of calling `frame.insert` many times, which has poor performance.  Consider joining all columns at once using pd.concat(axis=1) instead. To get a de-fragmented frame, use `newframe = frame.copy()`\n",
            "  combined_data[f\"new_feature_{i+1}\"] = [None] * len(combined_data)\n",
            "<ipython-input-5-3b48af411cdc>:17: PerformanceWarning: DataFrame is highly fragmented.  This is usually the result of calling `frame.insert` many times, which has poor performance.  Consider joining all columns at once using pd.concat(axis=1) instead. To get a de-fragmented frame, use `newframe = frame.copy()`\n",
            "  combined_data[f\"new_feature_{i+1}\"] = [None] * len(combined_data)\n",
            "<ipython-input-5-3b48af411cdc>:17: PerformanceWarning: DataFrame is highly fragmented.  This is usually the result of calling `frame.insert` many times, which has poor performance.  Consider joining all columns at once using pd.concat(axis=1) instead. To get a de-fragmented frame, use `newframe = frame.copy()`\n",
            "  combined_data[f\"new_feature_{i+1}\"] = [None] * len(combined_data)\n",
            "<ipython-input-5-3b48af411cdc>:17: PerformanceWarning: DataFrame is highly fragmented.  This is usually the result of calling `frame.insert` many times, which has poor performance.  Consider joining all columns at once using pd.concat(axis=1) instead. To get a de-fragmented frame, use `newframe = frame.copy()`\n",
            "  combined_data[f\"new_feature_{i+1}\"] = [None] * len(combined_data)\n",
            "<ipython-input-5-3b48af411cdc>:17: PerformanceWarning: DataFrame is highly fragmented.  This is usually the result of calling `frame.insert` many times, which has poor performance.  Consider joining all columns at once using pd.concat(axis=1) instead. To get a de-fragmented frame, use `newframe = frame.copy()`\n",
            "  combined_data[f\"new_feature_{i+1}\"] = [None] * len(combined_data)\n",
            "<ipython-input-5-3b48af411cdc>:17: PerformanceWarning: DataFrame is highly fragmented.  This is usually the result of calling `frame.insert` many times, which has poor performance.  Consider joining all columns at once using pd.concat(axis=1) instead. To get a de-fragmented frame, use `newframe = frame.copy()`\n",
            "  combined_data[f\"new_feature_{i+1}\"] = [None] * len(combined_data)\n",
            "<ipython-input-5-3b48af411cdc>:17: PerformanceWarning: DataFrame is highly fragmented.  This is usually the result of calling `frame.insert` many times, which has poor performance.  Consider joining all columns at once using pd.concat(axis=1) instead. To get a de-fragmented frame, use `newframe = frame.copy()`\n",
            "  combined_data[f\"new_feature_{i+1}\"] = [None] * len(combined_data)\n",
            "<ipython-input-5-3b48af411cdc>:17: PerformanceWarning: DataFrame is highly fragmented.  This is usually the result of calling `frame.insert` many times, which has poor performance.  Consider joining all columns at once using pd.concat(axis=1) instead. To get a de-fragmented frame, use `newframe = frame.copy()`\n",
            "  combined_data[f\"new_feature_{i+1}\"] = [None] * len(combined_data)\n",
            "<ipython-input-5-3b48af411cdc>:17: PerformanceWarning: DataFrame is highly fragmented.  This is usually the result of calling `frame.insert` many times, which has poor performance.  Consider joining all columns at once using pd.concat(axis=1) instead. To get a de-fragmented frame, use `newframe = frame.copy()`\n",
            "  combined_data[f\"new_feature_{i+1}\"] = [None] * len(combined_data)\n",
            "<ipython-input-5-3b48af411cdc>:17: PerformanceWarning: DataFrame is highly fragmented.  This is usually the result of calling `frame.insert` many times, which has poor performance.  Consider joining all columns at once using pd.concat(axis=1) instead. To get a de-fragmented frame, use `newframe = frame.copy()`\n",
            "  combined_data[f\"new_feature_{i+1}\"] = [None] * len(combined_data)\n",
            "<ipython-input-5-3b48af411cdc>:17: PerformanceWarning: DataFrame is highly fragmented.  This is usually the result of calling `frame.insert` many times, which has poor performance.  Consider joining all columns at once using pd.concat(axis=1) instead. To get a de-fragmented frame, use `newframe = frame.copy()`\n",
            "  combined_data[f\"new_feature_{i+1}\"] = [None] * len(combined_data)\n",
            "<ipython-input-5-3b48af411cdc>:17: PerformanceWarning: DataFrame is highly fragmented.  This is usually the result of calling `frame.insert` many times, which has poor performance.  Consider joining all columns at once using pd.concat(axis=1) instead. To get a de-fragmented frame, use `newframe = frame.copy()`\n",
            "  combined_data[f\"new_feature_{i+1}\"] = [None] * len(combined_data)\n",
            "<ipython-input-5-3b48af411cdc>:17: PerformanceWarning: DataFrame is highly fragmented.  This is usually the result of calling `frame.insert` many times, which has poor performance.  Consider joining all columns at once using pd.concat(axis=1) instead. To get a de-fragmented frame, use `newframe = frame.copy()`\n",
            "  combined_data[f\"new_feature_{i+1}\"] = [None] * len(combined_data)\n",
            "<ipython-input-5-3b48af411cdc>:17: PerformanceWarning: DataFrame is highly fragmented.  This is usually the result of calling `frame.insert` many times, which has poor performance.  Consider joining all columns at once using pd.concat(axis=1) instead. To get a de-fragmented frame, use `newframe = frame.copy()`\n",
            "  combined_data[f\"new_feature_{i+1}\"] = [None] * len(combined_data)\n",
            "<ipython-input-5-3b48af411cdc>:17: PerformanceWarning: DataFrame is highly fragmented.  This is usually the result of calling `frame.insert` many times, which has poor performance.  Consider joining all columns at once using pd.concat(axis=1) instead. To get a de-fragmented frame, use `newframe = frame.copy()`\n",
            "  combined_data[f\"new_feature_{i+1}\"] = [None] * len(combined_data)\n",
            "<ipython-input-5-3b48af411cdc>:17: PerformanceWarning: DataFrame is highly fragmented.  This is usually the result of calling `frame.insert` many times, which has poor performance.  Consider joining all columns at once using pd.concat(axis=1) instead. To get a de-fragmented frame, use `newframe = frame.copy()`\n",
            "  combined_data[f\"new_feature_{i+1}\"] = [None] * len(combined_data)\n",
            "<ipython-input-5-3b48af411cdc>:17: PerformanceWarning: DataFrame is highly fragmented.  This is usually the result of calling `frame.insert` many times, which has poor performance.  Consider joining all columns at once using pd.concat(axis=1) instead. To get a de-fragmented frame, use `newframe = frame.copy()`\n",
            "  combined_data[f\"new_feature_{i+1}\"] = [None] * len(combined_data)\n",
            "<ipython-input-5-3b48af411cdc>:17: PerformanceWarning: DataFrame is highly fragmented.  This is usually the result of calling `frame.insert` many times, which has poor performance.  Consider joining all columns at once using pd.concat(axis=1) instead. To get a de-fragmented frame, use `newframe = frame.copy()`\n",
            "  combined_data[f\"new_feature_{i+1}\"] = [None] * len(combined_data)\n",
            "<ipython-input-5-3b48af411cdc>:17: PerformanceWarning: DataFrame is highly fragmented.  This is usually the result of calling `frame.insert` many times, which has poor performance.  Consider joining all columns at once using pd.concat(axis=1) instead. To get a de-fragmented frame, use `newframe = frame.copy()`\n",
            "  combined_data[f\"new_feature_{i+1}\"] = [None] * len(combined_data)\n",
            "<ipython-input-5-3b48af411cdc>:17: PerformanceWarning: DataFrame is highly fragmented.  This is usually the result of calling `frame.insert` many times, which has poor performance.  Consider joining all columns at once using pd.concat(axis=1) instead. To get a de-fragmented frame, use `newframe = frame.copy()`\n",
            "  combined_data[f\"new_feature_{i+1}\"] = [None] * len(combined_data)\n",
            "<ipython-input-5-3b48af411cdc>:17: PerformanceWarning: DataFrame is highly fragmented.  This is usually the result of calling `frame.insert` many times, which has poor performance.  Consider joining all columns at once using pd.concat(axis=1) instead. To get a de-fragmented frame, use `newframe = frame.copy()`\n",
            "  combined_data[f\"new_feature_{i+1}\"] = [None] * len(combined_data)\n"
          ]
        }
      ]
    },
    {
      "cell_type": "markdown",
      "source": [
        "# Modelling `label_4`: Speaker Accent\n",
        "\n",
        "Speaker accent is a categorical variable."
      ],
      "metadata": {
        "id": "rF6avFmhhsi2"
      }
    },
    {
      "cell_type": "code",
      "source": [
        "y = train[\"label_4\"]\n",
        "y_valid = valid[\"label_4\"]"
      ],
      "metadata": {
        "id": "fOJ5A6fRh2NQ"
      },
      "execution_count": null,
      "outputs": []
    },
    {
      "cell_type": "code",
      "source": [
        "from collections import Counter"
      ],
      "metadata": {
        "id": "sFC2smXRlkhh"
      },
      "execution_count": null,
      "outputs": []
    },
    {
      "cell_type": "code",
      "source": [
        "Counter(y)"
      ],
      "metadata": {
        "colab": {
          "base_uri": "https://localhost:8080/"
        },
        "id": "BLOSdWgTh5vI",
        "outputId": "b1f74fb4-3f66-4059-8af2-c413ed27367a"
      },
      "execution_count": null,
      "outputs": [
        {
          "output_type": "execute_result",
          "data": {
            "text/plain": [
              "Counter({6: 19938,\n",
              "         13: 482,\n",
              "         4: 469,\n",
              "         5: 478,\n",
              "         1: 481,\n",
              "         2: 1449,\n",
              "         7: 938,\n",
              "         3: 479,\n",
              "         0: 955,\n",
              "         12: 954,\n",
              "         9: 472,\n",
              "         8: 465,\n",
              "         11: 480,\n",
              "         10: 480})"
            ]
          },
          "metadata": {},
          "execution_count": 64
        }
      ]
    },
    {
      "cell_type": "code",
      "source": [
        "import matplotlib.pyplot as plt"
      ],
      "metadata": {
        "id": "8F4LUZG1MsEJ"
      },
      "execution_count": null,
      "outputs": []
    },
    {
      "cell_type": "code",
      "source": [
        "label_counts = y.value_counts()\n",
        "\n",
        "plt.figure(figsize=(12, 6))\n",
        "label_counts.plot(kind='bar')\n",
        "plt.xlabel('Value')\n",
        "plt.ylabel('Count')\n",
        "plt.title('Label Distribution')\n",
        "plt.xticks(rotation=45)\n",
        "plt.show()"
      ],
      "metadata": {
        "colab": {
          "base_uri": "https://localhost:8080/",
          "height": 573
        },
        "id": "AcMD3BKRL2MN",
        "outputId": "af54d588-bdf5-4bee-f548-f52ce6f2fa88"
      },
      "execution_count": null,
      "outputs": [
        {
          "output_type": "display_data",
          "data": {
            "text/plain": [
              "<Figure size 1200x600 with 1 Axes>"
            ],
            "image/png": "[encoded data removed]"
          },
          "metadata": {}
        }
      ]
    },
    {
      "cell_type": "markdown",
      "source": [
        "The value 6 has comparatively a vast number of occurences than any other value. Since the `label_4` is not evenly distributed, we have to use sampling.\n",
        "\n",
        "## Undersampling\n",
        "\n",
        "Firstly use undersampling and see the accuracy of the model."
      ],
      "metadata": {
        "id": "pwaJL16DjNUV"
      }
    },
    {
      "cell_type": "code",
      "source": [
        "from imblearn.under_sampling import RandomUnderSampler"
      ],
      "metadata": {
        "id": "zcmv1zAuktlY"
      },
      "execution_count": null,
      "outputs": []
    },
    {
      "cell_type": "code",
      "source": [
        "undersampler = RandomUnderSampler(sampling_strategy='all', random_state=42)\n",
        "x_undersampled, y_undersampled = undersampler.fit_resample(x, y)\n",
        "Counter(y_undersampled)"
      ],
      "metadata": {
        "colab": {
          "base_uri": "https://localhost:8080/"
        },
        "id": "Fh1iL14oky9A",
        "outputId": "928ceb7a-d978-4d7b-b031-e4e36a1ea2c0"
      },
      "execution_count": null,
      "outputs": [
        {
          "output_type": "execute_result",
          "data": {
            "text/plain": [
              "Counter({0: 465,\n",
              "         1: 465,\n",
              "         2: 465,\n",
              "         3: 465,\n",
              "         4: 465,\n",
              "         5: 465,\n",
              "         6: 465,\n",
              "         7: 465,\n",
              "         8: 465,\n",
              "         9: 465,\n",
              "         10: 465,\n",
              "         11: 465,\n",
              "         12: 465,\n",
              "         13: 465})"
            ]
          },
          "metadata": {},
          "execution_count": 68
        }
      ]
    },
    {
      "cell_type": "markdown",
      "source": [
        "### Create the KNN Model"
      ],
      "metadata": {
        "id": "WnSHqOMxnFbK"
      }
    },
    {
      "cell_type": "code",
      "source": [
        "knn_label_4_undersampled = KNeighborsClassifier(n_neighbors = k)\n",
        "knn_label_4_undersampled.fit(x_undersampled, y_undersampled)\n",
        "\n",
        "y_pred = knn_label_4_undersampled.predict(x_valid)\n",
        "accuracy_label_4_undersampled = accuracy_score(y_valid, y_pred)\n",
        "print(accuracy_label_4_undersampled)"
      ],
      "metadata": {
        "colab": {
          "base_uri": "https://localhost:8080/"
        },
        "id": "wHms0hdknIbr",
        "outputId": "58481455-9874-4035-c5e6-fcdfd843adae"
      },
      "execution_count": null,
      "outputs": [
        {
          "output_type": "stream",
          "name": "stdout",
          "text": [
            "0.45466666666666666\n"
          ]
        }
      ]
    },
    {
      "cell_type": "markdown",
      "source": [
        "The accuracy of the model is not enough."
      ],
      "metadata": {
        "id": "DxDg3L_HrAt3"
      }
    },
    {
      "cell_type": "markdown",
      "source": [
        "### Check for Mutual Information"
      ],
      "metadata": {
        "id": "SU47bocdni82"
      }
    },
    {
      "cell_type": "code",
      "source": [
        "mi = pd.Series(mutual_info_classif(x_undersampled, y_undersampled))\n",
        "mi.sort_values(ascending = False)"
      ],
      "metadata": {
        "colab": {
          "base_uri": "https://localhost:8080/"
        },
        "id": "W2FeeA-bnusP",
        "outputId": "c8b8196e-f3c8-43e3-eb9c-ab1ff609e86c"
      },
      "execution_count": null,
      "outputs": [
        {
          "output_type": "execute_result",
          "data": {
            "text/plain": [
              "35     0.428521\n",
              "43     0.426772\n",
              "232    0.417158\n",
              "142    0.370169\n",
              "112    0.361539\n",
              "         ...   \n",
              "33     0.052722\n",
              "30     0.046426\n",
              "4      0.037536\n",
              "251    0.033868\n",
              "31     0.028065\n",
              "Length: 256, dtype: float64"
            ]
          },
          "metadata": {},
          "execution_count": 70
        }
      ]
    },
    {
      "cell_type": "code",
      "source": [
        "mi.sort_values(ascending=False).plot.bar(figsize=(32, 12))"
      ],
      "metadata": {
        "colab": {
          "base_uri": "https://localhost:8080/",
          "height": 728
        },
        "id": "ofKjSAZCNcZ4",
        "outputId": "ff5eda81-22cf-400f-825c-80a3eba86f0c"
      },
      "execution_count": null,
      "outputs": [
        {
          "output_type": "execute_result",
          "data": {
            "text/plain": [
              "<Axes: >"
            ]
          },
          "metadata": {},
          "execution_count": 71
        },
        {
          "output_type": "display_data",
          "data": {
            "text/plain": [
              "<Figure size 3200x1200 with 1 Axes>"
            ],
            "image/png": "[encoded data removed]"
          },
          "metadata": {}
        }
      ]
    },
    {
      "cell_type": "markdown",
      "source": [
        "Observing the graph, take the features with mutual information value higher than 0.1."
      ],
      "metadata": {
        "id": "P0-F5-_VNtY-"
      }
    },
    {
      "cell_type": "code",
      "source": [
        "no_of_selected_features = mi[mi > 0.1].count()\n",
        "print (f\"Selected {no_of_selected_features} features out of {len(mi)} features.\")"
      ],
      "metadata": {
        "colab": {
          "base_uri": "https://localhost:8080/"
        },
        "id": "4ppWiZMRnwZm",
        "outputId": "9dc62584-0507-4b9e-9b68-016b450eb356"
      },
      "execution_count": null,
      "outputs": [
        {
          "output_type": "stream",
          "name": "stdout",
          "text": [
            "Selected 180 features out of 256 features.\n"
          ]
        }
      ]
    },
    {
      "cell_type": "code",
      "source": [
        "x_label_4_undersampled = x_undersampled.copy(deep = True)\n",
        "x_valid_label_4_undersampled = x_valid.copy(deep = True)"
      ],
      "metadata": {
        "id": "yRSmiBn1nyrF"
      },
      "execution_count": null,
      "outputs": []
    },
    {
      "cell_type": "code",
      "source": [
        "selected_cols = SelectKBest(mutual_info_classif, k = no_of_selected_features)\n",
        "selected_cols.fit(x_label_4_undersampled, y_undersampled)\n",
        "selected_col_names = x_label_4_undersampled.columns[selected_cols.get_support()]\n",
        "print(selected_col_names)"
      ],
      "metadata": {
        "colab": {
          "base_uri": "https://localhost:8080/"
        },
        "id": "ZmnT17mEn0gA",
        "outputId": "f22fbaf1-2b69-4ecc-80c1-f66b82224e7c"
      },
      "execution_count": null,
      "outputs": [
        {
          "output_type": "stream",
          "name": "stdout",
          "text": [
            "Index(['feature_2', 'feature_3', 'feature_4', 'feature_6', 'feature_8',\n",
            "       'feature_10', 'feature_11', 'feature_14', 'feature_15', 'feature_16',\n",
            "       ...\n",
            "       'feature_241', 'feature_242', 'feature_243', 'feature_244',\n",
            "       'feature_246', 'feature_248', 'feature_251', 'feature_253',\n",
            "       'feature_254', 'feature_256'],\n",
            "      dtype='object', length=180)\n"
          ]
        }
      ]
    },
    {
      "cell_type": "markdown",
      "source": [
        "### Create the KNN Model again"
      ],
      "metadata": {
        "id": "aW_wXvZzOGDk"
      }
    },
    {
      "cell_type": "code",
      "source": [
        "x_label_4_undersampled = pd.DataFrame(x_label_4_undersampled, columns = selected_col_names)\n",
        "x_valid_label_4_undersampled = pd.DataFrame(x_valid_label_4_undersampled, columns = selected_col_names)"
      ],
      "metadata": {
        "id": "wB7l7eIKn2Ri"
      },
      "execution_count": null,
      "outputs": []
    },
    {
      "cell_type": "code",
      "source": [
        "knn_label_4_undersampled_selected = KNeighborsClassifier(n_neighbors = k)\n",
        "knn_label_4_undersampled_selected.fit(x_label_4_undersampled, y_undersampled)\n",
        "\n",
        "y_pred = knn_label_4_undersampled_selected.predict(x_valid_label_4_undersampled)\n",
        "accuracy_label_4_undersampled_selected = accuracy_score(y_valid, y_pred)\n",
        "print(f\"Accuracy of the new model is {accuracy_label_4_undersampled_selected} and the accuracy of the original model was {accuracy_label_4_undersampled}.\")"
      ],
      "metadata": {
        "colab": {
          "base_uri": "https://localhost:8080/"
        },
        "id": "zN2GfhMgn3q0",
        "outputId": "ad8f85d1-5685-4e1e-fb19-dfe2e56f7d75"
      },
      "execution_count": null,
      "outputs": [
        {
          "output_type": "stream",
          "name": "stdout",
          "text": [
            "Accuracy of the new model is 0.45866666666666667 and the accuracy of the original model was 0.45466666666666666.\n"
          ]
        }
      ]
    },
    {
      "cell_type": "markdown",
      "source": [
        "The accuracy further decreased with feature selection. The model is not suitable.\n",
        "\n",
        "*Edit: With the new run, the accuracy has slightly increased after feature selection.*\n",
        "\n",
        "## Oversampling"
      ],
      "metadata": {
        "id": "4y23-1NGq4Nf"
      }
    },
    {
      "cell_type": "code",
      "source": [
        "from imblearn.over_sampling import RandomOverSampler"
      ],
      "metadata": {
        "id": "JPYKijvcrK2g"
      },
      "execution_count": null,
      "outputs": []
    },
    {
      "cell_type": "code",
      "source": [
        "oversampler = RandomOverSampler(sampling_strategy='all', random_state=42)\n",
        "x_oversampled, y_oversampled = oversampler.fit_resample(x, y)\n",
        "Counter(y_oversampled)"
      ],
      "metadata": {
        "colab": {
          "base_uri": "https://localhost:8080/"
        },
        "id": "JP8c_ZNLrQEK",
        "outputId": "33a72882-075a-4396-a03a-8fc1ff29a65c"
      },
      "execution_count": null,
      "outputs": [
        {
          "output_type": "execute_result",
          "data": {
            "text/plain": [
              "Counter({6: 19938,\n",
              "         13: 19938,\n",
              "         4: 19938,\n",
              "         5: 19938,\n",
              "         1: 19938,\n",
              "         2: 19938,\n",
              "         7: 19938,\n",
              "         3: 19938,\n",
              "         0: 19938,\n",
              "         12: 19938,\n",
              "         9: 19938,\n",
              "         8: 19938,\n",
              "         11: 19938,\n",
              "         10: 19938})"
            ]
          },
          "metadata": {},
          "execution_count": 78
        }
      ]
    },
    {
      "cell_type": "markdown",
      "source": [
        "### Create the KNN Model"
      ],
      "metadata": {
        "id": "lpfKbl8_sJGm"
      }
    },
    {
      "cell_type": "code",
      "source": [
        "knn_label_4_oversampled = KNeighborsClassifier(n_neighbors = k)\n",
        "knn_label_4_oversampled.fit(x_oversampled, y_oversampled)\n",
        "\n",
        "y_pred_label_4 = knn_label_4_oversampled.predict(x_valid)\n",
        "accuracy_label_4_oversampled = accuracy_score(y_valid, y_pred_label_4)\n",
        "print(accuracy_label_4_oversampled)"
      ],
      "metadata": {
        "colab": {
          "base_uri": "https://localhost:8080/"
        },
        "id": "oc0NlSzbryRA",
        "outputId": "50b40f27-ead4-4832-ecf0-17923ab915bb"
      },
      "execution_count": null,
      "outputs": [
        {
          "output_type": "stream",
          "name": "stdout",
          "text": [
            "0.9813333333333333\n"
          ]
        }
      ]
    },
    {
      "cell_type": "markdown",
      "source": [
        "The accuracy of the oversampling is acceptable."
      ],
      "metadata": {
        "id": "lzVvon1Yr-C_"
      }
    },
    {
      "cell_type": "markdown",
      "source": [
        "Check for Mutual Information"
      ],
      "metadata": {
        "id": "0dN9w6_6sMe6"
      }
    },
    {
      "cell_type": "code",
      "source": [
        "mi = pd.Series(mutual_info_classif(x_oversampled, y_oversampled))\n",
        "mi.sort_values(ascending = False)"
      ],
      "metadata": {
        "colab": {
          "base_uri": "https://localhost:8080/"
        },
        "id": "ciqDymGdsUHP",
        "outputId": "6a09c759-0224-4aff-a447-c74cd94b7df2"
      },
      "execution_count": null,
      "outputs": [
        {
          "output_type": "execute_result",
          "data": {
            "text/plain": [
              "82     2.507225\n",
              "98     2.504320\n",
              "15     2.502561\n",
              "127    2.502491\n",
              "32     2.502464\n",
              "         ...   \n",
              "154    2.497180\n",
              "255    2.497023\n",
              "168    2.496906\n",
              "138    2.496848\n",
              "4      2.496503\n",
              "Length: 256, dtype: float64"
            ]
          },
          "metadata": {},
          "execution_count": 80
        }
      ]
    },
    {
      "cell_type": "code",
      "source": [
        "mi.min()"
      ],
      "metadata": {
        "colab": {
          "base_uri": "https://localhost:8080/"
        },
        "id": "K0fN_M-SvNF9",
        "outputId": "232f64d4-6066-44ac-cb15-7432334d69c6"
      },
      "execution_count": null,
      "outputs": [
        {
          "output_type": "execute_result",
          "data": {
            "text/plain": [
              "2.4965031716763373"
            ]
          },
          "metadata": {},
          "execution_count": 81
        }
      ]
    },
    {
      "cell_type": "code",
      "source": [
        "mi.sort_values(ascending=False).plot.bar(figsize=(32, 12))"
      ],
      "metadata": {
        "colab": {
          "base_uri": "https://localhost:8080/",
          "height": 730
        },
        "id": "2jvkWDzuQ6a_",
        "outputId": "08384509-8b88-4843-edf4-4d4214ee71be"
      },
      "execution_count": null,
      "outputs": [
        {
          "output_type": "execute_result",
          "data": {
            "text/plain": [
              "<Axes: >"
            ]
          },
          "metadata": {},
          "execution_count": 82
        },
        {
          "output_type": "display_data",
          "data": {
            "text/plain": [
              "<Figure size 3200x1200 with 1 Axes>"
            ],
            "image/png": "[encoded data removed]"
          },
          "metadata": {}
        }
      ]
    },
    {
      "cell_type": "markdown",
      "source": [
        "The mutual information graph has an almost uniform distribution. Therefore, it is not possible to select best features. Using PCA to reduce the dimension.\n",
        "\n",
        "### Use Principal Component Analysis"
      ],
      "metadata": {
        "id": "GPef6Z5GRCnl"
      }
    },
    {
      "cell_type": "code",
      "source": [
        "x_label_4_oversampled = x_oversampled.copy(deep = True)\n",
        "x_valid_label_4_oversampled = x_valid.copy(deep = True)"
      ],
      "metadata": {
        "id": "t99oznoJscxb"
      },
      "execution_count": null,
      "outputs": []
    },
    {
      "cell_type": "code",
      "source": [
        "from sklearn.decomposition import PCA"
      ],
      "metadata": {
        "id": "57P1K3V7R0NZ"
      },
      "execution_count": null,
      "outputs": []
    },
    {
      "cell_type": "code",
      "source": [
        "pca = PCA(n_components = 0.95, svd_solver = 'full')\n",
        "pca.fit(x_label_4_oversampled)\n",
        "x_label_4_trf = pd.DataFrame(pca.transform(x_label_4_oversampled))\n",
        "x_valid_label_4_trf = pd.DataFrame(pca.transform(x_valid_label_4_oversampled))\n",
        "x_label_4_trf.shape"
      ],
      "metadata": {
        "colab": {
          "base_uri": "https://localhost:8080/"
        },
        "id": "j39gNhoXR1u0",
        "outputId": "a71b6d3f-d0a2-4058-89ca-1fb74d3f8574"
      },
      "execution_count": null,
      "outputs": [
        {
          "output_type": "execute_result",
          "data": {
            "text/plain": [
              "(279132, 64)"
            ]
          },
          "metadata": {},
          "execution_count": 85
        }
      ]
    },
    {
      "cell_type": "markdown",
      "source": [
        "Now there are only 64 features."
      ],
      "metadata": {
        "id": "y8W8FQUISzvi"
      }
    },
    {
      "cell_type": "code",
      "source": [
        "knn_label_4_oversampled_selected = KNeighborsClassifier(n_neighbors = k)\n",
        "knn_label_4_oversampled_selected.fit(x_label_4_trf, y_oversampled)\n",
        "\n",
        "y_pred = knn_label_4_oversampled_selected.predict(x_valid_label_4_trf)\n",
        "accuracy_label_4_oversampled_selected = accuracy_score(y_valid, y_pred)\n",
        "print(f\"Accuracy of the new model is {accuracy_label_4_oversampled_selected} and the accuracy of the original model was {accuracy_label_4_oversampled}.\")"
      ],
      "metadata": {
        "colab": {
          "base_uri": "https://localhost:8080/"
        },
        "id": "JTajAZcAsioJ",
        "outputId": "349e052c-0af6-4867-a3b0-0a3b8749c4d8"
      },
      "execution_count": null,
      "outputs": [
        {
          "output_type": "stream",
          "name": "stdout",
          "text": [
            "Accuracy of the new model is 0.9733333333333334 and the accuracy of the original model was 0.9813333333333333.\n"
          ]
        }
      ]
    },
    {
      "cell_type": "markdown",
      "source": [
        "### Predicting and writing test data to CSV"
      ],
      "metadata": {
        "id": "K0z8tSnwmalK"
      }
    },
    {
      "cell_type": "code",
      "source": [
        "x_test_label_4 = x_test.copy(deep = True)\n",
        "x_test_label_4 = pd.DataFrame(pca.transform(x_test_label_4))\n",
        "\n",
        "y_test_pred_label_4 = knn_label_4_oversampled.predict(x_test)\n",
        "y_test_pred_label_4_selected = knn_label_4_oversampled_selected.predict(x_test_label_4)\n",
        "create_csv(x_test_label_4, y_test_pred_label_4, y_test_pred_label_4_selected, \"label_4\")"
      ],
      "metadata": {
        "colab": {
          "base_uri": "https://localhost:8080/"
        },
        "id": "gvVG6RFzmfAz",
        "outputId": "eaea01a4-e517-4c73-8de2-f53090869653"
      },
      "execution_count": null,
      "outputs": [
        {
          "output_type": "stream",
          "name": "stderr",
          "text": [
            "<ipython-input-5-3b48af411cdc>:17: PerformanceWarning: DataFrame is highly fragmented.  This is usually the result of calling `frame.insert` many times, which has poor performance.  Consider joining all columns at once using pd.concat(axis=1) instead. To get a de-fragmented frame, use `newframe = frame.copy()`\n",
            "  combined_data[f\"new_feature_{i+1}\"] = [None] * len(combined_data)\n",
            "<ipython-input-5-3b48af411cdc>:17: PerformanceWarning: DataFrame is highly fragmented.  This is usually the result of calling `frame.insert` many times, which has poor performance.  Consider joining all columns at once using pd.concat(axis=1) instead. To get a de-fragmented frame, use `newframe = frame.copy()`\n",
            "  combined_data[f\"new_feature_{i+1}\"] = [None] * len(combined_data)\n",
            "<ipython-input-5-3b48af411cdc>:17: PerformanceWarning: DataFrame is highly fragmented.  This is usually the result of calling `frame.insert` many times, which has poor performance.  Consider joining all columns at once using pd.concat(axis=1) instead. To get a de-fragmented frame, use `newframe = frame.copy()`\n",
            "  combined_data[f\"new_feature_{i+1}\"] = [None] * len(combined_data)\n",
            "<ipython-input-5-3b48af411cdc>:17: PerformanceWarning: DataFrame is highly fragmented.  This is usually the result of calling `frame.insert` many times, which has poor performance.  Consider joining all columns at once using pd.concat(axis=1) instead. To get a de-fragmented frame, use `newframe = frame.copy()`\n",
            "  combined_data[f\"new_feature_{i+1}\"] = [None] * len(combined_data)\n",
            "<ipython-input-5-3b48af411cdc>:17: PerformanceWarning: DataFrame is highly fragmented.  This is usually the result of calling `frame.insert` many times, which has poor performance.  Consider joining all columns at once using pd.concat(axis=1) instead. To get a de-fragmented frame, use `newframe = frame.copy()`\n",
            "  combined_data[f\"new_feature_{i+1}\"] = [None] * len(combined_data)\n",
            "<ipython-input-5-3b48af411cdc>:17: PerformanceWarning: DataFrame is highly fragmented.  This is usually the result of calling `frame.insert` many times, which has poor performance.  Consider joining all columns at once using pd.concat(axis=1) instead. To get a de-fragmented frame, use `newframe = frame.copy()`\n",
            "  combined_data[f\"new_feature_{i+1}\"] = [None] * len(combined_data)\n",
            "<ipython-input-5-3b48af411cdc>:17: PerformanceWarning: DataFrame is highly fragmented.  This is usually the result of calling `frame.insert` many times, which has poor performance.  Consider joining all columns at once using pd.concat(axis=1) instead. To get a de-fragmented frame, use `newframe = frame.copy()`\n",
            "  combined_data[f\"new_feature_{i+1}\"] = [None] * len(combined_data)\n",
            "<ipython-input-5-3b48af411cdc>:17: PerformanceWarning: DataFrame is highly fragmented.  This is usually the result of calling `frame.insert` many times, which has poor performance.  Consider joining all columns at once using pd.concat(axis=1) instead. To get a de-fragmented frame, use `newframe = frame.copy()`\n",
            "  combined_data[f\"new_feature_{i+1}\"] = [None] * len(combined_data)\n",
            "<ipython-input-5-3b48af411cdc>:17: PerformanceWarning: DataFrame is highly fragmented.  This is usually the result of calling `frame.insert` many times, which has poor performance.  Consider joining all columns at once using pd.concat(axis=1) instead. To get a de-fragmented frame, use `newframe = frame.copy()`\n",
            "  combined_data[f\"new_feature_{i+1}\"] = [None] * len(combined_data)\n",
            "<ipython-input-5-3b48af411cdc>:17: PerformanceWarning: DataFrame is highly fragmented.  This is usually the result of calling `frame.insert` many times, which has poor performance.  Consider joining all columns at once using pd.concat(axis=1) instead. To get a de-fragmented frame, use `newframe = frame.copy()`\n",
            "  combined_data[f\"new_feature_{i+1}\"] = [None] * len(combined_data)\n",
            "<ipython-input-5-3b48af411cdc>:17: PerformanceWarning: DataFrame is highly fragmented.  This is usually the result of calling `frame.insert` many times, which has poor performance.  Consider joining all columns at once using pd.concat(axis=1) instead. To get a de-fragmented frame, use `newframe = frame.copy()`\n",
            "  combined_data[f\"new_feature_{i+1}\"] = [None] * len(combined_data)\n",
            "<ipython-input-5-3b48af411cdc>:17: PerformanceWarning: DataFrame is highly fragmented.  This is usually the result of calling `frame.insert` many times, which has poor performance.  Consider joining all columns at once using pd.concat(axis=1) instead. To get a de-fragmented frame, use `newframe = frame.copy()`\n",
            "  combined_data[f\"new_feature_{i+1}\"] = [None] * len(combined_data)\n",
            "<ipython-input-5-3b48af411cdc>:17: PerformanceWarning: DataFrame is highly fragmented.  This is usually the result of calling `frame.insert` many times, which has poor performance.  Consider joining all columns at once using pd.concat(axis=1) instead. To get a de-fragmented frame, use `newframe = frame.copy()`\n",
            "  combined_data[f\"new_feature_{i+1}\"] = [None] * len(combined_data)\n",
            "<ipython-input-5-3b48af411cdc>:17: PerformanceWarning: DataFrame is highly fragmented.  This is usually the result of calling `frame.insert` many times, which has poor performance.  Consider joining all columns at once using pd.concat(axis=1) instead. To get a de-fragmented frame, use `newframe = frame.copy()`\n",
            "  combined_data[f\"new_feature_{i+1}\"] = [None] * len(combined_data)\n",
            "<ipython-input-5-3b48af411cdc>:17: PerformanceWarning: DataFrame is highly fragmented.  This is usually the result of calling `frame.insert` many times, which has poor performance.  Consider joining all columns at once using pd.concat(axis=1) instead. To get a de-fragmented frame, use `newframe = frame.copy()`\n",
            "  combined_data[f\"new_feature_{i+1}\"] = [None] * len(combined_data)\n",
            "<ipython-input-5-3b48af411cdc>:17: PerformanceWarning: DataFrame is highly fragmented.  This is usually the result of calling `frame.insert` many times, which has poor performance.  Consider joining all columns at once using pd.concat(axis=1) instead. To get a de-fragmented frame, use `newframe = frame.copy()`\n",
            "  combined_data[f\"new_feature_{i+1}\"] = [None] * len(combined_data)\n",
            "<ipython-input-5-3b48af411cdc>:17: PerformanceWarning: DataFrame is highly fragmented.  This is usually the result of calling `frame.insert` many times, which has poor performance.  Consider joining all columns at once using pd.concat(axis=1) instead. To get a de-fragmented frame, use `newframe = frame.copy()`\n",
            "  combined_data[f\"new_feature_{i+1}\"] = [None] * len(combined_data)\n",
            "<ipython-input-5-3b48af411cdc>:17: PerformanceWarning: DataFrame is highly fragmented.  This is usually the result of calling `frame.insert` many times, which has poor performance.  Consider joining all columns at once using pd.concat(axis=1) instead. To get a de-fragmented frame, use `newframe = frame.copy()`\n",
            "  combined_data[f\"new_feature_{i+1}\"] = [None] * len(combined_data)\n",
            "<ipython-input-5-3b48af411cdc>:17: PerformanceWarning: DataFrame is highly fragmented.  This is usually the result of calling `frame.insert` many times, which has poor performance.  Consider joining all columns at once using pd.concat(axis=1) instead. To get a de-fragmented frame, use `newframe = frame.copy()`\n",
            "  combined_data[f\"new_feature_{i+1}\"] = [None] * len(combined_data)\n",
            "<ipython-input-5-3b48af411cdc>:17: PerformanceWarning: DataFrame is highly fragmented.  This is usually the result of calling `frame.insert` many times, which has poor performance.  Consider joining all columns at once using pd.concat(axis=1) instead. To get a de-fragmented frame, use `newframe = frame.copy()`\n",
            "  combined_data[f\"new_feature_{i+1}\"] = [None] * len(combined_data)\n",
            "<ipython-input-5-3b48af411cdc>:17: PerformanceWarning: DataFrame is highly fragmented.  This is usually the result of calling `frame.insert` many times, which has poor performance.  Consider joining all columns at once using pd.concat(axis=1) instead. To get a de-fragmented frame, use `newframe = frame.copy()`\n",
            "  combined_data[f\"new_feature_{i+1}\"] = [None] * len(combined_data)\n",
            "<ipython-input-5-3b48af411cdc>:17: PerformanceWarning: DataFrame is highly fragmented.  This is usually the result of calling `frame.insert` many times, which has poor performance.  Consider joining all columns at once using pd.concat(axis=1) instead. To get a de-fragmented frame, use `newframe = frame.copy()`\n",
            "  combined_data[f\"new_feature_{i+1}\"] = [None] * len(combined_data)\n",
            "<ipython-input-5-3b48af411cdc>:17: PerformanceWarning: DataFrame is highly fragmented.  This is usually the result of calling `frame.insert` many times, which has poor performance.  Consider joining all columns at once using pd.concat(axis=1) instead. To get a de-fragmented frame, use `newframe = frame.copy()`\n",
            "  combined_data[f\"new_feature_{i+1}\"] = [None] * len(combined_data)\n",
            "<ipython-input-5-3b48af411cdc>:17: PerformanceWarning: DataFrame is highly fragmented.  This is usually the result of calling `frame.insert` many times, which has poor performance.  Consider joining all columns at once using pd.concat(axis=1) instead. To get a de-fragmented frame, use `newframe = frame.copy()`\n",
            "  combined_data[f\"new_feature_{i+1}\"] = [None] * len(combined_data)\n",
            "<ipython-input-5-3b48af411cdc>:17: PerformanceWarning: DataFrame is highly fragmented.  This is usually the result of calling `frame.insert` many times, which has poor performance.  Consider joining all columns at once using pd.concat(axis=1) instead. To get a de-fragmented frame, use `newframe = frame.copy()`\n",
            "  combined_data[f\"new_feature_{i+1}\"] = [None] * len(combined_data)\n",
            "<ipython-input-5-3b48af411cdc>:17: PerformanceWarning: DataFrame is highly fragmented.  This is usually the result of calling `frame.insert` many times, which has poor performance.  Consider joining all columns at once using pd.concat(axis=1) instead. To get a de-fragmented frame, use `newframe = frame.copy()`\n",
            "  combined_data[f\"new_feature_{i+1}\"] = [None] * len(combined_data)\n",
            "<ipython-input-5-3b48af411cdc>:17: PerformanceWarning: DataFrame is highly fragmented.  This is usually the result of calling `frame.insert` many times, which has poor performance.  Consider joining all columns at once using pd.concat(axis=1) instead. To get a de-fragmented frame, use `newframe = frame.copy()`\n",
            "  combined_data[f\"new_feature_{i+1}\"] = [None] * len(combined_data)\n",
            "<ipython-input-5-3b48af411cdc>:17: PerformanceWarning: DataFrame is highly fragmented.  This is usually the result of calling `frame.insert` many times, which has poor performance.  Consider joining all columns at once using pd.concat(axis=1) instead. To get a de-fragmented frame, use `newframe = frame.copy()`\n",
            "  combined_data[f\"new_feature_{i+1}\"] = [None] * len(combined_data)\n",
            "<ipython-input-5-3b48af411cdc>:17: PerformanceWarning: DataFrame is highly fragmented.  This is usually the result of calling `frame.insert` many times, which has poor performance.  Consider joining all columns at once using pd.concat(axis=1) instead. To get a de-fragmented frame, use `newframe = frame.copy()`\n",
            "  combined_data[f\"new_feature_{i+1}\"] = [None] * len(combined_data)\n",
            "<ipython-input-5-3b48af411cdc>:17: PerformanceWarning: DataFrame is highly fragmented.  This is usually the result of calling `frame.insert` many times, which has poor performance.  Consider joining all columns at once using pd.concat(axis=1) instead. To get a de-fragmented frame, use `newframe = frame.copy()`\n",
            "  combined_data[f\"new_feature_{i+1}\"] = [None] * len(combined_data)\n",
            "<ipython-input-5-3b48af411cdc>:17: PerformanceWarning: DataFrame is highly fragmented.  This is usually the result of calling `frame.insert` many times, which has poor performance.  Consider joining all columns at once using pd.concat(axis=1) instead. To get a de-fragmented frame, use `newframe = frame.copy()`\n",
            "  combined_data[f\"new_feature_{i+1}\"] = [None] * len(combined_data)\n",
            "<ipython-input-5-3b48af411cdc>:17: PerformanceWarning: DataFrame is highly fragmented.  This is usually the result of calling `frame.insert` many times, which has poor performance.  Consider joining all columns at once using pd.concat(axis=1) instead. To get a de-fragmented frame, use `newframe = frame.copy()`\n",
            "  combined_data[f\"new_feature_{i+1}\"] = [None] * len(combined_data)\n",
            "<ipython-input-5-3b48af411cdc>:17: PerformanceWarning: DataFrame is highly fragmented.  This is usually the result of calling `frame.insert` many times, which has poor performance.  Consider joining all columns at once using pd.concat(axis=1) instead. To get a de-fragmented frame, use `newframe = frame.copy()`\n",
            "  combined_data[f\"new_feature_{i+1}\"] = [None] * len(combined_data)\n",
            "<ipython-input-5-3b48af411cdc>:17: PerformanceWarning: DataFrame is highly fragmented.  This is usually the result of calling `frame.insert` many times, which has poor performance.  Consider joining all columns at once using pd.concat(axis=1) instead. To get a de-fragmented frame, use `newframe = frame.copy()`\n",
            "  combined_data[f\"new_feature_{i+1}\"] = [None] * len(combined_data)\n",
            "<ipython-input-5-3b48af411cdc>:17: PerformanceWarning: DataFrame is highly fragmented.  This is usually the result of calling `frame.insert` many times, which has poor performance.  Consider joining all columns at once using pd.concat(axis=1) instead. To get a de-fragmented frame, use `newframe = frame.copy()`\n",
            "  combined_data[f\"new_feature_{i+1}\"] = [None] * len(combined_data)\n",
            "<ipython-input-5-3b48af411cdc>:17: PerformanceWarning: DataFrame is highly fragmented.  This is usually the result of calling `frame.insert` many times, which has poor performance.  Consider joining all columns at once using pd.concat(axis=1) instead. To get a de-fragmented frame, use `newframe = frame.copy()`\n",
            "  combined_data[f\"new_feature_{i+1}\"] = [None] * len(combined_data)\n",
            "<ipython-input-5-3b48af411cdc>:17: PerformanceWarning: DataFrame is highly fragmented.  This is usually the result of calling `frame.insert` many times, which has poor performance.  Consider joining all columns at once using pd.concat(axis=1) instead. To get a de-fragmented frame, use `newframe = frame.copy()`\n",
            "  combined_data[f\"new_feature_{i+1}\"] = [None] * len(combined_data)\n",
            "<ipython-input-5-3b48af411cdc>:17: PerformanceWarning: DataFrame is highly fragmented.  This is usually the result of calling `frame.insert` many times, which has poor performance.  Consider joining all columns at once using pd.concat(axis=1) instead. To get a de-fragmented frame, use `newframe = frame.copy()`\n",
            "  combined_data[f\"new_feature_{i+1}\"] = [None] * len(combined_data)\n",
            "<ipython-input-5-3b48af411cdc>:17: PerformanceWarning: DataFrame is highly fragmented.  This is usually the result of calling `frame.insert` many times, which has poor performance.  Consider joining all columns at once using pd.concat(axis=1) instead. To get a de-fragmented frame, use `newframe = frame.copy()`\n",
            "  combined_data[f\"new_feature_{i+1}\"] = [None] * len(combined_data)\n",
            "<ipython-input-5-3b48af411cdc>:17: PerformanceWarning: DataFrame is highly fragmented.  This is usually the result of calling `frame.insert` many times, which has poor performance.  Consider joining all columns at once using pd.concat(axis=1) instead. To get a de-fragmented frame, use `newframe = frame.copy()`\n",
            "  combined_data[f\"new_feature_{i+1}\"] = [None] * len(combined_data)\n",
            "<ipython-input-5-3b48af411cdc>:17: PerformanceWarning: DataFrame is highly fragmented.  This is usually the result of calling `frame.insert` many times, which has poor performance.  Consider joining all columns at once using pd.concat(axis=1) instead. To get a de-fragmented frame, use `newframe = frame.copy()`\n",
            "  combined_data[f\"new_feature_{i+1}\"] = [None] * len(combined_data)\n",
            "<ipython-input-5-3b48af411cdc>:17: PerformanceWarning: DataFrame is highly fragmented.  This is usually the result of calling `frame.insert` many times, which has poor performance.  Consider joining all columns at once using pd.concat(axis=1) instead. To get a de-fragmented frame, use `newframe = frame.copy()`\n",
            "  combined_data[f\"new_feature_{i+1}\"] = [None] * len(combined_data)\n",
            "<ipython-input-5-3b48af411cdc>:17: PerformanceWarning: DataFrame is highly fragmented.  This is usually the result of calling `frame.insert` many times, which has poor performance.  Consider joining all columns at once using pd.concat(axis=1) instead. To get a de-fragmented frame, use `newframe = frame.copy()`\n",
            "  combined_data[f\"new_feature_{i+1}\"] = [None] * len(combined_data)\n",
            "<ipython-input-5-3b48af411cdc>:17: PerformanceWarning: DataFrame is highly fragmented.  This is usually the result of calling `frame.insert` many times, which has poor performance.  Consider joining all columns at once using pd.concat(axis=1) instead. To get a de-fragmented frame, use `newframe = frame.copy()`\n",
            "  combined_data[f\"new_feature_{i+1}\"] = [None] * len(combined_data)\n",
            "<ipython-input-5-3b48af411cdc>:17: PerformanceWarning: DataFrame is highly fragmented.  This is usually the result of calling `frame.insert` many times, which has poor performance.  Consider joining all columns at once using pd.concat(axis=1) instead. To get a de-fragmented frame, use `newframe = frame.copy()`\n",
            "  combined_data[f\"new_feature_{i+1}\"] = [None] * len(combined_data)\n",
            "<ipython-input-5-3b48af411cdc>:17: PerformanceWarning: DataFrame is highly fragmented.  This is usually the result of calling `frame.insert` many times, which has poor performance.  Consider joining all columns at once using pd.concat(axis=1) instead. To get a de-fragmented frame, use `newframe = frame.copy()`\n",
            "  combined_data[f\"new_feature_{i+1}\"] = [None] * len(combined_data)\n",
            "<ipython-input-5-3b48af411cdc>:17: PerformanceWarning: DataFrame is highly fragmented.  This is usually the result of calling `frame.insert` many times, which has poor performance.  Consider joining all columns at once using pd.concat(axis=1) instead. To get a de-fragmented frame, use `newframe = frame.copy()`\n",
            "  combined_data[f\"new_feature_{i+1}\"] = [None] * len(combined_data)\n",
            "<ipython-input-5-3b48af411cdc>:17: PerformanceWarning: DataFrame is highly fragmented.  This is usually the result of calling `frame.insert` many times, which has poor performance.  Consider joining all columns at once using pd.concat(axis=1) instead. To get a de-fragmented frame, use `newframe = frame.copy()`\n",
            "  combined_data[f\"new_feature_{i+1}\"] = [None] * len(combined_data)\n",
            "<ipython-input-5-3b48af411cdc>:17: PerformanceWarning: DataFrame is highly fragmented.  This is usually the result of calling `frame.insert` many times, which has poor performance.  Consider joining all columns at once using pd.concat(axis=1) instead. To get a de-fragmented frame, use `newframe = frame.copy()`\n",
            "  combined_data[f\"new_feature_{i+1}\"] = [None] * len(combined_data)\n",
            "<ipython-input-5-3b48af411cdc>:17: PerformanceWarning: DataFrame is highly fragmented.  This is usually the result of calling `frame.insert` many times, which has poor performance.  Consider joining all columns at once using pd.concat(axis=1) instead. To get a de-fragmented frame, use `newframe = frame.copy()`\n",
            "  combined_data[f\"new_feature_{i+1}\"] = [None] * len(combined_data)\n",
            "<ipython-input-5-3b48af411cdc>:17: PerformanceWarning: DataFrame is highly fragmented.  This is usually the result of calling `frame.insert` many times, which has poor performance.  Consider joining all columns at once using pd.concat(axis=1) instead. To get a de-fragmented frame, use `newframe = frame.copy()`\n",
            "  combined_data[f\"new_feature_{i+1}\"] = [None] * len(combined_data)\n",
            "<ipython-input-5-3b48af411cdc>:17: PerformanceWarning: DataFrame is highly fragmented.  This is usually the result of calling `frame.insert` many times, which has poor performance.  Consider joining all columns at once using pd.concat(axis=1) instead. To get a de-fragmented frame, use `newframe = frame.copy()`\n",
            "  combined_data[f\"new_feature_{i+1}\"] = [None] * len(combined_data)\n",
            "<ipython-input-5-3b48af411cdc>:17: PerformanceWarning: DataFrame is highly fragmented.  This is usually the result of calling `frame.insert` many times, which has poor performance.  Consider joining all columns at once using pd.concat(axis=1) instead. To get a de-fragmented frame, use `newframe = frame.copy()`\n",
            "  combined_data[f\"new_feature_{i+1}\"] = [None] * len(combined_data)\n",
            "<ipython-input-5-3b48af411cdc>:17: PerformanceWarning: DataFrame is highly fragmented.  This is usually the result of calling `frame.insert` many times, which has poor performance.  Consider joining all columns at once using pd.concat(axis=1) instead. To get a de-fragmented frame, use `newframe = frame.copy()`\n",
            "  combined_data[f\"new_feature_{i+1}\"] = [None] * len(combined_data)\n",
            "<ipython-input-5-3b48af411cdc>:17: PerformanceWarning: DataFrame is highly fragmented.  This is usually the result of calling `frame.insert` many times, which has poor performance.  Consider joining all columns at once using pd.concat(axis=1) instead. To get a de-fragmented frame, use `newframe = frame.copy()`\n",
            "  combined_data[f\"new_feature_{i+1}\"] = [None] * len(combined_data)\n",
            "<ipython-input-5-3b48af411cdc>:17: PerformanceWarning: DataFrame is highly fragmented.  This is usually the result of calling `frame.insert` many times, which has poor performance.  Consider joining all columns at once using pd.concat(axis=1) instead. To get a de-fragmented frame, use `newframe = frame.copy()`\n",
            "  combined_data[f\"new_feature_{i+1}\"] = [None] * len(combined_data)\n",
            "<ipython-input-5-3b48af411cdc>:17: PerformanceWarning: DataFrame is highly fragmented.  This is usually the result of calling `frame.insert` many times, which has poor performance.  Consider joining all columns at once using pd.concat(axis=1) instead. To get a de-fragmented frame, use `newframe = frame.copy()`\n",
            "  combined_data[f\"new_feature_{i+1}\"] = [None] * len(combined_data)\n",
            "<ipython-input-5-3b48af411cdc>:17: PerformanceWarning: DataFrame is highly fragmented.  This is usually the result of calling `frame.insert` many times, which has poor performance.  Consider joining all columns at once using pd.concat(axis=1) instead. To get a de-fragmented frame, use `newframe = frame.copy()`\n",
            "  combined_data[f\"new_feature_{i+1}\"] = [None] * len(combined_data)\n",
            "<ipython-input-5-3b48af411cdc>:17: PerformanceWarning: DataFrame is highly fragmented.  This is usually the result of calling `frame.insert` many times, which has poor performance.  Consider joining all columns at once using pd.concat(axis=1) instead. To get a de-fragmented frame, use `newframe = frame.copy()`\n",
            "  combined_data[f\"new_feature_{i+1}\"] = [None] * len(combined_data)\n",
            "<ipython-input-5-3b48af411cdc>:17: PerformanceWarning: DataFrame is highly fragmented.  This is usually the result of calling `frame.insert` many times, which has poor performance.  Consider joining all columns at once using pd.concat(axis=1) instead. To get a de-fragmented frame, use `newframe = frame.copy()`\n",
            "  combined_data[f\"new_feature_{i+1}\"] = [None] * len(combined_data)\n",
            "<ipython-input-5-3b48af411cdc>:17: PerformanceWarning: DataFrame is highly fragmented.  This is usually the result of calling `frame.insert` many times, which has poor performance.  Consider joining all columns at once using pd.concat(axis=1) instead. To get a de-fragmented frame, use `newframe = frame.copy()`\n",
            "  combined_data[f\"new_feature_{i+1}\"] = [None] * len(combined_data)\n",
            "<ipython-input-5-3b48af411cdc>:17: PerformanceWarning: DataFrame is highly fragmented.  This is usually the result of calling `frame.insert` many times, which has poor performance.  Consider joining all columns at once using pd.concat(axis=1) instead. To get a de-fragmented frame, use `newframe = frame.copy()`\n",
            "  combined_data[f\"new_feature_{i+1}\"] = [None] * len(combined_data)\n",
            "<ipython-input-5-3b48af411cdc>:17: PerformanceWarning: DataFrame is highly fragmented.  This is usually the result of calling `frame.insert` many times, which has poor performance.  Consider joining all columns at once using pd.concat(axis=1) instead. To get a de-fragmented frame, use `newframe = frame.copy()`\n",
            "  combined_data[f\"new_feature_{i+1}\"] = [None] * len(combined_data)\n",
            "<ipython-input-5-3b48af411cdc>:17: PerformanceWarning: DataFrame is highly fragmented.  This is usually the result of calling `frame.insert` many times, which has poor performance.  Consider joining all columns at once using pd.concat(axis=1) instead. To get a de-fragmented frame, use `newframe = frame.copy()`\n",
            "  combined_data[f\"new_feature_{i+1}\"] = [None] * len(combined_data)\n",
            "<ipython-input-5-3b48af411cdc>:17: PerformanceWarning: DataFrame is highly fragmented.  This is usually the result of calling `frame.insert` many times, which has poor performance.  Consider joining all columns at once using pd.concat(axis=1) instead. To get a de-fragmented frame, use `newframe = frame.copy()`\n",
            "  combined_data[f\"new_feature_{i+1}\"] = [None] * len(combined_data)\n",
            "<ipython-input-5-3b48af411cdc>:17: PerformanceWarning: DataFrame is highly fragmented.  This is usually the result of calling `frame.insert` many times, which has poor performance.  Consider joining all columns at once using pd.concat(axis=1) instead. To get a de-fragmented frame, use `newframe = frame.copy()`\n",
            "  combined_data[f\"new_feature_{i+1}\"] = [None] * len(combined_data)\n",
            "<ipython-input-5-3b48af411cdc>:17: PerformanceWarning: DataFrame is highly fragmented.  This is usually the result of calling `frame.insert` many times, which has poor performance.  Consider joining all columns at once using pd.concat(axis=1) instead. To get a de-fragmented frame, use `newframe = frame.copy()`\n",
            "  combined_data[f\"new_feature_{i+1}\"] = [None] * len(combined_data)\n",
            "<ipython-input-5-3b48af411cdc>:17: PerformanceWarning: DataFrame is highly fragmented.  This is usually the result of calling `frame.insert` many times, which has poor performance.  Consider joining all columns at once using pd.concat(axis=1) instead. To get a de-fragmented frame, use `newframe = frame.copy()`\n",
            "  combined_data[f\"new_feature_{i+1}\"] = [None] * len(combined_data)\n",
            "<ipython-input-5-3b48af411cdc>:17: PerformanceWarning: DataFrame is highly fragmented.  This is usually the result of calling `frame.insert` many times, which has poor performance.  Consider joining all columns at once using pd.concat(axis=1) instead. To get a de-fragmented frame, use `newframe = frame.copy()`\n",
            "  combined_data[f\"new_feature_{i+1}\"] = [None] * len(combined_data)\n",
            "<ipython-input-5-3b48af411cdc>:17: PerformanceWarning: DataFrame is highly fragmented.  This is usually the result of calling `frame.insert` many times, which has poor performance.  Consider joining all columns at once using pd.concat(axis=1) instead. To get a de-fragmented frame, use `newframe = frame.copy()`\n",
            "  combined_data[f\"new_feature_{i+1}\"] = [None] * len(combined_data)\n",
            "<ipython-input-5-3b48af411cdc>:17: PerformanceWarning: DataFrame is highly fragmented.  This is usually the result of calling `frame.insert` many times, which has poor performance.  Consider joining all columns at once using pd.concat(axis=1) instead. To get a de-fragmented frame, use `newframe = frame.copy()`\n",
            "  combined_data[f\"new_feature_{i+1}\"] = [None] * len(combined_data)\n",
            "<ipython-input-5-3b48af411cdc>:17: PerformanceWarning: DataFrame is highly fragmented.  This is usually the result of calling `frame.insert` many times, which has poor performance.  Consider joining all columns at once using pd.concat(axis=1) instead. To get a de-fragmented frame, use `newframe = frame.copy()`\n",
            "  combined_data[f\"new_feature_{i+1}\"] = [None] * len(combined_data)\n",
            "<ipython-input-5-3b48af411cdc>:17: PerformanceWarning: DataFrame is highly fragmented.  This is usually the result of calling `frame.insert` many times, which has poor performance.  Consider joining all columns at once using pd.concat(axis=1) instead. To get a de-fragmented frame, use `newframe = frame.copy()`\n",
            "  combined_data[f\"new_feature_{i+1}\"] = [None] * len(combined_data)\n",
            "<ipython-input-5-3b48af411cdc>:17: PerformanceWarning: DataFrame is highly fragmented.  This is usually the result of calling `frame.insert` many times, which has poor performance.  Consider joining all columns at once using pd.concat(axis=1) instead. To get a de-fragmented frame, use `newframe = frame.copy()`\n",
            "  combined_data[f\"new_feature_{i+1}\"] = [None] * len(combined_data)\n",
            "<ipython-input-5-3b48af411cdc>:17: PerformanceWarning: DataFrame is highly fragmented.  This is usually the result of calling `frame.insert` many times, which has poor performance.  Consider joining all columns at once using pd.concat(axis=1) instead. To get a de-fragmented frame, use `newframe = frame.copy()`\n",
            "  combined_data[f\"new_feature_{i+1}\"] = [None] * len(combined_data)\n",
            "<ipython-input-5-3b48af411cdc>:17: PerformanceWarning: DataFrame is highly fragmented.  This is usually the result of calling `frame.insert` many times, which has poor performance.  Consider joining all columns at once using pd.concat(axis=1) instead. To get a de-fragmented frame, use `newframe = frame.copy()`\n",
            "  combined_data[f\"new_feature_{i+1}\"] = [None] * len(combined_data)\n",
            "<ipython-input-5-3b48af411cdc>:17: PerformanceWarning: DataFrame is highly fragmented.  This is usually the result of calling `frame.insert` many times, which has poor performance.  Consider joining all columns at once using pd.concat(axis=1) instead. To get a de-fragmented frame, use `newframe = frame.copy()`\n",
            "  combined_data[f\"new_feature_{i+1}\"] = [None] * len(combined_data)\n",
            "<ipython-input-5-3b48af411cdc>:17: PerformanceWarning: DataFrame is highly fragmented.  This is usually the result of calling `frame.insert` many times, which has poor performance.  Consider joining all columns at once using pd.concat(axis=1) instead. To get a de-fragmented frame, use `newframe = frame.copy()`\n",
            "  combined_data[f\"new_feature_{i+1}\"] = [None] * len(combined_data)\n",
            "<ipython-input-5-3b48af411cdc>:17: PerformanceWarning: DataFrame is highly fragmented.  This is usually the result of calling `frame.insert` many times, which has poor performance.  Consider joining all columns at once using pd.concat(axis=1) instead. To get a de-fragmented frame, use `newframe = frame.copy()`\n",
            "  combined_data[f\"new_feature_{i+1}\"] = [None] * len(combined_data)\n",
            "<ipython-input-5-3b48af411cdc>:17: PerformanceWarning: DataFrame is highly fragmented.  This is usually the result of calling `frame.insert` many times, which has poor performance.  Consider joining all columns at once using pd.concat(axis=1) instead. To get a de-fragmented frame, use `newframe = frame.copy()`\n",
            "  combined_data[f\"new_feature_{i+1}\"] = [None] * len(combined_data)\n",
            "<ipython-input-5-3b48af411cdc>:17: PerformanceWarning: DataFrame is highly fragmented.  This is usually the result of calling `frame.insert` many times, which has poor performance.  Consider joining all columns at once using pd.concat(axis=1) instead. To get a de-fragmented frame, use `newframe = frame.copy()`\n",
            "  combined_data[f\"new_feature_{i+1}\"] = [None] * len(combined_data)\n",
            "<ipython-input-5-3b48af411cdc>:17: PerformanceWarning: DataFrame is highly fragmented.  This is usually the result of calling `frame.insert` many times, which has poor performance.  Consider joining all columns at once using pd.concat(axis=1) instead. To get a de-fragmented frame, use `newframe = frame.copy()`\n",
            "  combined_data[f\"new_feature_{i+1}\"] = [None] * len(combined_data)\n",
            "<ipython-input-5-3b48af411cdc>:17: PerformanceWarning: DataFrame is highly fragmented.  This is usually the result of calling `frame.insert` many times, which has poor performance.  Consider joining all columns at once using pd.concat(axis=1) instead. To get a de-fragmented frame, use `newframe = frame.copy()`\n",
            "  combined_data[f\"new_feature_{i+1}\"] = [None] * len(combined_data)\n",
            "<ipython-input-5-3b48af411cdc>:17: PerformanceWarning: DataFrame is highly fragmented.  This is usually the result of calling `frame.insert` many times, which has poor performance.  Consider joining all columns at once using pd.concat(axis=1) instead. To get a de-fragmented frame, use `newframe = frame.copy()`\n",
            "  combined_data[f\"new_feature_{i+1}\"] = [None] * len(combined_data)\n",
            "<ipython-input-5-3b48af411cdc>:17: PerformanceWarning: DataFrame is highly fragmented.  This is usually the result of calling `frame.insert` many times, which has poor performance.  Consider joining all columns at once using pd.concat(axis=1) instead. To get a de-fragmented frame, use `newframe = frame.copy()`\n",
            "  combined_data[f\"new_feature_{i+1}\"] = [None] * len(combined_data)\n",
            "<ipython-input-5-3b48af411cdc>:17: PerformanceWarning: DataFrame is highly fragmented.  This is usually the result of calling `frame.insert` many times, which has poor performance.  Consider joining all columns at once using pd.concat(axis=1) instead. To get a de-fragmented frame, use `newframe = frame.copy()`\n",
            "  combined_data[f\"new_feature_{i+1}\"] = [None] * len(combined_data)\n",
            "<ipython-input-5-3b48af411cdc>:17: PerformanceWarning: DataFrame is highly fragmented.  This is usually the result of calling `frame.insert` many times, which has poor performance.  Consider joining all columns at once using pd.concat(axis=1) instead. To get a de-fragmented frame, use `newframe = frame.copy()`\n",
            "  combined_data[f\"new_feature_{i+1}\"] = [None] * len(combined_data)\n",
            "<ipython-input-5-3b48af411cdc>:17: PerformanceWarning: DataFrame is highly fragmented.  This is usually the result of calling `frame.insert` many times, which has poor performance.  Consider joining all columns at once using pd.concat(axis=1) instead. To get a de-fragmented frame, use `newframe = frame.copy()`\n",
            "  combined_data[f\"new_feature_{i+1}\"] = [None] * len(combined_data)\n",
            "<ipython-input-5-3b48af411cdc>:17: PerformanceWarning: DataFrame is highly fragmented.  This is usually the result of calling `frame.insert` many times, which has poor performance.  Consider joining all columns at once using pd.concat(axis=1) instead. To get a de-fragmented frame, use `newframe = frame.copy()`\n",
            "  combined_data[f\"new_feature_{i+1}\"] = [None] * len(combined_data)\n",
            "<ipython-input-5-3b48af411cdc>:17: PerformanceWarning: DataFrame is highly fragmented.  This is usually the result of calling `frame.insert` many times, which has poor performance.  Consider joining all columns at once using pd.concat(axis=1) instead. To get a de-fragmented frame, use `newframe = frame.copy()`\n",
            "  combined_data[f\"new_feature_{i+1}\"] = [None] * len(combined_data)\n",
            "<ipython-input-5-3b48af411cdc>:17: PerformanceWarning: DataFrame is highly fragmented.  This is usually the result of calling `frame.insert` many times, which has poor performance.  Consider joining all columns at once using pd.concat(axis=1) instead. To get a de-fragmented frame, use `newframe = frame.copy()`\n",
            "  combined_data[f\"new_feature_{i+1}\"] = [None] * len(combined_data)\n",
            "<ipython-input-5-3b48af411cdc>:17: PerformanceWarning: DataFrame is highly fragmented.  This is usually the result of calling `frame.insert` many times, which has poor performance.  Consider joining all columns at once using pd.concat(axis=1) instead. To get a de-fragmented frame, use `newframe = frame.copy()`\n",
            "  combined_data[f\"new_feature_{i+1}\"] = [None] * len(combined_data)\n",
            "<ipython-input-5-3b48af411cdc>:17: PerformanceWarning: DataFrame is highly fragmented.  This is usually the result of calling `frame.insert` many times, which has poor performance.  Consider joining all columns at once using pd.concat(axis=1) instead. To get a de-fragmented frame, use `newframe = frame.copy()`\n",
            "  combined_data[f\"new_feature_{i+1}\"] = [None] * len(combined_data)\n",
            "<ipython-input-5-3b48af411cdc>:17: PerformanceWarning: DataFrame is highly fragmented.  This is usually the result of calling `frame.insert` many times, which has poor performance.  Consider joining all columns at once using pd.concat(axis=1) instead. To get a de-fragmented frame, use `newframe = frame.copy()`\n",
            "  combined_data[f\"new_feature_{i+1}\"] = [None] * len(combined_data)\n",
            "<ipython-input-5-3b48af411cdc>:17: PerformanceWarning: DataFrame is highly fragmented.  This is usually the result of calling `frame.insert` many times, which has poor performance.  Consider joining all columns at once using pd.concat(axis=1) instead. To get a de-fragmented frame, use `newframe = frame.copy()`\n",
            "  combined_data[f\"new_feature_{i+1}\"] = [None] * len(combined_data)\n",
            "<ipython-input-5-3b48af411cdc>:17: PerformanceWarning: DataFrame is highly fragmented.  This is usually the result of calling `frame.insert` many times, which has poor performance.  Consider joining all columns at once using pd.concat(axis=1) instead. To get a de-fragmented frame, use `newframe = frame.copy()`\n",
            "  combined_data[f\"new_feature_{i+1}\"] = [None] * len(combined_data)\n",
            "<ipython-input-5-3b48af411cdc>:17: PerformanceWarning: DataFrame is highly fragmented.  This is usually the result of calling `frame.insert` many times, which has poor performance.  Consider joining all columns at once using pd.concat(axis=1) instead. To get a de-fragmented frame, use `newframe = frame.copy()`\n",
            "  combined_data[f\"new_feature_{i+1}\"] = [None] * len(combined_data)\n",
            "<ipython-input-5-3b48af411cdc>:17: PerformanceWarning: DataFrame is highly fragmented.  This is usually the result of calling `frame.insert` many times, which has poor performance.  Consider joining all columns at once using pd.concat(axis=1) instead. To get a de-fragmented frame, use `newframe = frame.copy()`\n",
            "  combined_data[f\"new_feature_{i+1}\"] = [None] * len(combined_data)\n",
            "<ipython-input-5-3b48af411cdc>:17: PerformanceWarning: DataFrame is highly fragmented.  This is usually the result of calling `frame.insert` many times, which has poor performance.  Consider joining all columns at once using pd.concat(axis=1) instead. To get a de-fragmented frame, use `newframe = frame.copy()`\n",
            "  combined_data[f\"new_feature_{i+1}\"] = [None] * len(combined_data)\n",
            "<ipython-input-5-3b48af411cdc>:17: PerformanceWarning: DataFrame is highly fragmented.  This is usually the result of calling `frame.insert` many times, which has poor performance.  Consider joining all columns at once using pd.concat(axis=1) instead. To get a de-fragmented frame, use `newframe = frame.copy()`\n",
            "  combined_data[f\"new_feature_{i+1}\"] = [None] * len(combined_data)\n",
            "<ipython-input-5-3b48af411cdc>:17: PerformanceWarning: DataFrame is highly fragmented.  This is usually the result of calling `frame.insert` many times, which has poor performance.  Consider joining all columns at once using pd.concat(axis=1) instead. To get a de-fragmented frame, use `newframe = frame.copy()`\n",
            "  combined_data[f\"new_feature_{i+1}\"] = [None] * len(combined_data)\n",
            "<ipython-input-5-3b48af411cdc>:17: PerformanceWarning: DataFrame is highly fragmented.  This is usually the result of calling `frame.insert` many times, which has poor performance.  Consider joining all columns at once using pd.concat(axis=1) instead. To get a de-fragmented frame, use `newframe = frame.copy()`\n",
            "  combined_data[f\"new_feature_{i+1}\"] = [None] * len(combined_data)\n",
            "<ipython-input-5-3b48af411cdc>:17: PerformanceWarning: DataFrame is highly fragmented.  This is usually the result of calling `frame.insert` many times, which has poor performance.  Consider joining all columns at once using pd.concat(axis=1) instead. To get a de-fragmented frame, use `newframe = frame.copy()`\n",
            "  combined_data[f\"new_feature_{i+1}\"] = [None] * len(combined_data)\n",
            "<ipython-input-5-3b48af411cdc>:17: PerformanceWarning: DataFrame is highly fragmented.  This is usually the result of calling `frame.insert` many times, which has poor performance.  Consider joining all columns at once using pd.concat(axis=1) instead. To get a de-fragmented frame, use `newframe = frame.copy()`\n",
            "  combined_data[f\"new_feature_{i+1}\"] = [None] * len(combined_data)\n",
            "<ipython-input-5-3b48af411cdc>:17: PerformanceWarning: DataFrame is highly fragmented.  This is usually the result of calling `frame.insert` many times, which has poor performance.  Consider joining all columns at once using pd.concat(axis=1) instead. To get a de-fragmented frame, use `newframe = frame.copy()`\n",
            "  combined_data[f\"new_feature_{i+1}\"] = [None] * len(combined_data)\n",
            "<ipython-input-5-3b48af411cdc>:17: PerformanceWarning: DataFrame is highly fragmented.  This is usually the result of calling `frame.insert` many times, which has poor performance.  Consider joining all columns at once using pd.concat(axis=1) instead. To get a de-fragmented frame, use `newframe = frame.copy()`\n",
            "  combined_data[f\"new_feature_{i+1}\"] = [None] * len(combined_data)\n",
            "<ipython-input-5-3b48af411cdc>:17: PerformanceWarning: DataFrame is highly fragmented.  This is usually the result of calling `frame.insert` many times, which has poor performance.  Consider joining all columns at once using pd.concat(axis=1) instead. To get a de-fragmented frame, use `newframe = frame.copy()`\n",
            "  combined_data[f\"new_feature_{i+1}\"] = [None] * len(combined_data)\n",
            "<ipython-input-5-3b48af411cdc>:17: PerformanceWarning: DataFrame is highly fragmented.  This is usually the result of calling `frame.insert` many times, which has poor performance.  Consider joining all columns at once using pd.concat(axis=1) instead. To get a de-fragmented frame, use `newframe = frame.copy()`\n",
            "  combined_data[f\"new_feature_{i+1}\"] = [None] * len(combined_data)\n",
            "<ipython-input-5-3b48af411cdc>:17: PerformanceWarning: DataFrame is highly fragmented.  This is usually the result of calling `frame.insert` many times, which has poor performance.  Consider joining all columns at once using pd.concat(axis=1) instead. To get a de-fragmented frame, use `newframe = frame.copy()`\n",
            "  combined_data[f\"new_feature_{i+1}\"] = [None] * len(combined_data)\n",
            "<ipython-input-5-3b48af411cdc>:17: PerformanceWarning: DataFrame is highly fragmented.  This is usually the result of calling `frame.insert` many times, which has poor performance.  Consider joining all columns at once using pd.concat(axis=1) instead. To get a de-fragmented frame, use `newframe = frame.copy()`\n",
            "  combined_data[f\"new_feature_{i+1}\"] = [None] * len(combined_data)\n",
            "<ipython-input-5-3b48af411cdc>:17: PerformanceWarning: DataFrame is highly fragmented.  This is usually the result of calling `frame.insert` many times, which has poor performance.  Consider joining all columns at once using pd.concat(axis=1) instead. To get a de-fragmented frame, use `newframe = frame.copy()`\n",
            "  combined_data[f\"new_feature_{i+1}\"] = [None] * len(combined_data)\n",
            "<ipython-input-5-3b48af411cdc>:17: PerformanceWarning: DataFrame is highly fragmented.  This is usually the result of calling `frame.insert` many times, which has poor performance.  Consider joining all columns at once using pd.concat(axis=1) instead. To get a de-fragmented frame, use `newframe = frame.copy()`\n",
            "  combined_data[f\"new_feature_{i+1}\"] = [None] * len(combined_data)\n",
            "<ipython-input-5-3b48af411cdc>:17: PerformanceWarning: DataFrame is highly fragmented.  This is usually the result of calling `frame.insert` many times, which has poor performance.  Consider joining all columns at once using pd.concat(axis=1) instead. To get a de-fragmented frame, use `newframe = frame.copy()`\n",
            "  combined_data[f\"new_feature_{i+1}\"] = [None] * len(combined_data)\n",
            "<ipython-input-5-3b48af411cdc>:17: PerformanceWarning: DataFrame is highly fragmented.  This is usually the result of calling `frame.insert` many times, which has poor performance.  Consider joining all columns at once using pd.concat(axis=1) instead. To get a de-fragmented frame, use `newframe = frame.copy()`\n",
            "  combined_data[f\"new_feature_{i+1}\"] = [None] * len(combined_data)\n",
            "<ipython-input-5-3b48af411cdc>:17: PerformanceWarning: DataFrame is highly fragmented.  This is usually the result of calling `frame.insert` many times, which has poor performance.  Consider joining all columns at once using pd.concat(axis=1) instead. To get a de-fragmented frame, use `newframe = frame.copy()`\n",
            "  combined_data[f\"new_feature_{i+1}\"] = [None] * len(combined_data)\n",
            "<ipython-input-5-3b48af411cdc>:17: PerformanceWarning: DataFrame is highly fragmented.  This is usually the result of calling `frame.insert` many times, which has poor performance.  Consider joining all columns at once using pd.concat(axis=1) instead. To get a de-fragmented frame, use `newframe = frame.copy()`\n",
            "  combined_data[f\"new_feature_{i+1}\"] = [None] * len(combined_data)\n",
            "<ipython-input-5-3b48af411cdc>:17: PerformanceWarning: DataFrame is highly fragmented.  This is usually the result of calling `frame.insert` many times, which has poor performance.  Consider joining all columns at once using pd.concat(axis=1) instead. To get a de-fragmented frame, use `newframe = frame.copy()`\n",
            "  combined_data[f\"new_feature_{i+1}\"] = [None] * len(combined_data)\n",
            "<ipython-input-5-3b48af411cdc>:17: PerformanceWarning: DataFrame is highly fragmented.  This is usually the result of calling `frame.insert` many times, which has poor performance.  Consider joining all columns at once using pd.concat(axis=1) instead. To get a de-fragmented frame, use `newframe = frame.copy()`\n",
            "  combined_data[f\"new_feature_{i+1}\"] = [None] * len(combined_data)\n",
            "<ipython-input-5-3b48af411cdc>:17: PerformanceWarning: DataFrame is highly fragmented.  This is usually the result of calling `frame.insert` many times, which has poor performance.  Consider joining all columns at once using pd.concat(axis=1) instead. To get a de-fragmented frame, use `newframe = frame.copy()`\n",
            "  combined_data[f\"new_feature_{i+1}\"] = [None] * len(combined_data)\n",
            "<ipython-input-5-3b48af411cdc>:17: PerformanceWarning: DataFrame is highly fragmented.  This is usually the result of calling `frame.insert` many times, which has poor performance.  Consider joining all columns at once using pd.concat(axis=1) instead. To get a de-fragmented frame, use `newframe = frame.copy()`\n",
            "  combined_data[f\"new_feature_{i+1}\"] = [None] * len(combined_data)\n",
            "<ipython-input-5-3b48af411cdc>:17: PerformanceWarning: DataFrame is highly fragmented.  This is usually the result of calling `frame.insert` many times, which has poor performance.  Consider joining all columns at once using pd.concat(axis=1) instead. To get a de-fragmented frame, use `newframe = frame.copy()`\n",
            "  combined_data[f\"new_feature_{i+1}\"] = [None] * len(combined_data)\n",
            "<ipython-input-5-3b48af411cdc>:17: PerformanceWarning: DataFrame is highly fragmented.  This is usually the result of calling `frame.insert` many times, which has poor performance.  Consider joining all columns at once using pd.concat(axis=1) instead. To get a de-fragmented frame, use `newframe = frame.copy()`\n",
            "  combined_data[f\"new_feature_{i+1}\"] = [None] * len(combined_data)\n",
            "<ipython-input-5-3b48af411cdc>:17: PerformanceWarning: DataFrame is highly fragmented.  This is usually the result of calling `frame.insert` many times, which has poor performance.  Consider joining all columns at once using pd.concat(axis=1) instead. To get a de-fragmented frame, use `newframe = frame.copy()`\n",
            "  combined_data[f\"new_feature_{i+1}\"] = [None] * len(combined_data)\n",
            "<ipython-input-5-3b48af411cdc>:17: PerformanceWarning: DataFrame is highly fragmented.  This is usually the result of calling `frame.insert` many times, which has poor performance.  Consider joining all columns at once using pd.concat(axis=1) instead. To get a de-fragmented frame, use `newframe = frame.copy()`\n",
            "  combined_data[f\"new_feature_{i+1}\"] = [None] * len(combined_data)\n",
            "<ipython-input-5-3b48af411cdc>:17: PerformanceWarning: DataFrame is highly fragmented.  This is usually the result of calling `frame.insert` many times, which has poor performance.  Consider joining all columns at once using pd.concat(axis=1) instead. To get a de-fragmented frame, use `newframe = frame.copy()`\n",
            "  combined_data[f\"new_feature_{i+1}\"] = [None] * len(combined_data)\n",
            "<ipython-input-5-3b48af411cdc>:17: PerformanceWarning: DataFrame is highly fragmented.  This is usually the result of calling `frame.insert` many times, which has poor performance.  Consider joining all columns at once using pd.concat(axis=1) instead. To get a de-fragmented frame, use `newframe = frame.copy()`\n",
            "  combined_data[f\"new_feature_{i+1}\"] = [None] * len(combined_data)\n",
            "<ipython-input-5-3b48af411cdc>:17: PerformanceWarning: DataFrame is highly fragmented.  This is usually the result of calling `frame.insert` many times, which has poor performance.  Consider joining all columns at once using pd.concat(axis=1) instead. To get a de-fragmented frame, use `newframe = frame.copy()`\n",
            "  combined_data[f\"new_feature_{i+1}\"] = [None] * len(combined_data)\n",
            "<ipython-input-5-3b48af411cdc>:17: PerformanceWarning: DataFrame is highly fragmented.  This is usually the result of calling `frame.insert` many times, which has poor performance.  Consider joining all columns at once using pd.concat(axis=1) instead. To get a de-fragmented frame, use `newframe = frame.copy()`\n",
            "  combined_data[f\"new_feature_{i+1}\"] = [None] * len(combined_data)\n",
            "<ipython-input-5-3b48af411cdc>:17: PerformanceWarning: DataFrame is highly fragmented.  This is usually the result of calling `frame.insert` many times, which has poor performance.  Consider joining all columns at once using pd.concat(axis=1) instead. To get a de-fragmented frame, use `newframe = frame.copy()`\n",
            "  combined_data[f\"new_feature_{i+1}\"] = [None] * len(combined_data)\n",
            "<ipython-input-5-3b48af411cdc>:17: PerformanceWarning: DataFrame is highly fragmented.  This is usually the result of calling `frame.insert` many times, which has poor performance.  Consider joining all columns at once using pd.concat(axis=1) instead. To get a de-fragmented frame, use `newframe = frame.copy()`\n",
            "  combined_data[f\"new_feature_{i+1}\"] = [None] * len(combined_data)\n",
            "<ipython-input-5-3b48af411cdc>:17: PerformanceWarning: DataFrame is highly fragmented.  This is usually the result of calling `frame.insert` many times, which has poor performance.  Consider joining all columns at once using pd.concat(axis=1) instead. To get a de-fragmented frame, use `newframe = frame.copy()`\n",
            "  combined_data[f\"new_feature_{i+1}\"] = [None] * len(combined_data)\n",
            "<ipython-input-5-3b48af411cdc>:17: PerformanceWarning: DataFrame is highly fragmented.  This is usually the result of calling `frame.insert` many times, which has poor performance.  Consider joining all columns at once using pd.concat(axis=1) instead. To get a de-fragmented frame, use `newframe = frame.copy()`\n",
            "  combined_data[f\"new_feature_{i+1}\"] = [None] * len(combined_data)\n",
            "<ipython-input-5-3b48af411cdc>:17: PerformanceWarning: DataFrame is highly fragmented.  This is usually the result of calling `frame.insert` many times, which has poor performance.  Consider joining all columns at once using pd.concat(axis=1) instead. To get a de-fragmented frame, use `newframe = frame.copy()`\n",
            "  combined_data[f\"new_feature_{i+1}\"] = [None] * len(combined_data)\n",
            "<ipython-input-5-3b48af411cdc>:17: PerformanceWarning: DataFrame is highly fragmented.  This is usually the result of calling `frame.insert` many times, which has poor performance.  Consider joining all columns at once using pd.concat(axis=1) instead. To get a de-fragmented frame, use `newframe = frame.copy()`\n",
            "  combined_data[f\"new_feature_{i+1}\"] = [None] * len(combined_data)\n",
            "<ipython-input-5-3b48af411cdc>:17: PerformanceWarning: DataFrame is highly fragmented.  This is usually the result of calling `frame.insert` many times, which has poor performance.  Consider joining all columns at once using pd.concat(axis=1) instead. To get a de-fragmented frame, use `newframe = frame.copy()`\n",
            "  combined_data[f\"new_feature_{i+1}\"] = [None] * len(combined_data)\n",
            "<ipython-input-5-3b48af411cdc>:17: PerformanceWarning: DataFrame is highly fragmented.  This is usually the result of calling `frame.insert` many times, which has poor performance.  Consider joining all columns at once using pd.concat(axis=1) instead. To get a de-fragmented frame, use `newframe = frame.copy()`\n",
            "  combined_data[f\"new_feature_{i+1}\"] = [None] * len(combined_data)\n",
            "<ipython-input-5-3b48af411cdc>:17: PerformanceWarning: DataFrame is highly fragmented.  This is usually the result of calling `frame.insert` many times, which has poor performance.  Consider joining all columns at once using pd.concat(axis=1) instead. To get a de-fragmented frame, use `newframe = frame.copy()`\n",
            "  combined_data[f\"new_feature_{i+1}\"] = [None] * len(combined_data)\n",
            "<ipython-input-5-3b48af411cdc>:17: PerformanceWarning: DataFrame is highly fragmented.  This is usually the result of calling `frame.insert` many times, which has poor performance.  Consider joining all columns at once using pd.concat(axis=1) instead. To get a de-fragmented frame, use `newframe = frame.copy()`\n",
            "  combined_data[f\"new_feature_{i+1}\"] = [None] * len(combined_data)\n",
            "<ipython-input-5-3b48af411cdc>:17: PerformanceWarning: DataFrame is highly fragmented.  This is usually the result of calling `frame.insert` many times, which has poor performance.  Consider joining all columns at once using pd.concat(axis=1) instead. To get a de-fragmented frame, use `newframe = frame.copy()`\n",
            "  combined_data[f\"new_feature_{i+1}\"] = [None] * len(combined_data)\n",
            "<ipython-input-5-3b48af411cdc>:17: PerformanceWarning: DataFrame is highly fragmented.  This is usually the result of calling `frame.insert` many times, which has poor performance.  Consider joining all columns at once using pd.concat(axis=1) instead. To get a de-fragmented frame, use `newframe = frame.copy()`\n",
            "  combined_data[f\"new_feature_{i+1}\"] = [None] * len(combined_data)\n",
            "<ipython-input-5-3b48af411cdc>:17: PerformanceWarning: DataFrame is highly fragmented.  This is usually the result of calling `frame.insert` many times, which has poor performance.  Consider joining all columns at once using pd.concat(axis=1) instead. To get a de-fragmented frame, use `newframe = frame.copy()`\n",
            "  combined_data[f\"new_feature_{i+1}\"] = [None] * len(combined_data)\n",
            "<ipython-input-5-3b48af411cdc>:17: PerformanceWarning: DataFrame is highly fragmented.  This is usually the result of calling `frame.insert` many times, which has poor performance.  Consider joining all columns at once using pd.concat(axis=1) instead. To get a de-fragmented frame, use `newframe = frame.copy()`\n",
            "  combined_data[f\"new_feature_{i+1}\"] = [None] * len(combined_data)\n",
            "<ipython-input-5-3b48af411cdc>:17: PerformanceWarning: DataFrame is highly fragmented.  This is usually the result of calling `frame.insert` many times, which has poor performance.  Consider joining all columns at once using pd.concat(axis=1) instead. To get a de-fragmented frame, use `newframe = frame.copy()`\n",
            "  combined_data[f\"new_feature_{i+1}\"] = [None] * len(combined_data)\n",
            "<ipython-input-5-3b48af411cdc>:17: PerformanceWarning: DataFrame is highly fragmented.  This is usually the result of calling `frame.insert` many times, which has poor performance.  Consider joining all columns at once using pd.concat(axis=1) instead. To get a de-fragmented frame, use `newframe = frame.copy()`\n",
            "  combined_data[f\"new_feature_{i+1}\"] = [None] * len(combined_data)\n",
            "<ipython-input-5-3b48af411cdc>:17: PerformanceWarning: DataFrame is highly fragmented.  This is usually the result of calling `frame.insert` many times, which has poor performance.  Consider joining all columns at once using pd.concat(axis=1) instead. To get a de-fragmented frame, use `newframe = frame.copy()`\n",
            "  combined_data[f\"new_feature_{i+1}\"] = [None] * len(combined_data)\n",
            "<ipython-input-5-3b48af411cdc>:17: PerformanceWarning: DataFrame is highly fragmented.  This is usually the result of calling `frame.insert` many times, which has poor performance.  Consider joining all columns at once using pd.concat(axis=1) instead. To get a de-fragmented frame, use `newframe = frame.copy()`\n",
            "  combined_data[f\"new_feature_{i+1}\"] = [None] * len(combined_data)\n",
            "<ipython-input-5-3b48af411cdc>:17: PerformanceWarning: DataFrame is highly fragmented.  This is usually the result of calling `frame.insert` many times, which has poor performance.  Consider joining all columns at once using pd.concat(axis=1) instead. To get a de-fragmented frame, use `newframe = frame.copy()`\n",
            "  combined_data[f\"new_feature_{i+1}\"] = [None] * len(combined_data)\n",
            "<ipython-input-5-3b48af411cdc>:17: PerformanceWarning: DataFrame is highly fragmented.  This is usually the result of calling `frame.insert` many times, which has poor performance.  Consider joining all columns at once using pd.concat(axis=1) instead. To get a de-fragmented frame, use `newframe = frame.copy()`\n",
            "  combined_data[f\"new_feature_{i+1}\"] = [None] * len(combined_data)\n",
            "<ipython-input-5-3b48af411cdc>:17: PerformanceWarning: DataFrame is highly fragmented.  This is usually the result of calling `frame.insert` many times, which has poor performance.  Consider joining all columns at once using pd.concat(axis=1) instead. To get a de-fragmented frame, use `newframe = frame.copy()`\n",
            "  combined_data[f\"new_feature_{i+1}\"] = [None] * len(combined_data)\n",
            "<ipython-input-5-3b48af411cdc>:17: PerformanceWarning: DataFrame is highly fragmented.  This is usually the result of calling `frame.insert` many times, which has poor performance.  Consider joining all columns at once using pd.concat(axis=1) instead. To get a de-fragmented frame, use `newframe = frame.copy()`\n",
            "  combined_data[f\"new_feature_{i+1}\"] = [None] * len(combined_data)\n",
            "<ipython-input-5-3b48af411cdc>:17: PerformanceWarning: DataFrame is highly fragmented.  This is usually the result of calling `frame.insert` many times, which has poor performance.  Consider joining all columns at once using pd.concat(axis=1) instead. To get a de-fragmented frame, use `newframe = frame.copy()`\n",
            "  combined_data[f\"new_feature_{i+1}\"] = [None] * len(combined_data)\n",
            "<ipython-input-5-3b48af411cdc>:17: PerformanceWarning: DataFrame is highly fragmented.  This is usually the result of calling `frame.insert` many times, which has poor performance.  Consider joining all columns at once using pd.concat(axis=1) instead. To get a de-fragmented frame, use `newframe = frame.copy()`\n",
            "  combined_data[f\"new_feature_{i+1}\"] = [None] * len(combined_data)\n",
            "<ipython-input-5-3b48af411cdc>:17: PerformanceWarning: DataFrame is highly fragmented.  This is usually the result of calling `frame.insert` many times, which has poor performance.  Consider joining all columns at once using pd.concat(axis=1) instead. To get a de-fragmented frame, use `newframe = frame.copy()`\n",
            "  combined_data[f\"new_feature_{i+1}\"] = [None] * len(combined_data)\n",
            "<ipython-input-5-3b48af411cdc>:17: PerformanceWarning: DataFrame is highly fragmented.  This is usually the result of calling `frame.insert` many times, which has poor performance.  Consider joining all columns at once using pd.concat(axis=1) instead. To get a de-fragmented frame, use `newframe = frame.copy()`\n",
            "  combined_data[f\"new_feature_{i+1}\"] = [None] * len(combined_data)\n",
            "<ipython-input-5-3b48af411cdc>:17: PerformanceWarning: DataFrame is highly fragmented.  This is usually the result of calling `frame.insert` many times, which has poor performance.  Consider joining all columns at once using pd.concat(axis=1) instead. To get a de-fragmented frame, use `newframe = frame.copy()`\n",
            "  combined_data[f\"new_feature_{i+1}\"] = [None] * len(combined_data)\n",
            "<ipython-input-5-3b48af411cdc>:17: PerformanceWarning: DataFrame is highly fragmented.  This is usually the result of calling `frame.insert` many times, which has poor performance.  Consider joining all columns at once using pd.concat(axis=1) instead. To get a de-fragmented frame, use `newframe = frame.copy()`\n",
            "  combined_data[f\"new_feature_{i+1}\"] = [None] * len(combined_data)\n",
            "<ipython-input-5-3b48af411cdc>:17: PerformanceWarning: DataFrame is highly fragmented.  This is usually the result of calling `frame.insert` many times, which has poor performance.  Consider joining all columns at once using pd.concat(axis=1) instead. To get a de-fragmented frame, use `newframe = frame.copy()`\n",
            "  combined_data[f\"new_feature_{i+1}\"] = [None] * len(combined_data)\n",
            "<ipython-input-5-3b48af411cdc>:17: PerformanceWarning: DataFrame is highly fragmented.  This is usually the result of calling `frame.insert` many times, which has poor performance.  Consider joining all columns at once using pd.concat(axis=1) instead. To get a de-fragmented frame, use `newframe = frame.copy()`\n",
            "  combined_data[f\"new_feature_{i+1}\"] = [None] * len(combined_data)\n",
            "<ipython-input-5-3b48af411cdc>:17: PerformanceWarning: DataFrame is highly fragmented.  This is usually the result of calling `frame.insert` many times, which has poor performance.  Consider joining all columns at once using pd.concat(axis=1) instead. To get a de-fragmented frame, use `newframe = frame.copy()`\n",
            "  combined_data[f\"new_feature_{i+1}\"] = [None] * len(combined_data)\n"
          ]
        }
      ]
    }
  ]
}